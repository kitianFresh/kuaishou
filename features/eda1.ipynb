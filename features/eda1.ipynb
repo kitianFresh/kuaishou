{
 "cells": [
  {
   "cell_type": "code",
   "execution_count": 20,
   "metadata": {},
   "outputs": [],
   "source": [
    "import os\n",
    "import pandas as pd\n",
    "import numpy as np\n",
    "import matplotlib.pyplot as plt\n",
    "import seaborn as sns\n",
    "%matplotlib inline\n",
    "p = sns.color_palette()\n",
    "\n",
    "USE_SAMPLE = True\n",
    "TRAIN_FACE = './sample/train_face.txt' if USE_SAMPLE else './data/train_face.txt'\n",
    "TRAIN_USER_INTERACT = './sample/train_interaction.txt' if USE_SAMPLE else './data/train_interaction.txt'\n",
    "TRAIN_TEXT = './sample/train_text.txt' if USE_SAMPLE else './data/train_text.txt'\n",
    "TEST_FACE = './sample/test_face.txt' if USE_SAMPLE else './data/test_face.txt'\n",
    "TEST_INTERACT = './sample/test_interaction.txt' if USE_SAMPLE else './data/test_interaction.txt'\n",
    "TEST_TEXT = './sample/test_text.txt' if USE_SAMPLE else './data/test_text.txt'\n",
    "\n",
    "feature_store_path = '../sample/features' if USE_SAMPLE else '../data/features'\n",
    "col_feature_store_path = '../sample/features/columns' if USE_SAMPLE else './data/features/columns'"
   ]
  },
  {
   "cell_type": "code",
   "execution_count": 2,
   "metadata": {},
   "outputs": [],
   "source": [
    "def plot_data_cut(df, col, n_bins=20):\n",
    "    quartiles = pd.cut(df[col], n_bins)\n",
    "    grouped = df.groupby(quartiles)\n",
    "    \n",
    "    plt.figure(figsize=(30,15)) \n",
    "    plt.xlabel(col)\n",
    "    plt.ylabel('counts in ' + col)\n",
    "    nums_of_col = grouped.size()\n",
    "    nums_of_col.plot.bar()"
   ]
  },
  {
   "cell_type": "code",
   "execution_count": 2,
   "metadata": {},
   "outputs": [],
   "source": [
    "users = pd.read_csv(os.path.join(feature_store_path, 'user_feature.csv'), sep='\\t')"
   ]
  },
  {
   "cell_type": "code",
   "execution_count": 3,
   "metadata": {},
   "outputs": [
    {
     "data": {
      "text/html": [
       "<div>\n",
       "<style>\n",
       "    .dataframe thead tr:only-child th {\n",
       "        text-align: right;\n",
       "    }\n",
       "\n",
       "    .dataframe thead th {\n",
       "        text-align: left;\n",
       "    }\n",
       "\n",
       "    .dataframe tbody tr th {\n",
       "        vertical-align: top;\n",
       "    }\n",
       "</style>\n",
       "<table border=\"1\" class=\"dataframe\">\n",
       "  <thead>\n",
       "    <tr style=\"text-align: right;\">\n",
       "      <th></th>\n",
       "      <th>user_id</th>\n",
       "      <th>browse_num</th>\n",
       "      <th>click_num</th>\n",
       "      <th>like_num</th>\n",
       "      <th>follow_num</th>\n",
       "      <th>playing_sum</th>\n",
       "      <th>duration_sum</th>\n",
       "      <th>click_ratio</th>\n",
       "      <th>like_ratio</th>\n",
       "      <th>follow_ratio</th>\n",
       "      <th>...</th>\n",
       "      <th>woman_favor</th>\n",
       "      <th>man_cv_favor</th>\n",
       "      <th>woman_cv_favor</th>\n",
       "      <th>man_age_favor</th>\n",
       "      <th>woman_age_favor</th>\n",
       "      <th>man_yen_value_favor</th>\n",
       "      <th>woman_yen_value_favor</th>\n",
       "      <th>face_click_favor</th>\n",
       "      <th>non_face_click_favor</th>\n",
       "      <th>cover_length_favor</th>\n",
       "    </tr>\n",
       "  </thead>\n",
       "  <tbody>\n",
       "    <tr>\n",
       "      <th>0</th>\n",
       "      <td>1637</td>\n",
       "      <td>1736</td>\n",
       "      <td>365</td>\n",
       "      <td>4</td>\n",
       "      <td>0</td>\n",
       "      <td>4124</td>\n",
       "      <td>27726</td>\n",
       "      <td>0.210539</td>\n",
       "      <td>0.002304</td>\n",
       "      <td>0.000000</td>\n",
       "      <td>...</td>\n",
       "      <td>0.605479</td>\n",
       "      <td>0.014004</td>\n",
       "      <td>0.028724</td>\n",
       "      <td>7.516667</td>\n",
       "      <td>11.586758</td>\n",
       "      <td>15.523516</td>\n",
       "      <td>27.644749</td>\n",
       "      <td>0.649315</td>\n",
       "      <td>0.350685</td>\n",
       "      <td>6.463014</td>\n",
       "    </tr>\n",
       "    <tr>\n",
       "      <th>1</th>\n",
       "      <td>17470</td>\n",
       "      <td>477</td>\n",
       "      <td>82</td>\n",
       "      <td>0</td>\n",
       "      <td>1</td>\n",
       "      <td>1937</td>\n",
       "      <td>8586</td>\n",
       "      <td>0.173687</td>\n",
       "      <td>0.000000</td>\n",
       "      <td>0.002096</td>\n",
       "      <td>...</td>\n",
       "      <td>0.158537</td>\n",
       "      <td>0.006262</td>\n",
       "      <td>0.014798</td>\n",
       "      <td>5.912602</td>\n",
       "      <td>3.987805</td>\n",
       "      <td>10.439024</td>\n",
       "      <td>10.829268</td>\n",
       "      <td>0.341463</td>\n",
       "      <td>0.658537</td>\n",
       "      <td>2.817073</td>\n",
       "    </tr>\n",
       "    <tr>\n",
       "      <th>2</th>\n",
       "      <td>14148</td>\n",
       "      <td>852</td>\n",
       "      <td>139</td>\n",
       "      <td>2</td>\n",
       "      <td>1</td>\n",
       "      <td>1120</td>\n",
       "      <td>16928</td>\n",
       "      <td>0.164248</td>\n",
       "      <td>0.002347</td>\n",
       "      <td>0.001174</td>\n",
       "      <td>...</td>\n",
       "      <td>0.525180</td>\n",
       "      <td>0.008571</td>\n",
       "      <td>0.051771</td>\n",
       "      <td>4.125899</td>\n",
       "      <td>10.139688</td>\n",
       "      <td>7.700000</td>\n",
       "      <td>25.859712</td>\n",
       "      <td>0.525180</td>\n",
       "      <td>0.474820</td>\n",
       "      <td>3.187050</td>\n",
       "    </tr>\n",
       "    <tr>\n",
       "      <th>3</th>\n",
       "      <td>37431</td>\n",
       "      <td>355</td>\n",
       "      <td>128</td>\n",
       "      <td>4</td>\n",
       "      <td>1</td>\n",
       "      <td>2548</td>\n",
       "      <td>8752</td>\n",
       "      <td>0.357969</td>\n",
       "      <td>0.011268</td>\n",
       "      <td>0.002817</td>\n",
       "      <td>...</td>\n",
       "      <td>0.257812</td>\n",
       "      <td>0.012066</td>\n",
       "      <td>0.018660</td>\n",
       "      <td>4.979167</td>\n",
       "      <td>5.050781</td>\n",
       "      <td>8.635417</td>\n",
       "      <td>14.738281</td>\n",
       "      <td>0.359375</td>\n",
       "      <td>0.640625</td>\n",
       "      <td>4.218750</td>\n",
       "    </tr>\n",
       "    <tr>\n",
       "      <th>4</th>\n",
       "      <td>35273</td>\n",
       "      <td>2486</td>\n",
       "      <td>576</td>\n",
       "      <td>0</td>\n",
       "      <td>1</td>\n",
       "      <td>7228</td>\n",
       "      <td>35415</td>\n",
       "      <td>0.231814</td>\n",
       "      <td>0.000000</td>\n",
       "      <td>0.000402</td>\n",
       "      <td>...</td>\n",
       "      <td>0.164931</td>\n",
       "      <td>0.007851</td>\n",
       "      <td>0.011083</td>\n",
       "      <td>4.123264</td>\n",
       "      <td>3.647569</td>\n",
       "      <td>7.314959</td>\n",
       "      <td>9.075087</td>\n",
       "      <td>0.284722</td>\n",
       "      <td>0.715278</td>\n",
       "      <td>3.399306</td>\n",
       "    </tr>\n",
       "  </tbody>\n",
       "</table>\n",
       "<p>5 rows × 27 columns</p>\n",
       "</div>"
      ],
      "text/plain": [
       "   user_id  browse_num  click_num  like_num  follow_num  playing_sum  \\\n",
       "0     1637        1736        365         4           0         4124   \n",
       "1    17470         477         82         0           1         1937   \n",
       "2    14148         852        139         2           1         1120   \n",
       "3    37431         355        128         4           1         2548   \n",
       "4    35273        2486        576         0           1         7228   \n",
       "\n",
       "   duration_sum  click_ratio  like_ratio  follow_ratio         ...          \\\n",
       "0         27726     0.210539    0.002304      0.000000         ...           \n",
       "1          8586     0.173687    0.000000      0.002096         ...           \n",
       "2         16928     0.164248    0.002347      0.001174         ...           \n",
       "3          8752     0.357969    0.011268      0.002817         ...           \n",
       "4         35415     0.231814    0.000000      0.000402         ...           \n",
       "\n",
       "   woman_favor  man_cv_favor  woman_cv_favor  man_age_favor  woman_age_favor  \\\n",
       "0     0.605479      0.014004        0.028724       7.516667        11.586758   \n",
       "1     0.158537      0.006262        0.014798       5.912602         3.987805   \n",
       "2     0.525180      0.008571        0.051771       4.125899        10.139688   \n",
       "3     0.257812      0.012066        0.018660       4.979167         5.050781   \n",
       "4     0.164931      0.007851        0.011083       4.123264         3.647569   \n",
       "\n",
       "   man_yen_value_favor  woman_yen_value_favor  face_click_favor  \\\n",
       "0            15.523516              27.644749          0.649315   \n",
       "1            10.439024              10.829268          0.341463   \n",
       "2             7.700000              25.859712          0.525180   \n",
       "3             8.635417              14.738281          0.359375   \n",
       "4             7.314959               9.075087          0.284722   \n",
       "\n",
       "   non_face_click_favor  cover_length_favor  \n",
       "0              0.350685            6.463014  \n",
       "1              0.658537            2.817073  \n",
       "2              0.474820            3.187050  \n",
       "3              0.640625            4.218750  \n",
       "4              0.715278            3.399306  \n",
       "\n",
       "[5 rows x 27 columns]"
      ]
     },
     "execution_count": 3,
     "metadata": {},
     "output_type": "execute_result"
    }
   ],
   "source": [
    "users.head()"
   ]
  },
  {
   "cell_type": "code",
   "execution_count": 4,
   "metadata": {},
   "outputs": [],
   "source": [
    "photos = pd.read_csv(os.path.join(feature_store_path, 'photo_feature.csv'), sep='\\t')"
   ]
  },
  {
   "cell_type": "code",
   "execution_count": 5,
   "metadata": {},
   "outputs": [
    {
     "data": {
      "text/html": [
       "<div>\n",
       "<style>\n",
       "    .dataframe thead tr:only-child th {\n",
       "        text-align: right;\n",
       "    }\n",
       "\n",
       "    .dataframe thead th {\n",
       "        text-align: left;\n",
       "    }\n",
       "\n",
       "    .dataframe tbody tr th {\n",
       "        vertical-align: top;\n",
       "    }\n",
       "</style>\n",
       "<table border=\"1\" class=\"dataframe\">\n",
       "  <thead>\n",
       "    <tr style=\"text-align: right;\">\n",
       "      <th></th>\n",
       "      <th>photo_id</th>\n",
       "      <th>exposure_num</th>\n",
       "      <th>clicked_ratio</th>\n",
       "      <th>face_num</th>\n",
       "      <th>man_num</th>\n",
       "      <th>woman_num</th>\n",
       "      <th>man_scale</th>\n",
       "      <th>woman_scale</th>\n",
       "      <th>human_scale</th>\n",
       "      <th>man_avg_age</th>\n",
       "      <th>woman_avg_age</th>\n",
       "      <th>human_avg_age</th>\n",
       "      <th>man_avg_attr</th>\n",
       "      <th>woman_avg_attr</th>\n",
       "      <th>human_avg_attr</th>\n",
       "      <th>cover_length</th>\n",
       "      <th>key_words_num</th>\n",
       "      <th>avg_tfidf</th>\n",
       "      <th>have_face_cate</th>\n",
       "    </tr>\n",
       "  </thead>\n",
       "  <tbody>\n",
       "    <tr>\n",
       "      <th>0</th>\n",
       "      <td>6484142</td>\n",
       "      <td>13</td>\n",
       "      <td>0.268404</td>\n",
       "      <td>0.0</td>\n",
       "      <td>0.0</td>\n",
       "      <td>0.0</td>\n",
       "      <td>0.0000</td>\n",
       "      <td>0.0</td>\n",
       "      <td>0.0000</td>\n",
       "      <td>0.000000</td>\n",
       "      <td>0.0</td>\n",
       "      <td>0.000000</td>\n",
       "      <td>0.000000</td>\n",
       "      <td>0.0</td>\n",
       "      <td>0.000000</td>\n",
       "      <td>2</td>\n",
       "      <td>2</td>\n",
       "      <td>0.000006</td>\n",
       "      <td>False</td>\n",
       "    </tr>\n",
       "    <tr>\n",
       "      <th>1</th>\n",
       "      <td>4647664</td>\n",
       "      <td>2</td>\n",
       "      <td>0.210489</td>\n",
       "      <td>0.0</td>\n",
       "      <td>0.0</td>\n",
       "      <td>0.0</td>\n",
       "      <td>0.0000</td>\n",
       "      <td>0.0</td>\n",
       "      <td>0.0000</td>\n",
       "      <td>0.000000</td>\n",
       "      <td>0.0</td>\n",
       "      <td>0.000000</td>\n",
       "      <td>0.000000</td>\n",
       "      <td>0.0</td>\n",
       "      <td>0.000000</td>\n",
       "      <td>8</td>\n",
       "      <td>7</td>\n",
       "      <td>0.000011</td>\n",
       "      <td>False</td>\n",
       "    </tr>\n",
       "    <tr>\n",
       "      <th>2</th>\n",
       "      <td>4994626</td>\n",
       "      <td>34</td>\n",
       "      <td>0.235732</td>\n",
       "      <td>3.0</td>\n",
       "      <td>3.0</td>\n",
       "      <td>0.0</td>\n",
       "      <td>0.3959</td>\n",
       "      <td>0.0</td>\n",
       "      <td>0.3959</td>\n",
       "      <td>26.333333</td>\n",
       "      <td>0.0</td>\n",
       "      <td>26.333333</td>\n",
       "      <td>48.333333</td>\n",
       "      <td>0.0</td>\n",
       "      <td>48.333333</td>\n",
       "      <td>3</td>\n",
       "      <td>0</td>\n",
       "      <td>0.000007</td>\n",
       "      <td>True</td>\n",
       "    </tr>\n",
       "    <tr>\n",
       "      <th>3</th>\n",
       "      <td>4416881</td>\n",
       "      <td>1</td>\n",
       "      <td>0.164285</td>\n",
       "      <td>0.0</td>\n",
       "      <td>0.0</td>\n",
       "      <td>0.0</td>\n",
       "      <td>0.0000</td>\n",
       "      <td>0.0</td>\n",
       "      <td>0.0000</td>\n",
       "      <td>0.000000</td>\n",
       "      <td>0.0</td>\n",
       "      <td>0.000000</td>\n",
       "      <td>0.000000</td>\n",
       "      <td>0.0</td>\n",
       "      <td>0.000000</td>\n",
       "      <td>0</td>\n",
       "      <td>0</td>\n",
       "      <td>0.000000</td>\n",
       "      <td>False</td>\n",
       "    </tr>\n",
       "    <tr>\n",
       "      <th>4</th>\n",
       "      <td>2597756</td>\n",
       "      <td>2</td>\n",
       "      <td>0.155202</td>\n",
       "      <td>0.0</td>\n",
       "      <td>0.0</td>\n",
       "      <td>0.0</td>\n",
       "      <td>0.0000</td>\n",
       "      <td>0.0</td>\n",
       "      <td>0.0000</td>\n",
       "      <td>0.000000</td>\n",
       "      <td>0.0</td>\n",
       "      <td>0.000000</td>\n",
       "      <td>0.000000</td>\n",
       "      <td>0.0</td>\n",
       "      <td>0.000000</td>\n",
       "      <td>0</td>\n",
       "      <td>0</td>\n",
       "      <td>0.000000</td>\n",
       "      <td>False</td>\n",
       "    </tr>\n",
       "  </tbody>\n",
       "</table>\n",
       "</div>"
      ],
      "text/plain": [
       "   photo_id  exposure_num  clicked_ratio  face_num  man_num  woman_num  \\\n",
       "0   6484142            13       0.268404       0.0      0.0        0.0   \n",
       "1   4647664             2       0.210489       0.0      0.0        0.0   \n",
       "2   4994626            34       0.235732       3.0      3.0        0.0   \n",
       "3   4416881             1       0.164285       0.0      0.0        0.0   \n",
       "4   2597756             2       0.155202       0.0      0.0        0.0   \n",
       "\n",
       "   man_scale  woman_scale  human_scale  man_avg_age  woman_avg_age  \\\n",
       "0     0.0000          0.0       0.0000     0.000000            0.0   \n",
       "1     0.0000          0.0       0.0000     0.000000            0.0   \n",
       "2     0.3959          0.0       0.3959    26.333333            0.0   \n",
       "3     0.0000          0.0       0.0000     0.000000            0.0   \n",
       "4     0.0000          0.0       0.0000     0.000000            0.0   \n",
       "\n",
       "   human_avg_age  man_avg_attr  woman_avg_attr  human_avg_attr  cover_length  \\\n",
       "0       0.000000      0.000000             0.0        0.000000             2   \n",
       "1       0.000000      0.000000             0.0        0.000000             8   \n",
       "2      26.333333     48.333333             0.0       48.333333             3   \n",
       "3       0.000000      0.000000             0.0        0.000000             0   \n",
       "4       0.000000      0.000000             0.0        0.000000             0   \n",
       "\n",
       "   key_words_num  avg_tfidf  have_face_cate  \n",
       "0              2   0.000006           False  \n",
       "1              7   0.000011           False  \n",
       "2              0   0.000007            True  \n",
       "3              0   0.000000           False  \n",
       "4              0   0.000000           False  "
      ]
     },
     "execution_count": 5,
     "metadata": {},
     "output_type": "execute_result"
    }
   ],
   "source": [
    "photos.head()"
   ]
  },
  {
   "cell_type": "code",
   "execution_count": 17,
   "metadata": {},
   "outputs": [
    {
     "data": {
      "text/plain": [
       "<matplotlib.axes.AxesSubplot at 0x10d89ff90>"
      ]
     },
     "execution_count": 17,
     "metadata": {},
     "output_type": "execute_result"
    },
    {
     "data": {
      "image/png": "[encoded data removed]",
      "text/plain": [
       "<matplotlib.figure.Figure at 0x10dcee890>"
      ]
     },
     "metadata": {},
     "output_type": "display_data"
    }
   ],
   "source": [
    "photos.key_words_num.plot()"
   ]
  },
  {
   "cell_type": "code",
   "execution_count": 18,
   "metadata": {},
   "outputs": [
    {
     "data": {
      "text/plain": [
       "count    5.174532e+06\n",
       "mean     1.654426e+00\n",
       "std      2.924251e+00\n",
       "min      0.000000e+00\n",
       "25%      0.000000e+00\n",
       "50%      0.000000e+00\n",
       "75%      3.000000e+00\n",
       "max      6.540000e+02\n",
       "Name: key_words_num, dtype: float64"
      ]
     },
     "execution_count": 18,
     "metadata": {},
     "output_type": "execute_result"
    }
   ],
   "source": [
    "photos.key_words_num.describe()"
   ]
  },
  {
   "cell_type": "code",
   "execution_count": 13,
   "metadata": {},
   "outputs": [
    {
     "data": {
      "text/plain": [
       "(2905745, 19)"
      ]
     },
     "execution_count": 13,
     "metadata": {},
     "output_type": "execute_result"
    }
   ],
   "source": [
    "photos[photos['key_words_num']==0].shape"
   ]
  },
  {
   "cell_type": "code",
   "execution_count": 14,
   "metadata": {},
   "outputs": [
    {
     "data": {
      "text/plain": [
       "(441468, 19)"
      ]
     },
     "execution_count": 14,
     "metadata": {},
     "output_type": "execute_result"
    }
   ],
   "source": [
    "photos[photos['key_words_num']==1].shape"
   ]
  },
  {
   "cell_type": "code",
   "execution_count": 15,
   "metadata": {},
   "outputs": [
    {
     "data": {
      "text/plain": [
       "(487827, 19)"
      ]
     },
     "execution_count": 15,
     "metadata": {},
     "output_type": "execute_result"
    }
   ],
   "source": [
    "photos[photos['key_words_num']==2].shape"
   ]
  },
  {
   "cell_type": "code",
   "execution_count": 16,
   "metadata": {},
   "outputs": [
    {
     "data": {
      "text/plain": [
       "(403247, 19)"
      ]
     },
     "execution_count": 16,
     "metadata": {},
     "output_type": "execute_result"
    }
   ],
   "source": [
    "photos[photos['key_words_num']==3].shape"
   ]
  },
  {
   "cell_type": "code",
   "execution_count": 10,
   "metadata": {},
   "outputs": [
    {
     "data": {
      "image/png": "[encoded data removed]",
      "text/plain": [
       "<matplotlib.figure.Figure at 0x1132d0190>"
      ]
     },
     "metadata": {},
     "output_type": "display_data"
    }
   ],
   "source": [
    "plot_data_cut(photos, 'key_words_num', 80)"
   ]
  },
  {
   "cell_type": "code",
   "execution_count": 19,
   "metadata": {},
   "outputs": [
    {
     "data": {
      "text/plain": [
       "count    5.174532e+06\n",
       "mean     4.026147e-06\n",
       "std      4.512722e-06\n",
       "min      0.000000e+00\n",
       "25%      0.000000e+00\n",
       "50%      0.000000e+00\n",
       "75%      7.901608e-06\n",
       "max      6.025856e-05\n",
       "Name: avg_tfidf, dtype: float64"
      ]
     },
     "execution_count": 19,
     "metadata": {},
     "output_type": "execute_result"
    }
   ],
   "source": [
    "photos.avg_tfidf.describe()"
   ]
  },
  {
   "cell_type": "code",
   "execution_count": 11,
   "metadata": {},
   "outputs": [
    {
     "data": {
      "image/png": "[encoded data removed]",
      "text/plain": [
       "<matplotlib.figure.Figure at 0x1151ec210>"
      ]
     },
     "metadata": {},
     "output_type": "display_data"
    }
   ],
   "source": [
    "plot_data_cut(photos, 'avg_tfidf', 80)"
   ]
  },
  {
   "cell_type": "code",
   "execution_count": 15,
   "metadata": {},
   "outputs": [],
   "source": [
    "train = pd.read_csv(os.path.join(feature_store_path, 'ensemble_feature_train_sample.csv'), sep='\\t')"
   ]
  },
  {
   "cell_type": "code",
   "execution_count": 16,
   "metadata": {},
   "outputs": [
    {
     "name": "stdout",
     "output_type": "stream",
     "text": [
      "<class 'pandas.core.frame.DataFrame'>\n",
      "RangeIndex: 3120901 entries, 0 to 3120900\n",
      "Data columns (total 50 columns):\n",
      "user_id                  int64\n",
      "photo_id                 int64\n",
      "browse_num               int64\n",
      "click_num                int64\n",
      "like_num                 int64\n",
      "follow_num               int64\n",
      "playing_sum              int64\n",
      "duration_sum             int64\n",
      "click_ratio              float64\n",
      "like_ratio               float64\n",
      "follow_ratio             float64\n",
      "playing_ratio            float64\n",
      "browse_time_diff         int64\n",
      "click_freq               float64\n",
      "browse_freq              float64\n",
      "playing_freq             float64\n",
      "man_favor                float64\n",
      "woman_favor              float64\n",
      "man_cv_favor             float64\n",
      "woman_cv_favor           float64\n",
      "man_age_favor            float64\n",
      "woman_age_favor          float64\n",
      "man_yen_value_favor      float64\n",
      "woman_yen_value_favor    float64\n",
      "face_click_favor         float64\n",
      "non_face_click_favor     float64\n",
      "cover_length_favor       float64\n",
      "exposure_num             int64\n",
      "have_face_cate           bool\n",
      "have_text_cate           bool\n",
      "face_num                 int64\n",
      "man_num                  int64\n",
      "woman_num                int64\n",
      "man_scale                float64\n",
      "woman_scale              float64\n",
      "human_scale              float64\n",
      "man_avg_age              float64\n",
      "woman_avg_age            float64\n",
      "human_avg_age            float64\n",
      "man_avg_attr             float64\n",
      "woman_avg_attr           float64\n",
      "human_avg_attr           float64\n",
      "woman_num_ratio          float64\n",
      "man_num_ratio            float64\n",
      "cover_length             int64\n",
      "avg_tfidf                float64\n",
      "key_words_num            int64\n",
      "time                     int64\n",
      "duration_time            int64\n",
      "click                    int64\n",
      "dtypes: bool(2), float64(30), int64(18)\n",
      "memory usage: 1.1 GB\n"
     ]
    }
   ],
   "source": [
    "train.info()"
   ]
  },
  {
   "cell_type": "code",
   "execution_count": 17,
   "metadata": {},
   "outputs": [
    {
     "data": {
      "text/html": [
       "<div>\n",
       "<style>\n",
       "    .dataframe thead tr:only-child th {\n",
       "        text-align: right;\n",
       "    }\n",
       "\n",
       "    .dataframe thead th {\n",
       "        text-align: left;\n",
       "    }\n",
       "\n",
       "    .dataframe tbody tr th {\n",
       "        vertical-align: top;\n",
       "    }\n",
       "</style>\n",
       "<table border=\"1\" class=\"dataframe\">\n",
       "  <thead>\n",
       "    <tr style=\"text-align: right;\">\n",
       "      <th></th>\n",
       "      <th>user_id</th>\n",
       "      <th>photo_id</th>\n",
       "      <th>browse_num</th>\n",
       "      <th>click_num</th>\n",
       "      <th>like_num</th>\n",
       "      <th>follow_num</th>\n",
       "      <th>playing_sum</th>\n",
       "      <th>duration_sum</th>\n",
       "      <th>click_ratio</th>\n",
       "      <th>like_ratio</th>\n",
       "      <th>...</th>\n",
       "      <th>woman_avg_attr</th>\n",
       "      <th>human_avg_attr</th>\n",
       "      <th>woman_num_ratio</th>\n",
       "      <th>man_num_ratio</th>\n",
       "      <th>cover_length</th>\n",
       "      <th>avg_tfidf</th>\n",
       "      <th>key_words_num</th>\n",
       "      <th>time</th>\n",
       "      <th>duration_time</th>\n",
       "      <th>click</th>\n",
       "    </tr>\n",
       "  </thead>\n",
       "  <tbody>\n",
       "    <tr>\n",
       "      <th>0</th>\n",
       "      <td>2</td>\n",
       "      <td>528031</td>\n",
       "      <td>304</td>\n",
       "      <td>50</td>\n",
       "      <td>0</td>\n",
       "      <td>3</td>\n",
       "      <td>1015</td>\n",
       "      <td>6088</td>\n",
       "      <td>0.167463</td>\n",
       "      <td>0.0</td>\n",
       "      <td>...</td>\n",
       "      <td>66.0</td>\n",
       "      <td>66.0</td>\n",
       "      <td>1.0</td>\n",
       "      <td>0.0</td>\n",
       "      <td>13</td>\n",
       "      <td>0.000024</td>\n",
       "      <td>11</td>\n",
       "      <td>761073153303</td>\n",
       "      <td>16</td>\n",
       "      <td>0</td>\n",
       "    </tr>\n",
       "    <tr>\n",
       "      <th>1</th>\n",
       "      <td>2</td>\n",
       "      <td>3141045</td>\n",
       "      <td>304</td>\n",
       "      <td>50</td>\n",
       "      <td>0</td>\n",
       "      <td>3</td>\n",
       "      <td>1015</td>\n",
       "      <td>6088</td>\n",
       "      <td>0.167463</td>\n",
       "      <td>0.0</td>\n",
       "      <td>...</td>\n",
       "      <td>0.0</td>\n",
       "      <td>0.0</td>\n",
       "      <td>0.0</td>\n",
       "      <td>0.0</td>\n",
       "      <td>5</td>\n",
       "      <td>0.000017</td>\n",
       "      <td>5</td>\n",
       "      <td>761073449279</td>\n",
       "      <td>10</td>\n",
       "      <td>0</td>\n",
       "    </tr>\n",
       "    <tr>\n",
       "      <th>2</th>\n",
       "      <td>2</td>\n",
       "      <td>6410672</td>\n",
       "      <td>304</td>\n",
       "      <td>50</td>\n",
       "      <td>0</td>\n",
       "      <td>3</td>\n",
       "      <td>1015</td>\n",
       "      <td>6088</td>\n",
       "      <td>0.167463</td>\n",
       "      <td>0.0</td>\n",
       "      <td>...</td>\n",
       "      <td>0.0</td>\n",
       "      <td>0.0</td>\n",
       "      <td>0.0</td>\n",
       "      <td>0.0</td>\n",
       "      <td>2</td>\n",
       "      <td>0.000011</td>\n",
       "      <td>0</td>\n",
       "      <td>761072688657</td>\n",
       "      <td>13</td>\n",
       "      <td>0</td>\n",
       "    </tr>\n",
       "    <tr>\n",
       "      <th>3</th>\n",
       "      <td>2</td>\n",
       "      <td>6031965</td>\n",
       "      <td>304</td>\n",
       "      <td>50</td>\n",
       "      <td>0</td>\n",
       "      <td>3</td>\n",
       "      <td>1015</td>\n",
       "      <td>6088</td>\n",
       "      <td>0.167463</td>\n",
       "      <td>0.0</td>\n",
       "      <td>...</td>\n",
       "      <td>0.0</td>\n",
       "      <td>0.0</td>\n",
       "      <td>0.0</td>\n",
       "      <td>0.0</td>\n",
       "      <td>4</td>\n",
       "      <td>0.000016</td>\n",
       "      <td>1</td>\n",
       "      <td>761079542559</td>\n",
       "      <td>11</td>\n",
       "      <td>0</td>\n",
       "    </tr>\n",
       "    <tr>\n",
       "      <th>4</th>\n",
       "      <td>2</td>\n",
       "      <td>492513</td>\n",
       "      <td>304</td>\n",
       "      <td>50</td>\n",
       "      <td>0</td>\n",
       "      <td>3</td>\n",
       "      <td>1015</td>\n",
       "      <td>6088</td>\n",
       "      <td>0.167463</td>\n",
       "      <td>0.0</td>\n",
       "      <td>...</td>\n",
       "      <td>0.0</td>\n",
       "      <td>0.0</td>\n",
       "      <td>0.0</td>\n",
       "      <td>0.0</td>\n",
       "      <td>0</td>\n",
       "      <td>0.000000</td>\n",
       "      <td>0</td>\n",
       "      <td>761071781792</td>\n",
       "      <td>11</td>\n",
       "      <td>0</td>\n",
       "    </tr>\n",
       "  </tbody>\n",
       "</table>\n",
       "<p>5 rows × 50 columns</p>\n",
       "</div>"
      ],
      "text/plain": [
       "   user_id  photo_id  browse_num  click_num  like_num  follow_num  \\\n",
       "0        2    528031         304         50         0           3   \n",
       "1        2   3141045         304         50         0           3   \n",
       "2        2   6410672         304         50         0           3   \n",
       "3        2   6031965         304         50         0           3   \n",
       "4        2    492513         304         50         0           3   \n",
       "\n",
       "   playing_sum  duration_sum  click_ratio  like_ratio  ...    woman_avg_attr  \\\n",
       "0         1015          6088     0.167463         0.0  ...              66.0   \n",
       "1         1015          6088     0.167463         0.0  ...               0.0   \n",
       "2         1015          6088     0.167463         0.0  ...               0.0   \n",
       "3         1015          6088     0.167463         0.0  ...               0.0   \n",
       "4         1015          6088     0.167463         0.0  ...               0.0   \n",
       "\n",
       "   human_avg_attr  woman_num_ratio  man_num_ratio  cover_length  avg_tfidf  \\\n",
       "0            66.0              1.0            0.0            13   0.000024   \n",
       "1             0.0              0.0            0.0             5   0.000017   \n",
       "2             0.0              0.0            0.0             2   0.000011   \n",
       "3             0.0              0.0            0.0             4   0.000016   \n",
       "4             0.0              0.0            0.0             0   0.000000   \n",
       "\n",
       "   key_words_num          time  duration_time  click  \n",
       "0             11  761073153303             16      0  \n",
       "1              5  761073449279             10      0  \n",
       "2              0  761072688657             13      0  \n",
       "3              1  761079542559             11      0  \n",
       "4              0  761071781792             11      0  \n",
       "\n",
       "[5 rows x 50 columns]"
      ]
     },
     "execution_count": 17,
     "metadata": {},
     "output_type": "execute_result"
    }
   ],
   "source": [
    "train.head()"
   ]
  },
  {
   "cell_type": "code",
   "execution_count": 18,
   "metadata": {},
   "outputs": [],
   "source": [
    "test = pd.read_csv(os.path.join(feature_store_path, 'ensemble_feature_test_sample.csv'), sep='\\t')"
   ]
  },
  {
   "cell_type": "code",
   "execution_count": 22,
   "metadata": {},
   "outputs": [],
   "source": [
    "period_click_ratio_test = pd.read_csv(os.path.join(col_feature_store_path, 'period_click_ratio_test.csv'), sep='\\t')"
   ]
  },
  {
   "cell_type": "code",
   "execution_count": 27,
   "metadata": {},
   "outputs": [
    {
     "data": {
      "text/plain": [
       "user_id               0\n",
       "photo_id              0\n",
       "period_click_ratio    0\n",
       "dtype: int64"
      ]
     },
     "execution_count": 27,
     "metadata": {},
     "output_type": "execute_result"
    }
   ],
   "source": [
    "np.sum(period_click_ratio_test.isnull())"
   ]
  },
  {
   "cell_type": "code",
   "execution_count": null,
   "metadata": {},
   "outputs": [],
   "source": []
  }
 ],
 "metadata": {
  "kernelspec": {
   "display_name": "Python 2",
   "language": "python",
   "name": "python2"
  },
  "language_info": {
   "codemirror_mode": {
    "name": "ipython",
    "version": 2
   },
   "file_extension": ".py",
   "mimetype": "text/x-python",
   "name": "python",
   "nbconvert_exporter": "python",
   "pygments_lexer": "ipython2",
   "version": "2.7.10"
  }
 },
 "nbformat": 4,
 "nbformat_minor": 2
}
