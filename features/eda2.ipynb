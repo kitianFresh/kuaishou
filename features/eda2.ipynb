{
 "cells": [
  {
   "cell_type": "code",
   "execution_count": 1,
   "metadata": {},
   "outputs": [],
   "source": [
    "import pandas as pd\n",
    "import numpy as np\n",
    "import matplotlib.pyplot as plt\n",
    "import seaborn as sns\n",
    "%matplotlib inline\n",
    "p = sns.color_palette()\n",
    "\n",
    "USE_SAMPLE = False\n",
    "TRAIN_FACE = '../sample/train_face.txt' if USE_SAMPLE else '../data/train_face.txt'\n",
    "TRAIN_USER_INTERACT = '../sample/train_interaction.txt' if USE_SAMPLE else '../data/train_interaction.txt'\n",
    "TRAIN_TEXT = '../sample/train_text.txt' if USE_SAMPLE else '../data/train_text.txt'\n",
    "TEST_FACE = '../sample/test_face.txt' if USE_SAMPLE else '../data/test_face.txt'\n",
    "TEST_INTERACT = '../sample/test_interaction.txt' if USE_SAMPLE else '../data/test_interaction.txt'\n",
    "TEST_TEXT = '../sample/test_text.txt' if USE_SAMPLE else '../data/test_text.txt'"
   ]
  },
  {
   "cell_type": "code",
   "execution_count": 2,
   "metadata": {},
   "outputs": [],
   "source": [
    "face_train = pd.read_csv(TRAIN_FACE, \n",
    "                        sep='\\t', \n",
    "                        header=None, \n",
    "                        names=['photo_id', 'faces'])"
   ]
  },
  {
   "cell_type": "code",
   "execution_count": 3,
   "metadata": {},
   "outputs": [],
   "source": [
    "user_item_train = pd.read_csv(TRAIN_USER_INTERACT, \n",
    "                             sep='\\t', \n",
    "                             header=None, \n",
    "                             names=['user_id', 'photo_id', 'click', 'like', 'follow', 'time', 'playing_time', 'duration_time'])"
   ]
  },
  {
   "cell_type": "code",
   "execution_count": 111,
   "metadata": {},
   "outputs": [],
   "source": [
    "text_train = pd.read_csv(TRAIN_TEXT,\n",
    "                       sep='\\t',\n",
    "                       header=None,\n",
    "                       names=['photo_id', 'cover_words'])"
   ]
  },
  {
   "cell_type": "code",
   "execution_count": 4,
   "metadata": {},
   "outputs": [],
   "source": [
    "face_test = pd.read_csv(TEST_FACE, \n",
    "                        sep='\\t', \n",
    "                        header=None, \n",
    "                        names=['photo_id', 'faces'])"
   ]
  },
  {
   "cell_type": "code",
   "execution_count": 5,
   "metadata": {},
   "outputs": [],
   "source": [
    "user_item_test = pd.read_csv(TEST_INTERACT, \n",
    "                             sep='\\t', \n",
    "                             header=None, \n",
    "                             names=['user_id', 'photo_id', 'time', 'duration_time'])"
   ]
  },
  {
   "cell_type": "code",
   "execution_count": 114,
   "metadata": {},
   "outputs": [],
   "source": [
    "text_test = pd.read_csv(TEST_TEXT,\n",
    "                       sep='\\t',\n",
    "                       header=None,\n",
    "                       names=['photo_id', 'cover_words'])"
   ]
  },
  {
   "cell_type": "code",
   "execution_count": 6,
   "metadata": {},
   "outputs": [
    {
     "data": {
      "text/plain": [
       "0.2024292396826292"
      ]
     },
     "execution_count": 6,
     "metadata": {},
     "output_type": "execute_result"
    }
   ],
   "source": [
    "user_item_train['click'].mean()"
   ]
  },
  {
   "cell_type": "code",
   "execution_count": 7,
   "metadata": {},
   "outputs": [
    {
     "name": "stdout",
     "output_type": "stream",
     "text": [
      "<class 'pandas.core.frame.DataFrame'>\n",
      "RangeIndex: 20854344 entries, 0 to 20854343\n",
      "Data columns (total 8 columns):\n",
      "user_id          int64\n",
      "photo_id         int64\n",
      "click            int64\n",
      "like             int64\n",
      "follow           int64\n",
      "time             int64\n",
      "playing_time     int64\n",
      "duration_time    int64\n",
      "dtypes: int64(8)\n",
      "memory usage: 1.2 GB\n"
     ]
    }
   ],
   "source": [
    "user_item_train.info()"
   ]
  },
  {
   "cell_type": "code",
   "execution_count": 8,
   "metadata": {},
   "outputs": [
    {
     "data": {
      "text/plain": [
       "count    2.085434e+07\n",
       "mean     1.989893e+01\n",
       "std      2.735497e+01\n",
       "min      0.000000e+00\n",
       "25%      1.100000e+01\n",
       "50%      1.100000e+01\n",
       "75%      1.700000e+01\n",
       "max      3.831000e+03\n",
       "Name: duration_time, dtype: float64"
      ]
     },
     "execution_count": 8,
     "metadata": {},
     "output_type": "execute_result"
    }
   ],
   "source": [
    "user_item_train['duration_time'].describe()"
   ]
  },
  {
   "cell_type": "code",
   "execution_count": 9,
   "metadata": {},
   "outputs": [
    {
     "name": "stdout",
     "output_type": "stream",
     "text": [
      "<class 'pandas.core.frame.DataFrame'>\n",
      "RangeIndex: 3291332 entries, 0 to 3291331\n",
      "Data columns (total 4 columns):\n",
      "user_id          int64\n",
      "photo_id         int64\n",
      "time             int64\n",
      "duration_time    int64\n",
      "dtypes: int64(4)\n",
      "memory usage: 100.4 MB\n"
     ]
    }
   ],
   "source": [
    "user_item_test.info()"
   ]
  },
  {
   "cell_type": "code",
   "execution_count": 10,
   "metadata": {},
   "outputs": [
    {
     "data": {
      "text/plain": [
       "0.003035866292413705"
      ]
     },
     "execution_count": 10,
     "metadata": {},
     "output_type": "execute_result"
    }
   ],
   "source": [
    "user_item_train['like'].mean()"
   ]
  },
  {
   "cell_type": "code",
   "execution_count": 11,
   "metadata": {},
   "outputs": [
    {
     "data": {
      "text/plain": [
       "0.0009912563061202021"
      ]
     },
     "execution_count": 11,
     "metadata": {},
     "output_type": "execute_result"
    }
   ],
   "source": [
    "user_item_train['follow'].mean()"
   ]
  },
  {
   "cell_type": "code",
   "execution_count": 201,
   "metadata": {},
   "outputs": [
    {
     "data": {
      "text/plain": [
       "<matplotlib.text.Text at 0x11ea7a710>"
      ]
     },
     "execution_count": 201,
     "metadata": {},
     "output_type": "execute_result"
    },
    {
     "data": {
      "image/png": "[encoded data removed]",
      "text/plain": [
       "<matplotlib.figure.Figure at 0x12d920cd0>"
      ]
     },
     "metadata": {},
     "output_type": "display_data"
    }
   ],
   "source": [
    "sizes_train = user_item_train.groupby('user_id')['photo_id'].count().value_counts()\n",
    "sizes_test = user_item_test.groupby('user_id')['photo_id'].count().value_counts()\n",
    "sizes_train = sizes_train / np.sum(sizes_train)\n",
    "sizes_test = sizes_test / np.sum(sizes_test)\n",
    "\n",
    "plt.figure(figsize=(12,4))\n",
    "sns.barplot(sizes_train.index, sizes_train.values, alpha=0.8, color=p[0], label='train')\n",
    "sns.barplot(sizes_test.index, sizes_test.values, alpha=0.6, color=p[1], label='test')\n",
    "plt.legend()\n",
    "plt.xlabel('user', fontsize=12)\n",
    "plt.ylabel('Number of photos in user', fontsize=12)"
   ]
  },
  {
   "cell_type": "code",
   "execution_count": 12,
   "metadata": {},
   "outputs": [],
   "source": [
    "photo_intersection_prop = 1. * len(set(user_item_train.photo_id.unique()) & set(user_item_test.photo_id.unique())) / len(user_item_test.photo_id.unique())"
   ]
  },
  {
   "cell_type": "code",
   "execution_count": 13,
   "metadata": {},
   "outputs": [
    {
     "data": {
      "text/plain": [
       "0.0"
      ]
     },
     "execution_count": 13,
     "metadata": {},
     "output_type": "execute_result"
    }
   ],
   "source": [
    "photo_intersection_prop"
   ]
  },
  {
   "cell_type": "code",
   "execution_count": 14,
   "metadata": {},
   "outputs": [
    {
     "name": "stdout",
     "output_type": "stream",
     "text": [
      "<class 'pandas.core.frame.DataFrame'>\n",
      "RangeIndex: 1613135 entries, 0 to 1613134\n",
      "Data columns (total 2 columns):\n",
      "photo_id    1613135 non-null int64\n",
      "faces       1613135 non-null object\n",
      "dtypes: int64(1), object(1)\n",
      "memory usage: 24.6+ MB\n"
     ]
    }
   ],
   "source": [
    "face_train.info()"
   ]
  },
  {
   "cell_type": "code",
   "execution_count": 15,
   "metadata": {},
   "outputs": [],
   "source": [
    "def add_face_feature(face_data):\n",
    "    def ages_avg(lists):\n",
    "        ages = [l[2] for l in lists if l[1] == 1]\n",
    "        return reduce(ages, lambda x, y: x + y) / len(ages)\n",
    "    face_data['faces'] = face_data['faces'].apply(eval)\n",
    "    face_data['face_num'] = face_data['faces'].apply(lambda l : len(l))\n",
    "    face_data['man_num'] = face_data['faces'].apply(lambda lists: len([1 for l in lists if l[1] == 1]))\n",
    "    face_data['woman_num'] = face_data['faces'].apply(lambda lists: len([1 for l in lists if l[1] == 0]))\n",
    "    face_data['man_scale'] = face_data['faces'].apply(lambda lists: sum([l[0] for l in lists if l[1] == 1]))\n",
    "    face_data['woman_scale'] = face_data['faces'].apply(lambda lists: sum([l[0] for l in lists if l[1] == 0]))\n",
    "    face_data['human_scale'] = face_data['man_scale'] + face_data['woman_scale']\n",
    "    face_data['man_avg_age'] = face_data['faces'].apply(lambda lists: np.mean([l[2] for l in lists if l[1] == 1]))\n",
    "    face_data['woman_avg_age'] = face_data['faces'].apply(lambda lists: np.mean([l[2] for l in lists if l[1] == 0]))\n",
    "    face_data['human_avg_age'] = face_data['faces'].apply(lambda lists: np.mean([l[2] for l in lists]))\n",
    "    face_data['man_avg_attr'] = face_data['faces'].apply(lambda lists: np.mean([l[3] for l in lists if l[1] == 1]))\n",
    "    face_data['woman_avg_attr'] = face_data['faces'].apply(lambda lists: np.mean([l[3] for l in lists if l[1] == 0]))\n",
    "    face_data['human_avg_attr'] = face_data['faces'].apply(lambda lists: np.mean([l[3] for l in lists]))\n",
    "    return face_data"
   ]
  },
  {
   "cell_type": "code",
   "execution_count": 16,
   "metadata": {},
   "outputs": [],
   "source": [
    "face_data = pd.concat([face_train, face_test])"
   ]
  },
  {
   "cell_type": "code",
   "execution_count": 17,
   "metadata": {},
   "outputs": [
    {
     "name": "stderr",
     "output_type": "stream",
     "text": [
      "/Library/Python/2.7/site-packages/numpy/core/fromnumeric.py:2957: RuntimeWarning: Mean of empty slice.\n",
      "  out=out, **kwargs)\n"
     ]
    }
   ],
   "source": [
    "face_tata = add_face_feature(face_data)"
   ]
  },
  {
   "cell_type": "code",
   "execution_count": 18,
   "metadata": {},
   "outputs": [],
   "source": [
    "face_data.fillna(0, inplace=True)"
   ]
  },
  {
   "cell_type": "code",
   "execution_count": 19,
   "metadata": {},
   "outputs": [
    {
     "data": {
      "text/html": [
       "<div>\n",
       "<style>\n",
       "    .dataframe thead tr:only-child th {\n",
       "        text-align: right;\n",
       "    }\n",
       "\n",
       "    .dataframe thead th {\n",
       "        text-align: left;\n",
       "    }\n",
       "\n",
       "    .dataframe tbody tr th {\n",
       "        vertical-align: top;\n",
       "    }\n",
       "</style>\n",
       "<table border=\"1\" class=\"dataframe\">\n",
       "  <thead>\n",
       "    <tr style=\"text-align: right;\">\n",
       "      <th></th>\n",
       "      <th>photo_id</th>\n",
       "      <th>faces</th>\n",
       "      <th>face_num</th>\n",
       "      <th>man_num</th>\n",
       "      <th>woman_num</th>\n",
       "      <th>man_scale</th>\n",
       "      <th>woman_scale</th>\n",
       "      <th>human_scale</th>\n",
       "      <th>man_avg_age</th>\n",
       "      <th>woman_avg_age</th>\n",
       "      <th>human_avg_age</th>\n",
       "      <th>man_avg_attr</th>\n",
       "      <th>woman_avg_attr</th>\n",
       "      <th>human_avg_attr</th>\n",
       "    </tr>\n",
       "  </thead>\n",
       "  <tbody>\n",
       "    <tr>\n",
       "      <th>0</th>\n",
       "      <td>9</td>\n",
       "      <td>[[0.0377, 1, 3, 50]]</td>\n",
       "      <td>1</td>\n",
       "      <td>1</td>\n",
       "      <td>0</td>\n",
       "      <td>0.0377</td>\n",
       "      <td>0.0000</td>\n",
       "      <td>0.0377</td>\n",
       "      <td>3.0</td>\n",
       "      <td>0.0</td>\n",
       "      <td>3.0</td>\n",
       "      <td>50.0</td>\n",
       "      <td>0.0</td>\n",
       "      <td>50.0</td>\n",
       "    </tr>\n",
       "    <tr>\n",
       "      <th>1</th>\n",
       "      <td>3</td>\n",
       "      <td>[[0.219, 0, 22, 66]]</td>\n",
       "      <td>1</td>\n",
       "      <td>0</td>\n",
       "      <td>1</td>\n",
       "      <td>0.0000</td>\n",
       "      <td>0.2190</td>\n",
       "      <td>0.2190</td>\n",
       "      <td>0.0</td>\n",
       "      <td>22.0</td>\n",
       "      <td>22.0</td>\n",
       "      <td>0.0</td>\n",
       "      <td>66.0</td>\n",
       "      <td>66.0</td>\n",
       "    </tr>\n",
       "    <tr>\n",
       "      <th>2</th>\n",
       "      <td>8</td>\n",
       "      <td>[[0.0849, 0, 13, 54], [0.1221, 0, 22, 88]]</td>\n",
       "      <td>2</td>\n",
       "      <td>0</td>\n",
       "      <td>2</td>\n",
       "      <td>0.0000</td>\n",
       "      <td>0.2070</td>\n",
       "      <td>0.2070</td>\n",
       "      <td>0.0</td>\n",
       "      <td>17.5</td>\n",
       "      <td>17.5</td>\n",
       "      <td>0.0</td>\n",
       "      <td>71.0</td>\n",
       "      <td>71.0</td>\n",
       "    </tr>\n",
       "    <tr>\n",
       "      <th>3</th>\n",
       "      <td>2</td>\n",
       "      <td>[[0.2018, 1, 18, 60]]</td>\n",
       "      <td>1</td>\n",
       "      <td>1</td>\n",
       "      <td>0</td>\n",
       "      <td>0.2018</td>\n",
       "      <td>0.0000</td>\n",
       "      <td>0.2018</td>\n",
       "      <td>18.0</td>\n",
       "      <td>0.0</td>\n",
       "      <td>18.0</td>\n",
       "      <td>60.0</td>\n",
       "      <td>0.0</td>\n",
       "      <td>60.0</td>\n",
       "    </tr>\n",
       "    <tr>\n",
       "      <th>4</th>\n",
       "      <td>19</td>\n",
       "      <td>[[0.0123, 0, 24, 52]]</td>\n",
       "      <td>1</td>\n",
       "      <td>0</td>\n",
       "      <td>1</td>\n",
       "      <td>0.0000</td>\n",
       "      <td>0.0123</td>\n",
       "      <td>0.0123</td>\n",
       "      <td>0.0</td>\n",
       "      <td>24.0</td>\n",
       "      <td>24.0</td>\n",
       "      <td>0.0</td>\n",
       "      <td>52.0</td>\n",
       "      <td>52.0</td>\n",
       "    </tr>\n",
       "  </tbody>\n",
       "</table>\n",
       "</div>"
      ],
      "text/plain": [
       "   photo_id                                       faces  face_num  man_num  \\\n",
       "0         9                        [[0.0377, 1, 3, 50]]         1        1   \n",
       "1         3                        [[0.219, 0, 22, 66]]         1        0   \n",
       "2         8  [[0.0849, 0, 13, 54], [0.1221, 0, 22, 88]]         2        0   \n",
       "3         2                       [[0.2018, 1, 18, 60]]         1        1   \n",
       "4        19                       [[0.0123, 0, 24, 52]]         1        0   \n",
       "\n",
       "   woman_num  man_scale  woman_scale  human_scale  man_avg_age  woman_avg_age  \\\n",
       "0          0     0.0377       0.0000       0.0377          3.0            0.0   \n",
       "1          1     0.0000       0.2190       0.2190          0.0           22.0   \n",
       "2          2     0.0000       0.2070       0.2070          0.0           17.5   \n",
       "3          0     0.2018       0.0000       0.2018         18.0            0.0   \n",
       "4          1     0.0000       0.0123       0.0123          0.0           24.0   \n",
       "\n",
       "   human_avg_age  man_avg_attr  woman_avg_attr  human_avg_attr  \n",
       "0            3.0          50.0             0.0            50.0  \n",
       "1           22.0           0.0            66.0            66.0  \n",
       "2           17.5           0.0            71.0            71.0  \n",
       "3           18.0          60.0             0.0            60.0  \n",
       "4           24.0           0.0            52.0            52.0  "
      ]
     },
     "execution_count": 19,
     "metadata": {},
     "output_type": "execute_result"
    }
   ],
   "source": [
    "face_data.head()"
   ]
  },
  {
   "cell_type": "code",
   "execution_count": 20,
   "metadata": {},
   "outputs": [],
   "source": [
    "face_data.drop(['faces'], axis=1, inplace=True)"
   ]
  },
  {
   "cell_type": "code",
   "execution_count": 21,
   "metadata": {},
   "outputs": [
    {
     "data": {
      "text/html": [
       "<div>\n",
       "<style>\n",
       "    .dataframe thead tr:only-child th {\n",
       "        text-align: right;\n",
       "    }\n",
       "\n",
       "    .dataframe thead th {\n",
       "        text-align: left;\n",
       "    }\n",
       "\n",
       "    .dataframe tbody tr th {\n",
       "        vertical-align: top;\n",
       "    }\n",
       "</style>\n",
       "<table border=\"1\" class=\"dataframe\">\n",
       "  <thead>\n",
       "    <tr style=\"text-align: right;\">\n",
       "      <th></th>\n",
       "      <th>photo_id</th>\n",
       "      <th>face_num</th>\n",
       "      <th>man_num</th>\n",
       "      <th>woman_num</th>\n",
       "      <th>man_scale</th>\n",
       "      <th>woman_scale</th>\n",
       "      <th>human_scale</th>\n",
       "      <th>man_avg_age</th>\n",
       "      <th>woman_avg_age</th>\n",
       "      <th>human_avg_age</th>\n",
       "      <th>man_avg_attr</th>\n",
       "      <th>woman_avg_attr</th>\n",
       "      <th>human_avg_attr</th>\n",
       "    </tr>\n",
       "  </thead>\n",
       "  <tbody>\n",
       "    <tr>\n",
       "      <th>0</th>\n",
       "      <td>9</td>\n",
       "      <td>1</td>\n",
       "      <td>1</td>\n",
       "      <td>0</td>\n",
       "      <td>0.0377</td>\n",
       "      <td>0.0000</td>\n",
       "      <td>0.0377</td>\n",
       "      <td>3.0</td>\n",
       "      <td>0.0</td>\n",
       "      <td>3.0</td>\n",
       "      <td>50.0</td>\n",
       "      <td>0.0</td>\n",
       "      <td>50.0</td>\n",
       "    </tr>\n",
       "    <tr>\n",
       "      <th>1</th>\n",
       "      <td>3</td>\n",
       "      <td>1</td>\n",
       "      <td>0</td>\n",
       "      <td>1</td>\n",
       "      <td>0.0000</td>\n",
       "      <td>0.2190</td>\n",
       "      <td>0.2190</td>\n",
       "      <td>0.0</td>\n",
       "      <td>22.0</td>\n",
       "      <td>22.0</td>\n",
       "      <td>0.0</td>\n",
       "      <td>66.0</td>\n",
       "      <td>66.0</td>\n",
       "    </tr>\n",
       "    <tr>\n",
       "      <th>2</th>\n",
       "      <td>8</td>\n",
       "      <td>2</td>\n",
       "      <td>0</td>\n",
       "      <td>2</td>\n",
       "      <td>0.0000</td>\n",
       "      <td>0.2070</td>\n",
       "      <td>0.2070</td>\n",
       "      <td>0.0</td>\n",
       "      <td>17.5</td>\n",
       "      <td>17.5</td>\n",
       "      <td>0.0</td>\n",
       "      <td>71.0</td>\n",
       "      <td>71.0</td>\n",
       "    </tr>\n",
       "    <tr>\n",
       "      <th>3</th>\n",
       "      <td>2</td>\n",
       "      <td>1</td>\n",
       "      <td>1</td>\n",
       "      <td>0</td>\n",
       "      <td>0.2018</td>\n",
       "      <td>0.0000</td>\n",
       "      <td>0.2018</td>\n",
       "      <td>18.0</td>\n",
       "      <td>0.0</td>\n",
       "      <td>18.0</td>\n",
       "      <td>60.0</td>\n",
       "      <td>0.0</td>\n",
       "      <td>60.0</td>\n",
       "    </tr>\n",
       "    <tr>\n",
       "      <th>4</th>\n",
       "      <td>19</td>\n",
       "      <td>1</td>\n",
       "      <td>0</td>\n",
       "      <td>1</td>\n",
       "      <td>0.0000</td>\n",
       "      <td>0.0123</td>\n",
       "      <td>0.0123</td>\n",
       "      <td>0.0</td>\n",
       "      <td>24.0</td>\n",
       "      <td>24.0</td>\n",
       "      <td>0.0</td>\n",
       "      <td>52.0</td>\n",
       "      <td>52.0</td>\n",
       "    </tr>\n",
       "  </tbody>\n",
       "</table>\n",
       "</div>"
      ],
      "text/plain": [
       "   photo_id  face_num  man_num  woman_num  man_scale  woman_scale  \\\n",
       "0         9         1        1          0     0.0377       0.0000   \n",
       "1         3         1        0          1     0.0000       0.2190   \n",
       "2         8         2        0          2     0.0000       0.2070   \n",
       "3         2         1        1          0     0.2018       0.0000   \n",
       "4        19         1        0          1     0.0000       0.0123   \n",
       "\n",
       "   human_scale  man_avg_age  woman_avg_age  human_avg_age  man_avg_attr  \\\n",
       "0       0.0377          3.0            0.0            3.0          50.0   \n",
       "1       0.2190          0.0           22.0           22.0           0.0   \n",
       "2       0.2070          0.0           17.5           17.5           0.0   \n",
       "3       0.2018         18.0            0.0           18.0          60.0   \n",
       "4       0.0123          0.0           24.0           24.0           0.0   \n",
       "\n",
       "   woman_avg_attr  human_avg_attr  \n",
       "0             0.0            50.0  \n",
       "1            66.0            66.0  \n",
       "2            71.0            71.0  \n",
       "3             0.0            60.0  \n",
       "4            52.0            52.0  "
      ]
     },
     "execution_count": 21,
     "metadata": {},
     "output_type": "execute_result"
    }
   ],
   "source": [
    "face_data.head()"
   ]
  },
  {
   "cell_type": "code",
   "execution_count": 22,
   "metadata": {},
   "outputs": [
    {
     "data": {
      "text/plain": [
       "311640"
      ]
     },
     "execution_count": 22,
     "metadata": {},
     "output_type": "execute_result"
    }
   ],
   "source": [
    "np.sum(face_data['face_num']>=2)"
   ]
  },
  {
   "cell_type": "code",
   "execution_count": 23,
   "metadata": {},
   "outputs": [
    {
     "data": {
      "text/html": [
       "<div>\n",
       "<style>\n",
       "    .dataframe thead tr:only-child th {\n",
       "        text-align: right;\n",
       "    }\n",
       "\n",
       "    .dataframe thead th {\n",
       "        text-align: left;\n",
       "    }\n",
       "\n",
       "    .dataframe tbody tr th {\n",
       "        vertical-align: top;\n",
       "    }\n",
       "</style>\n",
       "<table border=\"1\" class=\"dataframe\">\n",
       "  <thead>\n",
       "    <tr style=\"text-align: right;\">\n",
       "      <th></th>\n",
       "      <th>photo_id</th>\n",
       "      <th>face_num</th>\n",
       "      <th>man_num</th>\n",
       "      <th>woman_num</th>\n",
       "      <th>man_scale</th>\n",
       "      <th>woman_scale</th>\n",
       "      <th>human_scale</th>\n",
       "      <th>man_avg_age</th>\n",
       "      <th>woman_avg_age</th>\n",
       "      <th>human_avg_age</th>\n",
       "      <th>man_avg_attr</th>\n",
       "      <th>woman_avg_attr</th>\n",
       "      <th>human_avg_attr</th>\n",
       "    </tr>\n",
       "  </thead>\n",
       "  <tbody>\n",
       "    <tr>\n",
       "      <th>0</th>\n",
       "      <td>9</td>\n",
       "      <td>1</td>\n",
       "      <td>1</td>\n",
       "      <td>0</td>\n",
       "      <td>0.0377</td>\n",
       "      <td>0.0000</td>\n",
       "      <td>0.0377</td>\n",
       "      <td>3.0</td>\n",
       "      <td>0.0</td>\n",
       "      <td>3.0</td>\n",
       "      <td>50.0</td>\n",
       "      <td>0.0</td>\n",
       "      <td>50.0</td>\n",
       "    </tr>\n",
       "    <tr>\n",
       "      <th>1</th>\n",
       "      <td>3</td>\n",
       "      <td>1</td>\n",
       "      <td>0</td>\n",
       "      <td>1</td>\n",
       "      <td>0.0000</td>\n",
       "      <td>0.2190</td>\n",
       "      <td>0.2190</td>\n",
       "      <td>0.0</td>\n",
       "      <td>22.0</td>\n",
       "      <td>22.0</td>\n",
       "      <td>0.0</td>\n",
       "      <td>66.0</td>\n",
       "      <td>66.0</td>\n",
       "    </tr>\n",
       "    <tr>\n",
       "      <th>2</th>\n",
       "      <td>8</td>\n",
       "      <td>2</td>\n",
       "      <td>0</td>\n",
       "      <td>2</td>\n",
       "      <td>0.0000</td>\n",
       "      <td>0.2070</td>\n",
       "      <td>0.2070</td>\n",
       "      <td>0.0</td>\n",
       "      <td>17.5</td>\n",
       "      <td>17.5</td>\n",
       "      <td>0.0</td>\n",
       "      <td>71.0</td>\n",
       "      <td>71.0</td>\n",
       "    </tr>\n",
       "    <tr>\n",
       "      <th>3</th>\n",
       "      <td>2</td>\n",
       "      <td>1</td>\n",
       "      <td>1</td>\n",
       "      <td>0</td>\n",
       "      <td>0.2018</td>\n",
       "      <td>0.0000</td>\n",
       "      <td>0.2018</td>\n",
       "      <td>18.0</td>\n",
       "      <td>0.0</td>\n",
       "      <td>18.0</td>\n",
       "      <td>60.0</td>\n",
       "      <td>0.0</td>\n",
       "      <td>60.0</td>\n",
       "    </tr>\n",
       "    <tr>\n",
       "      <th>4</th>\n",
       "      <td>19</td>\n",
       "      <td>1</td>\n",
       "      <td>0</td>\n",
       "      <td>1</td>\n",
       "      <td>0.0000</td>\n",
       "      <td>0.0123</td>\n",
       "      <td>0.0123</td>\n",
       "      <td>0.0</td>\n",
       "      <td>24.0</td>\n",
       "      <td>24.0</td>\n",
       "      <td>0.0</td>\n",
       "      <td>52.0</td>\n",
       "      <td>52.0</td>\n",
       "    </tr>\n",
       "  </tbody>\n",
       "</table>\n",
       "</div>"
      ],
      "text/plain": [
       "   photo_id  face_num  man_num  woman_num  man_scale  woman_scale  \\\n",
       "0         9         1        1          0     0.0377       0.0000   \n",
       "1         3         1        0          1     0.0000       0.2190   \n",
       "2         8         2        0          2     0.0000       0.2070   \n",
       "3         2         1        1          0     0.2018       0.0000   \n",
       "4        19         1        0          1     0.0000       0.0123   \n",
       "\n",
       "   human_scale  man_avg_age  woman_avg_age  human_avg_age  man_avg_attr  \\\n",
       "0       0.0377          3.0            0.0            3.0          50.0   \n",
       "1       0.2190          0.0           22.0           22.0           0.0   \n",
       "2       0.2070          0.0           17.5           17.5           0.0   \n",
       "3       0.2018         18.0            0.0           18.0          60.0   \n",
       "4       0.0123          0.0           24.0           24.0           0.0   \n",
       "\n",
       "   woman_avg_attr  human_avg_attr  \n",
       "0             0.0            50.0  \n",
       "1            66.0            66.0  \n",
       "2            71.0            71.0  \n",
       "3             0.0            60.0  \n",
       "4            52.0            52.0  "
      ]
     },
     "execution_count": 23,
     "metadata": {},
     "output_type": "execute_result"
    }
   ],
   "source": [
    "face_data.head()"
   ]
  },
  {
   "cell_type": "code",
   "execution_count": 24,
   "metadata": {},
   "outputs": [
    {
     "name": "stdout",
     "output_type": "stream",
     "text": [
      "<class 'pandas.core.frame.DataFrame'>\n",
      "Int64Index: 24145676 entries, 0 to 3291331\n",
      "Data columns (total 2 columns):\n",
      "photo_id        int64\n",
      "exposure_num    int64\n",
      "dtypes: int64(2)\n",
      "memory usage: 552.7 MB\n"
     ]
    }
   ],
   "source": [
    "user_item_data = pd.concat([user_item_train[['user_id', 'photo_id', 'time', 'duration_time']], user_item_test])\n",
    "\n",
    "photo_data = pd.DataFrame()\n",
    "photo_data['photo_id'] = user_item_data['photo_id']\n",
    "photo_data['exposure_num'] = user_item_data['photo_id'].groupby(user_item_data['photo_id']).transform('count') \n",
    "photo_data.info()\n"
   ]
  },
  {
   "cell_type": "code",
   "execution_count": 25,
   "metadata": {},
   "outputs": [],
   "source": [
    "photo_data.drop_duplicates(inplace=True)\n",
    "photo_data = pd.merge(photo_data, face_data,\n",
    "                 how=\"left\",\n",
    "                 on=['photo_id'])\n",
    "\n"
   ]
  },
  {
   "cell_type": "code",
   "execution_count": 26,
   "metadata": {},
   "outputs": [
    {
     "name": "stdout",
     "output_type": "stream",
     "text": [
      "<class 'pandas.core.frame.DataFrame'>\n",
      "Int64Index: 5174532 entries, 0 to 5174531\n",
      "Data columns (total 14 columns):\n",
      "photo_id          int64\n",
      "exposure_num      int64\n",
      "face_num          float64\n",
      "man_num           float64\n",
      "woman_num         float64\n",
      "man_scale         float64\n",
      "woman_scale       float64\n",
      "human_scale       float64\n",
      "man_avg_age       float64\n",
      "woman_avg_age     float64\n",
      "human_avg_age     float64\n",
      "man_avg_attr      float64\n",
      "woman_avg_attr    float64\n",
      "human_avg_attr    float64\n",
      "dtypes: float64(12), int64(2)\n",
      "memory usage: 592.2 MB\n"
     ]
    }
   ],
   "source": [
    "photo_data.info()"
   ]
  },
  {
   "cell_type": "code",
   "execution_count": 27,
   "metadata": {},
   "outputs": [],
   "source": [
    "photo_data.fillna(0, inplace=True)\n"
   ]
  },
  {
   "cell_type": "code",
   "execution_count": 28,
   "metadata": {},
   "outputs": [
    {
     "data": {
      "text/html": [
       "<div>\n",
       "<style>\n",
       "    .dataframe thead tr:only-child th {\n",
       "        text-align: right;\n",
       "    }\n",
       "\n",
       "    .dataframe thead th {\n",
       "        text-align: left;\n",
       "    }\n",
       "\n",
       "    .dataframe tbody tr th {\n",
       "        vertical-align: top;\n",
       "    }\n",
       "</style>\n",
       "<table border=\"1\" class=\"dataframe\">\n",
       "  <thead>\n",
       "    <tr style=\"text-align: right;\">\n",
       "      <th></th>\n",
       "      <th>photo_id</th>\n",
       "      <th>exposure_num</th>\n",
       "      <th>face_num</th>\n",
       "      <th>man_num</th>\n",
       "      <th>woman_num</th>\n",
       "      <th>man_scale</th>\n",
       "      <th>woman_scale</th>\n",
       "      <th>human_scale</th>\n",
       "      <th>man_avg_age</th>\n",
       "      <th>woman_avg_age</th>\n",
       "      <th>human_avg_age</th>\n",
       "      <th>man_avg_attr</th>\n",
       "      <th>woman_avg_attr</th>\n",
       "      <th>human_avg_attr</th>\n",
       "    </tr>\n",
       "  </thead>\n",
       "  <tbody>\n",
       "    <tr>\n",
       "      <th>0</th>\n",
       "      <td>6484142</td>\n",
       "      <td>13</td>\n",
       "      <td>0.0</td>\n",
       "      <td>0.0</td>\n",
       "      <td>0.0</td>\n",
       "      <td>0.0000</td>\n",
       "      <td>0.0000</td>\n",
       "      <td>0.0000</td>\n",
       "      <td>0.000000</td>\n",
       "      <td>0.0</td>\n",
       "      <td>0.000000</td>\n",
       "      <td>0.000000</td>\n",
       "      <td>0.0</td>\n",
       "      <td>0.000000</td>\n",
       "    </tr>\n",
       "    <tr>\n",
       "      <th>1</th>\n",
       "      <td>4647664</td>\n",
       "      <td>2</td>\n",
       "      <td>0.0</td>\n",
       "      <td>0.0</td>\n",
       "      <td>0.0</td>\n",
       "      <td>0.0000</td>\n",
       "      <td>0.0000</td>\n",
       "      <td>0.0000</td>\n",
       "      <td>0.000000</td>\n",
       "      <td>0.0</td>\n",
       "      <td>0.000000</td>\n",
       "      <td>0.000000</td>\n",
       "      <td>0.0</td>\n",
       "      <td>0.000000</td>\n",
       "    </tr>\n",
       "    <tr>\n",
       "      <th>2</th>\n",
       "      <td>4994626</td>\n",
       "      <td>34</td>\n",
       "      <td>3.0</td>\n",
       "      <td>3.0</td>\n",
       "      <td>0.0</td>\n",
       "      <td>0.3959</td>\n",
       "      <td>0.0000</td>\n",
       "      <td>0.3959</td>\n",
       "      <td>26.333333</td>\n",
       "      <td>0.0</td>\n",
       "      <td>26.333333</td>\n",
       "      <td>48.333333</td>\n",
       "      <td>0.0</td>\n",
       "      <td>48.333333</td>\n",
       "    </tr>\n",
       "    <tr>\n",
       "      <th>3</th>\n",
       "      <td>4416881</td>\n",
       "      <td>1</td>\n",
       "      <td>0.0</td>\n",
       "      <td>0.0</td>\n",
       "      <td>0.0</td>\n",
       "      <td>0.0000</td>\n",
       "      <td>0.0000</td>\n",
       "      <td>0.0000</td>\n",
       "      <td>0.000000</td>\n",
       "      <td>0.0</td>\n",
       "      <td>0.000000</td>\n",
       "      <td>0.000000</td>\n",
       "      <td>0.0</td>\n",
       "      <td>0.000000</td>\n",
       "    </tr>\n",
       "    <tr>\n",
       "      <th>4</th>\n",
       "      <td>2597756</td>\n",
       "      <td>2</td>\n",
       "      <td>0.0</td>\n",
       "      <td>0.0</td>\n",
       "      <td>0.0</td>\n",
       "      <td>0.0000</td>\n",
       "      <td>0.0000</td>\n",
       "      <td>0.0000</td>\n",
       "      <td>0.000000</td>\n",
       "      <td>0.0</td>\n",
       "      <td>0.000000</td>\n",
       "      <td>0.000000</td>\n",
       "      <td>0.0</td>\n",
       "      <td>0.000000</td>\n",
       "    </tr>\n",
       "    <tr>\n",
       "      <th>5</th>\n",
       "      <td>4977481</td>\n",
       "      <td>155</td>\n",
       "      <td>3.0</td>\n",
       "      <td>3.0</td>\n",
       "      <td>0.0</td>\n",
       "      <td>0.0103</td>\n",
       "      <td>0.0000</td>\n",
       "      <td>0.0103</td>\n",
       "      <td>27.000000</td>\n",
       "      <td>0.0</td>\n",
       "      <td>27.000000</td>\n",
       "      <td>51.666667</td>\n",
       "      <td>0.0</td>\n",
       "      <td>51.666667</td>\n",
       "    </tr>\n",
       "    <tr>\n",
       "      <th>6</th>\n",
       "      <td>5089000</td>\n",
       "      <td>852</td>\n",
       "      <td>1.0</td>\n",
       "      <td>0.0</td>\n",
       "      <td>1.0</td>\n",
       "      <td>0.0000</td>\n",
       "      <td>0.0384</td>\n",
       "      <td>0.0384</td>\n",
       "      <td>0.000000</td>\n",
       "      <td>22.0</td>\n",
       "      <td>22.000000</td>\n",
       "      <td>0.000000</td>\n",
       "      <td>84.0</td>\n",
       "      <td>84.000000</td>\n",
       "    </tr>\n",
       "    <tr>\n",
       "      <th>7</th>\n",
       "      <td>693195</td>\n",
       "      <td>55</td>\n",
       "      <td>2.0</td>\n",
       "      <td>1.0</td>\n",
       "      <td>1.0</td>\n",
       "      <td>0.0162</td>\n",
       "      <td>0.0094</td>\n",
       "      <td>0.0256</td>\n",
       "      <td>27.000000</td>\n",
       "      <td>27.0</td>\n",
       "      <td>27.000000</td>\n",
       "      <td>50.000000</td>\n",
       "      <td>51.0</td>\n",
       "      <td>50.500000</td>\n",
       "    </tr>\n",
       "    <tr>\n",
       "      <th>8</th>\n",
       "      <td>163901</td>\n",
       "      <td>265</td>\n",
       "      <td>2.0</td>\n",
       "      <td>1.0</td>\n",
       "      <td>1.0</td>\n",
       "      <td>0.0088</td>\n",
       "      <td>0.0104</td>\n",
       "      <td>0.0192</td>\n",
       "      <td>21.000000</td>\n",
       "      <td>27.0</td>\n",
       "      <td>24.000000</td>\n",
       "      <td>56.000000</td>\n",
       "      <td>48.0</td>\n",
       "      <td>52.000000</td>\n",
       "    </tr>\n",
       "    <tr>\n",
       "      <th>9</th>\n",
       "      <td>6472236</td>\n",
       "      <td>1</td>\n",
       "      <td>0.0</td>\n",
       "      <td>0.0</td>\n",
       "      <td>0.0</td>\n",
       "      <td>0.0000</td>\n",
       "      <td>0.0000</td>\n",
       "      <td>0.0000</td>\n",
       "      <td>0.000000</td>\n",
       "      <td>0.0</td>\n",
       "      <td>0.000000</td>\n",
       "      <td>0.000000</td>\n",
       "      <td>0.0</td>\n",
       "      <td>0.000000</td>\n",
       "    </tr>\n",
       "  </tbody>\n",
       "</table>\n",
       "</div>"
      ],
      "text/plain": [
       "   photo_id  exposure_num  face_num  man_num  woman_num  man_scale  \\\n",
       "0   6484142            13       0.0      0.0        0.0     0.0000   \n",
       "1   4647664             2       0.0      0.0        0.0     0.0000   \n",
       "2   4994626            34       3.0      3.0        0.0     0.3959   \n",
       "3   4416881             1       0.0      0.0        0.0     0.0000   \n",
       "4   2597756             2       0.0      0.0        0.0     0.0000   \n",
       "5   4977481           155       3.0      3.0        0.0     0.0103   \n",
       "6   5089000           852       1.0      0.0        1.0     0.0000   \n",
       "7    693195            55       2.0      1.0        1.0     0.0162   \n",
       "8    163901           265       2.0      1.0        1.0     0.0088   \n",
       "9   6472236             1       0.0      0.0        0.0     0.0000   \n",
       "\n",
       "   woman_scale  human_scale  man_avg_age  woman_avg_age  human_avg_age  \\\n",
       "0       0.0000       0.0000     0.000000            0.0       0.000000   \n",
       "1       0.0000       0.0000     0.000000            0.0       0.000000   \n",
       "2       0.0000       0.3959    26.333333            0.0      26.333333   \n",
       "3       0.0000       0.0000     0.000000            0.0       0.000000   \n",
       "4       0.0000       0.0000     0.000000            0.0       0.000000   \n",
       "5       0.0000       0.0103    27.000000            0.0      27.000000   \n",
       "6       0.0384       0.0384     0.000000           22.0      22.000000   \n",
       "7       0.0094       0.0256    27.000000           27.0      27.000000   \n",
       "8       0.0104       0.0192    21.000000           27.0      24.000000   \n",
       "9       0.0000       0.0000     0.000000            0.0       0.000000   \n",
       "\n",
       "   man_avg_attr  woman_avg_attr  human_avg_attr  \n",
       "0      0.000000             0.0        0.000000  \n",
       "1      0.000000             0.0        0.000000  \n",
       "2     48.333333             0.0       48.333333  \n",
       "3      0.000000             0.0        0.000000  \n",
       "4      0.000000             0.0        0.000000  \n",
       "5     51.666667             0.0       51.666667  \n",
       "6      0.000000            84.0       84.000000  \n",
       "7     50.000000            51.0       50.500000  \n",
       "8     56.000000            48.0       52.000000  \n",
       "9      0.000000             0.0        0.000000  "
      ]
     },
     "execution_count": 28,
     "metadata": {},
     "output_type": "execute_result"
    }
   ],
   "source": [
    "photo_data.head(10)"
   ]
  },
  {
   "cell_type": "code",
   "execution_count": 29,
   "metadata": {},
   "outputs": [
    {
     "data": {
      "text/html": [
       "<div>\n",
       "<style>\n",
       "    .dataframe thead tr:only-child th {\n",
       "        text-align: right;\n",
       "    }\n",
       "\n",
       "    .dataframe thead th {\n",
       "        text-align: left;\n",
       "    }\n",
       "\n",
       "    .dataframe tbody tr th {\n",
       "        vertical-align: top;\n",
       "    }\n",
       "</style>\n",
       "<table border=\"1\" class=\"dataframe\">\n",
       "  <thead>\n",
       "    <tr style=\"text-align: right;\">\n",
       "      <th></th>\n",
       "      <th>photo_id</th>\n",
       "      <th>exposure_num</th>\n",
       "      <th>face_num</th>\n",
       "      <th>man_num</th>\n",
       "      <th>woman_num</th>\n",
       "      <th>man_scale</th>\n",
       "      <th>woman_scale</th>\n",
       "      <th>human_scale</th>\n",
       "      <th>man_avg_age</th>\n",
       "      <th>woman_avg_age</th>\n",
       "      <th>human_avg_age</th>\n",
       "      <th>man_avg_attr</th>\n",
       "      <th>woman_avg_attr</th>\n",
       "      <th>human_avg_attr</th>\n",
       "    </tr>\n",
       "  </thead>\n",
       "  <tbody>\n",
       "    <tr>\n",
       "      <th>1</th>\n",
       "      <td>4647664</td>\n",
       "      <td>2</td>\n",
       "      <td>0.0</td>\n",
       "      <td>0.0</td>\n",
       "      <td>0.0</td>\n",
       "      <td>0.0</td>\n",
       "      <td>0.0</td>\n",
       "      <td>0.0</td>\n",
       "      <td>0.0</td>\n",
       "      <td>0.0</td>\n",
       "      <td>0.0</td>\n",
       "      <td>0.0</td>\n",
       "      <td>0.0</td>\n",
       "      <td>0.0</td>\n",
       "    </tr>\n",
       "  </tbody>\n",
       "</table>\n",
       "</div>"
      ],
      "text/plain": [
       "   photo_id  exposure_num  face_num  man_num  woman_num  man_scale  \\\n",
       "1   4647664             2       0.0      0.0        0.0        0.0   \n",
       "\n",
       "   woman_scale  human_scale  man_avg_age  woman_avg_age  human_avg_age  \\\n",
       "1          0.0          0.0          0.0            0.0            0.0   \n",
       "\n",
       "   man_avg_attr  woman_avg_attr  human_avg_attr  \n",
       "1           0.0             0.0             0.0  "
      ]
     },
     "execution_count": 29,
     "metadata": {},
     "output_type": "execute_result"
    }
   ],
   "source": [
    "photo_data[photo_data['photo_id'] == 4647664]"
   ]
  },
  {
   "cell_type": "code",
   "execution_count": 30,
   "metadata": {},
   "outputs": [
    {
     "data": {
      "text/plain": [
       "1942191"
      ]
     },
     "execution_count": 30,
     "metadata": {},
     "output_type": "execute_result"
    }
   ],
   "source": [
    "np.sum(photo_data['face_num']>=1)"
   ]
  },
  {
   "cell_type": "code",
   "execution_count": 31,
   "metadata": {},
   "outputs": [
    {
     "name": "stdout",
     "output_type": "stream",
     "text": [
      "(0, 20)\n"
     ]
    },
    {
     "data": {
      "text/plain": [
       "<matplotlib.axes.AxesSubplot at 0x114dc0110>"
      ]
     },
     "execution_count": 31,
     "metadata": {},
     "output_type": "execute_result"
    },
    {
     "data": {
      "image/png": "[encoded data removed]",
      "text/plain": [
       "<matplotlib.figure.Figure at 0x12a081810>"
      ]
     },
     "metadata": {},
     "output_type": "display_data"
    }
   ],
   "source": [
    "lower, higher = int(photo_data.face_num.min()), int(photo_data.face_num.max())\n",
    "print(lower, higher)\n",
    "n_bins = 20\n",
    "# edges = range(lower, higher+1, (higher-lower)/n_bins)\n",
    "# lbs = ['[%d, %d)'%(edges[i], edges[i+1]) for i in range(len(edges))]\n",
    "# quartiles = pd.cut(photo_data.face_num, bins=n_bins, labels=lbs, include_lowest=True)\n",
    "quartiles = pd.cut(photo_data.face_num, 30)\n",
    "grouped = photo_data.groupby(quartiles)\n",
    "\n",
    "\n",
    "plt.figure(figsize=(30,15)) \n",
    "plt.xlabel('face num')\n",
    "plt.ylabel('count of photos')\n",
    "photos_of_face_num = grouped.size()\n",
    "photos_of_face_num.plot.bar()"
   ]
  },
  {
   "cell_type": "code",
   "execution_count": 32,
   "metadata": {},
   "outputs": [],
   "source": [
    "def plot_data_cut(df, col, n_bins=20):\n",
    "    quartiles = pd.cut(df[col], n_bins)\n",
    "    grouped = df.groupby(quartiles)\n",
    "    \n",
    "    plt.figure(figsize=(30,15)) \n",
    "    plt.xlabel(col)\n",
    "    plt.ylabel('counts in ' + col)\n",
    "    nums_of_col = grouped.size()\n",
    "    nums_of_col.plot.bar()"
   ]
  },
  {
   "cell_type": "code",
   "execution_count": 33,
   "metadata": {},
   "outputs": [
    {
     "data": {
      "image/png": "[encoded data removed]",
      "text/plain": [
       "<matplotlib.figure.Figure at 0x12a072bd0>"
      ]
     },
     "metadata": {},
     "output_type": "display_data"
    }
   ],
   "source": [
    "plot_data_cut(photo_data, 'human_avg_age', 20)"
   ]
  },
  {
   "cell_type": "code",
   "execution_count": 34,
   "metadata": {},
   "outputs": [
    {
     "data": {
      "image/png": "[encoded data removed]",
      "text/plain": [
       "<matplotlib.figure.Figure at 0x115bb2f90>"
      ]
     },
     "metadata": {},
     "output_type": "display_data"
    }
   ],
   "source": [
    "plot_data_cut(photo_data, 'woman_avg_age', 20)"
   ]
  },
  {
   "cell_type": "code",
   "execution_count": 35,
   "metadata": {},
   "outputs": [
    {
     "data": {
      "image/png": "[encoded data removed]",
      "text/plain": [
       "<matplotlib.figure.Figure at 0x115c25c10>"
      ]
     },
     "metadata": {},
     "output_type": "display_data"
    }
   ],
   "source": [
    "plot_data_cut(photo_data, 'man_avg_age', 20)"
   ]
  },
  {
   "cell_type": "code",
   "execution_count": 36,
   "metadata": {},
   "outputs": [
    {
     "data": {
      "image/png": "[encoded data removed]",
      "text/plain": [
       "<matplotlib.figure.Figure at 0x1157c1150>"
      ]
     },
     "metadata": {},
     "output_type": "display_data"
    }
   ],
   "source": [
    "plot_data_cut(photo_data, 'woman_num', 20)"
   ]
  },
  {
   "cell_type": "code",
   "execution_count": 37,
   "metadata": {},
   "outputs": [
    {
     "data": {
      "image/png": "[encoded data removed]",
      "text/plain": [
       "<matplotlib.figure.Figure at 0x115c72f50>"
      ]
     },
     "metadata": {},
     "output_type": "display_data"
    }
   ],
   "source": [
    "plot_data_cut(photo_data, 'man_num', 20)"
   ]
  },
  {
   "cell_type": "code",
   "execution_count": 38,
   "metadata": {},
   "outputs": [
    {
     "data": {
      "image/png": "[encoded data removed]",
      "text/plain": [
       "<matplotlib.figure.Figure at 0x115bea410>"
      ]
     },
     "metadata": {},
     "output_type": "display_data"
    }
   ],
   "source": [
    "plot_data_cut(photo_data, 'woman_avg_attr', 20)"
   ]
  },
  {
   "cell_type": "code",
   "execution_count": 39,
   "metadata": {},
   "outputs": [
    {
     "data": {
      "image/png": "[encoded data removed]",
      "text/plain": [
       "<matplotlib.figure.Figure at 0x1157ad050>"
      ]
     },
     "metadata": {},
     "output_type": "display_data"
    }
   ],
   "source": [
    "plot_data_cut(photo_data, 'man_avg_attr', 20)"
   ]
  },
  {
   "cell_type": "code",
   "execution_count": 40,
   "metadata": {},
   "outputs": [
    {
     "data": {
      "image/png": "[encoded data removed]",
      "text/plain": [
       "<matplotlib.figure.Figure at 0x115890290>"
      ]
     },
     "metadata": {},
     "output_type": "display_data"
    }
   ],
   "source": [
    "plot_data_cut(photo_data, 'human_avg_attr', 20)"
   ]
  },
  {
   "cell_type": "code",
   "execution_count": 41,
   "metadata": {},
   "outputs": [],
   "source": [
    "def face_num_discretization(face_num):\n",
    "    if face_num == 0:\n",
    "        return \"f0\"\n",
    "    elif face_num == 1:\n",
    "        return \"f1\"\n",
    "    elif face_num == 2:\n",
    "        return \"f2\"\n",
    "    elif face_num == 3:\n",
    "        return \"f3\"\n",
    "    else:\n",
    "        return \"ff\"\n",
    "\n",
    "photo_data['face_num_class'] = photo_data['face_num'].apply(face_num_discretization)"
   ]
  },
  {
   "cell_type": "code",
   "execution_count": 42,
   "metadata": {},
   "outputs": [],
   "source": [
    "photo_data['have_face'] = photo_data['face_num'].apply(lambda x: x >= 1)"
   ]
  },
  {
   "cell_type": "code",
   "execution_count": 43,
   "metadata": {},
   "outputs": [
    {
     "data": {
      "text/html": [
       "<div>\n",
       "<style>\n",
       "    .dataframe thead tr:only-child th {\n",
       "        text-align: right;\n",
       "    }\n",
       "\n",
       "    .dataframe thead th {\n",
       "        text-align: left;\n",
       "    }\n",
       "\n",
       "    .dataframe tbody tr th {\n",
       "        vertical-align: top;\n",
       "    }\n",
       "</style>\n",
       "<table border=\"1\" class=\"dataframe\">\n",
       "  <thead>\n",
       "    <tr style=\"text-align: right;\">\n",
       "      <th></th>\n",
       "      <th>photo_id</th>\n",
       "      <th>exposure_num</th>\n",
       "      <th>face_num</th>\n",
       "      <th>man_num</th>\n",
       "      <th>woman_num</th>\n",
       "      <th>man_scale</th>\n",
       "      <th>woman_scale</th>\n",
       "      <th>human_scale</th>\n",
       "      <th>man_avg_age</th>\n",
       "      <th>woman_avg_age</th>\n",
       "      <th>human_avg_age</th>\n",
       "      <th>man_avg_attr</th>\n",
       "      <th>woman_avg_attr</th>\n",
       "      <th>human_avg_attr</th>\n",
       "      <th>face_num_class</th>\n",
       "      <th>have_face</th>\n",
       "    </tr>\n",
       "  </thead>\n",
       "  <tbody>\n",
       "    <tr>\n",
       "      <th>0</th>\n",
       "      <td>6484142</td>\n",
       "      <td>13</td>\n",
       "      <td>0.0</td>\n",
       "      <td>0.0</td>\n",
       "      <td>0.0</td>\n",
       "      <td>0.0000</td>\n",
       "      <td>0.0</td>\n",
       "      <td>0.0000</td>\n",
       "      <td>0.000000</td>\n",
       "      <td>0.0</td>\n",
       "      <td>0.000000</td>\n",
       "      <td>0.000000</td>\n",
       "      <td>0.0</td>\n",
       "      <td>0.000000</td>\n",
       "      <td>f0</td>\n",
       "      <td>False</td>\n",
       "    </tr>\n",
       "    <tr>\n",
       "      <th>1</th>\n",
       "      <td>4647664</td>\n",
       "      <td>2</td>\n",
       "      <td>0.0</td>\n",
       "      <td>0.0</td>\n",
       "      <td>0.0</td>\n",
       "      <td>0.0000</td>\n",
       "      <td>0.0</td>\n",
       "      <td>0.0000</td>\n",
       "      <td>0.000000</td>\n",
       "      <td>0.0</td>\n",
       "      <td>0.000000</td>\n",
       "      <td>0.000000</td>\n",
       "      <td>0.0</td>\n",
       "      <td>0.000000</td>\n",
       "      <td>f0</td>\n",
       "      <td>False</td>\n",
       "    </tr>\n",
       "    <tr>\n",
       "      <th>2</th>\n",
       "      <td>4994626</td>\n",
       "      <td>34</td>\n",
       "      <td>3.0</td>\n",
       "      <td>3.0</td>\n",
       "      <td>0.0</td>\n",
       "      <td>0.3959</td>\n",
       "      <td>0.0</td>\n",
       "      <td>0.3959</td>\n",
       "      <td>26.333333</td>\n",
       "      <td>0.0</td>\n",
       "      <td>26.333333</td>\n",
       "      <td>48.333333</td>\n",
       "      <td>0.0</td>\n",
       "      <td>48.333333</td>\n",
       "      <td>f3</td>\n",
       "      <td>True</td>\n",
       "    </tr>\n",
       "    <tr>\n",
       "      <th>3</th>\n",
       "      <td>4416881</td>\n",
       "      <td>1</td>\n",
       "      <td>0.0</td>\n",
       "      <td>0.0</td>\n",
       "      <td>0.0</td>\n",
       "      <td>0.0000</td>\n",
       "      <td>0.0</td>\n",
       "      <td>0.0000</td>\n",
       "      <td>0.000000</td>\n",
       "      <td>0.0</td>\n",
       "      <td>0.000000</td>\n",
       "      <td>0.000000</td>\n",
       "      <td>0.0</td>\n",
       "      <td>0.000000</td>\n",
       "      <td>f0</td>\n",
       "      <td>False</td>\n",
       "    </tr>\n",
       "    <tr>\n",
       "      <th>4</th>\n",
       "      <td>2597756</td>\n",
       "      <td>2</td>\n",
       "      <td>0.0</td>\n",
       "      <td>0.0</td>\n",
       "      <td>0.0</td>\n",
       "      <td>0.0000</td>\n",
       "      <td>0.0</td>\n",
       "      <td>0.0000</td>\n",
       "      <td>0.000000</td>\n",
       "      <td>0.0</td>\n",
       "      <td>0.000000</td>\n",
       "      <td>0.000000</td>\n",
       "      <td>0.0</td>\n",
       "      <td>0.000000</td>\n",
       "      <td>f0</td>\n",
       "      <td>False</td>\n",
       "    </tr>\n",
       "  </tbody>\n",
       "</table>\n",
       "</div>"
      ],
      "text/plain": [
       "   photo_id  exposure_num  face_num  man_num  woman_num  man_scale  \\\n",
       "0   6484142            13       0.0      0.0        0.0     0.0000   \n",
       "1   4647664             2       0.0      0.0        0.0     0.0000   \n",
       "2   4994626            34       3.0      3.0        0.0     0.3959   \n",
       "3   4416881             1       0.0      0.0        0.0     0.0000   \n",
       "4   2597756             2       0.0      0.0        0.0     0.0000   \n",
       "\n",
       "   woman_scale  human_scale  man_avg_age  woman_avg_age  human_avg_age  \\\n",
       "0          0.0       0.0000     0.000000            0.0       0.000000   \n",
       "1          0.0       0.0000     0.000000            0.0       0.000000   \n",
       "2          0.0       0.3959    26.333333            0.0      26.333333   \n",
       "3          0.0       0.0000     0.000000            0.0       0.000000   \n",
       "4          0.0       0.0000     0.000000            0.0       0.000000   \n",
       "\n",
       "   man_avg_attr  woman_avg_attr  human_avg_attr face_num_class  have_face  \n",
       "0      0.000000             0.0        0.000000             f0      False  \n",
       "1      0.000000             0.0        0.000000             f0      False  \n",
       "2     48.333333             0.0       48.333333             f3       True  \n",
       "3      0.000000             0.0        0.000000             f0      False  \n",
       "4      0.000000             0.0        0.000000             f0      False  "
      ]
     },
     "execution_count": 43,
     "metadata": {},
     "output_type": "execute_result"
    }
   ],
   "source": [
    "photo_data.head()"
   ]
  },
  {
   "cell_type": "code",
   "execution_count": 44,
   "metadata": {},
   "outputs": [],
   "source": [
    "# pd.get_dummies(photo_data)"
   ]
  },
  {
   "cell_type": "code",
   "execution_count": 45,
   "metadata": {},
   "outputs": [],
   "source": [
    "user_item_train = pd.merge(user_item_train, photo_data,\n",
    "                          how='left',\n",
    "                          on=['photo_id'])"
   ]
  },
  {
   "cell_type": "code",
   "execution_count": 46,
   "metadata": {},
   "outputs": [
    {
     "data": {
      "text/html": [
       "<div>\n",
       "<style>\n",
       "    .dataframe thead tr:only-child th {\n",
       "        text-align: right;\n",
       "    }\n",
       "\n",
       "    .dataframe thead th {\n",
       "        text-align: left;\n",
       "    }\n",
       "\n",
       "    .dataframe tbody tr th {\n",
       "        vertical-align: top;\n",
       "    }\n",
       "</style>\n",
       "<table border=\"1\" class=\"dataframe\">\n",
       "  <thead>\n",
       "    <tr style=\"text-align: right;\">\n",
       "      <th></th>\n",
       "      <th>user_id</th>\n",
       "      <th>photo_id</th>\n",
       "      <th>click</th>\n",
       "      <th>like</th>\n",
       "      <th>follow</th>\n",
       "      <th>time</th>\n",
       "      <th>playing_time</th>\n",
       "      <th>duration_time</th>\n",
       "      <th>exposure_num</th>\n",
       "      <th>face_num</th>\n",
       "      <th>...</th>\n",
       "      <th>woman_scale</th>\n",
       "      <th>human_scale</th>\n",
       "      <th>man_avg_age</th>\n",
       "      <th>woman_avg_age</th>\n",
       "      <th>human_avg_age</th>\n",
       "      <th>man_avg_attr</th>\n",
       "      <th>woman_avg_attr</th>\n",
       "      <th>human_avg_attr</th>\n",
       "      <th>face_num_class</th>\n",
       "      <th>have_face</th>\n",
       "    </tr>\n",
       "  </thead>\n",
       "  <tbody>\n",
       "    <tr>\n",
       "      <th>0</th>\n",
       "      <td>1637</td>\n",
       "      <td>6484142</td>\n",
       "      <td>0</td>\n",
       "      <td>0</td>\n",
       "      <td>0</td>\n",
       "      <td>761036604603</td>\n",
       "      <td>0</td>\n",
       "      <td>11</td>\n",
       "      <td>13</td>\n",
       "      <td>0.0</td>\n",
       "      <td>...</td>\n",
       "      <td>0.0</td>\n",
       "      <td>0.0000</td>\n",
       "      <td>0.000000</td>\n",
       "      <td>0.0</td>\n",
       "      <td>0.000000</td>\n",
       "      <td>0.000000</td>\n",
       "      <td>0.0</td>\n",
       "      <td>0.000000</td>\n",
       "      <td>f0</td>\n",
       "      <td>False</td>\n",
       "    </tr>\n",
       "    <tr>\n",
       "      <th>1</th>\n",
       "      <td>1637</td>\n",
       "      <td>4647664</td>\n",
       "      <td>0</td>\n",
       "      <td>0</td>\n",
       "      <td>0</td>\n",
       "      <td>761035501863</td>\n",
       "      <td>0</td>\n",
       "      <td>11</td>\n",
       "      <td>2</td>\n",
       "      <td>0.0</td>\n",
       "      <td>...</td>\n",
       "      <td>0.0</td>\n",
       "      <td>0.0000</td>\n",
       "      <td>0.000000</td>\n",
       "      <td>0.0</td>\n",
       "      <td>0.000000</td>\n",
       "      <td>0.000000</td>\n",
       "      <td>0.0</td>\n",
       "      <td>0.000000</td>\n",
       "      <td>f0</td>\n",
       "      <td>False</td>\n",
       "    </tr>\n",
       "    <tr>\n",
       "      <th>2</th>\n",
       "      <td>1637</td>\n",
       "      <td>4994626</td>\n",
       "      <td>1</td>\n",
       "      <td>0</td>\n",
       "      <td>0</td>\n",
       "      <td>761036933553</td>\n",
       "      <td>11</td>\n",
       "      <td>10</td>\n",
       "      <td>34</td>\n",
       "      <td>3.0</td>\n",
       "      <td>...</td>\n",
       "      <td>0.0</td>\n",
       "      <td>0.3959</td>\n",
       "      <td>26.333333</td>\n",
       "      <td>0.0</td>\n",
       "      <td>26.333333</td>\n",
       "      <td>48.333333</td>\n",
       "      <td>0.0</td>\n",
       "      <td>48.333333</td>\n",
       "      <td>f3</td>\n",
       "      <td>True</td>\n",
       "    </tr>\n",
       "    <tr>\n",
       "      <th>3</th>\n",
       "      <td>1637</td>\n",
       "      <td>4416881</td>\n",
       "      <td>0</td>\n",
       "      <td>0</td>\n",
       "      <td>0</td>\n",
       "      <td>761119247892</td>\n",
       "      <td>0</td>\n",
       "      <td>9</td>\n",
       "      <td>1</td>\n",
       "      <td>0.0</td>\n",
       "      <td>...</td>\n",
       "      <td>0.0</td>\n",
       "      <td>0.0000</td>\n",
       "      <td>0.000000</td>\n",
       "      <td>0.0</td>\n",
       "      <td>0.000000</td>\n",
       "      <td>0.000000</td>\n",
       "      <td>0.0</td>\n",
       "      <td>0.000000</td>\n",
       "      <td>f0</td>\n",
       "      <td>False</td>\n",
       "    </tr>\n",
       "    <tr>\n",
       "      <th>4</th>\n",
       "      <td>1637</td>\n",
       "      <td>2597756</td>\n",
       "      <td>0</td>\n",
       "      <td>0</td>\n",
       "      <td>0</td>\n",
       "      <td>761119421332</td>\n",
       "      <td>0</td>\n",
       "      <td>11</td>\n",
       "      <td>2</td>\n",
       "      <td>0.0</td>\n",
       "      <td>...</td>\n",
       "      <td>0.0</td>\n",
       "      <td>0.0000</td>\n",
       "      <td>0.000000</td>\n",
       "      <td>0.0</td>\n",
       "      <td>0.000000</td>\n",
       "      <td>0.000000</td>\n",
       "      <td>0.0</td>\n",
       "      <td>0.000000</td>\n",
       "      <td>f0</td>\n",
       "      <td>False</td>\n",
       "    </tr>\n",
       "  </tbody>\n",
       "</table>\n",
       "<p>5 rows × 23 columns</p>\n",
       "</div>"
      ],
      "text/plain": [
       "   user_id  photo_id  click  like  follow          time  playing_time  \\\n",
       "0     1637   6484142      0     0       0  761036604603             0   \n",
       "1     1637   4647664      0     0       0  761035501863             0   \n",
       "2     1637   4994626      1     0       0  761036933553            11   \n",
       "3     1637   4416881      0     0       0  761119247892             0   \n",
       "4     1637   2597756      0     0       0  761119421332             0   \n",
       "\n",
       "   duration_time  exposure_num  face_num    ...      woman_scale  human_scale  \\\n",
       "0             11            13       0.0    ...              0.0       0.0000   \n",
       "1             11             2       0.0    ...              0.0       0.0000   \n",
       "2             10            34       3.0    ...              0.0       0.3959   \n",
       "3              9             1       0.0    ...              0.0       0.0000   \n",
       "4             11             2       0.0    ...              0.0       0.0000   \n",
       "\n",
       "   man_avg_age  woman_avg_age  human_avg_age  man_avg_attr  woman_avg_attr  \\\n",
       "0     0.000000            0.0       0.000000      0.000000             0.0   \n",
       "1     0.000000            0.0       0.000000      0.000000             0.0   \n",
       "2    26.333333            0.0      26.333333     48.333333             0.0   \n",
       "3     0.000000            0.0       0.000000      0.000000             0.0   \n",
       "4     0.000000            0.0       0.000000      0.000000             0.0   \n",
       "\n",
       "   human_avg_attr  face_num_class  have_face  \n",
       "0        0.000000              f0      False  \n",
       "1        0.000000              f0      False  \n",
       "2       48.333333              f3       True  \n",
       "3        0.000000              f0      False  \n",
       "4        0.000000              f0      False  \n",
       "\n",
       "[5 rows x 23 columns]"
      ]
     },
     "execution_count": 46,
     "metadata": {},
     "output_type": "execute_result"
    }
   ],
   "source": [
    "user_item_train.head()"
   ]
  },
  {
   "cell_type": "code",
   "execution_count": 47,
   "metadata": {},
   "outputs": [],
   "source": [
    "# user_item_train[(user_item_train['user_id'] == 35273) & (user_item_train['click'] == 1)]"
   ]
  },
  {
   "cell_type": "code",
   "execution_count": 48,
   "metadata": {},
   "outputs": [],
   "source": [
    "# user_item_train['user_id'].groupby(user_item_train['user_id']).transform('count').drop_duplicates()"
   ]
  },
  {
   "cell_type": "code",
   "execution_count": 49,
   "metadata": {},
   "outputs": [],
   "source": [
    "# user_item_train['like'].groupby(user_item_train['user_id']).transform('sum').drop_duplicates()"
   ]
  },
  {
   "cell_type": "code",
   "execution_count": 50,
   "metadata": {},
   "outputs": [],
   "source": [
    "users = pd.DataFrame()\n",
    "users['user_id'] = user_item_train['user_id']\n",
    "\n",
    "users['browse_num'] = user_item_train['user_id'].groupby(user_item_train['user_id']).transform('count')\n",
    "users['click_num'] = user_item_train['click'].groupby(user_item_train['user_id']).transform('sum')\n",
    "users['like_num'] = user_item_train['like'].groupby(user_item_train['user_id']).transform('sum')\n",
    "users['follow_num'] = user_item_train['follow'].groupby(user_item_train['user_id']).transform('sum')\n",
    "users['playing_sum'] = user_item_train['playing_time'].groupby(user_item_train['user_id']).transform('sum')\n",
    "users['duration_sum'] = user_item_train['duration_time'].groupby(user_item_train['user_id']).transform('sum')\n",
    "users['click_ratio'] = user_item_train['click'].groupby(user_item_train['user_id']).transform('mean')\n",
    "users['like_ratio'] = user_item_train['like'].groupby(user_item_train['user_id']).transform('mean')\n",
    "users['follow_ratio'] = user_item_train['follow'].groupby(user_item_train['user_id']).transform('mean')\n",
    "users['playing_ratio'] = (users['playing_sum'] / users['duration_sum'])"
   ]
  },
  {
   "cell_type": "code",
   "execution_count": 51,
   "metadata": {},
   "outputs": [
    {
     "data": {
      "text/html": [
       "<div>\n",
       "<style>\n",
       "    .dataframe thead tr:only-child th {\n",
       "        text-align: right;\n",
       "    }\n",
       "\n",
       "    .dataframe thead th {\n",
       "        text-align: left;\n",
       "    }\n",
       "\n",
       "    .dataframe tbody tr th {\n",
       "        vertical-align: top;\n",
       "    }\n",
       "</style>\n",
       "<table border=\"1\" class=\"dataframe\">\n",
       "  <thead>\n",
       "    <tr style=\"text-align: right;\">\n",
       "      <th></th>\n",
       "      <th>user_id</th>\n",
       "      <th>browse_num</th>\n",
       "      <th>click_num</th>\n",
       "      <th>like_num</th>\n",
       "      <th>follow_num</th>\n",
       "      <th>playing_sum</th>\n",
       "      <th>duration_sum</th>\n",
       "      <th>click_ratio</th>\n",
       "      <th>like_ratio</th>\n",
       "      <th>follow_ratio</th>\n",
       "      <th>playing_ratio</th>\n",
       "    </tr>\n",
       "  </thead>\n",
       "  <tbody>\n",
       "    <tr>\n",
       "      <th>0</th>\n",
       "      <td>1637</td>\n",
       "      <td>1736</td>\n",
       "      <td>365</td>\n",
       "      <td>4</td>\n",
       "      <td>0</td>\n",
       "      <td>4124</td>\n",
       "      <td>27726</td>\n",
       "      <td>0.210253</td>\n",
       "      <td>0.002304</td>\n",
       "      <td>0.0</td>\n",
       "      <td>0.148741</td>\n",
       "    </tr>\n",
       "    <tr>\n",
       "      <th>1</th>\n",
       "      <td>1637</td>\n",
       "      <td>1736</td>\n",
       "      <td>365</td>\n",
       "      <td>4</td>\n",
       "      <td>0</td>\n",
       "      <td>4124</td>\n",
       "      <td>27726</td>\n",
       "      <td>0.210253</td>\n",
       "      <td>0.002304</td>\n",
       "      <td>0.0</td>\n",
       "      <td>0.148741</td>\n",
       "    </tr>\n",
       "    <tr>\n",
       "      <th>2</th>\n",
       "      <td>1637</td>\n",
       "      <td>1736</td>\n",
       "      <td>365</td>\n",
       "      <td>4</td>\n",
       "      <td>0</td>\n",
       "      <td>4124</td>\n",
       "      <td>27726</td>\n",
       "      <td>0.210253</td>\n",
       "      <td>0.002304</td>\n",
       "      <td>0.0</td>\n",
       "      <td>0.148741</td>\n",
       "    </tr>\n",
       "    <tr>\n",
       "      <th>3</th>\n",
       "      <td>1637</td>\n",
       "      <td>1736</td>\n",
       "      <td>365</td>\n",
       "      <td>4</td>\n",
       "      <td>0</td>\n",
       "      <td>4124</td>\n",
       "      <td>27726</td>\n",
       "      <td>0.210253</td>\n",
       "      <td>0.002304</td>\n",
       "      <td>0.0</td>\n",
       "      <td>0.148741</td>\n",
       "    </tr>\n",
       "    <tr>\n",
       "      <th>4</th>\n",
       "      <td>1637</td>\n",
       "      <td>1736</td>\n",
       "      <td>365</td>\n",
       "      <td>4</td>\n",
       "      <td>0</td>\n",
       "      <td>4124</td>\n",
       "      <td>27726</td>\n",
       "      <td>0.210253</td>\n",
       "      <td>0.002304</td>\n",
       "      <td>0.0</td>\n",
       "      <td>0.148741</td>\n",
       "    </tr>\n",
       "  </tbody>\n",
       "</table>\n",
       "</div>"
      ],
      "text/plain": [
       "   user_id  browse_num  click_num  like_num  follow_num  playing_sum  \\\n",
       "0     1637        1736        365         4           0         4124   \n",
       "1     1637        1736        365         4           0         4124   \n",
       "2     1637        1736        365         4           0         4124   \n",
       "3     1637        1736        365         4           0         4124   \n",
       "4     1637        1736        365         4           0         4124   \n",
       "\n",
       "   duration_sum  click_ratio  like_ratio  follow_ratio  playing_ratio  \n",
       "0         27726     0.210253    0.002304           0.0       0.148741  \n",
       "1         27726     0.210253    0.002304           0.0       0.148741  \n",
       "2         27726     0.210253    0.002304           0.0       0.148741  \n",
       "3         27726     0.210253    0.002304           0.0       0.148741  \n",
       "4         27726     0.210253    0.002304           0.0       0.148741  "
      ]
     },
     "execution_count": 51,
     "metadata": {},
     "output_type": "execute_result"
    }
   ],
   "source": [
    "users.head()"
   ]
  },
  {
   "cell_type": "code",
   "execution_count": 52,
   "metadata": {},
   "outputs": [],
   "source": [
    "users.drop_duplicates(inplace=True)"
   ]
  },
  {
   "cell_type": "code",
   "execution_count": 53,
   "metadata": {},
   "outputs": [
    {
     "data": {
      "text/html": [
       "<div>\n",
       "<style>\n",
       "    .dataframe thead tr:only-child th {\n",
       "        text-align: right;\n",
       "    }\n",
       "\n",
       "    .dataframe thead th {\n",
       "        text-align: left;\n",
       "    }\n",
       "\n",
       "    .dataframe tbody tr th {\n",
       "        vertical-align: top;\n",
       "    }\n",
       "</style>\n",
       "<table border=\"1\" class=\"dataframe\">\n",
       "  <thead>\n",
       "    <tr style=\"text-align: right;\">\n",
       "      <th></th>\n",
       "      <th>user_id</th>\n",
       "      <th>browse_num</th>\n",
       "      <th>click_num</th>\n",
       "      <th>like_num</th>\n",
       "      <th>follow_num</th>\n",
       "      <th>playing_sum</th>\n",
       "      <th>duration_sum</th>\n",
       "      <th>click_ratio</th>\n",
       "      <th>like_ratio</th>\n",
       "      <th>follow_ratio</th>\n",
       "      <th>playing_ratio</th>\n",
       "    </tr>\n",
       "  </thead>\n",
       "  <tbody>\n",
       "    <tr>\n",
       "      <th>0</th>\n",
       "      <td>1637</td>\n",
       "      <td>1736</td>\n",
       "      <td>365</td>\n",
       "      <td>4</td>\n",
       "      <td>0</td>\n",
       "      <td>4124</td>\n",
       "      <td>27726</td>\n",
       "      <td>0.210253</td>\n",
       "      <td>0.002304</td>\n",
       "      <td>0.000000</td>\n",
       "      <td>0.148741</td>\n",
       "    </tr>\n",
       "    <tr>\n",
       "      <th>1736</th>\n",
       "      <td>17470</td>\n",
       "      <td>477</td>\n",
       "      <td>82</td>\n",
       "      <td>0</td>\n",
       "      <td>1</td>\n",
       "      <td>1937</td>\n",
       "      <td>8586</td>\n",
       "      <td>0.171908</td>\n",
       "      <td>0.000000</td>\n",
       "      <td>0.002096</td>\n",
       "      <td>0.225600</td>\n",
       "    </tr>\n",
       "    <tr>\n",
       "      <th>2213</th>\n",
       "      <td>14148</td>\n",
       "      <td>852</td>\n",
       "      <td>139</td>\n",
       "      <td>2</td>\n",
       "      <td>1</td>\n",
       "      <td>1120</td>\n",
       "      <td>16928</td>\n",
       "      <td>0.163146</td>\n",
       "      <td>0.002347</td>\n",
       "      <td>0.001174</td>\n",
       "      <td>0.066163</td>\n",
       "    </tr>\n",
       "    <tr>\n",
       "      <th>3065</th>\n",
       "      <td>37431</td>\n",
       "      <td>355</td>\n",
       "      <td>128</td>\n",
       "      <td>4</td>\n",
       "      <td>1</td>\n",
       "      <td>2548</td>\n",
       "      <td>8752</td>\n",
       "      <td>0.360563</td>\n",
       "      <td>0.011268</td>\n",
       "      <td>0.002817</td>\n",
       "      <td>0.291133</td>\n",
       "    </tr>\n",
       "    <tr>\n",
       "      <th>3420</th>\n",
       "      <td>35273</td>\n",
       "      <td>2486</td>\n",
       "      <td>576</td>\n",
       "      <td>0</td>\n",
       "      <td>1</td>\n",
       "      <td>7228</td>\n",
       "      <td>35415</td>\n",
       "      <td>0.231698</td>\n",
       "      <td>0.000000</td>\n",
       "      <td>0.000402</td>\n",
       "      <td>0.204094</td>\n",
       "    </tr>\n",
       "  </tbody>\n",
       "</table>\n",
       "</div>"
      ],
      "text/plain": [
       "      user_id  browse_num  click_num  like_num  follow_num  playing_sum  \\\n",
       "0        1637        1736        365         4           0         4124   \n",
       "1736    17470         477         82         0           1         1937   \n",
       "2213    14148         852        139         2           1         1120   \n",
       "3065    37431         355        128         4           1         2548   \n",
       "3420    35273        2486        576         0           1         7228   \n",
       "\n",
       "      duration_sum  click_ratio  like_ratio  follow_ratio  playing_ratio  \n",
       "0            27726     0.210253    0.002304      0.000000       0.148741  \n",
       "1736          8586     0.171908    0.000000      0.002096       0.225600  \n",
       "2213         16928     0.163146    0.002347      0.001174       0.066163  \n",
       "3065          8752     0.360563    0.011268      0.002817       0.291133  \n",
       "3420         35415     0.231698    0.000000      0.000402       0.204094  "
      ]
     },
     "execution_count": 53,
     "metadata": {},
     "output_type": "execute_result"
    }
   ],
   "source": [
    "users.head()"
   ]
  },
  {
   "cell_type": "code",
   "execution_count": 54,
   "metadata": {},
   "outputs": [],
   "source": [
    "users.reset_index(drop=True, inplace=True)"
   ]
  },
  {
   "cell_type": "code",
   "execution_count": 55,
   "metadata": {},
   "outputs": [
    {
     "data": {
      "text/html": [
       "<div>\n",
       "<style>\n",
       "    .dataframe thead tr:only-child th {\n",
       "        text-align: right;\n",
       "    }\n",
       "\n",
       "    .dataframe thead th {\n",
       "        text-align: left;\n",
       "    }\n",
       "\n",
       "    .dataframe tbody tr th {\n",
       "        vertical-align: top;\n",
       "    }\n",
       "</style>\n",
       "<table border=\"1\" class=\"dataframe\">\n",
       "  <thead>\n",
       "    <tr style=\"text-align: right;\">\n",
       "      <th></th>\n",
       "      <th>user_id</th>\n",
       "      <th>browse_num</th>\n",
       "      <th>click_num</th>\n",
       "      <th>like_num</th>\n",
       "      <th>follow_num</th>\n",
       "      <th>playing_sum</th>\n",
       "      <th>duration_sum</th>\n",
       "      <th>click_ratio</th>\n",
       "      <th>like_ratio</th>\n",
       "      <th>follow_ratio</th>\n",
       "      <th>playing_ratio</th>\n",
       "    </tr>\n",
       "  </thead>\n",
       "  <tbody>\n",
       "    <tr>\n",
       "      <th>0</th>\n",
       "      <td>1637</td>\n",
       "      <td>1736</td>\n",
       "      <td>365</td>\n",
       "      <td>4</td>\n",
       "      <td>0</td>\n",
       "      <td>4124</td>\n",
       "      <td>27726</td>\n",
       "      <td>0.210253</td>\n",
       "      <td>0.002304</td>\n",
       "      <td>0.000000</td>\n",
       "      <td>0.148741</td>\n",
       "    </tr>\n",
       "    <tr>\n",
       "      <th>1</th>\n",
       "      <td>17470</td>\n",
       "      <td>477</td>\n",
       "      <td>82</td>\n",
       "      <td>0</td>\n",
       "      <td>1</td>\n",
       "      <td>1937</td>\n",
       "      <td>8586</td>\n",
       "      <td>0.171908</td>\n",
       "      <td>0.000000</td>\n",
       "      <td>0.002096</td>\n",
       "      <td>0.225600</td>\n",
       "    </tr>\n",
       "    <tr>\n",
       "      <th>2</th>\n",
       "      <td>14148</td>\n",
       "      <td>852</td>\n",
       "      <td>139</td>\n",
       "      <td>2</td>\n",
       "      <td>1</td>\n",
       "      <td>1120</td>\n",
       "      <td>16928</td>\n",
       "      <td>0.163146</td>\n",
       "      <td>0.002347</td>\n",
       "      <td>0.001174</td>\n",
       "      <td>0.066163</td>\n",
       "    </tr>\n",
       "    <tr>\n",
       "      <th>3</th>\n",
       "      <td>37431</td>\n",
       "      <td>355</td>\n",
       "      <td>128</td>\n",
       "      <td>4</td>\n",
       "      <td>1</td>\n",
       "      <td>2548</td>\n",
       "      <td>8752</td>\n",
       "      <td>0.360563</td>\n",
       "      <td>0.011268</td>\n",
       "      <td>0.002817</td>\n",
       "      <td>0.291133</td>\n",
       "    </tr>\n",
       "    <tr>\n",
       "      <th>4</th>\n",
       "      <td>35273</td>\n",
       "      <td>2486</td>\n",
       "      <td>576</td>\n",
       "      <td>0</td>\n",
       "      <td>1</td>\n",
       "      <td>7228</td>\n",
       "      <td>35415</td>\n",
       "      <td>0.231698</td>\n",
       "      <td>0.000000</td>\n",
       "      <td>0.000402</td>\n",
       "      <td>0.204094</td>\n",
       "    </tr>\n",
       "  </tbody>\n",
       "</table>\n",
       "</div>"
      ],
      "text/plain": [
       "   user_id  browse_num  click_num  like_num  follow_num  playing_sum  \\\n",
       "0     1637        1736        365         4           0         4124   \n",
       "1    17470         477         82         0           1         1937   \n",
       "2    14148         852        139         2           1         1120   \n",
       "3    37431         355        128         4           1         2548   \n",
       "4    35273        2486        576         0           1         7228   \n",
       "\n",
       "   duration_sum  click_ratio  like_ratio  follow_ratio  playing_ratio  \n",
       "0         27726     0.210253    0.002304      0.000000       0.148741  \n",
       "1          8586     0.171908    0.000000      0.002096       0.225600  \n",
       "2         16928     0.163146    0.002347      0.001174       0.066163  \n",
       "3          8752     0.360563    0.011268      0.002817       0.291133  \n",
       "4         35415     0.231698    0.000000      0.000402       0.204094  "
      ]
     },
     "execution_count": 55,
     "metadata": {},
     "output_type": "execute_result"
    }
   ],
   "source": [
    "users.head()"
   ]
  },
  {
   "cell_type": "code",
   "execution_count": 56,
   "metadata": {},
   "outputs": [],
   "source": [
    "# 用户点击视频中对人脸和颜值以及年龄的偏好，以后考虑离散化\n",
    "users['face_favor'] = user_item_train.loc[user_item_train['click']==1, ['user_id', 'face_num']].groupby(user_item_train['user_id']).transform('mean').drop_duplicates(['user_id'])['face_num'].values\n",
    "users['man_favor'] = user_item_train.loc[user_item_train['click']==1, ['user_id', 'man_num']].groupby(user_item_train['user_id']).transform('mean').drop_duplicates(['user_id'])['man_num'].values\n",
    "users['woman_favor'] = user_item_train.loc[user_item_train['click']==1, ['user_id', 'woman_num']].groupby(user_item_train['user_id']).transform('mean').drop_duplicates(['user_id'])['woman_num'].values\n",
    "users['man_cv_favor'] = user_item_train.loc[user_item_train['click']==1, ['user_id', 'man_scale']].groupby(user_item_train['user_id']).transform('mean').drop_duplicates(['user_id'])['man_scale'].values\n",
    "users['woman_cv_favor'] = user_item_train.loc[user_item_train['click']==1, ['user_id', 'woman_scale']].groupby(user_item_train['user_id']).transform('mean').drop_duplicates(['user_id'])['woman_scale'].values\n",
    "users['man_age_favor'] = user_item_train.loc[user_item_train['click']==1, ['user_id', 'man_avg_age']].groupby(user_item_train['user_id']).transform('mean').drop_duplicates(['user_id'])['man_avg_age'].values\n",
    "users['woman_age_favor'] = user_item_train.loc[user_item_train['click']==1, ['user_id', 'woman_avg_age']].groupby(user_item_train['user_id']).transform('mean').drop_duplicates(['user_id'])['woman_avg_age'].values\n",
    "users['man_yen_value_favor'] = user_item_train.loc[user_item_train['click']==1, ['user_id', 'man_avg_attr']].groupby(user_item_train['user_id']).transform('mean').drop_duplicates(['user_id'])['man_avg_attr'].values\n",
    "users['woman_yen_value_favor'] = user_item_train.loc[user_item_train['click']==1, ['user_id', 'woman_avg_attr']].groupby(user_item_train['user_id']).transform('mean').drop_duplicates(['user_id'])['woman_avg_attr'].values\n"
   ]
  },
  {
   "cell_type": "code",
   "execution_count": 57,
   "metadata": {},
   "outputs": [
    {
     "name": "stdout",
     "output_type": "stream",
     "text": [
      "<class 'pandas.core.frame.DataFrame'>\n",
      "RangeIndex: 15140 entries, 0 to 15139\n",
      "Data columns (total 20 columns):\n",
      "user_id                  15140 non-null int64\n",
      "browse_num               15140 non-null int64\n",
      "click_num                15140 non-null int64\n",
      "like_num                 15140 non-null int64\n",
      "follow_num               15140 non-null int64\n",
      "playing_sum              15140 non-null int64\n",
      "duration_sum             15140 non-null int64\n",
      "click_ratio              15140 non-null float64\n",
      "like_ratio               15140 non-null float64\n",
      "follow_ratio             15140 non-null float64\n",
      "playing_ratio            15140 non-null float64\n",
      "face_favor               15140 non-null float64\n",
      "man_favor                15140 non-null float64\n",
      "woman_favor              15140 non-null float64\n",
      "man_cv_favor             15140 non-null float64\n",
      "woman_cv_favor           15140 non-null float64\n",
      "man_age_favor            15140 non-null float64\n",
      "woman_age_favor          15140 non-null float64\n",
      "man_yen_value_favor      15140 non-null float64\n",
      "woman_yen_value_favor    15140 non-null float64\n",
      "dtypes: float64(13), int64(7)\n",
      "memory usage: 2.3 MB\n"
     ]
    }
   ],
   "source": [
    "users.info()"
   ]
  },
  {
   "cell_type": "code",
   "execution_count": 58,
   "metadata": {},
   "outputs": [
    {
     "data": {
      "text/html": [
       "<div>\n",
       "<style>\n",
       "    .dataframe thead tr:only-child th {\n",
       "        text-align: right;\n",
       "    }\n",
       "\n",
       "    .dataframe thead th {\n",
       "        text-align: left;\n",
       "    }\n",
       "\n",
       "    .dataframe tbody tr th {\n",
       "        vertical-align: top;\n",
       "    }\n",
       "</style>\n",
       "<table border=\"1\" class=\"dataframe\">\n",
       "  <thead>\n",
       "    <tr style=\"text-align: right;\">\n",
       "      <th></th>\n",
       "      <th>user_id</th>\n",
       "      <th>browse_num</th>\n",
       "      <th>click_num</th>\n",
       "      <th>like_num</th>\n",
       "      <th>follow_num</th>\n",
       "      <th>playing_sum</th>\n",
       "      <th>duration_sum</th>\n",
       "      <th>click_ratio</th>\n",
       "      <th>like_ratio</th>\n",
       "      <th>follow_ratio</th>\n",
       "      <th>playing_ratio</th>\n",
       "      <th>face_favor</th>\n",
       "      <th>man_favor</th>\n",
       "      <th>woman_favor</th>\n",
       "      <th>man_cv_favor</th>\n",
       "      <th>woman_cv_favor</th>\n",
       "      <th>man_age_favor</th>\n",
       "      <th>woman_age_favor</th>\n",
       "      <th>man_yen_value_favor</th>\n",
       "      <th>woman_yen_value_favor</th>\n",
       "    </tr>\n",
       "  </thead>\n",
       "  <tbody>\n",
       "    <tr>\n",
       "      <th>0</th>\n",
       "      <td>1637</td>\n",
       "      <td>1736</td>\n",
       "      <td>365</td>\n",
       "      <td>4</td>\n",
       "      <td>0</td>\n",
       "      <td>4124</td>\n",
       "      <td>27726</td>\n",
       "      <td>0.210253</td>\n",
       "      <td>0.002304</td>\n",
       "      <td>0.000000</td>\n",
       "      <td>0.148741</td>\n",
       "      <td>0.997260</td>\n",
       "      <td>0.391781</td>\n",
       "      <td>0.605479</td>\n",
       "      <td>0.014004</td>\n",
       "      <td>0.028724</td>\n",
       "      <td>7.516667</td>\n",
       "      <td>11.586758</td>\n",
       "      <td>15.523516</td>\n",
       "      <td>27.644749</td>\n",
       "    </tr>\n",
       "    <tr>\n",
       "      <th>1</th>\n",
       "      <td>17470</td>\n",
       "      <td>477</td>\n",
       "      <td>82</td>\n",
       "      <td>0</td>\n",
       "      <td>1</td>\n",
       "      <td>1937</td>\n",
       "      <td>8586</td>\n",
       "      <td>0.171908</td>\n",
       "      <td>0.000000</td>\n",
       "      <td>0.002096</td>\n",
       "      <td>0.225600</td>\n",
       "      <td>0.426829</td>\n",
       "      <td>0.268293</td>\n",
       "      <td>0.158537</td>\n",
       "      <td>0.006262</td>\n",
       "      <td>0.014798</td>\n",
       "      <td>5.912602</td>\n",
       "      <td>3.987805</td>\n",
       "      <td>10.439024</td>\n",
       "      <td>10.829268</td>\n",
       "    </tr>\n",
       "    <tr>\n",
       "      <th>2</th>\n",
       "      <td>14148</td>\n",
       "      <td>852</td>\n",
       "      <td>139</td>\n",
       "      <td>2</td>\n",
       "      <td>1</td>\n",
       "      <td>1120</td>\n",
       "      <td>16928</td>\n",
       "      <td>0.163146</td>\n",
       "      <td>0.002347</td>\n",
       "      <td>0.001174</td>\n",
       "      <td>0.066163</td>\n",
       "      <td>0.726619</td>\n",
       "      <td>0.201439</td>\n",
       "      <td>0.525180</td>\n",
       "      <td>0.008571</td>\n",
       "      <td>0.051771</td>\n",
       "      <td>4.125899</td>\n",
       "      <td>10.139688</td>\n",
       "      <td>7.700000</td>\n",
       "      <td>25.859712</td>\n",
       "    </tr>\n",
       "    <tr>\n",
       "      <th>3</th>\n",
       "      <td>37431</td>\n",
       "      <td>355</td>\n",
       "      <td>128</td>\n",
       "      <td>4</td>\n",
       "      <td>1</td>\n",
       "      <td>2548</td>\n",
       "      <td>8752</td>\n",
       "      <td>0.360563</td>\n",
       "      <td>0.011268</td>\n",
       "      <td>0.002817</td>\n",
       "      <td>0.291133</td>\n",
       "      <td>0.484375</td>\n",
       "      <td>0.226562</td>\n",
       "      <td>0.257812</td>\n",
       "      <td>0.012066</td>\n",
       "      <td>0.018660</td>\n",
       "      <td>4.979167</td>\n",
       "      <td>5.050781</td>\n",
       "      <td>8.635417</td>\n",
       "      <td>14.738281</td>\n",
       "    </tr>\n",
       "    <tr>\n",
       "      <th>4</th>\n",
       "      <td>35273</td>\n",
       "      <td>2486</td>\n",
       "      <td>576</td>\n",
       "      <td>0</td>\n",
       "      <td>1</td>\n",
       "      <td>7228</td>\n",
       "      <td>35415</td>\n",
       "      <td>0.231698</td>\n",
       "      <td>0.000000</td>\n",
       "      <td>0.000402</td>\n",
       "      <td>0.204094</td>\n",
       "      <td>0.359375</td>\n",
       "      <td>0.194444</td>\n",
       "      <td>0.164931</td>\n",
       "      <td>0.007851</td>\n",
       "      <td>0.011083</td>\n",
       "      <td>4.123264</td>\n",
       "      <td>3.647569</td>\n",
       "      <td>7.314959</td>\n",
       "      <td>9.075087</td>\n",
       "    </tr>\n",
       "  </tbody>\n",
       "</table>\n",
       "</div>"
      ],
      "text/plain": [
       "   user_id  browse_num  click_num  like_num  follow_num  playing_sum  \\\n",
       "0     1637        1736        365         4           0         4124   \n",
       "1    17470         477         82         0           1         1937   \n",
       "2    14148         852        139         2           1         1120   \n",
       "3    37431         355        128         4           1         2548   \n",
       "4    35273        2486        576         0           1         7228   \n",
       "\n",
       "   duration_sum  click_ratio  like_ratio  follow_ratio  playing_ratio  \\\n",
       "0         27726     0.210253    0.002304      0.000000       0.148741   \n",
       "1          8586     0.171908    0.000000      0.002096       0.225600   \n",
       "2         16928     0.163146    0.002347      0.001174       0.066163   \n",
       "3          8752     0.360563    0.011268      0.002817       0.291133   \n",
       "4         35415     0.231698    0.000000      0.000402       0.204094   \n",
       "\n",
       "   face_favor  man_favor  woman_favor  man_cv_favor  woman_cv_favor  \\\n",
       "0    0.997260   0.391781     0.605479      0.014004        0.028724   \n",
       "1    0.426829   0.268293     0.158537      0.006262        0.014798   \n",
       "2    0.726619   0.201439     0.525180      0.008571        0.051771   \n",
       "3    0.484375   0.226562     0.257812      0.012066        0.018660   \n",
       "4    0.359375   0.194444     0.164931      0.007851        0.011083   \n",
       "\n",
       "   man_age_favor  woman_age_favor  man_yen_value_favor  woman_yen_value_favor  \n",
       "0       7.516667        11.586758            15.523516              27.644749  \n",
       "1       5.912602         3.987805            10.439024              10.829268  \n",
       "2       4.125899        10.139688             7.700000              25.859712  \n",
       "3       4.979167         5.050781             8.635417              14.738281  \n",
       "4       4.123264         3.647569             7.314959               9.075087  "
      ]
     },
     "execution_count": 58,
     "metadata": {},
     "output_type": "execute_result"
    }
   ],
   "source": [
    "users.head()"
   ]
  },
  {
   "cell_type": "code",
   "execution_count": 59,
   "metadata": {},
   "outputs": [],
   "source": [
    "import numpy as np\n",
    "import scipy as sp\n",
    "from scipy import sparse as ssp\n",
    "from scipy.stats import spearmanr\n",
    "import pandas as pd\n",
    "from sklearn.linear_model import LogisticRegression\n",
    "from sklearn.model_selection import StratifiedKFold\n",
    "from sklearn.metrics import roc_auc_score\n",
    "from sklearn.preprocessing import OneHotEncoder,MinMaxScaler"
   ]
  },
  {
   "cell_type": "code",
   "execution_count": 60,
   "metadata": {},
   "outputs": [],
   "source": [
    "user_item_train = pd.merge(user_item_train, users,\n",
    "                          how='inner',\n",
    "                          on=['user_id'])\n"
   ]
  },
  {
   "cell_type": "code",
   "execution_count": 61,
   "metadata": {},
   "outputs": [
    {
     "data": {
      "text/html": [
       "<div>\n",
       "<style>\n",
       "    .dataframe thead tr:only-child th {\n",
       "        text-align: right;\n",
       "    }\n",
       "\n",
       "    .dataframe thead th {\n",
       "        text-align: left;\n",
       "    }\n",
       "\n",
       "    .dataframe tbody tr th {\n",
       "        vertical-align: top;\n",
       "    }\n",
       "</style>\n",
       "<table border=\"1\" class=\"dataframe\">\n",
       "  <thead>\n",
       "    <tr style=\"text-align: right;\">\n",
       "      <th></th>\n",
       "      <th>user_id</th>\n",
       "      <th>photo_id</th>\n",
       "      <th>click</th>\n",
       "      <th>like</th>\n",
       "      <th>follow</th>\n",
       "      <th>time</th>\n",
       "      <th>playing_time</th>\n",
       "      <th>duration_time</th>\n",
       "      <th>exposure_num</th>\n",
       "      <th>face_num</th>\n",
       "      <th>...</th>\n",
       "      <th>playing_ratio</th>\n",
       "      <th>face_favor</th>\n",
       "      <th>man_favor</th>\n",
       "      <th>woman_favor</th>\n",
       "      <th>man_cv_favor</th>\n",
       "      <th>woman_cv_favor</th>\n",
       "      <th>man_age_favor</th>\n",
       "      <th>woman_age_favor</th>\n",
       "      <th>man_yen_value_favor</th>\n",
       "      <th>woman_yen_value_favor</th>\n",
       "    </tr>\n",
       "  </thead>\n",
       "  <tbody>\n",
       "    <tr>\n",
       "      <th>0</th>\n",
       "      <td>1637</td>\n",
       "      <td>6484142</td>\n",
       "      <td>0</td>\n",
       "      <td>0</td>\n",
       "      <td>0</td>\n",
       "      <td>761036604603</td>\n",
       "      <td>0</td>\n",
       "      <td>11</td>\n",
       "      <td>13</td>\n",
       "      <td>0.0</td>\n",
       "      <td>...</td>\n",
       "      <td>0.148741</td>\n",
       "      <td>0.99726</td>\n",
       "      <td>0.391781</td>\n",
       "      <td>0.605479</td>\n",
       "      <td>0.014004</td>\n",
       "      <td>0.028724</td>\n",
       "      <td>7.516667</td>\n",
       "      <td>11.586758</td>\n",
       "      <td>15.523516</td>\n",
       "      <td>27.644749</td>\n",
       "    </tr>\n",
       "    <tr>\n",
       "      <th>1</th>\n",
       "      <td>1637</td>\n",
       "      <td>4647664</td>\n",
       "      <td>0</td>\n",
       "      <td>0</td>\n",
       "      <td>0</td>\n",
       "      <td>761035501863</td>\n",
       "      <td>0</td>\n",
       "      <td>11</td>\n",
       "      <td>2</td>\n",
       "      <td>0.0</td>\n",
       "      <td>...</td>\n",
       "      <td>0.148741</td>\n",
       "      <td>0.99726</td>\n",
       "      <td>0.391781</td>\n",
       "      <td>0.605479</td>\n",
       "      <td>0.014004</td>\n",
       "      <td>0.028724</td>\n",
       "      <td>7.516667</td>\n",
       "      <td>11.586758</td>\n",
       "      <td>15.523516</td>\n",
       "      <td>27.644749</td>\n",
       "    </tr>\n",
       "    <tr>\n",
       "      <th>2</th>\n",
       "      <td>1637</td>\n",
       "      <td>4994626</td>\n",
       "      <td>1</td>\n",
       "      <td>0</td>\n",
       "      <td>0</td>\n",
       "      <td>761036933553</td>\n",
       "      <td>11</td>\n",
       "      <td>10</td>\n",
       "      <td>34</td>\n",
       "      <td>3.0</td>\n",
       "      <td>...</td>\n",
       "      <td>0.148741</td>\n",
       "      <td>0.99726</td>\n",
       "      <td>0.391781</td>\n",
       "      <td>0.605479</td>\n",
       "      <td>0.014004</td>\n",
       "      <td>0.028724</td>\n",
       "      <td>7.516667</td>\n",
       "      <td>11.586758</td>\n",
       "      <td>15.523516</td>\n",
       "      <td>27.644749</td>\n",
       "    </tr>\n",
       "    <tr>\n",
       "      <th>3</th>\n",
       "      <td>1637</td>\n",
       "      <td>4416881</td>\n",
       "      <td>0</td>\n",
       "      <td>0</td>\n",
       "      <td>0</td>\n",
       "      <td>761119247892</td>\n",
       "      <td>0</td>\n",
       "      <td>9</td>\n",
       "      <td>1</td>\n",
       "      <td>0.0</td>\n",
       "      <td>...</td>\n",
       "      <td>0.148741</td>\n",
       "      <td>0.99726</td>\n",
       "      <td>0.391781</td>\n",
       "      <td>0.605479</td>\n",
       "      <td>0.014004</td>\n",
       "      <td>0.028724</td>\n",
       "      <td>7.516667</td>\n",
       "      <td>11.586758</td>\n",
       "      <td>15.523516</td>\n",
       "      <td>27.644749</td>\n",
       "    </tr>\n",
       "    <tr>\n",
       "      <th>4</th>\n",
       "      <td>1637</td>\n",
       "      <td>2597756</td>\n",
       "      <td>0</td>\n",
       "      <td>0</td>\n",
       "      <td>0</td>\n",
       "      <td>761119421332</td>\n",
       "      <td>0</td>\n",
       "      <td>11</td>\n",
       "      <td>2</td>\n",
       "      <td>0.0</td>\n",
       "      <td>...</td>\n",
       "      <td>0.148741</td>\n",
       "      <td>0.99726</td>\n",
       "      <td>0.391781</td>\n",
       "      <td>0.605479</td>\n",
       "      <td>0.014004</td>\n",
       "      <td>0.028724</td>\n",
       "      <td>7.516667</td>\n",
       "      <td>11.586758</td>\n",
       "      <td>15.523516</td>\n",
       "      <td>27.644749</td>\n",
       "    </tr>\n",
       "  </tbody>\n",
       "</table>\n",
       "<p>5 rows × 42 columns</p>\n",
       "</div>"
      ],
      "text/plain": [
       "   user_id  photo_id  click  like  follow          time  playing_time  \\\n",
       "0     1637   6484142      0     0       0  761036604603             0   \n",
       "1     1637   4647664      0     0       0  761035501863             0   \n",
       "2     1637   4994626      1     0       0  761036933553            11   \n",
       "3     1637   4416881      0     0       0  761119247892             0   \n",
       "4     1637   2597756      0     0       0  761119421332             0   \n",
       "\n",
       "   duration_time  exposure_num  face_num          ...            \\\n",
       "0             11            13       0.0          ...             \n",
       "1             11             2       0.0          ...             \n",
       "2             10            34       3.0          ...             \n",
       "3              9             1       0.0          ...             \n",
       "4             11             2       0.0          ...             \n",
       "\n",
       "   playing_ratio  face_favor  man_favor  woman_favor  man_cv_favor  \\\n",
       "0       0.148741     0.99726   0.391781     0.605479      0.014004   \n",
       "1       0.148741     0.99726   0.391781     0.605479      0.014004   \n",
       "2       0.148741     0.99726   0.391781     0.605479      0.014004   \n",
       "3       0.148741     0.99726   0.391781     0.605479      0.014004   \n",
       "4       0.148741     0.99726   0.391781     0.605479      0.014004   \n",
       "\n",
       "   woman_cv_favor  man_age_favor  woman_age_favor  man_yen_value_favor  \\\n",
       "0        0.028724       7.516667        11.586758            15.523516   \n",
       "1        0.028724       7.516667        11.586758            15.523516   \n",
       "2        0.028724       7.516667        11.586758            15.523516   \n",
       "3        0.028724       7.516667        11.586758            15.523516   \n",
       "4        0.028724       7.516667        11.586758            15.523516   \n",
       "\n",
       "   woman_yen_value_favor  \n",
       "0              27.644749  \n",
       "1              27.644749  \n",
       "2              27.644749  \n",
       "3              27.644749  \n",
       "4              27.644749  \n",
       "\n",
       "[5 rows x 42 columns]"
      ]
     },
     "execution_count": 61,
     "metadata": {},
     "output_type": "execute_result"
    }
   ],
   "source": [
    "user_item_train.head()"
   ]
  },
  {
   "cell_type": "code",
   "execution_count": 62,
   "metadata": {},
   "outputs": [],
   "source": [
    "user_item_train.fillna(0, inplace=True)"
   ]
  },
  {
   "cell_type": "code",
   "execution_count": 63,
   "metadata": {},
   "outputs": [
    {
     "data": {
      "text/html": [
       "<div>\n",
       "<style>\n",
       "    .dataframe thead tr:only-child th {\n",
       "        text-align: right;\n",
       "    }\n",
       "\n",
       "    .dataframe thead th {\n",
       "        text-align: left;\n",
       "    }\n",
       "\n",
       "    .dataframe tbody tr th {\n",
       "        vertical-align: top;\n",
       "    }\n",
       "</style>\n",
       "<table border=\"1\" class=\"dataframe\">\n",
       "  <thead>\n",
       "    <tr style=\"text-align: right;\">\n",
       "      <th></th>\n",
       "      <th>user_id</th>\n",
       "      <th>photo_id</th>\n",
       "      <th>click</th>\n",
       "      <th>like</th>\n",
       "      <th>follow</th>\n",
       "      <th>time</th>\n",
       "      <th>playing_time</th>\n",
       "      <th>duration_time</th>\n",
       "      <th>exposure_num</th>\n",
       "      <th>face_num</th>\n",
       "      <th>...</th>\n",
       "      <th>playing_ratio</th>\n",
       "      <th>face_favor</th>\n",
       "      <th>man_favor</th>\n",
       "      <th>woman_favor</th>\n",
       "      <th>man_cv_favor</th>\n",
       "      <th>woman_cv_favor</th>\n",
       "      <th>man_age_favor</th>\n",
       "      <th>woman_age_favor</th>\n",
       "      <th>man_yen_value_favor</th>\n",
       "      <th>woman_yen_value_favor</th>\n",
       "    </tr>\n",
       "  </thead>\n",
       "  <tbody>\n",
       "    <tr>\n",
       "      <th>0</th>\n",
       "      <td>1637</td>\n",
       "      <td>6484142</td>\n",
       "      <td>0</td>\n",
       "      <td>0</td>\n",
       "      <td>0</td>\n",
       "      <td>761036604603</td>\n",
       "      <td>0</td>\n",
       "      <td>11</td>\n",
       "      <td>13</td>\n",
       "      <td>0.0</td>\n",
       "      <td>...</td>\n",
       "      <td>0.148741</td>\n",
       "      <td>0.99726</td>\n",
       "      <td>0.391781</td>\n",
       "      <td>0.605479</td>\n",
       "      <td>0.014004</td>\n",
       "      <td>0.028724</td>\n",
       "      <td>7.516667</td>\n",
       "      <td>11.586758</td>\n",
       "      <td>15.523516</td>\n",
       "      <td>27.644749</td>\n",
       "    </tr>\n",
       "    <tr>\n",
       "      <th>1</th>\n",
       "      <td>1637</td>\n",
       "      <td>4647664</td>\n",
       "      <td>0</td>\n",
       "      <td>0</td>\n",
       "      <td>0</td>\n",
       "      <td>761035501863</td>\n",
       "      <td>0</td>\n",
       "      <td>11</td>\n",
       "      <td>2</td>\n",
       "      <td>0.0</td>\n",
       "      <td>...</td>\n",
       "      <td>0.148741</td>\n",
       "      <td>0.99726</td>\n",
       "      <td>0.391781</td>\n",
       "      <td>0.605479</td>\n",
       "      <td>0.014004</td>\n",
       "      <td>0.028724</td>\n",
       "      <td>7.516667</td>\n",
       "      <td>11.586758</td>\n",
       "      <td>15.523516</td>\n",
       "      <td>27.644749</td>\n",
       "    </tr>\n",
       "    <tr>\n",
       "      <th>2</th>\n",
       "      <td>1637</td>\n",
       "      <td>4994626</td>\n",
       "      <td>1</td>\n",
       "      <td>0</td>\n",
       "      <td>0</td>\n",
       "      <td>761036933553</td>\n",
       "      <td>11</td>\n",
       "      <td>10</td>\n",
       "      <td>34</td>\n",
       "      <td>3.0</td>\n",
       "      <td>...</td>\n",
       "      <td>0.148741</td>\n",
       "      <td>0.99726</td>\n",
       "      <td>0.391781</td>\n",
       "      <td>0.605479</td>\n",
       "      <td>0.014004</td>\n",
       "      <td>0.028724</td>\n",
       "      <td>7.516667</td>\n",
       "      <td>11.586758</td>\n",
       "      <td>15.523516</td>\n",
       "      <td>27.644749</td>\n",
       "    </tr>\n",
       "    <tr>\n",
       "      <th>3</th>\n",
       "      <td>1637</td>\n",
       "      <td>4416881</td>\n",
       "      <td>0</td>\n",
       "      <td>0</td>\n",
       "      <td>0</td>\n",
       "      <td>761119247892</td>\n",
       "      <td>0</td>\n",
       "      <td>9</td>\n",
       "      <td>1</td>\n",
       "      <td>0.0</td>\n",
       "      <td>...</td>\n",
       "      <td>0.148741</td>\n",
       "      <td>0.99726</td>\n",
       "      <td>0.391781</td>\n",
       "      <td>0.605479</td>\n",
       "      <td>0.014004</td>\n",
       "      <td>0.028724</td>\n",
       "      <td>7.516667</td>\n",
       "      <td>11.586758</td>\n",
       "      <td>15.523516</td>\n",
       "      <td>27.644749</td>\n",
       "    </tr>\n",
       "    <tr>\n",
       "      <th>4</th>\n",
       "      <td>1637</td>\n",
       "      <td>2597756</td>\n",
       "      <td>0</td>\n",
       "      <td>0</td>\n",
       "      <td>0</td>\n",
       "      <td>761119421332</td>\n",
       "      <td>0</td>\n",
       "      <td>11</td>\n",
       "      <td>2</td>\n",
       "      <td>0.0</td>\n",
       "      <td>...</td>\n",
       "      <td>0.148741</td>\n",
       "      <td>0.99726</td>\n",
       "      <td>0.391781</td>\n",
       "      <td>0.605479</td>\n",
       "      <td>0.014004</td>\n",
       "      <td>0.028724</td>\n",
       "      <td>7.516667</td>\n",
       "      <td>11.586758</td>\n",
       "      <td>15.523516</td>\n",
       "      <td>27.644749</td>\n",
       "    </tr>\n",
       "  </tbody>\n",
       "</table>\n",
       "<p>5 rows × 42 columns</p>\n",
       "</div>"
      ],
      "text/plain": [
       "   user_id  photo_id  click  like  follow          time  playing_time  \\\n",
       "0     1637   6484142      0     0       0  761036604603             0   \n",
       "1     1637   4647664      0     0       0  761035501863             0   \n",
       "2     1637   4994626      1     0       0  761036933553            11   \n",
       "3     1637   4416881      0     0       0  761119247892             0   \n",
       "4     1637   2597756      0     0       0  761119421332             0   \n",
       "\n",
       "   duration_time  exposure_num  face_num          ...            \\\n",
       "0             11            13       0.0          ...             \n",
       "1             11             2       0.0          ...             \n",
       "2             10            34       3.0          ...             \n",
       "3              9             1       0.0          ...             \n",
       "4             11             2       0.0          ...             \n",
       "\n",
       "   playing_ratio  face_favor  man_favor  woman_favor  man_cv_favor  \\\n",
       "0       0.148741     0.99726   0.391781     0.605479      0.014004   \n",
       "1       0.148741     0.99726   0.391781     0.605479      0.014004   \n",
       "2       0.148741     0.99726   0.391781     0.605479      0.014004   \n",
       "3       0.148741     0.99726   0.391781     0.605479      0.014004   \n",
       "4       0.148741     0.99726   0.391781     0.605479      0.014004   \n",
       "\n",
       "   woman_cv_favor  man_age_favor  woman_age_favor  man_yen_value_favor  \\\n",
       "0        0.028724       7.516667        11.586758            15.523516   \n",
       "1        0.028724       7.516667        11.586758            15.523516   \n",
       "2        0.028724       7.516667        11.586758            15.523516   \n",
       "3        0.028724       7.516667        11.586758            15.523516   \n",
       "4        0.028724       7.516667        11.586758            15.523516   \n",
       "\n",
       "   woman_yen_value_favor  \n",
       "0              27.644749  \n",
       "1              27.644749  \n",
       "2              27.644749  \n",
       "3              27.644749  \n",
       "4              27.644749  \n",
       "\n",
       "[5 rows x 42 columns]"
      ]
     },
     "execution_count": 63,
     "metadata": {},
     "output_type": "execute_result"
    }
   ],
   "source": [
    "user_item_train.head()"
   ]
  },
  {
   "cell_type": "code",
   "execution_count": 64,
   "metadata": {},
   "outputs": [
    {
     "data": {
      "text/plain": [
       "Index([u'user_id', u'photo_id', u'click', u'like', u'follow', u'time',\n",
       "       u'playing_time', u'duration_time', u'exposure_num', u'face_num',\n",
       "       u'man_num', u'woman_num', u'man_scale', u'woman_scale', u'human_scale',\n",
       "       u'man_avg_age', u'woman_avg_age', u'human_avg_age', u'man_avg_attr',\n",
       "       u'woman_avg_attr', u'human_avg_attr', u'face_num_class', u'have_face',\n",
       "       u'browse_num', u'click_num', u'like_num', u'follow_num', u'playing_sum',\n",
       "       u'duration_sum', u'click_ratio', u'like_ratio', u'follow_ratio',\n",
       "       u'playing_ratio', u'face_favor', u'man_favor', u'woman_favor',\n",
       "       u'man_cv_favor', u'woman_cv_favor', u'man_age_favor',\n",
       "       u'woman_age_favor', u'man_yen_value_favor', u'woman_yen_value_favor'],\n",
       "      dtype='object')"
      ]
     },
     "execution_count": 64,
     "metadata": {},
     "output_type": "execute_result"
    }
   ],
   "source": [
    "user_item_train.columns"
   ]
  },
  {
   "cell_type": "code",
   "execution_count": 65,
   "metadata": {},
   "outputs": [],
   "source": [
    "#?? 非常奇葩。。。无法直接要用xx['face_num'] 这个Series 作为一列给DataFrame当一列，赋值之是错误的值，并不是xx['face_num']\n",
    "# users['face_favor'] = xx['face_num'].values"
   ]
  },
  {
   "cell_type": "code",
   "execution_count": 66,
   "metadata": {},
   "outputs": [
    {
     "data": {
      "text/plain": [
       "7686"
      ]
     },
     "execution_count": 66,
     "metadata": {},
     "output_type": "execute_result"
    }
   ],
   "source": [
    "import gc\n",
    "gc.collect()\n"
   ]
  },
  {
   "cell_type": "code",
   "execution_count": 67,
   "metadata": {},
   "outputs": [
    {
     "data": {
      "text/html": [
       "<div>\n",
       "<style>\n",
       "    .dataframe thead tr:only-child th {\n",
       "        text-align: right;\n",
       "    }\n",
       "\n",
       "    .dataframe thead th {\n",
       "        text-align: left;\n",
       "    }\n",
       "\n",
       "    .dataframe tbody tr th {\n",
       "        vertical-align: top;\n",
       "    }\n",
       "</style>\n",
       "<table border=\"1\" class=\"dataframe\">\n",
       "  <thead>\n",
       "    <tr style=\"text-align: right;\">\n",
       "      <th></th>\n",
       "      <th>user_id</th>\n",
       "      <th>photo_id</th>\n",
       "      <th>time</th>\n",
       "      <th>duration_time</th>\n",
       "    </tr>\n",
       "  </thead>\n",
       "  <tbody>\n",
       "    <tr>\n",
       "      <th>0</th>\n",
       "      <td>29999</td>\n",
       "      <td>8154819</td>\n",
       "      <td>761158905921</td>\n",
       "      <td>17</td>\n",
       "    </tr>\n",
       "    <tr>\n",
       "      <th>1</th>\n",
       "      <td>29999</td>\n",
       "      <td>8374672</td>\n",
       "      <td>761163438550</td>\n",
       "      <td>9</td>\n",
       "    </tr>\n",
       "    <tr>\n",
       "      <th>2</th>\n",
       "      <td>29999</td>\n",
       "      <td>7987126</td>\n",
       "      <td>761143659968</td>\n",
       "      <td>11</td>\n",
       "    </tr>\n",
       "    <tr>\n",
       "      <th>3</th>\n",
       "      <td>29999</td>\n",
       "      <td>7912672</td>\n",
       "      <td>761159000400</td>\n",
       "      <td>17</td>\n",
       "    </tr>\n",
       "    <tr>\n",
       "      <th>4</th>\n",
       "      <td>29999</td>\n",
       "      <td>9062638</td>\n",
       "      <td>761163738888</td>\n",
       "      <td>11</td>\n",
       "    </tr>\n",
       "  </tbody>\n",
       "</table>\n",
       "</div>"
      ],
      "text/plain": [
       "   user_id  photo_id          time  duration_time\n",
       "0    29999   8154819  761158905921             17\n",
       "1    29999   8374672  761163438550              9\n",
       "2    29999   7987126  761143659968             11\n",
       "3    29999   7912672  761159000400             17\n",
       "4    29999   9062638  761163738888             11"
      ]
     },
     "execution_count": 67,
     "metadata": {},
     "output_type": "execute_result"
    }
   ],
   "source": [
    "user_item_test.head()"
   ]
  },
  {
   "cell_type": "code",
   "execution_count": 68,
   "metadata": {},
   "outputs": [],
   "source": [
    "user_item_test = pd.merge(user_item_test, users,\n",
    "                          how='inner',\n",
    "                          on=['user_id'])\n",
    "\n",
    "user_item_test = pd.merge(user_item_test, photo_data,\n",
    "                         how='left',\n",
    "                         on=['photo_id'])"
   ]
  },
  {
   "cell_type": "code",
   "execution_count": 69,
   "metadata": {},
   "outputs": [
    {
     "data": {
      "text/html": [
       "<div>\n",
       "<style>\n",
       "    .dataframe thead tr:only-child th {\n",
       "        text-align: right;\n",
       "    }\n",
       "\n",
       "    .dataframe thead th {\n",
       "        text-align: left;\n",
       "    }\n",
       "\n",
       "    .dataframe tbody tr th {\n",
       "        vertical-align: top;\n",
       "    }\n",
       "</style>\n",
       "<table border=\"1\" class=\"dataframe\">\n",
       "  <thead>\n",
       "    <tr style=\"text-align: right;\">\n",
       "      <th></th>\n",
       "      <th>user_id</th>\n",
       "      <th>photo_id</th>\n",
       "      <th>time</th>\n",
       "      <th>duration_time</th>\n",
       "      <th>browse_num</th>\n",
       "      <th>click_num</th>\n",
       "      <th>like_num</th>\n",
       "      <th>follow_num</th>\n",
       "      <th>playing_sum</th>\n",
       "      <th>duration_sum</th>\n",
       "      <th>...</th>\n",
       "      <th>woman_scale</th>\n",
       "      <th>human_scale</th>\n",
       "      <th>man_avg_age</th>\n",
       "      <th>woman_avg_age</th>\n",
       "      <th>human_avg_age</th>\n",
       "      <th>man_avg_attr</th>\n",
       "      <th>woman_avg_attr</th>\n",
       "      <th>human_avg_attr</th>\n",
       "      <th>face_num_class</th>\n",
       "      <th>have_face</th>\n",
       "    </tr>\n",
       "  </thead>\n",
       "  <tbody>\n",
       "    <tr>\n",
       "      <th>0</th>\n",
       "      <td>29999</td>\n",
       "      <td>8154819</td>\n",
       "      <td>761158905921</td>\n",
       "      <td>17</td>\n",
       "      <td>267</td>\n",
       "      <td>90</td>\n",
       "      <td>1</td>\n",
       "      <td>3</td>\n",
       "      <td>943</td>\n",
       "      <td>4845</td>\n",
       "      <td>...</td>\n",
       "      <td>0.0077</td>\n",
       "      <td>0.0190</td>\n",
       "      <td>31.0</td>\n",
       "      <td>27.0</td>\n",
       "      <td>29.0</td>\n",
       "      <td>45.0</td>\n",
       "      <td>48.0</td>\n",
       "      <td>46.5</td>\n",
       "      <td>f2</td>\n",
       "      <td>True</td>\n",
       "    </tr>\n",
       "    <tr>\n",
       "      <th>1</th>\n",
       "      <td>29999</td>\n",
       "      <td>8374672</td>\n",
       "      <td>761163438550</td>\n",
       "      <td>9</td>\n",
       "      <td>267</td>\n",
       "      <td>90</td>\n",
       "      <td>1</td>\n",
       "      <td>3</td>\n",
       "      <td>943</td>\n",
       "      <td>4845</td>\n",
       "      <td>...</td>\n",
       "      <td>0.0000</td>\n",
       "      <td>0.0207</td>\n",
       "      <td>28.0</td>\n",
       "      <td>0.0</td>\n",
       "      <td>28.0</td>\n",
       "      <td>40.0</td>\n",
       "      <td>0.0</td>\n",
       "      <td>40.0</td>\n",
       "      <td>f1</td>\n",
       "      <td>True</td>\n",
       "    </tr>\n",
       "    <tr>\n",
       "      <th>2</th>\n",
       "      <td>29999</td>\n",
       "      <td>7987126</td>\n",
       "      <td>761143659968</td>\n",
       "      <td>11</td>\n",
       "      <td>267</td>\n",
       "      <td>90</td>\n",
       "      <td>1</td>\n",
       "      <td>3</td>\n",
       "      <td>943</td>\n",
       "      <td>4845</td>\n",
       "      <td>...</td>\n",
       "      <td>0.1103</td>\n",
       "      <td>0.1103</td>\n",
       "      <td>0.0</td>\n",
       "      <td>27.0</td>\n",
       "      <td>27.0</td>\n",
       "      <td>0.0</td>\n",
       "      <td>53.0</td>\n",
       "      <td>53.0</td>\n",
       "      <td>f1</td>\n",
       "      <td>True</td>\n",
       "    </tr>\n",
       "    <tr>\n",
       "      <th>3</th>\n",
       "      <td>29999</td>\n",
       "      <td>7912672</td>\n",
       "      <td>761159000400</td>\n",
       "      <td>17</td>\n",
       "      <td>267</td>\n",
       "      <td>90</td>\n",
       "      <td>1</td>\n",
       "      <td>3</td>\n",
       "      <td>943</td>\n",
       "      <td>4845</td>\n",
       "      <td>...</td>\n",
       "      <td>0.0000</td>\n",
       "      <td>0.0000</td>\n",
       "      <td>0.0</td>\n",
       "      <td>0.0</td>\n",
       "      <td>0.0</td>\n",
       "      <td>0.0</td>\n",
       "      <td>0.0</td>\n",
       "      <td>0.0</td>\n",
       "      <td>f0</td>\n",
       "      <td>False</td>\n",
       "    </tr>\n",
       "    <tr>\n",
       "      <th>4</th>\n",
       "      <td>29999</td>\n",
       "      <td>9062638</td>\n",
       "      <td>761163738888</td>\n",
       "      <td>11</td>\n",
       "      <td>267</td>\n",
       "      <td>90</td>\n",
       "      <td>1</td>\n",
       "      <td>3</td>\n",
       "      <td>943</td>\n",
       "      <td>4845</td>\n",
       "      <td>...</td>\n",
       "      <td>0.0000</td>\n",
       "      <td>0.0000</td>\n",
       "      <td>0.0</td>\n",
       "      <td>0.0</td>\n",
       "      <td>0.0</td>\n",
       "      <td>0.0</td>\n",
       "      <td>0.0</td>\n",
       "      <td>0.0</td>\n",
       "      <td>f0</td>\n",
       "      <td>False</td>\n",
       "    </tr>\n",
       "  </tbody>\n",
       "</table>\n",
       "<p>5 rows × 38 columns</p>\n",
       "</div>"
      ],
      "text/plain": [
       "   user_id  photo_id          time  duration_time  browse_num  click_num  \\\n",
       "0    29999   8154819  761158905921             17         267         90   \n",
       "1    29999   8374672  761163438550              9         267         90   \n",
       "2    29999   7987126  761143659968             11         267         90   \n",
       "3    29999   7912672  761159000400             17         267         90   \n",
       "4    29999   9062638  761163738888             11         267         90   \n",
       "\n",
       "   like_num  follow_num  playing_sum  duration_sum    ...      woman_scale  \\\n",
       "0         1           3          943          4845    ...           0.0077   \n",
       "1         1           3          943          4845    ...           0.0000   \n",
       "2         1           3          943          4845    ...           0.1103   \n",
       "3         1           3          943          4845    ...           0.0000   \n",
       "4         1           3          943          4845    ...           0.0000   \n",
       "\n",
       "   human_scale  man_avg_age  woman_avg_age  human_avg_age  man_avg_attr  \\\n",
       "0       0.0190         31.0           27.0           29.0          45.0   \n",
       "1       0.0207         28.0            0.0           28.0          40.0   \n",
       "2       0.1103          0.0           27.0           27.0           0.0   \n",
       "3       0.0000          0.0            0.0            0.0           0.0   \n",
       "4       0.0000          0.0            0.0            0.0           0.0   \n",
       "\n",
       "   woman_avg_attr  human_avg_attr  face_num_class  have_face  \n",
       "0            48.0            46.5              f2       True  \n",
       "1             0.0            40.0              f1       True  \n",
       "2            53.0            53.0              f1       True  \n",
       "3             0.0             0.0              f0      False  \n",
       "4             0.0             0.0              f0      False  \n",
       "\n",
       "[5 rows x 38 columns]"
      ]
     },
     "execution_count": 69,
     "metadata": {},
     "output_type": "execute_result"
    }
   ],
   "source": [
    "user_item_test.head()"
   ]
  },
  {
   "cell_type": "code",
   "execution_count": 70,
   "metadata": {},
   "outputs": [
    {
     "data": {
      "text/plain": [
       "{'click', 'follow', 'like', 'playing_time'}"
      ]
     },
     "execution_count": 70,
     "metadata": {},
     "output_type": "execute_result"
    }
   ],
   "source": [
    "set(list(user_item_train.columns.values)) - set(list(user_item_test.columns.values))"
   ]
  },
  {
   "cell_type": "code",
   "execution_count": 71,
   "metadata": {},
   "outputs": [],
   "source": [
    "inter = set(list(user_item_train.columns.values)) & set(list(user_item_test.columns.values))"
   ]
  },
  {
   "cell_type": "code",
   "execution_count": 72,
   "metadata": {},
   "outputs": [],
   "source": [
    "user_action_features = ['browse_num', 'click_num', 'like_num', 'follow_num', 'playing_sum','duration_sum', 'click_ratio', 'like_ratio', 'follow_ratio', 'playing_ratio']\n",
    "    \n",
    "face_features = ['face_num', 'man_num', 'woman_num', 'man_scale', 'woman_scale', 'human_scale', 'man_avg_age', 'woman_avg_age', 'human_avg_age',  'man_avg_attr', 'woman_avg_attr', 'human_avg_attr']\n",
    "    \n",
    "    \n",
    "user_face_favor_features = ['face_favor', 'man_favor', 'woman_favor', 'man_cv_favor', 'woman_cv_favor', 'man_age_favor', 'woman_age_favor', 'man_yen_value_favor', 'woman_yen_value_favor']\n",
    "    \n",
    "    \n",
    "id_features = ['user_id', 'photo_id']\n",
    "time_features = ['time', 'duration_time']\n",
    "\n",
    "photo_features = ['exposure_num', 'face_num_class', 'have_face'] + face_features\n",
    "user_features = user_action_features + user_face_favor_features\n",
    "\n",
    "y_label = ['click']\n",
    "\n",
    "all_features = id_features + time_features + user_features + photo_features\n"
   ]
  },
  {
   "cell_type": "code",
   "execution_count": 73,
   "metadata": {},
   "outputs": [
    {
     "data": {
      "text/plain": [
       "38"
      ]
     },
     "execution_count": 73,
     "metadata": {},
     "output_type": "execute_result"
    }
   ],
   "source": [
    "len(inter)"
   ]
  },
  {
   "cell_type": "code",
   "execution_count": 74,
   "metadata": {},
   "outputs": [
    {
     "data": {
      "text/plain": [
       "38"
      ]
     },
     "execution_count": 74,
     "metadata": {},
     "output_type": "execute_result"
    }
   ],
   "source": [
    "len(all_features)"
   ]
  },
  {
   "cell_type": "code",
   "execution_count": 75,
   "metadata": {},
   "outputs": [
    {
     "data": {
      "text/plain": [
       "set()"
      ]
     },
     "execution_count": 75,
     "metadata": {},
     "output_type": "execute_result"
    }
   ],
   "source": [
    "inter - set(all_features)"
   ]
  },
  {
   "cell_type": "code",
   "execution_count": 76,
   "metadata": {},
   "outputs": [],
   "source": [
    "def normalize_min_max(df, features):\n",
    "    df[features] = df[features].apply(lambda x: (x-x.min())/(x.max()-x.min()))\n",
    "\n",
    "def normalize_z_score(df, features):\n",
    "    df[features] = df[features].apply(lambda x: (x-x.mean())/x.std())"
   ]
  },
  {
   "cell_type": "code",
   "execution_count": 77,
   "metadata": {},
   "outputs": [],
   "source": [
    "num_train, num_test = user_item_train.shape[0], user_item_test.shape[0]"
   ]
  },
  {
   "cell_type": "code",
   "execution_count": 78,
   "metadata": {},
   "outputs": [],
   "source": [
    "user_item_data = pd.concat([user_item_train[all_features], user_item_test[all_features]])"
   ]
  },
  {
   "cell_type": "code",
   "execution_count": 79,
   "metadata": {},
   "outputs": [
    {
     "data": {
      "text/html": [
       "<div>\n",
       "<style>\n",
       "    .dataframe thead tr:only-child th {\n",
       "        text-align: right;\n",
       "    }\n",
       "\n",
       "    .dataframe thead th {\n",
       "        text-align: left;\n",
       "    }\n",
       "\n",
       "    .dataframe tbody tr th {\n",
       "        vertical-align: top;\n",
       "    }\n",
       "</style>\n",
       "<table border=\"1\" class=\"dataframe\">\n",
       "  <thead>\n",
       "    <tr style=\"text-align: right;\">\n",
       "      <th></th>\n",
       "      <th>user_id</th>\n",
       "      <th>photo_id</th>\n",
       "      <th>time</th>\n",
       "      <th>duration_time</th>\n",
       "      <th>browse_num</th>\n",
       "      <th>click_num</th>\n",
       "      <th>like_num</th>\n",
       "      <th>follow_num</th>\n",
       "      <th>playing_sum</th>\n",
       "      <th>duration_sum</th>\n",
       "      <th>...</th>\n",
       "      <th>woman_num</th>\n",
       "      <th>man_scale</th>\n",
       "      <th>woman_scale</th>\n",
       "      <th>human_scale</th>\n",
       "      <th>man_avg_age</th>\n",
       "      <th>woman_avg_age</th>\n",
       "      <th>human_avg_age</th>\n",
       "      <th>man_avg_attr</th>\n",
       "      <th>woman_avg_attr</th>\n",
       "      <th>human_avg_attr</th>\n",
       "    </tr>\n",
       "  </thead>\n",
       "  <tbody>\n",
       "    <tr>\n",
       "      <th>0</th>\n",
       "      <td>1637</td>\n",
       "      <td>6484142</td>\n",
       "      <td>761036604603</td>\n",
       "      <td>11</td>\n",
       "      <td>1736</td>\n",
       "      <td>365</td>\n",
       "      <td>4</td>\n",
       "      <td>0</td>\n",
       "      <td>4124</td>\n",
       "      <td>27726</td>\n",
       "      <td>...</td>\n",
       "      <td>0.0</td>\n",
       "      <td>0.0000</td>\n",
       "      <td>0.0</td>\n",
       "      <td>0.0000</td>\n",
       "      <td>0.000000</td>\n",
       "      <td>0.0</td>\n",
       "      <td>0.000000</td>\n",
       "      <td>0.000000</td>\n",
       "      <td>0.0</td>\n",
       "      <td>0.000000</td>\n",
       "    </tr>\n",
       "    <tr>\n",
       "      <th>1</th>\n",
       "      <td>1637</td>\n",
       "      <td>4647664</td>\n",
       "      <td>761035501863</td>\n",
       "      <td>11</td>\n",
       "      <td>1736</td>\n",
       "      <td>365</td>\n",
       "      <td>4</td>\n",
       "      <td>0</td>\n",
       "      <td>4124</td>\n",
       "      <td>27726</td>\n",
       "      <td>...</td>\n",
       "      <td>0.0</td>\n",
       "      <td>0.0000</td>\n",
       "      <td>0.0</td>\n",
       "      <td>0.0000</td>\n",
       "      <td>0.000000</td>\n",
       "      <td>0.0</td>\n",
       "      <td>0.000000</td>\n",
       "      <td>0.000000</td>\n",
       "      <td>0.0</td>\n",
       "      <td>0.000000</td>\n",
       "    </tr>\n",
       "    <tr>\n",
       "      <th>2</th>\n",
       "      <td>1637</td>\n",
       "      <td>4994626</td>\n",
       "      <td>761036933553</td>\n",
       "      <td>10</td>\n",
       "      <td>1736</td>\n",
       "      <td>365</td>\n",
       "      <td>4</td>\n",
       "      <td>0</td>\n",
       "      <td>4124</td>\n",
       "      <td>27726</td>\n",
       "      <td>...</td>\n",
       "      <td>0.0</td>\n",
       "      <td>0.3959</td>\n",
       "      <td>0.0</td>\n",
       "      <td>0.3959</td>\n",
       "      <td>26.333333</td>\n",
       "      <td>0.0</td>\n",
       "      <td>26.333333</td>\n",
       "      <td>48.333333</td>\n",
       "      <td>0.0</td>\n",
       "      <td>48.333333</td>\n",
       "    </tr>\n",
       "    <tr>\n",
       "      <th>3</th>\n",
       "      <td>1637</td>\n",
       "      <td>4416881</td>\n",
       "      <td>761119247892</td>\n",
       "      <td>9</td>\n",
       "      <td>1736</td>\n",
       "      <td>365</td>\n",
       "      <td>4</td>\n",
       "      <td>0</td>\n",
       "      <td>4124</td>\n",
       "      <td>27726</td>\n",
       "      <td>...</td>\n",
       "      <td>0.0</td>\n",
       "      <td>0.0000</td>\n",
       "      <td>0.0</td>\n",
       "      <td>0.0000</td>\n",
       "      <td>0.000000</td>\n",
       "      <td>0.0</td>\n",
       "      <td>0.000000</td>\n",
       "      <td>0.000000</td>\n",
       "      <td>0.0</td>\n",
       "      <td>0.000000</td>\n",
       "    </tr>\n",
       "    <tr>\n",
       "      <th>4</th>\n",
       "      <td>1637</td>\n",
       "      <td>2597756</td>\n",
       "      <td>761119421332</td>\n",
       "      <td>11</td>\n",
       "      <td>1736</td>\n",
       "      <td>365</td>\n",
       "      <td>4</td>\n",
       "      <td>0</td>\n",
       "      <td>4124</td>\n",
       "      <td>27726</td>\n",
       "      <td>...</td>\n",
       "      <td>0.0</td>\n",
       "      <td>0.0000</td>\n",
       "      <td>0.0</td>\n",
       "      <td>0.0000</td>\n",
       "      <td>0.000000</td>\n",
       "      <td>0.0</td>\n",
       "      <td>0.000000</td>\n",
       "      <td>0.000000</td>\n",
       "      <td>0.0</td>\n",
       "      <td>0.000000</td>\n",
       "    </tr>\n",
       "  </tbody>\n",
       "</table>\n",
       "<p>5 rows × 38 columns</p>\n",
       "</div>"
      ],
      "text/plain": [
       "   user_id  photo_id          time  duration_time  browse_num  click_num  \\\n",
       "0     1637   6484142  761036604603             11        1736        365   \n",
       "1     1637   4647664  761035501863             11        1736        365   \n",
       "2     1637   4994626  761036933553             10        1736        365   \n",
       "3     1637   4416881  761119247892              9        1736        365   \n",
       "4     1637   2597756  761119421332             11        1736        365   \n",
       "\n",
       "   like_num  follow_num  playing_sum  duration_sum       ...        woman_num  \\\n",
       "0         4           0         4124         27726       ...              0.0   \n",
       "1         4           0         4124         27726       ...              0.0   \n",
       "2         4           0         4124         27726       ...              0.0   \n",
       "3         4           0         4124         27726       ...              0.0   \n",
       "4         4           0         4124         27726       ...              0.0   \n",
       "\n",
       "   man_scale  woman_scale  human_scale  man_avg_age  woman_avg_age  \\\n",
       "0     0.0000          0.0       0.0000     0.000000            0.0   \n",
       "1     0.0000          0.0       0.0000     0.000000            0.0   \n",
       "2     0.3959          0.0       0.3959    26.333333            0.0   \n",
       "3     0.0000          0.0       0.0000     0.000000            0.0   \n",
       "4     0.0000          0.0       0.0000     0.000000            0.0   \n",
       "\n",
       "   human_avg_age  man_avg_attr  woman_avg_attr  human_avg_attr  \n",
       "0       0.000000      0.000000             0.0        0.000000  \n",
       "1       0.000000      0.000000             0.0        0.000000  \n",
       "2      26.333333     48.333333             0.0       48.333333  \n",
       "3       0.000000      0.000000             0.0        0.000000  \n",
       "4       0.000000      0.000000             0.0        0.000000  \n",
       "\n",
       "[5 rows x 38 columns]"
      ]
     },
     "execution_count": 79,
     "metadata": {},
     "output_type": "execute_result"
    }
   ],
   "source": [
    "user_item_data.head()"
   ]
  },
  {
   "cell_type": "code",
   "execution_count": null,
   "metadata": {},
   "outputs": [],
   "source": [
    "norm_features = ['time', 'duration_sum', 'exposure_num', 'click_num', 'playing_sum', 'woman_favor', 'woman_age_favor', 'woman_scale', 'woman_cv_favor', 'human_scale', 'browse_num', 'duration_sum']\n",
    "normalize_min_max(user_item_data, norm_features)\n",
    "# normalize_z_score(user_item_data, norm_features)"
   ]
  },
  {
   "cell_type": "code",
   "execution_count": 80,
   "metadata": {},
   "outputs": [
    {
     "name": "stdout",
     "output_type": "stream",
     "text": [
      "There is 17 strongly correlated values with click:\n",
      "click              1.000000\n",
      "click_ratio        0.311396\n",
      "like               0.109534\n",
      "exposure_num       0.084688\n",
      "click_num          0.072373\n",
      "follow             0.062525\n",
      "like_ratio         0.055042\n",
      "playing_ratio      0.047663\n",
      "playing_sum        0.035336\n",
      "follow_ratio       0.033242\n",
      "woman_favor       -0.040384\n",
      "woman_age_favor   -0.044631\n",
      "woman_scale       -0.044989\n",
      "woman_cv_favor    -0.049056\n",
      "human_scale       -0.052977\n",
      "browse_num        -0.135275\n",
      "duration_sum      -0.137631\n",
      "Name: click, dtype: float64\n"
     ]
    },
    {
     "data": {
      "text/plain": [
       "['click',\n",
       " 'click_ratio',\n",
       " 'like',\n",
       " 'exposure_num',\n",
       " 'click_num',\n",
       " 'follow',\n",
       " 'like_ratio',\n",
       " 'playing_ratio',\n",
       " 'playing_sum',\n",
       " 'follow_ratio',\n",
       " 'woman_favor',\n",
       " 'woman_age_favor',\n",
       " 'woman_scale',\n",
       " 'woman_cv_favor',\n",
       " 'human_scale',\n",
       " 'browse_num',\n",
       " 'duration_sum']"
      ]
     },
     "execution_count": 80,
     "metadata": {},
     "output_type": "execute_result"
    },
    {
     "data": {
      "image/png": "[encoded data removed]",
      "text/plain": [
       "<matplotlib.figure.Figure at 0x115d31710>"
      ]
     },
     "metadata": {},
     "output_type": "display_data"
    }
   ],
   "source": [
    "user_item_train.hist(figsize=(16, 20), bins=50, xlabelsize=8, ylabelsize=8); # ; avoid having the matplotlib verbose informations\n",
    "\n",
    "df_num_corr = user_item_train.corr()['click'][:-1] # -1 because the latest row is SalePrice\n",
    "\n",
    "\n",
    "golden_features_list = df_num_corr[abs(df_num_corr) > 0.03].sort_values(ascending=False)\n",
    "print(\"There is {} strongly correlated values with click:\\n{}\".format(len(golden_features_list), golden_features_list))\n",
    "\n",
    "list(golden_features_list.index.values)"
   ]
  },
  {
   "cell_type": "markdown",
   "metadata": {},
   "source": [
    "# 特征处理\n",
    "## 类别特征和Onehot\n",
    "onehot 和 embedding 特征对于训练神经网络特别有用, onehot 对于线性模型也是非常有用的，它相当于让线性模型变得非线性，通过逻辑组合特征，维度升高之后，能够实现非线性数据的划分，如果直接使用类别特征，LR可能无法分类。\n",
    ">At first, onehot encoding is one of the conversion method for categorical data, and good representation of the data on neural network learning.(except random forest and other method which can use the categorical data.\n",
    "\n",
    "- [Onehot Conversion for Categorical Data](http://www.renom.jp/notebooks/preprocessing/onehot/notebook.html)"
   ]
  },
  {
   "cell_type": "markdown",
   "metadata": {},
   "source": [
    "# 特征选取\n",
    " - 皮尔逊相关系数\n",
    " - Gini 系数\n",
    " - 信息增益"
   ]
  },
  {
   "cell_type": "code",
   "execution_count": 59,
   "metadata": {},
   "outputs": [
    {
     "name": "stdout",
     "output_type": "stream",
     "text": [
      "SpearmanrResult(correlation=0.009266106318316822, pvalue=0.0)\n"
     ]
    }
   ],
   "source": [
    "corrscore = spearmanr(user_item_train['click'], user_item_train['man_num'])\n",
    "print('click - man_num: %s' % (str(corrscore)))"
   ]
  },
  {
   "cell_type": "code",
   "execution_count": 62,
   "metadata": {},
   "outputs": [
    {
     "name": "stdout",
     "output_type": "stream",
     "text": [
      "click - man_num: SpearmanrResult(correlation=0.009266106318316822, pvalue=0.0)\n"
     ]
    }
   ],
   "source": [
    "corrscore = spearmanr(user_item_train['click'], user_item_train['man_num'])\n",
    "print('click - man_num: %s' % (str(corrscore)))"
   ]
  },
  {
   "cell_type": "code",
   "execution_count": 158,
   "metadata": {},
   "outputs": [
    {
     "name": "stdout",
     "output_type": "stream",
     "text": [
      "SpearmanrResult(correlation=-0.02366351576940645, pvalue=0.0)\n"
     ]
    }
   ],
   "source": [
    "corrscore = spearmanr(user_item_train['click'], user_item_train['woman_scale'])\n",
    "print('click - woman_scale: %s' % (str(corrscore)))"
   ]
  },
  {
   "cell_type": "code",
   "execution_count": 159,
   "metadata": {},
   "outputs": [
    {
     "name": "stdout",
     "output_type": "stream",
     "text": [
      "SpearmanrResult(correlation=-0.016513360312915636, pvalue=4.073688960314982e-187)\n"
     ]
    }
   ],
   "source": [
    "corrscore = spearmanr(user_item_train['click'], user_item_train['woman_num'])\n",
    "print(corrscore)"
   ]
  },
  {
   "cell_type": "code",
   "execution_count": 160,
   "metadata": {},
   "outputs": [
    {
     "name": "stdout",
     "output_type": "stream",
     "text": [
      "SpearmanrResult(correlation=-0.019665307206956008, pvalue=1.694623393997438e-264)\n"
     ]
    }
   ],
   "source": [
    "corrscore = spearmanr(user_item_train['click'], user_item_train['woman_avg_attr'])\n",
    "print(corrscore)"
   ]
  },
  {
   "cell_type": "code",
   "execution_count": 161,
   "metadata": {},
   "outputs": [
    {
     "name": "stdout",
     "output_type": "stream",
     "text": [
      "SpearmanrResult(correlation=-0.011251840208181488, pvalue=6.284446574206893e-88)\n"
     ]
    }
   ],
   "source": [
    "corrscore = spearmanr(user_item_train['click'], user_item_train['woman_avg_age'])\n",
    "print(corrscore)"
   ]
  },
  {
   "cell_type": "code",
   "execution_count": 37,
   "metadata": {},
   "outputs": [
    {
     "name": "stdout",
     "output_type": "stream",
     "text": [
      "SpearmanrResult(correlation=-0.02366351576940645, pvalue=0.0)\n"
     ]
    }
   ],
   "source": [
    "corrscore = spearmanr(user_item_train['click'], user_item_train['woman_scale'])\n",
    "print(corrscore)"
   ]
  },
  {
   "cell_type": "code",
   "execution_count": 38,
   "metadata": {},
   "outputs": [
    {
     "name": "stdout",
     "output_type": "stream",
     "text": [
      "SpearmanrResult(correlation=0.29660322132507017, pvalue=0.0)\n"
     ]
    }
   ],
   "source": [
    "corrscore = spearmanr(user_item_train['click'], user_item_train['click_ratio'])\n",
    "print(corrscore)"
   ]
  },
  {
   "cell_type": "code",
   "execution_count": 39,
   "metadata": {},
   "outputs": [
    {
     "name": "stdout",
     "output_type": "stream",
     "text": [
      "SpearmanrResult(correlation=0.030628891426341964, pvalue=0.0)\n"
     ]
    }
   ],
   "source": [
    "corrscore = spearmanr(user_item_train['click'], user_item_train['like_ratio'])\n",
    "print(corrscore)"
   ]
  },
  {
   "cell_type": "code",
   "execution_count": 40,
   "metadata": {},
   "outputs": [
    {
     "name": "stdout",
     "output_type": "stream",
     "text": [
      "SpearmanrResult(correlation=-0.0008372288216444258, pvalue=0.13912584793116814)\n"
     ]
    }
   ],
   "source": [
    "corrscore = spearmanr(user_item_train['click'], user_item_train['follow_ratio'])\n",
    "print(corrscore)"
   ]
  },
  {
   "cell_type": "code",
   "execution_count": 41,
   "metadata": {},
   "outputs": [
    {
     "name": "stdout",
     "output_type": "stream",
     "text": [
      "SpearmanrResult(correlation=0.2598578602247289, pvalue=0.0)\n"
     ]
    }
   ],
   "source": [
    "corrscore = spearmanr(user_item_train['click'], user_item_train['playing_ratio'])\n",
    "print(corrscore)"
   ]
  },
  {
   "cell_type": "code",
   "execution_count": 42,
   "metadata": {},
   "outputs": [
    {
     "name": "stdout",
     "output_type": "stream",
     "text": [
      "SpearmanrResult(correlation=0.08014833909016124, pvalue=0.0)\n"
     ]
    }
   ],
   "source": [
    "corrscore = spearmanr(user_item_train['click'], user_item_train['click_num'])\n",
    "print(corrscore)"
   ]
  },
  {
   "cell_type": "code",
   "execution_count": 43,
   "metadata": {},
   "outputs": [
    {
     "name": "stdout",
     "output_type": "stream",
     "text": [
      "SpearmanrResult(correlation=0.022620937870500957, pvalue=0.0)\n"
     ]
    }
   ],
   "source": [
    "corrscore = spearmanr(user_item_train['click'], user_item_train['like_num'])\n",
    "print(corrscore)"
   ]
  },
  {
   "cell_type": "code",
   "execution_count": 44,
   "metadata": {},
   "outputs": [
    {
     "name": "stdout",
     "output_type": "stream",
     "text": [
      "SpearmanrResult(correlation=-0.006684627175818035, pvalue=3.497175686381571e-32)\n"
     ]
    }
   ],
   "source": [
    "corrscore = spearmanr(user_item_train['click'], user_item_train['follow_num'])\n",
    "print(corrscore)"
   ]
  },
  {
   "cell_type": "code",
   "execution_count": 45,
   "metadata": {},
   "outputs": [
    {
     "name": "stdout",
     "output_type": "stream",
     "text": [
      "SpearmanrResult(correlation=0.09587058052256803, pvalue=0.0)\n"
     ]
    }
   ],
   "source": [
    "corrscore = spearmanr(user_item_train['click'], user_item_train['playing_sum'])\n",
    "print(corrscore)"
   ]
  },
  {
   "cell_type": "code",
   "execution_count": 46,
   "metadata": {},
   "outputs": [
    {
     "name": "stdout",
     "output_type": "stream",
     "text": [
      "SpearmanrResult(correlation=-0.002333375231174031, pvalue=3.75333995716639e-05)\n"
     ]
    }
   ],
   "source": [
    "corrscore = spearmanr(user_item_train['click'], user_item_train['time'])\n",
    "print(corrscore)"
   ]
  },
  {
   "cell_type": "code",
   "execution_count": 47,
   "metadata": {},
   "outputs": [
    {
     "name": "stdout",
     "output_type": "stream",
     "text": [
      "SpearmanrResult(correlation=-0.1584317140628491, pvalue=0.0)\n"
     ]
    }
   ],
   "source": [
    "corrscore = spearmanr(user_item_train['click'], user_item_train['display_num'])\n",
    "print(corrscore)"
   ]
  },
  {
   "cell_type": "code",
   "execution_count": 162,
   "metadata": {},
   "outputs": [
    {
     "name": "stdout",
     "output_type": "stream",
     "text": [
      "<class 'pandas.core.frame.DataFrame'>\n",
      "Int64Index: 3120901 entries, 0 to 3120900\n",
      "Data columns (total 17 columns):\n",
      "user_id           int64\n",
      "photo_id          int64\n",
      "click             int64\n",
      "like              int64\n",
      "follow            int64\n",
      "time              float64\n",
      "playing_time      int64\n",
      "duration_time     float64\n",
      "face_num          float64\n",
      "man_num           float64\n",
      "woman_num         float64\n",
      "man_scale         float64\n",
      "woman_scale       float64\n",
      "man_avg_age       float64\n",
      "woman_avg_age     float64\n",
      "man_avg_attr      float64\n",
      "woman_avg_attr    float64\n",
      "dtypes: float64(11), int64(6)\n",
      "memory usage: 508.6 MB\n"
     ]
    }
   ],
   "source": [
    "user_item_train.info()"
   ]
  },
  {
   "cell_type": "code",
   "execution_count": 163,
   "metadata": {},
   "outputs": [
    {
     "data": {
      "text/html": [
       "<div>\n",
       "<style>\n",
       "    .dataframe thead tr:only-child th {\n",
       "        text-align: right;\n",
       "    }\n",
       "\n",
       "    .dataframe thead th {\n",
       "        text-align: left;\n",
       "    }\n",
       "\n",
       "    .dataframe tbody tr th {\n",
       "        vertical-align: top;\n",
       "    }\n",
       "</style>\n",
       "<table border=\"1\" class=\"dataframe\">\n",
       "  <thead>\n",
       "    <tr style=\"text-align: right;\">\n",
       "      <th></th>\n",
       "      <th>user_id</th>\n",
       "      <th>photo_id</th>\n",
       "      <th>click</th>\n",
       "      <th>like</th>\n",
       "      <th>follow</th>\n",
       "      <th>time</th>\n",
       "      <th>playing_time</th>\n",
       "      <th>duration_time</th>\n",
       "      <th>face_num</th>\n",
       "      <th>man_num</th>\n",
       "      <th>woman_num</th>\n",
       "      <th>man_scale</th>\n",
       "      <th>woman_scale</th>\n",
       "      <th>man_avg_age</th>\n",
       "      <th>woman_avg_age</th>\n",
       "      <th>man_avg_attr</th>\n",
       "      <th>woman_avg_attr</th>\n",
       "    </tr>\n",
       "  </thead>\n",
       "  <tbody>\n",
       "    <tr>\n",
       "      <th>0</th>\n",
       "      <td>2</td>\n",
       "      <td>528031</td>\n",
       "      <td>0</td>\n",
       "      <td>0</td>\n",
       "      <td>0</td>\n",
       "      <td>0.451825</td>\n",
       "      <td>0</td>\n",
       "      <td>0.004574</td>\n",
       "      <td>1.0</td>\n",
       "      <td>0.0</td>\n",
       "      <td>1.0</td>\n",
       "      <td>0.0</td>\n",
       "      <td>0.0506</td>\n",
       "      <td>0.0</td>\n",
       "      <td>22.0</td>\n",
       "      <td>0.0</td>\n",
       "      <td>66.0</td>\n",
       "    </tr>\n",
       "    <tr>\n",
       "      <th>1</th>\n",
       "      <td>2</td>\n",
       "      <td>3141045</td>\n",
       "      <td>0</td>\n",
       "      <td>0</td>\n",
       "      <td>0</td>\n",
       "      <td>0.453534</td>\n",
       "      <td>0</td>\n",
       "      <td>0.002859</td>\n",
       "      <td>0.0</td>\n",
       "      <td>0.0</td>\n",
       "      <td>0.0</td>\n",
       "      <td>0.0</td>\n",
       "      <td>0.0000</td>\n",
       "      <td>0.0</td>\n",
       "      <td>0.0</td>\n",
       "      <td>0.0</td>\n",
       "      <td>0.0</td>\n",
       "    </tr>\n",
       "    <tr>\n",
       "      <th>2</th>\n",
       "      <td>2</td>\n",
       "      <td>6410672</td>\n",
       "      <td>0</td>\n",
       "      <td>0</td>\n",
       "      <td>0</td>\n",
       "      <td>0.449141</td>\n",
       "      <td>0</td>\n",
       "      <td>0.003716</td>\n",
       "      <td>0.0</td>\n",
       "      <td>0.0</td>\n",
       "      <td>0.0</td>\n",
       "      <td>0.0</td>\n",
       "      <td>0.0000</td>\n",
       "      <td>0.0</td>\n",
       "      <td>0.0</td>\n",
       "      <td>0.0</td>\n",
       "      <td>0.0</td>\n",
       "    </tr>\n",
       "    <tr>\n",
       "      <th>3</th>\n",
       "      <td>2</td>\n",
       "      <td>6031965</td>\n",
       "      <td>0</td>\n",
       "      <td>0</td>\n",
       "      <td>0</td>\n",
       "      <td>0.488725</td>\n",
       "      <td>0</td>\n",
       "      <td>0.003145</td>\n",
       "      <td>0.0</td>\n",
       "      <td>0.0</td>\n",
       "      <td>0.0</td>\n",
       "      <td>0.0</td>\n",
       "      <td>0.0000</td>\n",
       "      <td>0.0</td>\n",
       "      <td>0.0</td>\n",
       "      <td>0.0</td>\n",
       "      <td>0.0</td>\n",
       "    </tr>\n",
       "    <tr>\n",
       "      <th>4</th>\n",
       "      <td>2</td>\n",
       "      <td>492513</td>\n",
       "      <td>0</td>\n",
       "      <td>0</td>\n",
       "      <td>0</td>\n",
       "      <td>0.443904</td>\n",
       "      <td>0</td>\n",
       "      <td>0.003145</td>\n",
       "      <td>0.0</td>\n",
       "      <td>0.0</td>\n",
       "      <td>0.0</td>\n",
       "      <td>0.0</td>\n",
       "      <td>0.0000</td>\n",
       "      <td>0.0</td>\n",
       "      <td>0.0</td>\n",
       "      <td>0.0</td>\n",
       "      <td>0.0</td>\n",
       "    </tr>\n",
       "  </tbody>\n",
       "</table>\n",
       "</div>"
      ],
      "text/plain": [
       "   user_id  photo_id  click  like  follow      time  playing_time  \\\n",
       "0        2    528031      0     0       0  0.451825             0   \n",
       "1        2   3141045      0     0       0  0.453534             0   \n",
       "2        2   6410672      0     0       0  0.449141             0   \n",
       "3        2   6031965      0     0       0  0.488725             0   \n",
       "4        2    492513      0     0       0  0.443904             0   \n",
       "\n",
       "   duration_time  face_num  man_num  woman_num  man_scale  woman_scale  \\\n",
       "0       0.004574       1.0      0.0        1.0        0.0       0.0506   \n",
       "1       0.002859       0.0      0.0        0.0        0.0       0.0000   \n",
       "2       0.003716       0.0      0.0        0.0        0.0       0.0000   \n",
       "3       0.003145       0.0      0.0        0.0        0.0       0.0000   \n",
       "4       0.003145       0.0      0.0        0.0        0.0       0.0000   \n",
       "\n",
       "   man_avg_age  woman_avg_age  man_avg_attr  woman_avg_attr  \n",
       "0          0.0           22.0           0.0            66.0  \n",
       "1          0.0            0.0           0.0             0.0  \n",
       "2          0.0            0.0           0.0             0.0  \n",
       "3          0.0            0.0           0.0             0.0  \n",
       "4          0.0            0.0           0.0             0.0  "
      ]
     },
     "execution_count": 163,
     "metadata": {},
     "output_type": "execute_result"
    }
   ],
   "source": [
    "user_item_train.head()"
   ]
  },
  {
   "cell_type": "code",
   "execution_count": 169,
   "metadata": {},
   "outputs": [],
   "source": [
    "y = user_item_train['click'].values"
   ]
  },
  {
   "cell_type": "code",
   "execution_count": 170,
   "metadata": {},
   "outputs": [],
   "source": [
    "face_features = ['face_num', 'man_num', 'woman_num', 'man_scale', 'woman_scale', 'man_avg_age', 'woman_avg_age', 'man_avg_attr', 'woman_avg_attr']\n",
    "user_face_favor = ['face_favor', 'man_favor', 'woman_favor', 'man_cv_favor', 'woman_cv_favor', 'man_age_favor', 'woman_age_favor', 'man_yen_value_favor', 'woman_yen_value_favor']\n",
    "input_features = ['user_id', 'photo_id', 'click', 'time', 'duration_time'] + user_features + face_features + user_face_favor\n",
    "user_item_train = user_item_train[input_features]"
   ]
  },
  {
   "cell_type": "code",
   "execution_count": 171,
   "metadata": {},
   "outputs": [
    {
     "data": {
      "text/html": [
       "<div>\n",
       "<style>\n",
       "    .dataframe thead tr:only-child th {\n",
       "        text-align: right;\n",
       "    }\n",
       "\n",
       "    .dataframe thead th {\n",
       "        text-align: left;\n",
       "    }\n",
       "\n",
       "    .dataframe tbody tr th {\n",
       "        vertical-align: top;\n",
       "    }\n",
       "</style>\n",
       "<table border=\"1\" class=\"dataframe\">\n",
       "  <thead>\n",
       "    <tr style=\"text-align: right;\">\n",
       "      <th></th>\n",
       "      <th>user_id</th>\n",
       "      <th>photo_id</th>\n",
       "      <th>click</th>\n",
       "      <th>time</th>\n",
       "      <th>duration_time</th>\n",
       "      <th>display_num</th>\n",
       "      <th>click_num</th>\n",
       "      <th>like_num</th>\n",
       "      <th>follow_num</th>\n",
       "      <th>playing_sum</th>\n",
       "      <th>...</th>\n",
       "      <th>woman_avg_attr</th>\n",
       "      <th>face_favor</th>\n",
       "      <th>man_favor</th>\n",
       "      <th>woman_favor</th>\n",
       "      <th>man_cv_favor</th>\n",
       "      <th>woman_cv_favor</th>\n",
       "      <th>man_age_favor</th>\n",
       "      <th>woman_age_favor</th>\n",
       "      <th>man_yen_value_favor</th>\n",
       "      <th>woman_yen_value_favor</th>\n",
       "    </tr>\n",
       "  </thead>\n",
       "  <tbody>\n",
       "    <tr>\n",
       "      <th>0</th>\n",
       "      <td>2</td>\n",
       "      <td>528031</td>\n",
       "      <td>0</td>\n",
       "      <td>0.451825</td>\n",
       "      <td>0.004574</td>\n",
       "      <td>304</td>\n",
       "      <td>50</td>\n",
       "      <td>0</td>\n",
       "      <td>3</td>\n",
       "      <td>1015</td>\n",
       "      <td>...</td>\n",
       "      <td>66.0</td>\n",
       "      <td>0.36</td>\n",
       "      <td>0.14</td>\n",
       "      <td>0.22</td>\n",
       "      <td>0.002134</td>\n",
       "      <td>0.023882</td>\n",
       "      <td>2.8</td>\n",
       "      <td>3.87</td>\n",
       "      <td>6.21</td>\n",
       "      <td>10.77</td>\n",
       "    </tr>\n",
       "    <tr>\n",
       "      <th>1</th>\n",
       "      <td>2</td>\n",
       "      <td>3141045</td>\n",
       "      <td>0</td>\n",
       "      <td>0.453534</td>\n",
       "      <td>0.002859</td>\n",
       "      <td>304</td>\n",
       "      <td>50</td>\n",
       "      <td>0</td>\n",
       "      <td>3</td>\n",
       "      <td>1015</td>\n",
       "      <td>...</td>\n",
       "      <td>0.0</td>\n",
       "      <td>0.36</td>\n",
       "      <td>0.14</td>\n",
       "      <td>0.22</td>\n",
       "      <td>0.002134</td>\n",
       "      <td>0.023882</td>\n",
       "      <td>2.8</td>\n",
       "      <td>3.87</td>\n",
       "      <td>6.21</td>\n",
       "      <td>10.77</td>\n",
       "    </tr>\n",
       "    <tr>\n",
       "      <th>2</th>\n",
       "      <td>2</td>\n",
       "      <td>6410672</td>\n",
       "      <td>0</td>\n",
       "      <td>0.449141</td>\n",
       "      <td>0.003716</td>\n",
       "      <td>304</td>\n",
       "      <td>50</td>\n",
       "      <td>0</td>\n",
       "      <td>3</td>\n",
       "      <td>1015</td>\n",
       "      <td>...</td>\n",
       "      <td>0.0</td>\n",
       "      <td>0.36</td>\n",
       "      <td>0.14</td>\n",
       "      <td>0.22</td>\n",
       "      <td>0.002134</td>\n",
       "      <td>0.023882</td>\n",
       "      <td>2.8</td>\n",
       "      <td>3.87</td>\n",
       "      <td>6.21</td>\n",
       "      <td>10.77</td>\n",
       "    </tr>\n",
       "    <tr>\n",
       "      <th>3</th>\n",
       "      <td>2</td>\n",
       "      <td>6031965</td>\n",
       "      <td>0</td>\n",
       "      <td>0.488725</td>\n",
       "      <td>0.003145</td>\n",
       "      <td>304</td>\n",
       "      <td>50</td>\n",
       "      <td>0</td>\n",
       "      <td>3</td>\n",
       "      <td>1015</td>\n",
       "      <td>...</td>\n",
       "      <td>0.0</td>\n",
       "      <td>0.36</td>\n",
       "      <td>0.14</td>\n",
       "      <td>0.22</td>\n",
       "      <td>0.002134</td>\n",
       "      <td>0.023882</td>\n",
       "      <td>2.8</td>\n",
       "      <td>3.87</td>\n",
       "      <td>6.21</td>\n",
       "      <td>10.77</td>\n",
       "    </tr>\n",
       "    <tr>\n",
       "      <th>4</th>\n",
       "      <td>2</td>\n",
       "      <td>492513</td>\n",
       "      <td>0</td>\n",
       "      <td>0.443904</td>\n",
       "      <td>0.003145</td>\n",
       "      <td>304</td>\n",
       "      <td>50</td>\n",
       "      <td>0</td>\n",
       "      <td>3</td>\n",
       "      <td>1015</td>\n",
       "      <td>...</td>\n",
       "      <td>0.0</td>\n",
       "      <td>0.36</td>\n",
       "      <td>0.14</td>\n",
       "      <td>0.22</td>\n",
       "      <td>0.002134</td>\n",
       "      <td>0.023882</td>\n",
       "      <td>2.8</td>\n",
       "      <td>3.87</td>\n",
       "      <td>6.21</td>\n",
       "      <td>10.77</td>\n",
       "    </tr>\n",
       "  </tbody>\n",
       "</table>\n",
       "<p>5 rows × 33 columns</p>\n",
       "</div>"
      ],
      "text/plain": [
       "   user_id  photo_id  click      time  duration_time  display_num  click_num  \\\n",
       "0        2    528031      0  0.451825       0.004574          304         50   \n",
       "1        2   3141045      0  0.453534       0.002859          304         50   \n",
       "2        2   6410672      0  0.449141       0.003716          304         50   \n",
       "3        2   6031965      0  0.488725       0.003145          304         50   \n",
       "4        2    492513      0  0.443904       0.003145          304         50   \n",
       "\n",
       "   like_num  follow_num  playing_sum          ...            woman_avg_attr  \\\n",
       "0         0           3         1015          ...                      66.0   \n",
       "1         0           3         1015          ...                       0.0   \n",
       "2         0           3         1015          ...                       0.0   \n",
       "3         0           3         1015          ...                       0.0   \n",
       "4         0           3         1015          ...                       0.0   \n",
       "\n",
       "   face_favor  man_favor  woman_favor  man_cv_favor  woman_cv_favor  \\\n",
       "0        0.36       0.14         0.22      0.002134        0.023882   \n",
       "1        0.36       0.14         0.22      0.002134        0.023882   \n",
       "2        0.36       0.14         0.22      0.002134        0.023882   \n",
       "3        0.36       0.14         0.22      0.002134        0.023882   \n",
       "4        0.36       0.14         0.22      0.002134        0.023882   \n",
       "\n",
       "   man_age_favor  woman_age_favor  man_yen_value_favor  woman_yen_value_favor  \n",
       "0            2.8             3.87                 6.21                  10.77  \n",
       "1            2.8             3.87                 6.21                  10.77  \n",
       "2            2.8             3.87                 6.21                  10.77  \n",
       "3            2.8             3.87                 6.21                  10.77  \n",
       "4            2.8             3.87                 6.21                  10.77  \n",
       "\n",
       "[5 rows x 33 columns]"
      ]
     },
     "execution_count": 171,
     "metadata": {},
     "output_type": "execute_result"
    }
   ],
   "source": [
    "user_item_train.head()"
   ]
  },
  {
   "cell_type": "code",
   "execution_count": 174,
   "metadata": {},
   "outputs": [
    {
     "name": "stdout",
     "output_type": "stream",
     "text": [
      "<class 'pandas.core.frame.DataFrame'>\n",
      "RangeIndex: 489929 entries, 0 to 489928\n",
      "Data columns (total 4 columns):\n",
      "user_id          489929 non-null int64\n",
      "photo_id         489929 non-null int64\n",
      "time             489929 non-null float64\n",
      "duration_time    489929 non-null float64\n",
      "dtypes: float64(2), int64(2)\n",
      "memory usage: 15.0 MB\n"
     ]
    }
   ],
   "source": []
  },
  {
   "cell_type": "markdown",
   "metadata": {},
   "source": [
    "离散特征的编码分为两种情况：\n",
    " - 离散特征的取值之间没有大小的意义，比如color：[red,blue],那么就使用one-hot编码\n",
    " - 离散特征的取值有大小的意义，比如size:[X,XL,XXL],那么就使用数值的映射{X:1,XL:2,XXL:3}"
   ]
  },
  {
   "cell_type": "code",
   "execution_count": 36,
   "metadata": {
    "collapsed": true
   },
   "outputs": [],
   "source": [
    "from sklearn.preprocessing import OneHotEncoder\n",
    "enc = OneHotEncoder()\n",
    "t = user_item_test.user_id.astype(str).str.get_dummies()"
   ]
  },
  {
   "cell_type": "code",
   "execution_count": 179,
   "metadata": {},
   "outputs": [
    {
     "data": {
      "text/plain": [
       "['user_id',\n",
       " 'photo_id',\n",
       " 'click',\n",
       " 'time',\n",
       " 'duration_time',\n",
       " 'display_num',\n",
       " 'click_num',\n",
       " 'like_num',\n",
       " 'follow_num',\n",
       " 'playing_sum',\n",
       " 'duration_sum',\n",
       " 'click_ratio',\n",
       " 'like_ratio',\n",
       " 'follow_ratio',\n",
       " 'playing_ratio',\n",
       " 'face_num',\n",
       " 'man_num',\n",
       " 'woman_num',\n",
       " 'man_scale',\n",
       " 'woman_scale',\n",
       " 'man_avg_age',\n",
       " 'woman_avg_age',\n",
       " 'man_avg_attr',\n",
       " 'woman_avg_attr',\n",
       " 'face_favor',\n",
       " 'man_favor',\n",
       " 'woman_favor',\n",
       " 'man_cv_favor',\n",
       " 'woman_cv_favor',\n",
       " 'man_age_favor',\n",
       " 'woman_age_favor',\n",
       " 'man_yen_value_favor',\n",
       " 'woman_yen_value_favor']"
      ]
     },
     "execution_count": 179,
     "metadata": {},
     "output_type": "execute_result"
    }
   ],
   "source": [
    "input_features"
   ]
  },
  {
   "cell_type": "code",
   "execution_count": 180,
   "metadata": {},
   "outputs": [],
   "source": [
    "features = list(set(input_features) - set(['user_id', 'photo_id', 'click']))\n",
    "X = user_item_train.as_matrix(features)"
   ]
  },
  {
   "cell_type": "code",
   "execution_count": 181,
   "metadata": {},
   "outputs": [
    {
     "data": {
      "text/plain": [
       "0"
      ]
     },
     "execution_count": 181,
     "metadata": {},
     "output_type": "execute_result"
    }
   ],
   "source": [
    "np.sum(np.isnan(X))"
   ]
  },
  {
   "cell_type": "code",
   "execution_count": 182,
   "metadata": {},
   "outputs": [],
   "source": [
    "from sklearn import preprocessing\n",
    "X = preprocessing.scale(X)"
   ]
  },
  {
   "cell_type": "code",
   "execution_count": 183,
   "metadata": {},
   "outputs": [
    {
     "data": {
      "text/plain": [
       "666"
      ]
     },
     "execution_count": 183,
     "metadata": {},
     "output_type": "execute_result"
    }
   ],
   "source": [
    "del user_item_train\n",
    "gc.collect()"
   ]
  },
  {
   "cell_type": "code",
   "execution_count": 184,
   "metadata": {},
   "outputs": [],
   "source": [
    "from sklearn.model_selection import cross_val_score, train_test_split, GridSearchCV\n",
    "from sklearn.feature_selection import SelectFromModel\n",
    "from sklearn.linear_model import LogisticRegression\n",
    "from sklearn.ensemble import RandomForestClassifier, AdaBoostClassifier, GradientBoostingClassifier\n",
    "from sklearn.metrics import recall_score, accuracy_score\n",
    "from sklearn import svm\n",
    "from xgboost import XGBClassifier\n"
   ]
  },
  {
   "cell_type": "code",
   "execution_count": 185,
   "metadata": {},
   "outputs": [],
   "source": [
    "X_train, X_test, y_train, y_test = train_test_split(X, y, test_size=0.2, random_state=0)"
   ]
  },
  {
   "cell_type": "code",
   "execution_count": 186,
   "metadata": {},
   "outputs": [
    {
     "name": "stdout",
     "output_type": "stream",
     "text": [
      "0.8037492329949165\n",
      "CPU times: user 26 s, sys: 3.71 s, total: 29.7 s\n",
      "Wall time: 31 s\n"
     ]
    }
   ],
   "source": [
    "%%time\n",
    "clf = LogisticRegression(C=1,random_state=1)\n",
    "clf.fit(X_train, y_train)\n",
    "print(clf.score(X_test, y_test))"
   ]
  },
  {
   "cell_type": "code",
   "execution_count": 104,
   "metadata": {},
   "outputs": [
    {
     "name": "stdout",
     "output_type": "stream",
     "text": [
      "[0.80415777 0.80431317 0.80208273 0.80400205 0.80444392]\n",
      "CPU times: user 1min 28s, sys: 16.9 s, total: 1min 45s\n",
      "Wall time: 1min 48s\n"
     ]
    }
   ],
   "source": [
    "%%time\n",
    "scores = cross_val_score(clf, X, y, cv=5)\n",
    "print(scores)"
   ]
  },
  {
   "cell_type": "code",
   "execution_count": 105,
   "metadata": {},
   "outputs": [
    {
     "name": "stdout",
     "output_type": "stream",
     "text": [
      "Accuracy: 0.80 (+/- 0.00)\n"
     ]
    }
   ],
   "source": [
    "print(\"Accuracy: %0.2f (+/- %0.2f)\" % (scores.mean(), scores.std() * 2))"
   ]
  },
  {
   "cell_type": "code",
   "execution_count": 106,
   "metadata": {},
   "outputs": [
    {
     "name": "stdout",
     "output_type": "stream",
     "text": [
      "0.8041721872341516\n",
      "CPU times: user 18min 22s, sys: 11.4 s, total: 18min 33s\n",
      "Wall time: 18min 34s\n"
     ]
    }
   ],
   "source": [
    "%%time\n",
    "clf = GradientBoostingClassifier(n_estimators=100, learning_rate=0.1, max_depth=4, min_samples_leaf=9)\n",
    "clf.fit(X_train, y_train)\n",
    "print(clf.score(X_test, y_test))"
   ]
  },
  {
   "cell_type": "code",
   "execution_count": 187,
   "metadata": {},
   "outputs": [
    {
     "name": "stdout",
     "output_type": "stream",
     "text": [
      "0.8048674983698638\n",
      "CPU times: user 8min 40s, sys: 3.96 s, total: 8min 44s\n",
      "Wall time: 8min 46s\n"
     ]
    },
    {
     "name": "stderr",
     "output_type": "stream",
     "text": [
      "/Library/Python/2.7/site-packages/sklearn/preprocessing/label.py:151: DeprecationWarning: The truth value of an empty array is ambiguous. Returning False, but in future this will result in an error. Use `array.size > 0` to check that an array is not empty.\n",
      "  if diff:\n"
     ]
    }
   ],
   "source": [
    "%%time\n",
    "clf = XGBClassifier()\n",
    "clf.fit(X_train, y_train)\n",
    "print(clf.score(X_test, y_test))"
   ]
  },
  {
   "cell_type": "code",
   "execution_count": 84,
   "metadata": {},
   "outputs": [
    {
     "name": "stdout",
     "output_type": "stream",
     "text": [
      "0.7580381331697056\n",
      "CPU times: user 1min 58s, sys: 312 ms, total: 1min 59s\n",
      "Wall time: 1min 59s\n"
     ]
    }
   ],
   "source": [
    "%%time\n",
    "clf = RandomForestClassifier()\n",
    "clf.fit(X_train, y_train)\n",
    "print(clf.score(X_test, y_test))"
   ]
  },
  {
   "cell_type": "code",
   "execution_count": 85,
   "metadata": {},
   "outputs": [
    {
     "name": "stdout",
     "output_type": "stream",
     "text": [
      "0.8034704677008753\n",
      "CPU times: user 3min 35s, sys: 12 ms, total: 3min 35s\n",
      "Wall time: 3min 35s\n"
     ]
    }
   ],
   "source": [
    "%%time\n",
    "clf = AdaBoostClassifier()\n",
    "clf.fit(X_train, y_train)\n",
    "print(clf.score(X_test, y_test))"
   ]
  },
  {
   "cell_type": "code",
   "execution_count": 45,
   "metadata": {
    "collapsed": true
   },
   "outputs": [],
   "source": [
    "# %%time\n",
    "# clf = svm.SVC(kernel=\"linear\", C=0.025)\n",
    "# clf.fit(X_train, y_train)\n",
    "# print(clf.score(X_test, y_test))\n",
    "# 无法收敛？"
   ]
  },
  {
   "cell_type": "code",
   "execution_count": 86,
   "metadata": {},
   "outputs": [
    {
     "name": "stdout",
     "output_type": "stream",
     "text": [
      "{'C': 1}\n",
      "0.8031981108043981\n",
      "CPU times: user 1min 21s, sys: 6.28 s, total: 1min 28s\n",
      "Wall time: 1min 20s\n"
     ]
    }
   ],
   "source": [
    "%%time\n",
    "param_grid = {\n",
    "              'C': [1, 10, 100, 500, 1000],\n",
    "             }\n",
    "\n",
    "# est = GradientBoostingClassifier({'n_estimators': 100, 'learning_rate': 0.1, 'max_depth': 4, 'min_samples_leaf': 9})\n",
    "# this may take some minutes\n",
    "gs_cv = GridSearchCV(LogisticRegression(), param_grid).fit(X_train, y_train)\n",
    "print(gs_cv.best_params_)\n",
    "\n",
    "\n",
    "# best hyperparameter setting\n",
    "\n",
    "# est.fit(X_train, y_train)\n",
    "print(accuracy_score(y_test, gs_cv.predict(X_test)))"
   ]
  },
  {
   "cell_type": "code",
   "execution_count": 89,
   "metadata": {},
   "outputs": [
    {
     "name": "stdout",
     "output_type": "stream",
     "text": [
      "Logistic Regression             测试集acc/recall:  0.803198110804/ 0.547419984411 训练集acc/recall:  0.803452529719/ 0.803452529719\n",
      "Decision Tree                   测试集acc/recall:  0.803233356991/ 0.548200542239 训练集acc/recall:  0.803756528565/ 0.803756528565\n",
      "Random Forest                   测试集acc/recall:  0.797509055867/ 0.500083824726 训练集acc/recall:  0.798000176231/ 0.798000176231\n",
      "AdaBoost                        测试集acc/recall:  0.803470467701/ 0.544536245292 训练集acc/recall:  0.803993639655/ 0.803993639655\n",
      "Gradient Boosting Decision Tree 测试集acc/recall:  0.803774866585/ 0.541911642983 训练集acc/recall:  0.804413390368/ 0.804413390368\n"
     ]
    },
    {
     "name": "stderr",
     "output_type": "stream",
     "text": [
      "/usr/local/lib/python2.7/dist-packages/sklearn/preprocessing/label.py:171: DeprecationWarning: The truth value of an empty array is ambiguous. Returning False, but in future this will result in an error. Use `array.size > 0` to check that an array is not empty.\n",
      "  if diff:\n",
      "/usr/local/lib/python2.7/dist-packages/sklearn/preprocessing/label.py:171: DeprecationWarning: The truth value of an empty array is ambiguous. Returning False, but in future this will result in an error. Use `array.size > 0` to check that an array is not empty.\n",
      "  if diff:\n",
      "/usr/local/lib/python2.7/dist-packages/sklearn/preprocessing/label.py:171: DeprecationWarning: The truth value of an empty array is ambiguous. Returning False, but in future this will result in an error. Use `array.size > 0` to check that an array is not empty.\n",
      "  if diff:\n",
      "/usr/local/lib/python2.7/dist-packages/sklearn/preprocessing/label.py:171: DeprecationWarning: The truth value of an empty array is ambiguous. Returning False, but in future this will result in an error. Use `array.size > 0` to check that an array is not empty.\n",
      "  if diff:\n"
     ]
    },
    {
     "name": "stdout",
     "output_type": "stream",
     "text": [
      "XGBoost                         测试集acc/recall:  0.803713986808/  0.54087891739 训练集acc/recall:  0.804273206447/ 0.804273206447\n",
      "Logistic Regression has no feture_importances_\n",
      "Decision Tree特征权值分布为: \n",
      "1. feature 3 (0.982352)\n",
      "2. feature 4 (0.017400)\n",
      "3. feature 11 (0.000248)\n",
      "4. feature 10 (0.000000)\n",
      "5. feature 9 (0.000000)\n",
      "6. feature 8 (0.000000)\n",
      "7. feature 7 (0.000000)\n",
      "8. feature 6 (0.000000)\n",
      "9. feature 5 (0.000000)\n",
      "10. feature 2 (0.000000)\n",
      "11. feature 1 (0.000000)\n",
      "12. feature 0 (0.000000)\n",
      "Random Forest特征权值分布为: \n",
      "1. feature 3 (0.326419)\n",
      "2. feature 0 (0.170496)\n",
      "3. feature 11 (0.142327)\n",
      "4. feature 9 (0.086825)\n",
      "5. feature 5 (0.070664)\n",
      "6. feature 10 (0.067439)\n",
      "7. feature 6 (0.047288)\n",
      "8. feature 2 (0.043262)\n",
      "9. feature 4 (0.029392)\n",
      "10. feature 7 (0.008334)\n",
      "11. feature 8 (0.003850)\n",
      "12. feature 1 (0.003704)\n",
      "AdaBoost特征权值分布为: \n",
      "1. feature 3 (0.720000)\n",
      "2. feature 8 (0.140000)\n",
      "3. feature 4 (0.140000)\n",
      "4. feature 11 (0.000000)\n",
      "5. feature 10 (0.000000)\n",
      "6. feature 9 (0.000000)\n",
      "7. feature 7 (0.000000)\n",
      "8. feature 6 (0.000000)\n",
      "9. feature 5 (0.000000)\n",
      "10. feature 2 (0.000000)\n",
      "11. feature 1 (0.000000)\n",
      "12. feature 0 (0.000000)\n",
      "Gradient Boosting Decision Tree特征权值分布为: \n",
      "1. feature 3 (0.331854)\n",
      "2. feature 8 (0.203366)\n",
      "3. feature 4 (0.148786)\n",
      "4. feature 10 (0.095543)\n",
      "5. feature 9 (0.088117)\n",
      "6. feature 11 (0.066473)\n",
      "7. feature 0 (0.024473)\n",
      "8. feature 5 (0.013774)\n",
      "9. feature 6 (0.011050)\n",
      "10. feature 2 (0.010402)\n",
      "11. feature 7 (0.004146)\n",
      "12. feature 1 (0.002017)\n",
      "XGBoost特征权值分布为: \n",
      "1. feature 3 (0.447143)\n",
      "2. feature 4 (0.265714)\n",
      "3. feature 8 (0.150000)\n",
      "4. feature 10 (0.045714)\n",
      "5. feature 11 (0.040000)\n",
      "6. feature 9 (0.028571)\n",
      "7. feature 0 (0.008571)\n",
      "8. feature 1 (0.007143)\n",
      "9. feature 5 (0.005714)\n",
      "10. feature 6 (0.001429)\n",
      "11. feature 7 (0.000000)\n",
      "12. feature 2 (0.000000)\n",
      "Decision Tree has no decision_function\n",
      "Random Forest has no decision_function\n",
      "XGBoost has no decision_function\n",
      "CPU times: user 22min 26s, sys: 1.99 s, total: 22min 28s\n",
      "Wall time: 18min 49s\n"
     ]
    },
    {
     "data": {
      "image/png": "[encoded data removed]",
      "text/plain": [
       "<matplotlib.figure.Figure at 0x7fa9aca9cd10>"
      ]
     },
     "metadata": {},
     "output_type": "display_data"
    }
   ],
   "source": [
    "%%time\n",
    "from sklearn.model_selection import StratifiedShuffleSplit\n",
    "from sklearn.model_selection import GridSearchCV\n",
    "\n",
    "from sklearn.metrics import roc_curve, auc\n",
    "from sklearn.metrics import recall_score, accuracy_score\n",
    "\n",
    "from sklearn import svm\n",
    "from sklearn.linear_model import LinearRegression\n",
    "from sklearn.linear_model import LogisticRegression\n",
    "\n",
    "from sklearn.tree import DecisionTreeClassifier\n",
    "\n",
    "from sklearn.ensemble import RandomForestClassifier, AdaBoostClassifier, GradientBoostingClassifier\n",
    "from xgboost import XGBClassifier\n",
    "\n",
    "# \"Linear SVM\", \"RBF SVM\",\n",
    "names = [\"Logistic Regression\",  \n",
    "         \"Decision Tree\", \"Random Forest\", \"AdaBoost\", \"Gradient Boosting Decision Tree\", \"XGBoost\"]\n",
    "classifiers = [\n",
    "    LogisticRegression(C=1),\n",
    "#     svm.SVC(kernel=\"linear\", C=0.025),\n",
    "#     svm.SVC(gamma=0.01, C=10),\n",
    "    DecisionTreeClassifier(max_depth=5),\n",
    "    RandomForestClassifier(max_depth=5, n_estimators=10, max_features=1),\n",
    "    AdaBoostClassifier(),\n",
    "    GradientBoostingClassifier(n_estimators=100, learning_rate=0.1, max_depth=4, min_samples_leaf=9),\n",
    "    XGBClassifier()]\n",
    "\n",
    "for name, clf in zip(names,classifiers):\n",
    "    clf.fit(X_train, y_train)\n",
    "    print(\"{:31} 测试集acc/recall: {:15}/{:15} 训练集acc/recall: {:15}/{:15}\".format(name, \n",
    "        accuracy_score(y_test, clf.predict(X_test)), recall_score(y_test, clf.predict(X_test), average='macro'), \n",
    "        accuracy_score(y_train, clf.predict(X_train)), recall_score(y_train, clf.predict(X_train), average='micro')))\n",
    "    \n",
    "for name, clf in zip(names, classifiers):\n",
    "    try: \n",
    "        importances = clf.feature_importances_\n",
    "        indices = np.argsort(importances)[::-1]\n",
    "        print('{}特征权值分布为: '.format(name))\n",
    "        for f in range(X_train.shape[1]):\n",
    "            print(\"%d. feature %d (%f)\" % (f + 1, indices[f], importances[indices[f]]))\n",
    "    except AttributeError:\n",
    "        print('{} has no feture_importances_'.format(name))\n",
    "    \n",
    "# b: blue\n",
    "# g: green\n",
    "# r: red\n",
    "# c: cyan\n",
    "# m: magenta\n",
    "# y: yellow\n",
    "# k: black\n",
    "# w: white\n",
    "colors = ['b', 'g', 'r', 'c', 'm', 'y', 'k', 'w']\n",
    "for name, clf, color in zip(names,classifiers, colors):\n",
    "    # y_score = classifier.fit(X_train, y_train).decision_function(X_test)\n",
    "    try:\n",
    "        y_score = clf.decision_function(X_test)\n",
    "    except AttributeError:\n",
    "        print('{} has no decision_function'.format(name))\n",
    "        continue\n",
    "\n",
    "    # Compute ROC curve and ROC area for each class\n",
    "    fpr, tpr, _ = roc_curve(y_test, y_score, sample_weight=None)\n",
    "    roc_auc = auc(fpr, tpr)\n",
    "\n",
    "    # Plot ROC curve\n",
    "    plt.plot(fpr, tpr, label='{} ROC curve (area = {})'.format(name, roc_auc))\n",
    "    plt.plot([0, 1], [0, 1], color)  # random predictions curve\n",
    "    plt.xlim([0.0, 1.0])\n",
    "    plt.ylim([0.0, 1.0])\n",
    "    plt.xlabel('False Positive Rate or (1 - Specifity)')\n",
    "    plt.ylabel('True Positive Rate or (Sensitivity)')\n",
    "    plt.title('Receiver Operating Characteristic')\n",
    "    plt.legend(loc=\"lower right\")"
   ]
  },
  {
   "cell_type": "code",
   "execution_count": 94,
   "metadata": {
    "collapsed": true
   },
   "outputs": [],
   "source": [
    "def feature_select(clf, X_train, X_test):\n",
    "    \n",
    "    # 评估特征\n",
    "    importances = clf.feature_importances_\n",
    "    indices = np.argsort(importances)[::-1]\n",
    "    print(\"特征权值分布为: \")\n",
    "    for f in range(X_train.shape[1]):\n",
    "        print(\"%d. feature %d (%f)\" % (f + 1, indices[f], importances[indices[f]]))\n",
    "    \n",
    "    # 过滤掉权值小于threshold的特征\n",
    "    model = SelectFromModel(clf, threshold=0.02, prefit=True)\n",
    "    X_train_new = model.transform(X_train)\n",
    "    X_test_new = model.transform(X_test)\n",
    "    print '训练集和测试集的容量以及选择的特征数为: ', X_train_new.shape, X_test_new.shape\n",
    "    # 返回压缩特征之后的训练集和测试集\n",
    "    return X_train_new, X_test_new"
   ]
  },
  {
   "cell_type": "code",
   "execution_count": 95,
   "metadata": {
    "collapsed": true
   },
   "outputs": [],
   "source": [
    "X_t = user_item_test.as_matrix(features)\n",
    "from sklearn import preprocessing\n",
    "X_t = preprocessing.scale(X_t)"
   ]
  },
  {
   "cell_type": "code",
   "execution_count": 96,
   "metadata": {},
   "outputs": [
    {
     "name": "stdout",
     "output_type": "stream",
     "text": [
      "特征权值分布为: \n",
      "1. feature 3 (0.331854)\n",
      "2. feature 8 (0.203366)\n",
      "3. feature 4 (0.148786)\n",
      "4. feature 10 (0.095543)\n",
      "5. feature 9 (0.088117)\n",
      "6. feature 11 (0.066473)\n",
      "7. feature 0 (0.024473)\n",
      "8. feature 5 (0.013774)\n",
      "9. feature 6 (0.011050)\n",
      "10. feature 2 (0.010402)\n",
      "11. feature 7 (0.004146)\n",
      "12. feature 1 (0.002017)\n",
      "训练集和测试集的容量以及选择的特征数为:  (3120901, 7) (489929, 7)\n"
     ]
    },
    {
     "name": "stderr",
     "output_type": "stream",
     "text": [
      "/usr/local/lib/python2.7/dist-packages/sklearn/utils/__init__.py:54: FutureWarning: Conversion of the second argument of issubdtype from `int` to `np.signedinteger` is deprecated. In future, it will be treated as `np.int64 == np.dtype(int).type`.\n",
      "  if np.issubdtype(mask.dtype, np.int):\n"
     ]
    }
   ],
   "source": [
    "X_compressed, X_t_compressed = feature_select(classifiers[4], X, X_t)"
   ]
  },
  {
   "cell_type": "code",
   "execution_count": 100,
   "metadata": {
    "collapsed": true
   },
   "outputs": [],
   "source": [
    "X_train_compressed, X_test_compressed, y_train, y_test = train_test_split(X_compressed, y, test_size=0.2, random_state=0)"
   ]
  },
  {
   "cell_type": "code",
   "execution_count": 102,
   "metadata": {},
   "outputs": [
    {
     "name": "stdout",
     "output_type": "stream",
     "text": [
      "Logistic Regression             测试集acc:  0.803230152792 训练集acc:  0.803466147586\n",
      "Logistic Regression             测试集recall:  0.117712676324 训练集recall:  0.116731363227\n",
      "Decision Tree                   测试集acc:  0.803233356991 训练集acc:  0.803756528565\n",
      "Decision Tree                   测试集recall:  0.119563927501 训练集recall:  0.119044975674\n",
      "Random Forest                   测试集acc:  0.797981675187 训练集acc:  0.798446762152\n",
      "Random Forest                   测试集recall: 0.00344933979953 训练集recall: 0.00336831837845\n",
      "AdaBoost                        测试集acc:  0.803470467701 训练集acc:  0.803993639655\n",
      "AdaBoost                        测试集recall:  0.109342489379 训练集recall:  0.108850806691\n",
      "Gradient Boosting Decision Tree 测试集acc:    0.8037348141 训练集acc:  0.804428209811\n",
      "Gradient Boosting Decision Tree 测试集recall:  0.101905839353 训练集recall:  0.101489673002\n"
     ]
    },
    {
     "name": "stderr",
     "output_type": "stream",
     "text": [
      "/usr/local/lib/python2.7/dist-packages/sklearn/preprocessing/label.py:171: DeprecationWarning: The truth value of an empty array is ambiguous. Returning False, but in future this will result in an error. Use `array.size > 0` to check that an array is not empty.\n",
      "  if diff:\n",
      "/usr/local/lib/python2.7/dist-packages/sklearn/preprocessing/label.py:171: DeprecationWarning: The truth value of an empty array is ambiguous. Returning False, but in future this will result in an error. Use `array.size > 0` to check that an array is not empty.\n",
      "  if diff:\n"
     ]
    },
    {
     "name": "stdout",
     "output_type": "stream",
     "text": [
      "XGBoost                         测试集acc:  0.803707578411 训练集acc:  0.804266798039\n"
     ]
    },
    {
     "name": "stderr",
     "output_type": "stream",
     "text": [
      "/usr/local/lib/python2.7/dist-packages/sklearn/preprocessing/label.py:171: DeprecationWarning: The truth value of an empty array is ambiguous. Returning False, but in future this will result in an error. Use `array.size > 0` to check that an array is not empty.\n",
      "  if diff:\n",
      "/usr/local/lib/python2.7/dist-packages/sklearn/preprocessing/label.py:171: DeprecationWarning: The truth value of an empty array is ambiguous. Returning False, but in future this will result in an error. Use `array.size > 0` to check that an array is not empty.\n",
      "  if diff:\n"
     ]
    },
    {
     "name": "stdout",
     "output_type": "stream",
     "text": [
      "XGBoost                         测试集recall: 0.0991606079066 训练集recall: 0.0985694063909\n"
     ]
    }
   ],
   "source": [
    "for name, clf in zip(names,classifiers):\n",
    "    clf.fit(X_train_compressed, y_train)\n",
    "    \n",
    "    print \"{:31} 测试集acc: {:15} 训练集acc: {:15}\".format(name, accuracy_score(clf.predict(X_test_compressed), y_test), accuracy_score(clf.predict(X_train_compressed), y_train))\n",
    "    print \"{:31} 测试集recall: {:15} 训练集recall: {:15}\".format(name, \n",
    "        recall_score(y_test, clf.predict(X_test_compressed)), \n",
    "        recall_score(y_train, clf.predict(X_train_compressed)))"
   ]
  },
  {
   "cell_type": "code",
   "execution_count": null,
   "metadata": {
    "collapsed": true
   },
   "outputs": [],
   "source": [
    "%%time\n",
    "param_grid = {'learning_rate': [1, 0.5, 0.1, 0.05, 0.02, 0.01],\n",
    "              'max_depth': [2, 4, 6, 8],\n",
    "              'min_samples_leaf': [3, 5, 9, 11, 13, 15, 17],\n",
    "              'n_estimators': [10, 100, 500, 1000, 2000],\n",
    "              # 'max_features': [1.0, 0.3, 0.1] ## not         possible in our example (only 1 fx)\n",
    "             }\n",
    "\n",
    "# est = GradientBoostingClassifier({'n_estimators': 100, 'learning_rate': 0.1, 'max_depth': 4, 'min_samples_leaf': 9})\n",
    "# this may take some minutes\n",
    "gs_cv = GridSearchCV(GradientBoostingClassifier(), param_grid, n_jobs=4).fit(X_train, y_train)\n",
    "print(gs_cv.best_params_)\n",
    "\n",
    "\n",
    "# best hyperparameter setting\n",
    "\n",
    "# est.fit(X_train, y_train)\n",
    "print(accuracy_score(y_test, gs_cv.predict(X_test)))"
   ]
  },
  {
   "cell_type": "code",
   "execution_count": 89,
   "metadata": {},
   "outputs": [
    {
     "data": {
      "text/plain": [
       "(3291332, 12)"
      ]
     },
     "execution_count": 89,
     "metadata": {},
     "output_type": "execute_result"
    }
   ],
   "source": [
    "X_t = user_item_test.as_matrix(features)\n",
    "from sklearn import preprocessing\n",
    "X_t = preprocessing.scale(X_t)\n",
    "X_t.shape"
   ]
  },
  {
   "cell_type": "code",
   "execution_count": 90,
   "metadata": {
    "collapsed": true
   },
   "outputs": [],
   "source": [
    "y_sub = clf.predict_proba(X_t)[:,1]\n",
    "submission = pd.DataFrame()\n",
    "submission['user_id'] = user_item_test['user_id']\n",
    "submission['photo_id'] = user_item_test['photo_id']\n",
    "submission['click_probability'] = y_sub\n",
    "submission['click_probability'] = submission['click_probability'].apply(lambda x: float('%.6f' % x))\n",
    "submission.to_csv('sub_lr.txt', sep='\\t', index=False, header=False)"
   ]
  },
  {
   "cell_type": "code",
   "execution_count": 91,
   "metadata": {},
   "outputs": [
    {
     "data": {
      "text/plain": [
       "count    3.291332e+06\n",
       "mean     2.022132e-01\n",
       "std      1.253956e-01\n",
       "min      0.000000e+00\n",
       "25%      1.160200e-01\n",
       "50%      1.669270e-01\n",
       "75%      2.521780e-01\n",
       "max      9.315520e-01\n",
       "Name: click_probability, dtype: float64"
      ]
     },
     "execution_count": 91,
     "metadata": {},
     "output_type": "execute_result"
    }
   ],
   "source": [
    "submission['click_probability'].describe()"
   ]
  }
 ],
 "metadata": {
  "kernelspec": {
   "display_name": "Python 3",
   "language": "python",
   "name": "python3"
  },
  "language_info": {
   "codemirror_mode": {
    "name": "ipython",
    "version": 2
   },
   "file_extension": ".py",
   "mimetype": "text/x-python",
   "name": "python",
   "nbconvert_exporter": "python",
   "pygments_lexer": "ipython2",
   "version": "2.7.10"
  }
 },
 "nbformat": 4,
 "nbformat_minor": 2
}
