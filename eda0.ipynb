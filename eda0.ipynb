{
 "cells": [
  {
   "cell_type": "code",
   "execution_count": 109,
   "metadata": {},
   "outputs": [],
   "source": [
    "import pandas as pd\n",
    "import numpy as np\n",
    "import matplotlib.pyplot as plt\n",
    "import seaborn as sns\n",
    "%matplotlib inline\n",
    "p = sns.color_palette()"
   ]
  },
  {
   "cell_type": "code",
   "execution_count": 110,
   "metadata": {},
   "outputs": [],
   "source": [
    "face_train = pd.read_csv('./sample/train_face.txt', \n",
    "                        sep='\\t', \n",
    "                        header=None, \n",
    "                        names=['photo_id', 'faces'])"
   ]
  },
  {
   "cell_type": "code",
   "execution_count": 111,
   "metadata": {},
   "outputs": [],
   "source": [
    "user_item_train = pd.read_csv('./sample/train_interaction.txt', \n",
    "                             sep='\\t', \n",
    "                             header=None, \n",
    "                             names=['user_id', 'photo_id', 'click', 'like', 'follow', 'time', 'playing_time', 'duration_time'])"
   ]
  },
  {
   "cell_type": "code",
   "execution_count": 112,
   "metadata": {},
   "outputs": [],
   "source": [
    "text_train = pd.read_csv('./sample/train_text.txt',\n",
    "                       sep='\\t',\n",
    "                       header=None,\n",
    "                       names=['photo_id', 'cover_words'])"
   ]
  },
  {
   "cell_type": "code",
   "execution_count": 113,
   "metadata": {},
   "outputs": [],
   "source": [
    "face_test = pd.read_csv('./sample/test_face.txt', \n",
    "                        sep='\\t', \n",
    "                        header=None, \n",
    "                        names=['photo_id', 'faces'])"
   ]
  },
  {
   "cell_type": "code",
   "execution_count": 114,
   "metadata": {},
   "outputs": [],
   "source": [
    "user_item_test = pd.read_csv('./sample/test_interaction.txt', \n",
    "                             sep='\\t', \n",
    "                             header=None, \n",
    "                             names=['user_id', 'photo_id', 'time', 'duration_time'])"
   ]
  },
  {
   "cell_type": "code",
   "execution_count": 115,
   "metadata": {},
   "outputs": [],
   "source": [
    "text_test = pd.read_csv('./sample/test_text.txt',\n",
    "                       sep='\\t',\n",
    "                       header=None,\n",
    "                       names=['photo_id', 'cover_words'])"
   ]
  },
  {
   "cell_type": "code",
   "execution_count": 116,
   "metadata": {},
   "outputs": [
    {
     "data": {
      "text/plain": [
       "0.2023378950092898"
      ]
     },
     "execution_count": 116,
     "metadata": {},
     "output_type": "execute_result"
    }
   ],
   "source": [
    "user_item_train['click'].mean()"
   ]
  },
  {
   "cell_type": "code",
   "execution_count": 117,
   "metadata": {},
   "outputs": [
    {
     "name": "stdout",
     "output_type": "stream",
     "text": [
      "<class 'pandas.core.frame.DataFrame'>\n",
      "RangeIndex: 2078622 entries, 0 to 2078621\n",
      "Data columns (total 8 columns):\n",
      "user_id          int64\n",
      "photo_id         int64\n",
      "click            int64\n",
      "like             int64\n",
      "follow           int64\n",
      "time             int64\n",
      "playing_time     int64\n",
      "duration_time    int64\n",
      "dtypes: int64(8)\n",
      "memory usage: 126.9 MB\n"
     ]
    }
   ],
   "source": [
    "user_item_train.info()"
   ]
  },
  {
   "cell_type": "code",
   "execution_count": 118,
   "metadata": {},
   "outputs": [
    {
     "data": {
      "text/plain": [
       "count    2.078622e+06\n",
       "mean     1.988872e+01\n",
       "std      2.745234e+01\n",
       "min      0.000000e+00\n",
       "25%      1.100000e+01\n",
       "50%      1.100000e+01\n",
       "75%      1.700000e+01\n",
       "max      3.100000e+03\n",
       "Name: duration_time, dtype: float64"
      ]
     },
     "execution_count": 118,
     "metadata": {},
     "output_type": "execute_result"
    }
   ],
   "source": [
    "user_item_train['duration_time'].describe()"
   ]
  },
  {
   "cell_type": "code",
   "execution_count": 119,
   "metadata": {},
   "outputs": [
    {
     "data": {
      "text/html": [
       "<div>\n",
       "<style>\n",
       "    .dataframe thead tr:only-child th {\n",
       "        text-align: right;\n",
       "    }\n",
       "\n",
       "    .dataframe thead th {\n",
       "        text-align: left;\n",
       "    }\n",
       "\n",
       "    .dataframe tbody tr th {\n",
       "        vertical-align: top;\n",
       "    }\n",
       "</style>\n",
       "<table border=\"1\" class=\"dataframe\">\n",
       "  <thead>\n",
       "    <tr style=\"text-align: right;\">\n",
       "      <th></th>\n",
       "      <th>user_id</th>\n",
       "      <th>photo_id</th>\n",
       "      <th>click</th>\n",
       "      <th>like</th>\n",
       "      <th>follow</th>\n",
       "      <th>time</th>\n",
       "      <th>playing_time</th>\n",
       "      <th>duration_time</th>\n",
       "    </tr>\n",
       "  </thead>\n",
       "  <tbody>\n",
       "    <tr>\n",
       "      <th>0</th>\n",
       "      <td>2</td>\n",
       "      <td>1574258</td>\n",
       "      <td>0</td>\n",
       "      <td>0</td>\n",
       "      <td>0</td>\n",
       "      <td>761101936481</td>\n",
       "      <td>0</td>\n",
       "      <td>17</td>\n",
       "    </tr>\n",
       "    <tr>\n",
       "      <th>1</th>\n",
       "      <td>2</td>\n",
       "      <td>7372212</td>\n",
       "      <td>0</td>\n",
       "      <td>0</td>\n",
       "      <td>0</td>\n",
       "      <td>761078878694</td>\n",
       "      <td>0</td>\n",
       "      <td>17</td>\n",
       "    </tr>\n",
       "    <tr>\n",
       "      <th>2</th>\n",
       "      <td>2</td>\n",
       "      <td>5362722</td>\n",
       "      <td>0</td>\n",
       "      <td>0</td>\n",
       "      <td>0</td>\n",
       "      <td>761072886486</td>\n",
       "      <td>0</td>\n",
       "      <td>11</td>\n",
       "    </tr>\n",
       "    <tr>\n",
       "      <th>3</th>\n",
       "      <td>2</td>\n",
       "      <td>3827112</td>\n",
       "      <td>0</td>\n",
       "      <td>0</td>\n",
       "      <td>0</td>\n",
       "      <td>761079482382</td>\n",
       "      <td>0</td>\n",
       "      <td>46</td>\n",
       "    </tr>\n",
       "    <tr>\n",
       "      <th>4</th>\n",
       "      <td>2</td>\n",
       "      <td>5869774</td>\n",
       "      <td>0</td>\n",
       "      <td>0</td>\n",
       "      <td>0</td>\n",
       "      <td>761102215487</td>\n",
       "      <td>0</td>\n",
       "      <td>37</td>\n",
       "    </tr>\n",
       "    <tr>\n",
       "      <th>5</th>\n",
       "      <td>2</td>\n",
       "      <td>6507578</td>\n",
       "      <td>0</td>\n",
       "      <td>0</td>\n",
       "      <td>0</td>\n",
       "      <td>761072092678</td>\n",
       "      <td>0</td>\n",
       "      <td>57</td>\n",
       "    </tr>\n",
       "    <tr>\n",
       "      <th>6</th>\n",
       "      <td>2</td>\n",
       "      <td>3310863</td>\n",
       "      <td>0</td>\n",
       "      <td>0</td>\n",
       "      <td>0</td>\n",
       "      <td>761070614301</td>\n",
       "      <td>0</td>\n",
       "      <td>11</td>\n",
       "    </tr>\n",
       "    <tr>\n",
       "      <th>7</th>\n",
       "      <td>2</td>\n",
       "      <td>2700937</td>\n",
       "      <td>1</td>\n",
       "      <td>0</td>\n",
       "      <td>0</td>\n",
       "      <td>761069384790</td>\n",
       "      <td>24</td>\n",
       "      <td>22</td>\n",
       "    </tr>\n",
       "    <tr>\n",
       "      <th>8</th>\n",
       "      <td>2</td>\n",
       "      <td>3731590</td>\n",
       "      <td>0</td>\n",
       "      <td>0</td>\n",
       "      <td>0</td>\n",
       "      <td>761079687252</td>\n",
       "      <td>0</td>\n",
       "      <td>2</td>\n",
       "    </tr>\n",
       "    <tr>\n",
       "      <th>9</th>\n",
       "      <td>2</td>\n",
       "      <td>6189469</td>\n",
       "      <td>0</td>\n",
       "      <td>0</td>\n",
       "      <td>0</td>\n",
       "      <td>761102249846</td>\n",
       "      <td>0</td>\n",
       "      <td>33</td>\n",
       "    </tr>\n",
       "    <tr>\n",
       "      <th>10</th>\n",
       "      <td>2</td>\n",
       "      <td>7072134</td>\n",
       "      <td>0</td>\n",
       "      <td>0</td>\n",
       "      <td>0</td>\n",
       "      <td>761124574940</td>\n",
       "      <td>0</td>\n",
       "      <td>52</td>\n",
       "    </tr>\n",
       "    <tr>\n",
       "      <th>11</th>\n",
       "      <td>2</td>\n",
       "      <td>1593076</td>\n",
       "      <td>1</td>\n",
       "      <td>0</td>\n",
       "      <td>0</td>\n",
       "      <td>761124092475</td>\n",
       "      <td>3</td>\n",
       "      <td>14</td>\n",
       "    </tr>\n",
       "    <tr>\n",
       "      <th>12</th>\n",
       "      <td>2</td>\n",
       "      <td>4653712</td>\n",
       "      <td>1</td>\n",
       "      <td>0</td>\n",
       "      <td>0</td>\n",
       "      <td>761102469965</td>\n",
       "      <td>18</td>\n",
       "      <td>57</td>\n",
       "    </tr>\n",
       "    <tr>\n",
       "      <th>13</th>\n",
       "      <td>2</td>\n",
       "      <td>6693829</td>\n",
       "      <td>0</td>\n",
       "      <td>0</td>\n",
       "      <td>0</td>\n",
       "      <td>761070832042</td>\n",
       "      <td>0</td>\n",
       "      <td>18</td>\n",
       "    </tr>\n",
       "    <tr>\n",
       "      <th>14</th>\n",
       "      <td>2</td>\n",
       "      <td>5979217</td>\n",
       "      <td>0</td>\n",
       "      <td>0</td>\n",
       "      <td>0</td>\n",
       "      <td>761078878694</td>\n",
       "      <td>0</td>\n",
       "      <td>140</td>\n",
       "    </tr>\n",
       "    <tr>\n",
       "      <th>15</th>\n",
       "      <td>2</td>\n",
       "      <td>7407270</td>\n",
       "      <td>0</td>\n",
       "      <td>0</td>\n",
       "      <td>0</td>\n",
       "      <td>761124574940</td>\n",
       "      <td>0</td>\n",
       "      <td>55</td>\n",
       "    </tr>\n",
       "    <tr>\n",
       "      <th>16</th>\n",
       "      <td>2</td>\n",
       "      <td>4878927</td>\n",
       "      <td>0</td>\n",
       "      <td>0</td>\n",
       "      <td>0</td>\n",
       "      <td>761073039510</td>\n",
       "      <td>0</td>\n",
       "      <td>57</td>\n",
       "    </tr>\n",
       "    <tr>\n",
       "      <th>17</th>\n",
       "      <td>2</td>\n",
       "      <td>3023413</td>\n",
       "      <td>0</td>\n",
       "      <td>0</td>\n",
       "      <td>0</td>\n",
       "      <td>761073315046</td>\n",
       "      <td>0</td>\n",
       "      <td>36</td>\n",
       "    </tr>\n",
       "    <tr>\n",
       "      <th>18</th>\n",
       "      <td>2</td>\n",
       "      <td>1739524</td>\n",
       "      <td>1</td>\n",
       "      <td>0</td>\n",
       "      <td>0</td>\n",
       "      <td>761079687252</td>\n",
       "      <td>13</td>\n",
       "      <td>29</td>\n",
       "    </tr>\n",
       "    <tr>\n",
       "      <th>19</th>\n",
       "      <td>2</td>\n",
       "      <td>4324476</td>\n",
       "      <td>0</td>\n",
       "      <td>0</td>\n",
       "      <td>0</td>\n",
       "      <td>761073407688</td>\n",
       "      <td>0</td>\n",
       "      <td>5</td>\n",
       "    </tr>\n",
       "    <tr>\n",
       "      <th>20</th>\n",
       "      <td>2</td>\n",
       "      <td>6704563</td>\n",
       "      <td>0</td>\n",
       "      <td>0</td>\n",
       "      <td>0</td>\n",
       "      <td>761072886486</td>\n",
       "      <td>0</td>\n",
       "      <td>31</td>\n",
       "    </tr>\n",
       "    <tr>\n",
       "      <th>21</th>\n",
       "      <td>2</td>\n",
       "      <td>3189972</td>\n",
       "      <td>0</td>\n",
       "      <td>0</td>\n",
       "      <td>0</td>\n",
       "      <td>761124141734</td>\n",
       "      <td>0</td>\n",
       "      <td>17</td>\n",
       "    </tr>\n",
       "    <tr>\n",
       "      <th>22</th>\n",
       "      <td>2</td>\n",
       "      <td>1115344</td>\n",
       "      <td>0</td>\n",
       "      <td>0</td>\n",
       "      <td>0</td>\n",
       "      <td>761074029929</td>\n",
       "      <td>0</td>\n",
       "      <td>11</td>\n",
       "    </tr>\n",
       "    <tr>\n",
       "      <th>23</th>\n",
       "      <td>2</td>\n",
       "      <td>2290029</td>\n",
       "      <td>0</td>\n",
       "      <td>0</td>\n",
       "      <td>0</td>\n",
       "      <td>761079322457</td>\n",
       "      <td>0</td>\n",
       "      <td>17</td>\n",
       "    </tr>\n",
       "    <tr>\n",
       "      <th>24</th>\n",
       "      <td>2</td>\n",
       "      <td>1184802</td>\n",
       "      <td>0</td>\n",
       "      <td>0</td>\n",
       "      <td>0</td>\n",
       "      <td>761074038496</td>\n",
       "      <td>0</td>\n",
       "      <td>10</td>\n",
       "    </tr>\n",
       "    <tr>\n",
       "      <th>25</th>\n",
       "      <td>2</td>\n",
       "      <td>2127298</td>\n",
       "      <td>1</td>\n",
       "      <td>0</td>\n",
       "      <td>0</td>\n",
       "      <td>761071781792</td>\n",
       "      <td>10</td>\n",
       "      <td>11</td>\n",
       "    </tr>\n",
       "    <tr>\n",
       "      <th>26</th>\n",
       "      <td>2</td>\n",
       "      <td>5713999</td>\n",
       "      <td>0</td>\n",
       "      <td>0</td>\n",
       "      <td>0</td>\n",
       "      <td>761079805050</td>\n",
       "      <td>0</td>\n",
       "      <td>42</td>\n",
       "    </tr>\n",
       "    <tr>\n",
       "      <th>27</th>\n",
       "      <td>2</td>\n",
       "      <td>5927321</td>\n",
       "      <td>0</td>\n",
       "      <td>0</td>\n",
       "      <td>0</td>\n",
       "      <td>761124253818</td>\n",
       "      <td>0</td>\n",
       "      <td>11</td>\n",
       "    </tr>\n",
       "    <tr>\n",
       "      <th>28</th>\n",
       "      <td>2</td>\n",
       "      <td>3801821</td>\n",
       "      <td>1</td>\n",
       "      <td>0</td>\n",
       "      <td>0</td>\n",
       "      <td>761072688657</td>\n",
       "      <td>23</td>\n",
       "      <td>10</td>\n",
       "    </tr>\n",
       "    <tr>\n",
       "      <th>29</th>\n",
       "      <td>2</td>\n",
       "      <td>3311406</td>\n",
       "      <td>0</td>\n",
       "      <td>0</td>\n",
       "      <td>0</td>\n",
       "      <td>761102542785</td>\n",
       "      <td>0</td>\n",
       "      <td>17</td>\n",
       "    </tr>\n",
       "    <tr>\n",
       "      <th>...</th>\n",
       "      <td>...</td>\n",
       "      <td>...</td>\n",
       "      <td>...</td>\n",
       "      <td>...</td>\n",
       "      <td>...</td>\n",
       "      <td>...</td>\n",
       "      <td>...</td>\n",
       "      <td>...</td>\n",
       "    </tr>\n",
       "    <tr>\n",
       "      <th>2078592</th>\n",
       "      <td>37820</td>\n",
       "      <td>3978358</td>\n",
       "      <td>0</td>\n",
       "      <td>0</td>\n",
       "      <td>0</td>\n",
       "      <td>761038873297</td>\n",
       "      <td>0</td>\n",
       "      <td>18</td>\n",
       "    </tr>\n",
       "    <tr>\n",
       "      <th>2078593</th>\n",
       "      <td>37820</td>\n",
       "      <td>5540798</td>\n",
       "      <td>0</td>\n",
       "      <td>0</td>\n",
       "      <td>0</td>\n",
       "      <td>761124102198</td>\n",
       "      <td>0</td>\n",
       "      <td>11</td>\n",
       "    </tr>\n",
       "    <tr>\n",
       "      <th>2078594</th>\n",
       "      <td>37820</td>\n",
       "      <td>5426399</td>\n",
       "      <td>1</td>\n",
       "      <td>0</td>\n",
       "      <td>0</td>\n",
       "      <td>761121596700</td>\n",
       "      <td>76</td>\n",
       "      <td>11</td>\n",
       "    </tr>\n",
       "    <tr>\n",
       "      <th>2078595</th>\n",
       "      <td>37820</td>\n",
       "      <td>5949687</td>\n",
       "      <td>0</td>\n",
       "      <td>0</td>\n",
       "      <td>0</td>\n",
       "      <td>760995423364</td>\n",
       "      <td>0</td>\n",
       "      <td>11</td>\n",
       "    </tr>\n",
       "    <tr>\n",
       "      <th>2078596</th>\n",
       "      <td>37820</td>\n",
       "      <td>7023941</td>\n",
       "      <td>0</td>\n",
       "      <td>0</td>\n",
       "      <td>0</td>\n",
       "      <td>761038811869</td>\n",
       "      <td>0</td>\n",
       "      <td>140</td>\n",
       "    </tr>\n",
       "    <tr>\n",
       "      <th>2078597</th>\n",
       "      <td>37820</td>\n",
       "      <td>1993903</td>\n",
       "      <td>0</td>\n",
       "      <td>0</td>\n",
       "      <td>0</td>\n",
       "      <td>761124363818</td>\n",
       "      <td>0</td>\n",
       "      <td>11</td>\n",
       "    </tr>\n",
       "    <tr>\n",
       "      <th>2078598</th>\n",
       "      <td>37820</td>\n",
       "      <td>445369</td>\n",
       "      <td>0</td>\n",
       "      <td>0</td>\n",
       "      <td>0</td>\n",
       "      <td>761124429167</td>\n",
       "      <td>0</td>\n",
       "      <td>11</td>\n",
       "    </tr>\n",
       "    <tr>\n",
       "      <th>2078599</th>\n",
       "      <td>37820</td>\n",
       "      <td>5242458</td>\n",
       "      <td>0</td>\n",
       "      <td>0</td>\n",
       "      <td>0</td>\n",
       "      <td>760995297062</td>\n",
       "      <td>0</td>\n",
       "      <td>7</td>\n",
       "    </tr>\n",
       "    <tr>\n",
       "      <th>2078600</th>\n",
       "      <td>37820</td>\n",
       "      <td>895249</td>\n",
       "      <td>0</td>\n",
       "      <td>0</td>\n",
       "      <td>0</td>\n",
       "      <td>761119374593</td>\n",
       "      <td>0</td>\n",
       "      <td>173</td>\n",
       "    </tr>\n",
       "    <tr>\n",
       "      <th>2078601</th>\n",
       "      <td>37820</td>\n",
       "      <td>3649354</td>\n",
       "      <td>0</td>\n",
       "      <td>0</td>\n",
       "      <td>0</td>\n",
       "      <td>761120065741</td>\n",
       "      <td>0</td>\n",
       "      <td>14</td>\n",
       "    </tr>\n",
       "    <tr>\n",
       "      <th>2078602</th>\n",
       "      <td>37820</td>\n",
       "      <td>1213360</td>\n",
       "      <td>1</td>\n",
       "      <td>0</td>\n",
       "      <td>0</td>\n",
       "      <td>761120085501</td>\n",
       "      <td>33</td>\n",
       "      <td>14</td>\n",
       "    </tr>\n",
       "    <tr>\n",
       "      <th>2078603</th>\n",
       "      <td>37820</td>\n",
       "      <td>1597984</td>\n",
       "      <td>1</td>\n",
       "      <td>0</td>\n",
       "      <td>0</td>\n",
       "      <td>761119812226</td>\n",
       "      <td>68</td>\n",
       "      <td>11</td>\n",
       "    </tr>\n",
       "    <tr>\n",
       "      <th>2078604</th>\n",
       "      <td>37820</td>\n",
       "      <td>4343654</td>\n",
       "      <td>0</td>\n",
       "      <td>0</td>\n",
       "      <td>0</td>\n",
       "      <td>760995241043</td>\n",
       "      <td>0</td>\n",
       "      <td>11</td>\n",
       "    </tr>\n",
       "    <tr>\n",
       "      <th>2078605</th>\n",
       "      <td>37820</td>\n",
       "      <td>4791102</td>\n",
       "      <td>0</td>\n",
       "      <td>0</td>\n",
       "      <td>0</td>\n",
       "      <td>760995423364</td>\n",
       "      <td>0</td>\n",
       "      <td>14</td>\n",
       "    </tr>\n",
       "    <tr>\n",
       "      <th>2078606</th>\n",
       "      <td>37820</td>\n",
       "      <td>5467263</td>\n",
       "      <td>1</td>\n",
       "      <td>0</td>\n",
       "      <td>0</td>\n",
       "      <td>761124624611</td>\n",
       "      <td>31</td>\n",
       "      <td>18</td>\n",
       "    </tr>\n",
       "    <tr>\n",
       "      <th>2078607</th>\n",
       "      <td>37820</td>\n",
       "      <td>5072421</td>\n",
       "      <td>0</td>\n",
       "      <td>0</td>\n",
       "      <td>0</td>\n",
       "      <td>760995215048</td>\n",
       "      <td>0</td>\n",
       "      <td>10</td>\n",
       "    </tr>\n",
       "    <tr>\n",
       "      <th>2078608</th>\n",
       "      <td>37820</td>\n",
       "      <td>6656496</td>\n",
       "      <td>0</td>\n",
       "      <td>0</td>\n",
       "      <td>0</td>\n",
       "      <td>761119812226</td>\n",
       "      <td>0</td>\n",
       "      <td>11</td>\n",
       "    </tr>\n",
       "    <tr>\n",
       "      <th>2078609</th>\n",
       "      <td>37820</td>\n",
       "      <td>7488140</td>\n",
       "      <td>0</td>\n",
       "      <td>0</td>\n",
       "      <td>0</td>\n",
       "      <td>761124608103</td>\n",
       "      <td>0</td>\n",
       "      <td>17</td>\n",
       "    </tr>\n",
       "    <tr>\n",
       "      <th>2078610</th>\n",
       "      <td>37820</td>\n",
       "      <td>1318659</td>\n",
       "      <td>1</td>\n",
       "      <td>0</td>\n",
       "      <td>0</td>\n",
       "      <td>761038873297</td>\n",
       "      <td>8</td>\n",
       "      <td>11</td>\n",
       "    </tr>\n",
       "    <tr>\n",
       "      <th>2078611</th>\n",
       "      <td>37820</td>\n",
       "      <td>5309849</td>\n",
       "      <td>0</td>\n",
       "      <td>0</td>\n",
       "      <td>0</td>\n",
       "      <td>761124516272</td>\n",
       "      <td>0</td>\n",
       "      <td>11</td>\n",
       "    </tr>\n",
       "    <tr>\n",
       "      <th>2078612</th>\n",
       "      <td>37820</td>\n",
       "      <td>195638</td>\n",
       "      <td>0</td>\n",
       "      <td>0</td>\n",
       "      <td>0</td>\n",
       "      <td>761119162431</td>\n",
       "      <td>0</td>\n",
       "      <td>11</td>\n",
       "    </tr>\n",
       "    <tr>\n",
       "      <th>2078613</th>\n",
       "      <td>37820</td>\n",
       "      <td>6999984</td>\n",
       "      <td>0</td>\n",
       "      <td>0</td>\n",
       "      <td>0</td>\n",
       "      <td>761120065741</td>\n",
       "      <td>0</td>\n",
       "      <td>11</td>\n",
       "    </tr>\n",
       "    <tr>\n",
       "      <th>2078614</th>\n",
       "      <td>37820</td>\n",
       "      <td>7279370</td>\n",
       "      <td>0</td>\n",
       "      <td>0</td>\n",
       "      <td>0</td>\n",
       "      <td>761124552039</td>\n",
       "      <td>0</td>\n",
       "      <td>11</td>\n",
       "    </tr>\n",
       "    <tr>\n",
       "      <th>2078615</th>\n",
       "      <td>37820</td>\n",
       "      <td>5863917</td>\n",
       "      <td>1</td>\n",
       "      <td>0</td>\n",
       "      <td>0</td>\n",
       "      <td>761120143960</td>\n",
       "      <td>13</td>\n",
       "      <td>11</td>\n",
       "    </tr>\n",
       "    <tr>\n",
       "      <th>2078616</th>\n",
       "      <td>37820</td>\n",
       "      <td>2077455</td>\n",
       "      <td>0</td>\n",
       "      <td>0</td>\n",
       "      <td>0</td>\n",
       "      <td>761035070578</td>\n",
       "      <td>0</td>\n",
       "      <td>11</td>\n",
       "    </tr>\n",
       "    <tr>\n",
       "      <th>2078617</th>\n",
       "      <td>37820</td>\n",
       "      <td>3234742</td>\n",
       "      <td>0</td>\n",
       "      <td>0</td>\n",
       "      <td>0</td>\n",
       "      <td>760995429619</td>\n",
       "      <td>0</td>\n",
       "      <td>11</td>\n",
       "    </tr>\n",
       "    <tr>\n",
       "      <th>2078618</th>\n",
       "      <td>37820</td>\n",
       "      <td>711147</td>\n",
       "      <td>1</td>\n",
       "      <td>0</td>\n",
       "      <td>0</td>\n",
       "      <td>761119162431</td>\n",
       "      <td>32</td>\n",
       "      <td>29</td>\n",
       "    </tr>\n",
       "    <tr>\n",
       "      <th>2078619</th>\n",
       "      <td>37820</td>\n",
       "      <td>6830519</td>\n",
       "      <td>0</td>\n",
       "      <td>0</td>\n",
       "      <td>0</td>\n",
       "      <td>761124516272</td>\n",
       "      <td>0</td>\n",
       "      <td>11</td>\n",
       "    </tr>\n",
       "    <tr>\n",
       "      <th>2078620</th>\n",
       "      <td>37820</td>\n",
       "      <td>345523</td>\n",
       "      <td>1</td>\n",
       "      <td>0</td>\n",
       "      <td>0</td>\n",
       "      <td>761124102198</td>\n",
       "      <td>22</td>\n",
       "      <td>17</td>\n",
       "    </tr>\n",
       "    <tr>\n",
       "      <th>2078621</th>\n",
       "      <td>37820</td>\n",
       "      <td>1632428</td>\n",
       "      <td>0</td>\n",
       "      <td>0</td>\n",
       "      <td>0</td>\n",
       "      <td>761123581500</td>\n",
       "      <td>0</td>\n",
       "      <td>57</td>\n",
       "    </tr>\n",
       "  </tbody>\n",
       "</table>\n",
       "<p>2078622 rows × 8 columns</p>\n",
       "</div>"
      ],
      "text/plain": [
       "         user_id  photo_id  click  like  follow          time  playing_time  \\\n",
       "0              2   1574258      0     0       0  761101936481             0   \n",
       "1              2   7372212      0     0       0  761078878694             0   \n",
       "2              2   5362722      0     0       0  761072886486             0   \n",
       "3              2   3827112      0     0       0  761079482382             0   \n",
       "4              2   5869774      0     0       0  761102215487             0   \n",
       "5              2   6507578      0     0       0  761072092678             0   \n",
       "6              2   3310863      0     0       0  761070614301             0   \n",
       "7              2   2700937      1     0       0  761069384790            24   \n",
       "8              2   3731590      0     0       0  761079687252             0   \n",
       "9              2   6189469      0     0       0  761102249846             0   \n",
       "10             2   7072134      0     0       0  761124574940             0   \n",
       "11             2   1593076      1     0       0  761124092475             3   \n",
       "12             2   4653712      1     0       0  761102469965            18   \n",
       "13             2   6693829      0     0       0  761070832042             0   \n",
       "14             2   5979217      0     0       0  761078878694             0   \n",
       "15             2   7407270      0     0       0  761124574940             0   \n",
       "16             2   4878927      0     0       0  761073039510             0   \n",
       "17             2   3023413      0     0       0  761073315046             0   \n",
       "18             2   1739524      1     0       0  761079687252            13   \n",
       "19             2   4324476      0     0       0  761073407688             0   \n",
       "20             2   6704563      0     0       0  761072886486             0   \n",
       "21             2   3189972      0     0       0  761124141734             0   \n",
       "22             2   1115344      0     0       0  761074029929             0   \n",
       "23             2   2290029      0     0       0  761079322457             0   \n",
       "24             2   1184802      0     0       0  761074038496             0   \n",
       "25             2   2127298      1     0       0  761071781792            10   \n",
       "26             2   5713999      0     0       0  761079805050             0   \n",
       "27             2   5927321      0     0       0  761124253818             0   \n",
       "28             2   3801821      1     0       0  761072688657            23   \n",
       "29             2   3311406      0     0       0  761102542785             0   \n",
       "...          ...       ...    ...   ...     ...           ...           ...   \n",
       "2078592    37820   3978358      0     0       0  761038873297             0   \n",
       "2078593    37820   5540798      0     0       0  761124102198             0   \n",
       "2078594    37820   5426399      1     0       0  761121596700            76   \n",
       "2078595    37820   5949687      0     0       0  760995423364             0   \n",
       "2078596    37820   7023941      0     0       0  761038811869             0   \n",
       "2078597    37820   1993903      0     0       0  761124363818             0   \n",
       "2078598    37820    445369      0     0       0  761124429167             0   \n",
       "2078599    37820   5242458      0     0       0  760995297062             0   \n",
       "2078600    37820    895249      0     0       0  761119374593             0   \n",
       "2078601    37820   3649354      0     0       0  761120065741             0   \n",
       "2078602    37820   1213360      1     0       0  761120085501            33   \n",
       "2078603    37820   1597984      1     0       0  761119812226            68   \n",
       "2078604    37820   4343654      0     0       0  760995241043             0   \n",
       "2078605    37820   4791102      0     0       0  760995423364             0   \n",
       "2078606    37820   5467263      1     0       0  761124624611            31   \n",
       "2078607    37820   5072421      0     0       0  760995215048             0   \n",
       "2078608    37820   6656496      0     0       0  761119812226             0   \n",
       "2078609    37820   7488140      0     0       0  761124608103             0   \n",
       "2078610    37820   1318659      1     0       0  761038873297             8   \n",
       "2078611    37820   5309849      0     0       0  761124516272             0   \n",
       "2078612    37820    195638      0     0       0  761119162431             0   \n",
       "2078613    37820   6999984      0     0       0  761120065741             0   \n",
       "2078614    37820   7279370      0     0       0  761124552039             0   \n",
       "2078615    37820   5863917      1     0       0  761120143960            13   \n",
       "2078616    37820   2077455      0     0       0  761035070578             0   \n",
       "2078617    37820   3234742      0     0       0  760995429619             0   \n",
       "2078618    37820    711147      1     0       0  761119162431            32   \n",
       "2078619    37820   6830519      0     0       0  761124516272             0   \n",
       "2078620    37820    345523      1     0       0  761124102198            22   \n",
       "2078621    37820   1632428      0     0       0  761123581500             0   \n",
       "\n",
       "         duration_time  \n",
       "0                   17  \n",
       "1                   17  \n",
       "2                   11  \n",
       "3                   46  \n",
       "4                   37  \n",
       "5                   57  \n",
       "6                   11  \n",
       "7                   22  \n",
       "8                    2  \n",
       "9                   33  \n",
       "10                  52  \n",
       "11                  14  \n",
       "12                  57  \n",
       "13                  18  \n",
       "14                 140  \n",
       "15                  55  \n",
       "16                  57  \n",
       "17                  36  \n",
       "18                  29  \n",
       "19                   5  \n",
       "20                  31  \n",
       "21                  17  \n",
       "22                  11  \n",
       "23                  17  \n",
       "24                  10  \n",
       "25                  11  \n",
       "26                  42  \n",
       "27                  11  \n",
       "28                  10  \n",
       "29                  17  \n",
       "...                ...  \n",
       "2078592             18  \n",
       "2078593             11  \n",
       "2078594             11  \n",
       "2078595             11  \n",
       "2078596            140  \n",
       "2078597             11  \n",
       "2078598             11  \n",
       "2078599              7  \n",
       "2078600            173  \n",
       "2078601             14  \n",
       "2078602             14  \n",
       "2078603             11  \n",
       "2078604             11  \n",
       "2078605             14  \n",
       "2078606             18  \n",
       "2078607             10  \n",
       "2078608             11  \n",
       "2078609             17  \n",
       "2078610             11  \n",
       "2078611             11  \n",
       "2078612             11  \n",
       "2078613             11  \n",
       "2078614             11  \n",
       "2078615             11  \n",
       "2078616             11  \n",
       "2078617             11  \n",
       "2078618             29  \n",
       "2078619             11  \n",
       "2078620             17  \n",
       "2078621             57  \n",
       "\n",
       "[2078622 rows x 8 columns]"
      ]
     },
     "execution_count": 119,
     "metadata": {},
     "output_type": "execute_result"
    }
   ],
   "source": [
    "user_item_train"
   ]
  },
  {
   "cell_type": "code",
   "execution_count": 120,
   "metadata": {},
   "outputs": [],
   "source": [
    "time_df = user_item_train['time']\n",
    "user_item_train['time'] = (time_df-time_df.min())/(time_df.max()-time_df.min())"
   ]
  },
  {
   "cell_type": "code",
   "execution_count": 121,
   "metadata": {},
   "outputs": [],
   "source": [
    "lower, higher = time_df.min(), time_df.max()\n"
   ]
  },
  {
   "cell_type": "code",
   "execution_count": 122,
   "metadata": {},
   "outputs": [
    {
     "data": {
      "text/plain": [
       "0.002995734674221672"
      ]
     },
     "execution_count": 122,
     "metadata": {},
     "output_type": "execute_result"
    }
   ],
   "source": [
    "user_item_train['like'].mean()"
   ]
  },
  {
   "cell_type": "code",
   "execution_count": 123,
   "metadata": {},
   "outputs": [
    {
     "data": {
      "text/plain": [
       "0.0009626569910257853"
      ]
     },
     "execution_count": 123,
     "metadata": {},
     "output_type": "execute_result"
    }
   ],
   "source": [
    "user_item_train['follow'].mean()"
   ]
  },
  {
   "cell_type": "code",
   "execution_count": 124,
   "metadata": {},
   "outputs": [
    {
     "data": {
      "text/plain": [
       "<matplotlib.text.Text at 0x10f816dd0>"
      ]
     },
     "execution_count": 124,
     "metadata": {},
     "output_type": "execute_result"
    },
    {
     "data": {
      "image/png": "[encoded data removed]",
      "text/plain": [
       "<matplotlib.figure.Figure at 0x110591590>"
      ]
     },
     "metadata": {},
     "output_type": "display_data"
    }
   ],
   "source": [
    "sizes_train = user_item_train.groupby('user_id')['photo_id'].count().value_counts()\n",
    "sizes_test = user_item_test.groupby('user_id')['photo_id'].count().value_counts()\n",
    "sizes_train = sizes_train / np.sum(sizes_train)\n",
    "sizes_test = sizes_test / np.sum(sizes_test)\n",
    "\n",
    "plt.figure(figsize=(12,4))\n",
    "sns.barplot(sizes_train.index, sizes_train.values, alpha=0.8, color=p[0], label='train')\n",
    "sns.barplot(sizes_test.index, sizes_test.values, alpha=0.6, color=p[1], label='test')\n",
    "plt.legend()\n",
    "plt.xlabel('Number of photos in user', fontsize=12)\n",
    "plt.ylabel('Proportion of set', fontsize=12)"
   ]
  },
  {
   "cell_type": "code",
   "execution_count": 125,
   "metadata": {},
   "outputs": [],
   "source": [
    "photo_intersection_prop = 1. * len(set(user_item_train.photo_id.unique()) & set(user_item_test.photo_id.unique())) / len(user_item_test.photo_id.unique())"
   ]
  },
  {
   "cell_type": "code",
   "execution_count": 126,
   "metadata": {},
   "outputs": [
    {
     "data": {
      "text/plain": [
       "0.0"
      ]
     },
     "execution_count": 126,
     "metadata": {},
     "output_type": "execute_result"
    }
   ],
   "source": [
    "photo_intersection_prop"
   ]
  },
  {
   "cell_type": "code",
   "execution_count": 127,
   "metadata": {},
   "outputs": [],
   "source": [
    "t = user_item_train.loc[(user_item_train['click'] == 1) & (user_item_train['like'] == 1)]"
   ]
  },
  {
   "cell_type": "code",
   "execution_count": 128,
   "metadata": {},
   "outputs": [
    {
     "data": {
      "text/plain": [
       "<pandas.core.groupby.DataFrameGroupBy object at 0x112dd8590>"
      ]
     },
     "execution_count": 128,
     "metadata": {},
     "output_type": "execute_result"
    }
   ],
   "source": [
    "user_item_train.groupby(['user_id'])"
   ]
  },
  {
   "cell_type": "code",
   "execution_count": 129,
   "metadata": {},
   "outputs": [],
   "source": [
    "def add_user_feature(group):\n",
    "    # group is pandas.core.frame.DataFrame\n",
    "    # DataFrame.size != DataFrame.count\n",
    "    n = group.shape[0] * 1.\n",
    "    group['display_num'] = group.shape[0]\n",
    "    group['click_num'] = group.click.sum()\n",
    "    group['like_num'] = group.like.sum()\n",
    "    group['follow_num'] = group.follow.sum()\n",
    "    group['click_ratio'] = group['click_num'] / n\n",
    "    group['like_ratio'] = group['like_num'] / n\n",
    "    group['follow_ratio'] = group['follow_num'] / n\n",
    "    group['playing_sum'] = group.playing_time.sum()\n",
    "    group['playing_ratio'] = group['playing_sum'] / group.duration_time.sum()\n",
    "    return group[['user_id', 'display_num', 'click_num', 'like_num', 'follow_num', 'playing_sum', 'click_ratio', 'like_ratio', 'follow_ratio', 'playing_ratio']]"
   ]
  },
  {
   "cell_type": "code",
   "execution_count": 130,
   "metadata": {},
   "outputs": [],
   "source": [
    "users = pd.DataFrame()\n",
    "users['user_id'] = user_item_train['user_id']\n",
    "\n",
    "users['display_num'] = user_item_train['user_id'].groupby(user_item_train['user_id']).transform('count')\n",
    "users['click_num'] = user_item_train['click'].groupby(user_item_train['user_id']).transform('sum')\n",
    "users['like_num'] = user_item_train['like'].groupby(user_item_train['user_id']).transform('sum')\n",
    "users['follow_num'] = user_item_train['follow'].groupby(user_item_train['user_id']).transform('sum')\n",
    "users['playing_sum'] = user_item_train['playing_time'].groupby(user_item_train['user_id']).transform('sum')\n",
    "users['duration_sum'] = user_item_train['duration_time'].groupby(user_item_train['user_id']).transform('sum')\n",
    "users['click_ratio'] = user_item_train['click'].groupby(user_item_train['user_id']).transform('mean')\n",
    "users['like_ratio'] = user_item_train['like'].groupby(user_item_train['user_id']).transform('mean')\n",
    "users['follow_ratio'] = user_item_train['follow'].groupby(user_item_train['user_id']).transform('mean')\n",
    "users['playing_ratio'] = users['playing_sum'] / users['duration_sum']\n"
   ]
  },
  {
   "cell_type": "code",
   "execution_count": 132,
   "metadata": {},
   "outputs": [],
   "source": [
    "users.drop_duplicates(inplace=True)"
   ]
  },
  {
   "cell_type": "code",
   "execution_count": 136,
   "metadata": {},
   "outputs": [],
   "source": [
    "import numpy as np\n",
    "import scipy as sp\n",
    "from scipy import sparse as ssp\n",
    "from scipy.stats import spearmanr\n",
    "import pandas as pd\n",
    "from sklearn.linear_model import LogisticRegression\n",
    "from sklearn.model_selection import StratifiedKFold\n",
    "from sklearn.metrics import roc_auc_score\n",
    "from sklearn.preprocessing import OneHotEncoder,MinMaxScaler"
   ]
  },
  {
   "cell_type": "code",
   "execution_count": 137,
   "metadata": {},
   "outputs": [],
   "source": [
    "user_features = ['display_num', 'click_num', 'like_num', 'follow_num', 'playing_sum', 'click_ratio', 'like_ratio', 'follow_ratio', 'playing_ratio']\n",
    "user_item_train = pd.merge(user_item_train, users,\n",
    "                          how='inner',\n",
    "                          on=['user_id'])"
   ]
  },
  {
   "cell_type": "code",
   "execution_count": 138,
   "metadata": {},
   "outputs": [
    {
     "data": {
      "text/plain": [
       "count    2.078622e+06\n",
       "mean     2.774591e+02\n",
       "std      2.640130e+02\n",
       "min      1.000000e+01\n",
       "25%      1.080000e+02\n",
       "50%      1.950000e+02\n",
       "75%      3.500000e+02\n",
       "max      1.944000e+03\n",
       "Name: display_num, dtype: float64"
      ]
     },
     "execution_count": 138,
     "metadata": {},
     "output_type": "execute_result"
    }
   ],
   "source": [
    "user_item_train.display_num.describe()"
   ]
  },
  {
   "cell_type": "code",
   "execution_count": 139,
   "metadata": {},
   "outputs": [
    {
     "data": {
      "text/plain": [
       "117"
      ]
     },
     "execution_count": 139,
     "metadata": {},
     "output_type": "execute_result"
    }
   ],
   "source": [
    "import gc\n",
    "gc.collect()\n"
   ]
  },
  {
   "cell_type": "code",
   "execution_count": 140,
   "metadata": {},
   "outputs": [
    {
     "name": "stdout",
     "output_type": "stream",
     "text": [
      "SpearmanrResult(correlation=0.3000391490895373, pvalue=0.0)\n"
     ]
    }
   ],
   "source": [
    "corrscore = spearmanr(user_item_train['click'], user_item_train['click_ratio'])\n",
    "print(corrscore)"
   ]
  },
  {
   "cell_type": "code",
   "execution_count": 141,
   "metadata": {},
   "outputs": [
    {
     "name": "stdout",
     "output_type": "stream",
     "text": [
      "SpearmanrResult(correlation=0.030244975416974046, pvalue=0.0)\n"
     ]
    }
   ],
   "source": [
    "corrscore = spearmanr(user_item_train['click'], user_item_train['like_ratio'])\n",
    "print(corrscore)"
   ]
  },
  {
   "cell_type": "code",
   "execution_count": 142,
   "metadata": {},
   "outputs": [
    {
     "name": "stdout",
     "output_type": "stream",
     "text": [
      "SpearmanrResult(correlation=-6.572900620837345e-05, pvalue=0.9245020772929361)\n"
     ]
    }
   ],
   "source": [
    "corrscore = spearmanr(user_item_train['click'], user_item_train['follow_ratio'])\n",
    "print(corrscore)"
   ]
  },
  {
   "cell_type": "code",
   "execution_count": 143,
   "metadata": {},
   "outputs": [
    {
     "name": "stdout",
     "output_type": "stream",
     "text": [
      "SpearmanrResult(correlation=0.2607557696331477, pvalue=0.0)\n"
     ]
    }
   ],
   "source": [
    "corrscore = spearmanr(user_item_train['click'], user_item_train['playing_ratio'])\n",
    "print(corrscore)"
   ]
  },
  {
   "cell_type": "code",
   "execution_count": 144,
   "metadata": {},
   "outputs": [
    {
     "name": "stdout",
     "output_type": "stream",
     "text": [
      "SpearmanrResult(correlation=0.08294383476962568, pvalue=0.0)\n"
     ]
    }
   ],
   "source": [
    "corrscore = spearmanr(user_item_train['click'], user_item_train['click_num'])\n",
    "print(corrscore)"
   ]
  },
  {
   "cell_type": "code",
   "execution_count": 145,
   "metadata": {},
   "outputs": [
    {
     "name": "stdout",
     "output_type": "stream",
     "text": [
      "SpearmanrResult(correlation=0.024520313998902706, pvalue=7.749839689110636e-274)\n"
     ]
    }
   ],
   "source": [
    "corrscore = spearmanr(user_item_train['click'], user_item_train['like_num'])\n",
    "print(corrscore)"
   ]
  },
  {
   "cell_type": "code",
   "execution_count": 146,
   "metadata": {},
   "outputs": [
    {
     "name": "stdout",
     "output_type": "stream",
     "text": [
      "SpearmanrResult(correlation=-0.0035471662713904115, pvalue=3.152168331505878e-07)\n"
     ]
    }
   ],
   "source": [
    "corrscore = spearmanr(user_item_train['click'], user_item_train['follow_num'])\n",
    "print(corrscore)"
   ]
  },
  {
   "cell_type": "code",
   "execution_count": 147,
   "metadata": {},
   "outputs": [
    {
     "name": "stdout",
     "output_type": "stream",
     "text": [
      "SpearmanrResult(correlation=0.09803708931168237, pvalue=0.0)\n"
     ]
    }
   ],
   "source": [
    "corrscore = spearmanr(user_item_train['click'], user_item_train['playing_sum'])\n",
    "print(corrscore)"
   ]
  },
  {
   "cell_type": "code",
   "execution_count": 148,
   "metadata": {},
   "outputs": [
    {
     "name": "stdout",
     "output_type": "stream",
     "text": [
      "SpearmanrResult(correlation=-0.0008692829339778059, pvalue=0.2101031682843476)\n"
     ]
    }
   ],
   "source": [
    "corrscore = spearmanr(user_item_train['click'], user_item_train['time'])\n",
    "print(corrscore)"
   ]
  },
  {
   "cell_type": "code",
   "execution_count": 149,
   "metadata": {},
   "outputs": [
    {
     "name": "stdout",
     "output_type": "stream",
     "text": [
      "SpearmanrResult(correlation=-0.1608706680447173, pvalue=0.0)\n"
     ]
    }
   ],
   "source": [
    "corrscore = spearmanr(user_item_train['click'], user_item_train['display_num'])\n",
    "print(corrscore)"
   ]
  },
  {
   "cell_type": "code",
   "execution_count": 150,
   "metadata": {},
   "outputs": [
    {
     "name": "stdout",
     "output_type": "stream",
     "text": [
      "<class 'pandas.core.frame.DataFrame'>\n",
      "Int64Index: 2078622 entries, 0 to 2078621\n",
      "Data columns (total 18 columns):\n",
      "user_id          int64\n",
      "photo_id         int64\n",
      "click            int64\n",
      "like             int64\n",
      "follow           int64\n",
      "time             float64\n",
      "playing_time     int64\n",
      "duration_time    int64\n",
      "display_num      int64\n",
      "click_num        int64\n",
      "like_num         int64\n",
      "follow_num       int64\n",
      "playing_sum      int64\n",
      "duration_sum     int64\n",
      "click_ratio      float64\n",
      "like_ratio       float64\n",
      "follow_ratio     float64\n",
      "playing_ratio    float64\n",
      "dtypes: float64(5), int64(13)\n",
      "memory usage: 301.3 MB\n"
     ]
    }
   ],
   "source": [
    "user_item_train.info()"
   ]
  },
  {
   "cell_type": "code",
   "execution_count": 151,
   "metadata": {},
   "outputs": [
    {
     "data": {
      "text/html": [
       "<div>\n",
       "<style>\n",
       "    .dataframe thead tr:only-child th {\n",
       "        text-align: right;\n",
       "    }\n",
       "\n",
       "    .dataframe thead th {\n",
       "        text-align: left;\n",
       "    }\n",
       "\n",
       "    .dataframe tbody tr th {\n",
       "        vertical-align: top;\n",
       "    }\n",
       "</style>\n",
       "<table border=\"1\" class=\"dataframe\">\n",
       "  <thead>\n",
       "    <tr style=\"text-align: right;\">\n",
       "      <th></th>\n",
       "      <th>user_id</th>\n",
       "      <th>photo_id</th>\n",
       "      <th>click</th>\n",
       "      <th>like</th>\n",
       "      <th>follow</th>\n",
       "      <th>time</th>\n",
       "      <th>playing_time</th>\n",
       "      <th>duration_time</th>\n",
       "      <th>display_num</th>\n",
       "      <th>click_num</th>\n",
       "      <th>like_num</th>\n",
       "      <th>follow_num</th>\n",
       "      <th>playing_sum</th>\n",
       "      <th>duration_sum</th>\n",
       "      <th>click_ratio</th>\n",
       "      <th>like_ratio</th>\n",
       "      <th>follow_ratio</th>\n",
       "      <th>playing_ratio</th>\n",
       "    </tr>\n",
       "  </thead>\n",
       "  <tbody>\n",
       "    <tr>\n",
       "      <th>0</th>\n",
       "      <td>2</td>\n",
       "      <td>1574258</td>\n",
       "      <td>0</td>\n",
       "      <td>0</td>\n",
       "      <td>0</td>\n",
       "      <td>0.823436</td>\n",
       "      <td>0</td>\n",
       "      <td>17</td>\n",
       "      <td>203</td>\n",
       "      <td>34</td>\n",
       "      <td>0</td>\n",
       "      <td>1</td>\n",
       "      <td>579</td>\n",
       "      <td>4495</td>\n",
       "      <td>0.167488</td>\n",
       "      <td>0.0</td>\n",
       "      <td>0.004926</td>\n",
       "      <td>0.12881</td>\n",
       "    </tr>\n",
       "    <tr>\n",
       "      <th>1</th>\n",
       "      <td>2</td>\n",
       "      <td>7372212</td>\n",
       "      <td>0</td>\n",
       "      <td>0</td>\n",
       "      <td>0</td>\n",
       "      <td>0.646017</td>\n",
       "      <td>0</td>\n",
       "      <td>17</td>\n",
       "      <td>203</td>\n",
       "      <td>34</td>\n",
       "      <td>0</td>\n",
       "      <td>1</td>\n",
       "      <td>579</td>\n",
       "      <td>4495</td>\n",
       "      <td>0.167488</td>\n",
       "      <td>0.0</td>\n",
       "      <td>0.004926</td>\n",
       "      <td>0.12881</td>\n",
       "    </tr>\n",
       "    <tr>\n",
       "      <th>2</th>\n",
       "      <td>2</td>\n",
       "      <td>5362722</td>\n",
       "      <td>0</td>\n",
       "      <td>0</td>\n",
       "      <td>0</td>\n",
       "      <td>0.599910</td>\n",
       "      <td>0</td>\n",
       "      <td>11</td>\n",
       "      <td>203</td>\n",
       "      <td>34</td>\n",
       "      <td>0</td>\n",
       "      <td>1</td>\n",
       "      <td>579</td>\n",
       "      <td>4495</td>\n",
       "      <td>0.167488</td>\n",
       "      <td>0.0</td>\n",
       "      <td>0.004926</td>\n",
       "      <td>0.12881</td>\n",
       "    </tr>\n",
       "    <tr>\n",
       "      <th>3</th>\n",
       "      <td>2</td>\n",
       "      <td>3827112</td>\n",
       "      <td>0</td>\n",
       "      <td>0</td>\n",
       "      <td>0</td>\n",
       "      <td>0.650662</td>\n",
       "      <td>0</td>\n",
       "      <td>46</td>\n",
       "      <td>203</td>\n",
       "      <td>34</td>\n",
       "      <td>0</td>\n",
       "      <td>1</td>\n",
       "      <td>579</td>\n",
       "      <td>4495</td>\n",
       "      <td>0.167488</td>\n",
       "      <td>0.0</td>\n",
       "      <td>0.004926</td>\n",
       "      <td>0.12881</td>\n",
       "    </tr>\n",
       "    <tr>\n",
       "      <th>4</th>\n",
       "      <td>2</td>\n",
       "      <td>5869774</td>\n",
       "      <td>0</td>\n",
       "      <td>0</td>\n",
       "      <td>0</td>\n",
       "      <td>0.825582</td>\n",
       "      <td>0</td>\n",
       "      <td>37</td>\n",
       "      <td>203</td>\n",
       "      <td>34</td>\n",
       "      <td>0</td>\n",
       "      <td>1</td>\n",
       "      <td>579</td>\n",
       "      <td>4495</td>\n",
       "      <td>0.167488</td>\n",
       "      <td>0.0</td>\n",
       "      <td>0.004926</td>\n",
       "      <td>0.12881</td>\n",
       "    </tr>\n",
       "  </tbody>\n",
       "</table>\n",
       "</div>"
      ],
      "text/plain": [
       "   user_id  photo_id  click  like  follow      time  playing_time  \\\n",
       "0        2   1574258      0     0       0  0.823436             0   \n",
       "1        2   7372212      0     0       0  0.646017             0   \n",
       "2        2   5362722      0     0       0  0.599910             0   \n",
       "3        2   3827112      0     0       0  0.650662             0   \n",
       "4        2   5869774      0     0       0  0.825582             0   \n",
       "\n",
       "   duration_time  display_num  click_num  like_num  follow_num  playing_sum  \\\n",
       "0             17          203         34         0           1          579   \n",
       "1             17          203         34         0           1          579   \n",
       "2             11          203         34         0           1          579   \n",
       "3             46          203         34         0           1          579   \n",
       "4             37          203         34         0           1          579   \n",
       "\n",
       "   duration_sum  click_ratio  like_ratio  follow_ratio  playing_ratio  \n",
       "0          4495     0.167488         0.0      0.004926        0.12881  \n",
       "1          4495     0.167488         0.0      0.004926        0.12881  \n",
       "2          4495     0.167488         0.0      0.004926        0.12881  \n",
       "3          4495     0.167488         0.0      0.004926        0.12881  \n",
       "4          4495     0.167488         0.0      0.004926        0.12881  "
      ]
     },
     "execution_count": 151,
     "metadata": {},
     "output_type": "execute_result"
    }
   ],
   "source": [
    "user_item_train.head()"
   ]
  },
  {
   "cell_type": "code",
   "execution_count": 152,
   "metadata": {},
   "outputs": [],
   "source": [
    "y = user_item_train['click'].values"
   ]
  },
  {
   "cell_type": "code",
   "execution_count": 153,
   "metadata": {},
   "outputs": [],
   "source": [
    "input_features = ['user_id', 'photo_id', 'time', 'duration_time'] + user_features\n",
    "user_item_train = user_item_train[input_features]"
   ]
  },
  {
   "cell_type": "code",
   "execution_count": 154,
   "metadata": {},
   "outputs": [
    {
     "data": {
      "text/html": [
       "<div>\n",
       "<style>\n",
       "    .dataframe thead tr:only-child th {\n",
       "        text-align: right;\n",
       "    }\n",
       "\n",
       "    .dataframe thead th {\n",
       "        text-align: left;\n",
       "    }\n",
       "\n",
       "    .dataframe tbody tr th {\n",
       "        vertical-align: top;\n",
       "    }\n",
       "</style>\n",
       "<table border=\"1\" class=\"dataframe\">\n",
       "  <thead>\n",
       "    <tr style=\"text-align: right;\">\n",
       "      <th></th>\n",
       "      <th>user_id</th>\n",
       "      <th>photo_id</th>\n",
       "      <th>time</th>\n",
       "      <th>duration_time</th>\n",
       "      <th>display_num</th>\n",
       "      <th>click_num</th>\n",
       "      <th>like_num</th>\n",
       "      <th>follow_num</th>\n",
       "      <th>playing_sum</th>\n",
       "      <th>click_ratio</th>\n",
       "      <th>like_ratio</th>\n",
       "      <th>follow_ratio</th>\n",
       "      <th>playing_ratio</th>\n",
       "    </tr>\n",
       "  </thead>\n",
       "  <tbody>\n",
       "    <tr>\n",
       "      <th>0</th>\n",
       "      <td>2</td>\n",
       "      <td>1574258</td>\n",
       "      <td>0.823436</td>\n",
       "      <td>17</td>\n",
       "      <td>203</td>\n",
       "      <td>34</td>\n",
       "      <td>0</td>\n",
       "      <td>1</td>\n",
       "      <td>579</td>\n",
       "      <td>0.167488</td>\n",
       "      <td>0.0</td>\n",
       "      <td>0.004926</td>\n",
       "      <td>0.12881</td>\n",
       "    </tr>\n",
       "    <tr>\n",
       "      <th>1</th>\n",
       "      <td>2</td>\n",
       "      <td>7372212</td>\n",
       "      <td>0.646017</td>\n",
       "      <td>17</td>\n",
       "      <td>203</td>\n",
       "      <td>34</td>\n",
       "      <td>0</td>\n",
       "      <td>1</td>\n",
       "      <td>579</td>\n",
       "      <td>0.167488</td>\n",
       "      <td>0.0</td>\n",
       "      <td>0.004926</td>\n",
       "      <td>0.12881</td>\n",
       "    </tr>\n",
       "    <tr>\n",
       "      <th>2</th>\n",
       "      <td>2</td>\n",
       "      <td>5362722</td>\n",
       "      <td>0.599910</td>\n",
       "      <td>11</td>\n",
       "      <td>203</td>\n",
       "      <td>34</td>\n",
       "      <td>0</td>\n",
       "      <td>1</td>\n",
       "      <td>579</td>\n",
       "      <td>0.167488</td>\n",
       "      <td>0.0</td>\n",
       "      <td>0.004926</td>\n",
       "      <td>0.12881</td>\n",
       "    </tr>\n",
       "    <tr>\n",
       "      <th>3</th>\n",
       "      <td>2</td>\n",
       "      <td>3827112</td>\n",
       "      <td>0.650662</td>\n",
       "      <td>46</td>\n",
       "      <td>203</td>\n",
       "      <td>34</td>\n",
       "      <td>0</td>\n",
       "      <td>1</td>\n",
       "      <td>579</td>\n",
       "      <td>0.167488</td>\n",
       "      <td>0.0</td>\n",
       "      <td>0.004926</td>\n",
       "      <td>0.12881</td>\n",
       "    </tr>\n",
       "    <tr>\n",
       "      <th>4</th>\n",
       "      <td>2</td>\n",
       "      <td>5869774</td>\n",
       "      <td>0.825582</td>\n",
       "      <td>37</td>\n",
       "      <td>203</td>\n",
       "      <td>34</td>\n",
       "      <td>0</td>\n",
       "      <td>1</td>\n",
       "      <td>579</td>\n",
       "      <td>0.167488</td>\n",
       "      <td>0.0</td>\n",
       "      <td>0.004926</td>\n",
       "      <td>0.12881</td>\n",
       "    </tr>\n",
       "  </tbody>\n",
       "</table>\n",
       "</div>"
      ],
      "text/plain": [
       "   user_id  photo_id      time  duration_time  display_num  click_num  \\\n",
       "0        2   1574258  0.823436             17          203         34   \n",
       "1        2   7372212  0.646017             17          203         34   \n",
       "2        2   5362722  0.599910             11          203         34   \n",
       "3        2   3827112  0.650662             46          203         34   \n",
       "4        2   5869774  0.825582             37          203         34   \n",
       "\n",
       "   like_num  follow_num  playing_sum  click_ratio  like_ratio  follow_ratio  \\\n",
       "0         0           1          579     0.167488         0.0      0.004926   \n",
       "1         0           1          579     0.167488         0.0      0.004926   \n",
       "2         0           1          579     0.167488         0.0      0.004926   \n",
       "3         0           1          579     0.167488         0.0      0.004926   \n",
       "4         0           1          579     0.167488         0.0      0.004926   \n",
       "\n",
       "   playing_ratio  \n",
       "0        0.12881  \n",
       "1        0.12881  \n",
       "2        0.12881  \n",
       "3        0.12881  \n",
       "4        0.12881  "
      ]
     },
     "execution_count": 154,
     "metadata": {},
     "output_type": "execute_result"
    }
   ],
   "source": [
    "user_item_train.head()"
   ]
  },
  {
   "cell_type": "code",
   "execution_count": 155,
   "metadata": {},
   "outputs": [],
   "source": [
    "time_df = user_item_test['time']\n",
    "user_item_test['time'] = (time_df-time_df.min())/(time_df.max()-time_df.min())"
   ]
  },
  {
   "cell_type": "code",
   "execution_count": 156,
   "metadata": {},
   "outputs": [
    {
     "data": {
      "text/html": [
       "<div>\n",
       "<style>\n",
       "    .dataframe thead tr:only-child th {\n",
       "        text-align: right;\n",
       "    }\n",
       "\n",
       "    .dataframe thead th {\n",
       "        text-align: left;\n",
       "    }\n",
       "\n",
       "    .dataframe tbody tr th {\n",
       "        vertical-align: top;\n",
       "    }\n",
       "</style>\n",
       "<table border=\"1\" class=\"dataframe\">\n",
       "  <thead>\n",
       "    <tr style=\"text-align: right;\">\n",
       "      <th></th>\n",
       "      <th>user_id</th>\n",
       "      <th>photo_id</th>\n",
       "      <th>time</th>\n",
       "      <th>duration_time</th>\n",
       "    </tr>\n",
       "  </thead>\n",
       "  <tbody>\n",
       "    <tr>\n",
       "      <th>0</th>\n",
       "      <td>2</td>\n",
       "      <td>9080838</td>\n",
       "      <td>0.902552</td>\n",
       "      <td>140</td>\n",
       "    </tr>\n",
       "    <tr>\n",
       "      <th>1</th>\n",
       "      <td>3</td>\n",
       "      <td>7752961</td>\n",
       "      <td>0.886913</td>\n",
       "      <td>17</td>\n",
       "    </tr>\n",
       "    <tr>\n",
       "      <th>2</th>\n",
       "      <td>3</td>\n",
       "      <td>8580441</td>\n",
       "      <td>0.944226</td>\n",
       "      <td>11</td>\n",
       "    </tr>\n",
       "    <tr>\n",
       "      <th>3</th>\n",
       "      <td>3</td>\n",
       "      <td>8467347</td>\n",
       "      <td>0.946224</td>\n",
       "      <td>11</td>\n",
       "    </tr>\n",
       "    <tr>\n",
       "      <th>4</th>\n",
       "      <td>3</td>\n",
       "      <td>8764584</td>\n",
       "      <td>0.591434</td>\n",
       "      <td>17</td>\n",
       "    </tr>\n",
       "  </tbody>\n",
       "</table>\n",
       "</div>"
      ],
      "text/plain": [
       "   user_id  photo_id      time  duration_time\n",
       "0        2   9080838  0.902552            140\n",
       "1        3   7752961  0.886913             17\n",
       "2        3   8580441  0.944226             11\n",
       "3        3   8467347  0.946224             11\n",
       "4        3   8764584  0.591434             17"
      ]
     },
     "execution_count": 156,
     "metadata": {},
     "output_type": "execute_result"
    }
   ],
   "source": [
    "user_item_test.head()"
   ]
  },
  {
   "cell_type": "code",
   "execution_count": 157,
   "metadata": {},
   "outputs": [
    {
     "name": "stdout",
     "output_type": "stream",
     "text": [
      "<class 'pandas.core.frame.DataFrame'>\n",
      "RangeIndex: 654153 entries, 0 to 654152\n",
      "Data columns (total 4 columns):\n",
      "user_id          654153 non-null int64\n",
      "photo_id         654153 non-null int64\n",
      "time             654153 non-null float64\n",
      "duration_time    654153 non-null int64\n",
      "dtypes: float64(1), int64(3)\n",
      "memory usage: 20.0 MB\n"
     ]
    }
   ],
   "source": [
    "user_item_test.info()"
   ]
  },
  {
   "cell_type": "code",
   "execution_count": 158,
   "metadata": {},
   "outputs": [],
   "source": [
    "user_item_test = pd.merge(user_item_test, users,\n",
    "                          how='inner',\n",
    "                          on=['user_id'])"
   ]
  },
  {
   "cell_type": "code",
   "execution_count": 159,
   "metadata": {},
   "outputs": [
    {
     "data": {
      "text/html": [
       "<div>\n",
       "<style>\n",
       "    .dataframe thead tr:only-child th {\n",
       "        text-align: right;\n",
       "    }\n",
       "\n",
       "    .dataframe thead th {\n",
       "        text-align: left;\n",
       "    }\n",
       "\n",
       "    .dataframe tbody tr th {\n",
       "        vertical-align: top;\n",
       "    }\n",
       "</style>\n",
       "<table border=\"1\" class=\"dataframe\">\n",
       "  <thead>\n",
       "    <tr style=\"text-align: right;\">\n",
       "      <th></th>\n",
       "      <th>user_id</th>\n",
       "      <th>photo_id</th>\n",
       "      <th>time</th>\n",
       "      <th>duration_time</th>\n",
       "      <th>display_num</th>\n",
       "      <th>click_num</th>\n",
       "      <th>like_num</th>\n",
       "      <th>follow_num</th>\n",
       "      <th>playing_sum</th>\n",
       "      <th>duration_sum</th>\n",
       "      <th>click_ratio</th>\n",
       "      <th>like_ratio</th>\n",
       "      <th>follow_ratio</th>\n",
       "      <th>playing_ratio</th>\n",
       "    </tr>\n",
       "  </thead>\n",
       "  <tbody>\n",
       "    <tr>\n",
       "      <th>0</th>\n",
       "      <td>2</td>\n",
       "      <td>9080838</td>\n",
       "      <td>0.902552</td>\n",
       "      <td>140</td>\n",
       "      <td>203</td>\n",
       "      <td>34</td>\n",
       "      <td>0</td>\n",
       "      <td>1</td>\n",
       "      <td>579</td>\n",
       "      <td>4495</td>\n",
       "      <td>0.167488</td>\n",
       "      <td>0.0</td>\n",
       "      <td>0.004926</td>\n",
       "      <td>0.128810</td>\n",
       "    </tr>\n",
       "    <tr>\n",
       "      <th>1</th>\n",
       "      <td>3</td>\n",
       "      <td>7752961</td>\n",
       "      <td>0.886913</td>\n",
       "      <td>17</td>\n",
       "      <td>366</td>\n",
       "      <td>37</td>\n",
       "      <td>0</td>\n",
       "      <td>0</td>\n",
       "      <td>507</td>\n",
       "      <td>8136</td>\n",
       "      <td>0.101093</td>\n",
       "      <td>0.0</td>\n",
       "      <td>0.000000</td>\n",
       "      <td>0.062316</td>\n",
       "    </tr>\n",
       "    <tr>\n",
       "      <th>2</th>\n",
       "      <td>3</td>\n",
       "      <td>8580441</td>\n",
       "      <td>0.944226</td>\n",
       "      <td>11</td>\n",
       "      <td>366</td>\n",
       "      <td>37</td>\n",
       "      <td>0</td>\n",
       "      <td>0</td>\n",
       "      <td>507</td>\n",
       "      <td>8136</td>\n",
       "      <td>0.101093</td>\n",
       "      <td>0.0</td>\n",
       "      <td>0.000000</td>\n",
       "      <td>0.062316</td>\n",
       "    </tr>\n",
       "    <tr>\n",
       "      <th>3</th>\n",
       "      <td>3</td>\n",
       "      <td>8467347</td>\n",
       "      <td>0.946224</td>\n",
       "      <td>11</td>\n",
       "      <td>366</td>\n",
       "      <td>37</td>\n",
       "      <td>0</td>\n",
       "      <td>0</td>\n",
       "      <td>507</td>\n",
       "      <td>8136</td>\n",
       "      <td>0.101093</td>\n",
       "      <td>0.0</td>\n",
       "      <td>0.000000</td>\n",
       "      <td>0.062316</td>\n",
       "    </tr>\n",
       "    <tr>\n",
       "      <th>4</th>\n",
       "      <td>3</td>\n",
       "      <td>8764584</td>\n",
       "      <td>0.591434</td>\n",
       "      <td>17</td>\n",
       "      <td>366</td>\n",
       "      <td>37</td>\n",
       "      <td>0</td>\n",
       "      <td>0</td>\n",
       "      <td>507</td>\n",
       "      <td>8136</td>\n",
       "      <td>0.101093</td>\n",
       "      <td>0.0</td>\n",
       "      <td>0.000000</td>\n",
       "      <td>0.062316</td>\n",
       "    </tr>\n",
       "  </tbody>\n",
       "</table>\n",
       "</div>"
      ],
      "text/plain": [
       "   user_id  photo_id      time  duration_time  display_num  click_num  \\\n",
       "0        2   9080838  0.902552            140          203         34   \n",
       "1        3   7752961  0.886913             17          366         37   \n",
       "2        3   8580441  0.944226             11          366         37   \n",
       "3        3   8467347  0.946224             11          366         37   \n",
       "4        3   8764584  0.591434             17          366         37   \n",
       "\n",
       "   like_num  follow_num  playing_sum  duration_sum  click_ratio  like_ratio  \\\n",
       "0         0           1          579          4495     0.167488         0.0   \n",
       "1         0           0          507          8136     0.101093         0.0   \n",
       "2         0           0          507          8136     0.101093         0.0   \n",
       "3         0           0          507          8136     0.101093         0.0   \n",
       "4         0           0          507          8136     0.101093         0.0   \n",
       "\n",
       "   follow_ratio  playing_ratio  \n",
       "0      0.004926       0.128810  \n",
       "1      0.000000       0.062316  \n",
       "2      0.000000       0.062316  \n",
       "3      0.000000       0.062316  \n",
       "4      0.000000       0.062316  "
      ]
     },
     "execution_count": 159,
     "metadata": {},
     "output_type": "execute_result"
    }
   ],
   "source": [
    "user_item_test.head()"
   ]
  },
  {
   "cell_type": "code",
   "execution_count": 160,
   "metadata": {},
   "outputs": [
    {
     "data": {
      "text/plain": [
       "724"
      ]
     },
     "execution_count": 160,
     "metadata": {},
     "output_type": "execute_result"
    }
   ],
   "source": [
    "import gc\n",
    "gc.collect()"
   ]
  },
  {
   "cell_type": "code",
   "execution_count": 161,
   "metadata": {},
   "outputs": [],
   "source": [
    "# user_item_train.drop(['photo_id'], axis=1, inplace=True)"
   ]
  },
  {
   "cell_type": "code",
   "execution_count": 162,
   "metadata": {},
   "outputs": [
    {
     "data": {
      "text/html": [
       "<div>\n",
       "<style>\n",
       "    .dataframe thead tr:only-child th {\n",
       "        text-align: right;\n",
       "    }\n",
       "\n",
       "    .dataframe thead th {\n",
       "        text-align: left;\n",
       "    }\n",
       "\n",
       "    .dataframe tbody tr th {\n",
       "        vertical-align: top;\n",
       "    }\n",
       "</style>\n",
       "<table border=\"1\" class=\"dataframe\">\n",
       "  <thead>\n",
       "    <tr style=\"text-align: right;\">\n",
       "      <th></th>\n",
       "      <th>user_id</th>\n",
       "      <th>photo_id</th>\n",
       "      <th>time</th>\n",
       "      <th>duration_time</th>\n",
       "      <th>display_num</th>\n",
       "      <th>click_num</th>\n",
       "      <th>like_num</th>\n",
       "      <th>follow_num</th>\n",
       "      <th>playing_sum</th>\n",
       "      <th>click_ratio</th>\n",
       "      <th>like_ratio</th>\n",
       "      <th>follow_ratio</th>\n",
       "      <th>playing_ratio</th>\n",
       "    </tr>\n",
       "  </thead>\n",
       "  <tbody>\n",
       "    <tr>\n",
       "      <th>0</th>\n",
       "      <td>2</td>\n",
       "      <td>1574258</td>\n",
       "      <td>0.823436</td>\n",
       "      <td>17</td>\n",
       "      <td>203</td>\n",
       "      <td>34</td>\n",
       "      <td>0</td>\n",
       "      <td>1</td>\n",
       "      <td>579</td>\n",
       "      <td>0.167488</td>\n",
       "      <td>0.0</td>\n",
       "      <td>0.004926</td>\n",
       "      <td>0.12881</td>\n",
       "    </tr>\n",
       "    <tr>\n",
       "      <th>1</th>\n",
       "      <td>2</td>\n",
       "      <td>7372212</td>\n",
       "      <td>0.646017</td>\n",
       "      <td>17</td>\n",
       "      <td>203</td>\n",
       "      <td>34</td>\n",
       "      <td>0</td>\n",
       "      <td>1</td>\n",
       "      <td>579</td>\n",
       "      <td>0.167488</td>\n",
       "      <td>0.0</td>\n",
       "      <td>0.004926</td>\n",
       "      <td>0.12881</td>\n",
       "    </tr>\n",
       "    <tr>\n",
       "      <th>2</th>\n",
       "      <td>2</td>\n",
       "      <td>5362722</td>\n",
       "      <td>0.599910</td>\n",
       "      <td>11</td>\n",
       "      <td>203</td>\n",
       "      <td>34</td>\n",
       "      <td>0</td>\n",
       "      <td>1</td>\n",
       "      <td>579</td>\n",
       "      <td>0.167488</td>\n",
       "      <td>0.0</td>\n",
       "      <td>0.004926</td>\n",
       "      <td>0.12881</td>\n",
       "    </tr>\n",
       "    <tr>\n",
       "      <th>3</th>\n",
       "      <td>2</td>\n",
       "      <td>3827112</td>\n",
       "      <td>0.650662</td>\n",
       "      <td>46</td>\n",
       "      <td>203</td>\n",
       "      <td>34</td>\n",
       "      <td>0</td>\n",
       "      <td>1</td>\n",
       "      <td>579</td>\n",
       "      <td>0.167488</td>\n",
       "      <td>0.0</td>\n",
       "      <td>0.004926</td>\n",
       "      <td>0.12881</td>\n",
       "    </tr>\n",
       "    <tr>\n",
       "      <th>4</th>\n",
       "      <td>2</td>\n",
       "      <td>5869774</td>\n",
       "      <td>0.825582</td>\n",
       "      <td>37</td>\n",
       "      <td>203</td>\n",
       "      <td>34</td>\n",
       "      <td>0</td>\n",
       "      <td>1</td>\n",
       "      <td>579</td>\n",
       "      <td>0.167488</td>\n",
       "      <td>0.0</td>\n",
       "      <td>0.004926</td>\n",
       "      <td>0.12881</td>\n",
       "    </tr>\n",
       "  </tbody>\n",
       "</table>\n",
       "</div>"
      ],
      "text/plain": [
       "   user_id  photo_id      time  duration_time  display_num  click_num  \\\n",
       "0        2   1574258  0.823436             17          203         34   \n",
       "1        2   7372212  0.646017             17          203         34   \n",
       "2        2   5362722  0.599910             11          203         34   \n",
       "3        2   3827112  0.650662             46          203         34   \n",
       "4        2   5869774  0.825582             37          203         34   \n",
       "\n",
       "   like_num  follow_num  playing_sum  click_ratio  like_ratio  follow_ratio  \\\n",
       "0         0           1          579     0.167488         0.0      0.004926   \n",
       "1         0           1          579     0.167488         0.0      0.004926   \n",
       "2         0           1          579     0.167488         0.0      0.004926   \n",
       "3         0           1          579     0.167488         0.0      0.004926   \n",
       "4         0           1          579     0.167488         0.0      0.004926   \n",
       "\n",
       "   playing_ratio  \n",
       "0        0.12881  \n",
       "1        0.12881  \n",
       "2        0.12881  \n",
       "3        0.12881  \n",
       "4        0.12881  "
      ]
     },
     "execution_count": 162,
     "metadata": {},
     "output_type": "execute_result"
    }
   ],
   "source": [
    "user_item_train.head()"
   ]
  },
  {
   "cell_type": "markdown",
   "metadata": {},
   "source": [
    "离散特征的编码分为两种情况：\n",
    " - 离散特征的取值之间没有大小的意义，比如color：[red,blue],那么就使用one-hot编码\n",
    " - 离散特征的取值有大小的意义，比如size:[X,XL,XXL],那么就使用数值的映射{X:1,XL:2,XXL:3}"
   ]
  },
  {
   "cell_type": "code",
   "execution_count": 163,
   "metadata": {},
   "outputs": [],
   "source": [
    "X = user_item_train.as_matrix()"
   ]
  },
  {
   "cell_type": "code",
   "execution_count": 164,
   "metadata": {},
   "outputs": [
    {
     "data": {
      "text/plain": [
       "0"
      ]
     },
     "execution_count": 164,
     "metadata": {},
     "output_type": "execute_result"
    }
   ],
   "source": [
    "np.sum(np.isnan(X))"
   ]
  },
  {
   "cell_type": "code",
   "execution_count": 165,
   "metadata": {},
   "outputs": [
    {
     "data": {
      "text/plain": [
       "615"
      ]
     },
     "execution_count": 165,
     "metadata": {},
     "output_type": "execute_result"
    }
   ],
   "source": [
    "del user_item_train\n",
    "gc.collect()"
   ]
  },
  {
   "cell_type": "code",
   "execution_count": 166,
   "metadata": {},
   "outputs": [],
   "source": [
    "from sklearn.model_selection import cross_val_score, train_test_split, GridSearchCV\n",
    "from sklearn.linear_model import LogisticRegression\n",
    "from sklearn.ensemble import RandomForestClassifier, AdaBoostClassifier, GradientBoostingClassifier\n",
    "from sklearn.metrics import recall_score, accuracy_score\n"
   ]
  },
  {
   "cell_type": "code",
   "execution_count": 167,
   "metadata": {},
   "outputs": [],
   "source": [
    "X_train, X_test, y_train, y_test = train_test_split(X, y, test_size=0.4, random_state=0)"
   ]
  },
  {
   "cell_type": "code",
   "execution_count": 168,
   "metadata": {},
   "outputs": [
    {
     "name": "stdout",
     "output_type": "stream",
     "text": [
      "0.797193814653695\n",
      "CPU times: user 7.2 s, sys: 403 ms, total: 7.6 s\n",
      "Wall time: 7.64 s\n"
     ]
    }
   ],
   "source": [
    "%%time\n",
    "clf = LogisticRegression(C=10,random_state=1)\n",
    "clf.fit(X_train, y_train)\n",
    "print clf.score(X_test, y_test)"
   ]
  },
  {
   "cell_type": "code",
   "execution_count": 169,
   "metadata": {},
   "outputs": [
    {
     "name": "stdout",
     "output_type": "stream",
     "text": [
      "[0.78861748 0.79709904 0.79704853 0.79766143 0.79766335]\n",
      "CPU times: user 49 s, sys: 3.79 s, total: 52.8 s\n",
      "Wall time: 52.9 s\n"
     ]
    }
   ],
   "source": [
    "%%time\n",
    "scores = cross_val_score(clf, X, y, cv=5)\n",
    "print scores"
   ]
  },
  {
   "cell_type": "code",
   "execution_count": 171,
   "metadata": {},
   "outputs": [
    {
     "name": "stdout",
     "output_type": "stream",
     "text": [
      "Accuracy: 0.80 (+/- 0.01)\n"
     ]
    }
   ],
   "source": [
    "print(\"Accuracy: %0.2f (+/- %0.2f)\" % (scores.mean(), scores.std() * 2))"
   ]
  },
  {
   "cell_type": "code",
   "execution_count": null,
   "metadata": {},
   "outputs": [
    {
     "name": "stdout",
     "output_type": "stream",
     "text": [
      "Logistic Regression             测试集acc/recall:  0.797193814654/ 0.507527862684 训练集acc/recall:  0.796847750873/ 0.796847750873\n"
     ]
    }
   ],
   "source": [
    "from sklearn.model_selection import StratifiedShuffleSplit\n",
    "from sklearn.model_selection import GridSearchCV\n",
    "\n",
    "from sklearn.metrics import roc_curve, auc\n",
    "from sklearn.metrics import recall_score, accuracy_score\n",
    "\n",
    "from sklearn import svm\n",
    "from sklearn.linear_model import LinearRegression\n",
    "from sklearn.linear_model import LogisticRegression\n",
    "\n",
    "from sklearn.tree import DecisionTreeClassifier\n",
    "\n",
    "from sklearn.ensemble import RandomForestClassifier, AdaBoostClassifier, GradientBoostingClassifier\n",
    "from xgboost import XGBClassifier\n",
    "\n",
    "\n",
    "names = [\"Logistic Regression\", \"Linear SVM\", \"RBF SVM\", \n",
    "         \"Decision Tree\", \"Random Forest\", \"AdaBoost\", \"Gradient Boosting Decision Tree\", \"XGBoost\"]\n",
    "classifiers = [\n",
    "    LogisticRegression(C=10),\n",
    "    svm.SVC(kernel=\"linear\", C=0.025),\n",
    "    svm.SVC(gamma=0.01, C=10),\n",
    "    DecisionTreeClassifier(max_depth=5),\n",
    "    RandomForestClassifier(max_depth=5, n_estimators=10, max_features=1),\n",
    "    AdaBoostClassifier(),\n",
    "    GradientBoostingClassifier(n_estimators=100, learning_rate=0.1, max_depth=4, min_samples_leaf=9),\n",
    "    XGBClassifier()]\n",
    "\n",
    "for name, clf in zip(names,classifiers):\n",
    "    clf.fit(X_train, y_train)\n",
    "    print \"{:31} 测试集acc/recall: {:15}/{:15} 训练集acc/recall: {:15}/{:15}\".format(name, \n",
    "        accuracy_score(y_test, clf.predict(X_test)), recall_score(y_test, clf.predict(X_test), average='macro'), \n",
    "        accuracy_score(y_train, clf.predict(X_train)), recall_score(y_train, clf.predict(X_train), average='micro'))\n",
    "    \n",
    "for name, clf in zip(names, classifiers):\n",
    "    try: \n",
    "        importances = clf.feature_importances_\n",
    "        indices = np.argsort(importances)[::-1]\n",
    "        print '{}特征权值分布为: '.format(name)\n",
    "        for f in range(X_train.shape[1]):\n",
    "            print(\"%d. feature %d (%f)\" % (f + 1, indices[f], importances[indices[f]]))\n",
    "    except AttributeError:\n",
    "        print '{} has no feture_importances_'.format(name)\n",
    "    \n",
    "# b: blue\n",
    "# g: green\n",
    "# r: red\n",
    "# c: cyan\n",
    "# m: magenta\n",
    "# y: yellow\n",
    "# k: black\n",
    "# w: white\n",
    "colors = ['b', 'g', 'r', 'c', 'm', 'y', 'k', 'w']\n",
    "for name, clf, color in zip(names,classifiers, colors):\n",
    "    # y_score = classifier.fit(X_train, y_train).decision_function(X_test)\n",
    "    try:\n",
    "        y_score = clf.decision_function(X_test)\n",
    "    except AttributeError:\n",
    "        print '{} has no decision_function'.format(name)\n",
    "        continue\n",
    "\n",
    "    # Compute ROC curve and ROC area for each class\n",
    "    fpr, tpr, _ = roc_curve(y_test, y_score, sample_weight=None)\n",
    "    roc_auc = auc(fpr, tpr)\n",
    "\n",
    "    # Plot ROC curve\n",
    "    plt.plot(fpr, tpr, label='{} ROC curve (area = {})'.format(name, roc_auc))\n",
    "    plt.plot([0, 1], [0, 1], color)  # random predictions curve\n",
    "    plt.xlim([0.0, 1.0])\n",
    "    plt.ylim([0.0, 1.0])\n",
    "    plt.xlabel('False Positive Rate or (1 - Specifity)')\n",
    "    plt.ylabel('True Positive Rate or (Sensitivity)')\n",
    "    plt.title('Receiver Operating Characteristic')\n",
    "    plt.legend(loc=\"lower right\")"
   ]
  },
  {
   "cell_type": "code",
   "execution_count": null,
   "metadata": {},
   "outputs": [],
   "source": [
    "%%time\n",
    "param_grid = {'learning_rate': [1, 0.5, 0.1, 0.05, 0.02, 0.01],\n",
    "              'max_depth': [2, 4, 6, 8],\n",
    "              'min_samples_leaf': [3, 5, 9, 11, 13, 15, 17],\n",
    "              'n_estimators': [10, 100, 500, 1000, 2000, 3000, 4000],\n",
    "              # 'max_features': [1.0, 0.3, 0.1] ## not         possible in our example (only 1 fx)\n",
    "             }\n",
    "\n",
    "# est = GradientBoostingClassifier({'n_estimators': 100, 'learning_rate': 0.1, 'max_depth': 4, 'min_samples_leaf': 9})\n",
    "# this may take some minutes\n",
    "gs_cv = GridSearchCV(GradientBoostingClassifier(), param_grid, n_jobs=4).fit(X_train, y_train)\n",
    "print gs_cv.best_params_\n",
    "\n",
    "\n",
    "# best hyperparameter setting\n",
    "\n",
    "# est.fit(X_train, y_train)\n",
    "print accuracy_score(y_test, gs_cv.predict(X_test))"
   ]
  },
  {
   "cell_type": "code",
   "execution_count": null,
   "metadata": {},
   "outputs": [],
   "source": [
    "X_t = user_item_test.as_matrix()"
   ]
  },
  {
   "cell_type": "code",
   "execution_count": null,
   "metadata": {},
   "outputs": [],
   "source": [
    "y_sub = clf.predict_proba(X_t)[:,1]\n",
    "submission = pd.DataFrame()\n",
    "submission['user_id'] = user_item_test['user_id']\n",
    "submission['photo_id'] = user_item_test['photo_id']\n",
    "submission['click_probability'] = y_sub\n",
    "submission['click_probability'] = submission['click_probability'].apply(lambda x: float('%.6f' % x))\n",
    "submission.to_csv('sub_lr.txt', sep='\\t', index=False, header=False)"
   ]
  },
  {
   "cell_type": "code",
   "execution_count": 40,
   "metadata": {},
   "outputs": [
    {
     "data": {
      "text/plain": [
       "count    3.291332e+06\n",
       "mean     1.566706e-01\n",
       "std      7.032130e-02\n",
       "min      2.340000e-04\n",
       "25%      1.099620e-01\n",
       "50%      1.592150e-01\n",
       "75%      2.036790e-01\n",
       "max      1.000000e+00\n",
       "Name: click_probability, dtype: float64"
      ]
     },
     "execution_count": 40,
     "metadata": {},
     "output_type": "execute_result"
    }
   ],
   "source": [
    "submission['click_probability'].describe()"
   ]
  },
  {
   "cell_type": "code",
   "execution_count": null,
   "metadata": {},
   "outputs": [],
   "source": []
  }
 ],
 "metadata": {
  "kernelspec": {
   "display_name": "Python 2",
   "language": "python",
   "name": "python2"
  },
  "language_info": {
   "codemirror_mode": {
    "name": "ipython",
    "version": 2
   },
   "file_extension": ".py",
   "mimetype": "text/x-python",
   "name": "python",
   "nbconvert_exporter": "python",
   "pygments_lexer": "ipython2",
   "version": "2.7.10"
  }
 },
 "nbformat": 4,
 "nbformat_minor": 2
}
