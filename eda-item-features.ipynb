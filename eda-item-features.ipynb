{
 "cells": [
  {
   "cell_type": "code",
   "execution_count": 1,
   "metadata": {
    "collapsed": true,
    "deletable": true,
    "editable": true
   },
   "outputs": [],
   "source": [
    "import pandas as pd\n",
    "import numpy as np\n",
    "import matplotlib.pyplot as plt\n",
    "import seaborn as sns\n",
    "%matplotlib inline\n",
    "p = sns.color_palette()\n",
    "\n",
    "USE_SAMPLE = True\n",
    "TRAIN_FACE = './sample/train_face.txt' if USE_SAMPLE else './data/train_face.txt'\n",
    "TRAIN_USER_INTERACT = './sample/train_interaction.txt' if USE_SAMPLE else './data/train_interaction.txt'\n",
    "TRAIN_TEXT = './sample/train_text.txt' if USE_SAMPLE else './data/train_text.txt'\n",
    "TEST_FACE = './sample/test_face.txt' if USE_SAMPLE else './data/test_face.txt'\n",
    "TEST_INTERACT = './sample/test_interaction.txt' if USE_SAMPLE else './data/test_interaction.txt'\n",
    "TEST_TEXT = './sample/test_text.txt' if USE_SAMPLE else './data/test_text.txt'"
   ]
  },
  {
   "cell_type": "code",
   "execution_count": 2,
   "metadata": {
    "collapsed": true,
    "deletable": true,
    "editable": true
   },
   "outputs": [],
   "source": [
    "face_train = pd.read_csv(TRAIN_FACE, \n",
    "                        sep='\\t', \n",
    "                        header=None, \n",
    "                        names=['photo_id', 'faces'])"
   ]
  },
  {
   "cell_type": "code",
   "execution_count": 3,
   "metadata": {
    "collapsed": true,
    "deletable": true,
    "editable": true
   },
   "outputs": [],
   "source": [
    "user_item_train = pd.read_csv(TRAIN_USER_INTERACT, \n",
    "                             sep='\\t', \n",
    "                             header=None, \n",
    "                             names=['user_id', 'photo_id', 'click', 'like', 'follow', 'time', 'playing_time', 'duration_time'])"
   ]
  },
  {
   "cell_type": "code",
   "execution_count": 4,
   "metadata": {
    "collapsed": true,
    "deletable": true,
    "editable": true
   },
   "outputs": [],
   "source": [
    "text_train = pd.read_csv(TRAIN_TEXT,\n",
    "                       sep='\\t',\n",
    "                       header=None,\n",
    "                       names=['photo_id', 'cover_words'])"
   ]
  },
  {
   "cell_type": "code",
   "execution_count": 5,
   "metadata": {
    "collapsed": true,
    "deletable": true,
    "editable": true
   },
   "outputs": [],
   "source": [
    "face_test = pd.read_csv(TEST_FACE, \n",
    "                        sep='\\t', \n",
    "                        header=None, \n",
    "                        names=['photo_id', 'faces'])"
   ]
  },
  {
   "cell_type": "code",
   "execution_count": 6,
   "metadata": {
    "collapsed": true,
    "deletable": true,
    "editable": true
   },
   "outputs": [],
   "source": [
    "user_item_test = pd.read_csv(TEST_INTERACT, \n",
    "                             sep='\\t', \n",
    "                             header=None, \n",
    "                             names=['user_id', 'photo_id', 'time', 'duration_time'])"
   ]
  },
  {
   "cell_type": "code",
   "execution_count": 7,
   "metadata": {
    "collapsed": true,
    "deletable": true,
    "editable": true
   },
   "outputs": [],
   "source": [
    "text_test = pd.read_csv(TEST_TEXT,\n",
    "                       sep='\\t',\n",
    "                       header=None,\n",
    "                       names=['photo_id', 'cover_words'])"
   ]
  },
  {
   "cell_type": "code",
   "execution_count": 8,
   "metadata": {
    "collapsed": false,
    "deletable": true,
    "editable": true
   },
   "outputs": [
    {
     "name": "stdout",
     "output_type": "stream",
     "text": [
      "(760994920751, 761168068776)\n",
      "(0, 3498)\n"
     ]
    }
   ],
   "source": [
    "time_min = min(user_item_train['time'].min(), user_item_test['time'].min())\n",
    "time_max = max(user_item_train['time'].max(), user_item_test['time'].max())\n",
    "duration_min = min(user_item_train['duration_time'].min(), user_item_test['duration_time'].min())\n",
    "duration_max = max(user_item_train['duration_time'].max(), user_item_test['duration_time'].max())\n",
    "\n",
    "print(time_min, time_max)\n",
    "print(duration_min, duration_max)\n",
    "time_df = user_item_train['time']\n",
    "user_item_train['time'] = (time_df-time_min)/(time_max-time_min)"
   ]
  },
  {
   "cell_type": "markdown",
   "metadata": {
    "deletable": true,
    "editable": true
   },
   "source": [
    "# 图片被用户浏览数据分布"
   ]
  },
  {
   "cell_type": "code",
   "execution_count": 9,
   "metadata": {
    "collapsed": false,
    "deletable": true,
    "editable": true
   },
   "outputs": [
    {
     "data": {
      "text/plain": [
       "<matplotlib.text.Text at 0x1021f5150>"
      ]
     },
     "execution_count": 9,
     "metadata": {},
     "output_type": "execute_result"
    },
    {
     "data": {
      "image/png": "[encoded data removed]",
      "text/plain": [
       "<matplotlib.figure.Figure at 0x107a4c090>"
      ]
     },
     "metadata": {},
     "output_type": "display_data"
    }
   ],
   "source": [
    "sizes_train = user_item_train.groupby('photo_id')['user_id'].count().value_counts()\n",
    "sizes_test = user_item_test.groupby('photo_id')['user_id'].count().value_counts()\n",
    "sizes_train = sizes_train / np.sum(sizes_train)\n",
    "sizes_test = sizes_test / np.sum(sizes_test)\n",
    "\n",
    "plt.figure(figsize=(12,4))\n",
    "sns.barplot(sizes_train.index, sizes_train.values, alpha=0.8, color=p[0], label='train')\n",
    "sns.barplot(sizes_test.index, sizes_test.values, alpha=0.6, color=p[1], label='test')\n",
    "plt.legend()\n",
    "plt.xlabel('Photo', fontsize=12)\n",
    "plt.ylabel('Number of users in each photo', fontsize=12)"
   ]
  },
  {
   "cell_type": "markdown",
   "metadata": {
    "deletable": true,
    "editable": true
   },
   "source": [
    "# 图片文本分类 \n",
    "由于文字数据集是全的，通过对图片文字描述的分类，可以挖掘图片的隐含语义信息，从而对图片进行分类，可以利用这些分类信息，完成图片id的编码\n"
   ]
  },
  {
   "cell_type": "code",
   "execution_count": 10,
   "metadata": {
    "collapsed": false,
    "deletable": true,
    "editable": true
   },
   "outputs": [
    {
     "name": "stdout",
     "output_type": "stream",
     "text": [
      "<class 'pandas.core.frame.DataFrame'>\n",
      "Int64Index: 1337176 entries, 0 to 224394\n",
      "Data columns (total 3 columns):\n",
      "photo_id        1337176 non-null int64\n",
      "cover_words     1337176 non-null object\n",
      "cover_length    1337176 non-null int64\n",
      "dtypes: int64(2), object(1)\n",
      "memory usage: 40.8+ MB\n"
     ]
    },
    {
     "data": {
      "text/html": [
       "<div>\n",
       "<style>\n",
       "    .dataframe thead tr:only-child th {\n",
       "        text-align: right;\n",
       "    }\n",
       "\n",
       "    .dataframe thead th {\n",
       "        text-align: left;\n",
       "    }\n",
       "\n",
       "    .dataframe tbody tr th {\n",
       "        vertical-align: top;\n",
       "    }\n",
       "</style>\n",
       "<table border=\"1\" class=\"dataframe\">\n",
       "  <thead>\n",
       "    <tr style=\"text-align: right;\">\n",
       "      <th></th>\n",
       "      <th>photo_id</th>\n",
       "      <th>cover_words</th>\n",
       "      <th>cover_length</th>\n",
       "    </tr>\n",
       "  </thead>\n",
       "  <tbody>\n",
       "    <tr>\n",
       "      <th>0</th>\n",
       "      <td>5735948</td>\n",
       "      <td>[508, 509, 510, 511, 512, 508, 513, 514, 515, ...</td>\n",
       "      <td>154</td>\n",
       "    </tr>\n",
       "    <tr>\n",
       "      <th>1</th>\n",
       "      <td>1035274</td>\n",
       "      <td>[351, 789, 356, 33, 79, 61, 198, 790, 14, 791,...</td>\n",
       "      <td>154</td>\n",
       "    </tr>\n",
       "    <tr>\n",
       "      <th>2</th>\n",
       "      <td>5752571</td>\n",
       "      <td>[1158, 1159, 1160, 1158, 1159, 1160, 1161, 116...</td>\n",
       "      <td>189</td>\n",
       "    </tr>\n",
       "    <tr>\n",
       "      <th>3</th>\n",
       "      <td>473617</td>\n",
       "      <td>[1294, 173, 1295, 1296, 14, 1297, 150, 1298, 1...</td>\n",
       "      <td>35</td>\n",
       "    </tr>\n",
       "    <tr>\n",
       "      <th>4</th>\n",
       "      <td>1040170</td>\n",
       "      <td>[1474, 1475, 1476, 1477, 1478, 1479, 1480, 148...</td>\n",
       "      <td>18</td>\n",
       "    </tr>\n",
       "  </tbody>\n",
       "</table>\n",
       "</div>"
      ],
      "text/plain": [
       "   photo_id                                        cover_words  cover_length\n",
       "0   5735948  [508, 509, 510, 511, 512, 508, 513, 514, 515, ...           154\n",
       "1   1035274  [351, 789, 356, 33, 79, 61, 198, 790, 14, 791,...           154\n",
       "2   5752571  [1158, 1159, 1160, 1158, 1159, 1160, 1161, 116...           189\n",
       "3    473617  [1294, 173, 1295, 1296, 14, 1297, 150, 1298, 1...            35\n",
       "4   1040170  [1474, 1475, 1476, 1477, 1478, 1479, 1480, 148...            18"
      ]
     },
     "execution_count": 10,
     "metadata": {},
     "output_type": "execute_result"
    }
   ],
   "source": [
    "text_data = pd.concat([text_train, text_test])\n",
    "\n",
    "text_data['photo_id'].nunique()\n",
    "\n",
    "text_data['cover_words'] = text_data['cover_words'].apply(lambda words: words.split(','))\n",
    "text_data['cover_length'] = text_data['cover_words'].apply(lambda words: len(words))\n",
    "\n",
    "text_data.info()\n",
    "\n",
    "text_data.head()\n"
   ]
  },
  {
   "cell_type": "markdown",
   "metadata": {
    "deletable": true,
    "editable": true
   },
   "source": [
    "## 图片文本分类模型\n",
    "对于图片的文本数据，我们可以通过不同的模型学习和分类图片，首先由文档有两类表示方法，tfidf 和 word2vec/doc2vec, 然后我们可以采用不同的模型进行聚类（隐含语义分类）或者做分类（二分01点击），可以使用K-means,LDA等进行聚类，也可以用 SVM/LR/GBDT等进行分类，最后尝试LSTM深度学习。\n",
    "\n",
    "### 模型输入数据表征\n",
    "#### word2vec"
   ]
  },
  {
   "cell_type": "code",
   "execution_count": 17,
   "metadata": {
    "collapsed": true,
    "deletable": true,
    "editable": true
   },
   "outputs": [],
   "source": [
    "num_features = 128\n",
    "min_word_count = 40\n",
    "num_workers = 4\n",
    "context = 6\n",
    "downsampling = 1e-3\n",
    "\n",
    "from gensim.models import word2vec\n",
    "import os\n",
    "model = None\n",
    "model_name = \"%dfeatures_%dminwords_%dcontext.model\" % (num_features, min_word_count, context)\n",
    "model_name = model_name + \".sample\" if USE_SAMPLE else model_name\n",
    "if not os.path.exists(model_name):\n",
    "    print \"Training model...\"\n",
    "    model = word2vec.Word2Vec(text_data.cover_words,\n",
    "                              workers=num_workers,\n",
    "                              size=num_features,\n",
    "                              min_count = min_word_count,\n",
    "                              window = context,\n",
    "                              sample = downsampling)\n",
    "    model.init_sims(replace=True)\n",
    "    model.save(model_name)\n",
    "\n",
    "model = word2vec.Word2Vec.load(model_name)"
   ]
  },
  {
   "cell_type": "code",
   "execution_count": 18,
   "metadata": {
    "collapsed": false,
    "deletable": true,
    "editable": true
   },
   "outputs": [
    {
     "name": "stderr",
     "output_type": "stream",
     "text": [
      "/Library/Python/2.7/site-packages/ipykernel_launcher.py:1: DeprecationWarning: Call to deprecated `most_similar` (Method will be removed in 4.0.0, use self.wv.most_similar() instead).\n",
      "  \"\"\"Entry point for launching an IPython kernel.\n"
     ]
    },
    {
     "data": {
      "text/plain": [
       "[('3484', 0.5905117988586426),\n",
       " ('13854', 0.577377438545227),\n",
       " ('771', 0.5502607822418213),\n",
       " ('1395', 0.5485997796058655),\n",
       " ('6552', 0.5481414794921875),\n",
       " ('1387', 0.5414555668830872),\n",
       " ('1139', 0.536994218826294),\n",
       " ('271', 0.5360170602798462),\n",
       " ('129', 0.533348798751831),\n",
       " ('2336', 0.5321540832519531)]"
      ]
     },
     "execution_count": 18,
     "metadata": {},
     "output_type": "execute_result"
    }
   ],
   "source": [
    "model.most_similar(\"1\")"
   ]
  },
  {
   "cell_type": "code",
   "execution_count": 19,
   "metadata": {
    "collapsed": false,
    "deletable": true,
    "editable": true
   },
   "outputs": [
    {
     "name": "stdout",
     "output_type": "stream",
     "text": [
      "1337176\n",
      "8005\n"
     ]
    }
   ],
   "source": [
    "print(model.corpus_count)\n",
    "print(len(set(model.wv.index2word)))"
   ]
  },
  {
   "cell_type": "markdown",
   "metadata": {
    "deletable": true,
    "editable": true
   },
   "source": [
    "#### doc2vec"
   ]
  },
  {
   "cell_type": "code",
   "execution_count": 20,
   "metadata": {
    "collapsed": true,
    "deletable": true,
    "editable": true
   },
   "outputs": [],
   "source": [
    "import numpy as np  # Make sure that numpy is imported\n",
    "\n",
    "def makeFeatureVec(model, num_features, words):\n",
    "    featureVec = np.zeros((num_features,),dtype=\"float64\")\n",
    "    nwords = 0\n",
    "    # set for fast query\n",
    "    index2word_set = set(model.wv.index2word)\n",
    "    for word in words:\n",
    "        if word in index2word_set: \n",
    "            nwords = nwords + 1\n",
    "            featureVec = np.add(featureVec,model[word])\n",
    "    # Divide the result by the number of words to get the average\n",
    "    featureVec = np.divide(featureVec,nwords*1.0)\n",
    "    return featureVec\n",
    "\n",
    "\n",
    "def getAvgFeatureVecs(covers, model, num_features):\n",
    "    counter = 0\n",
    "    reviewFeatureVecs = np.zeros((len(covers),num_features),dtype=\"float64\")\n",
    "    for cover in covers:\n",
    "        if counter%100000 == 0:\n",
    "            print \"Cover %d of %d\" % (counter, len(covers))\n",
    "        # Call the function (defined above) that makes average feature vectors\n",
    "        reviewFeatureVecs[counter] = makeFeatureVec(cover, model, \\\n",
    "           num_features)\n",
    "        # Increment the counter\n",
    "        counter = counter + 1\n",
    "    return reviewFeatureVecs"
   ]
  },
  {
   "cell_type": "code",
   "execution_count": 21,
   "metadata": {
    "collapsed": false,
    "deletable": true,
    "editable": true
   },
   "outputs": [
    {
     "name": "stderr",
     "output_type": "stream",
     "text": [
      "/Library/Python/2.7/site-packages/ipykernel_launcher.py:11: DeprecationWarning: Call to deprecated `__getitem__` (Method will be removed in 4.0.0, use self.wv.__getitem__() instead).\n",
      "  # This is added back by InteractiveShellApp.init_path()\n"
     ]
    }
   ],
   "source": [
    "import functools\n",
    "doc2vec = functools.partial(makeFeatureVec, model, num_features)\n",
    "text_data['doc_vec'] = text_data['cover_words'].apply(doc2vec)"
   ]
  },
  {
   "cell_type": "code",
   "execution_count": 22,
   "metadata": {
    "collapsed": false,
    "deletable": true,
    "editable": true
   },
   "outputs": [
    {
     "data": {
      "text/html": [
       "<div>\n",
       "<style>\n",
       "    .dataframe thead tr:only-child th {\n",
       "        text-align: right;\n",
       "    }\n",
       "\n",
       "    .dataframe thead th {\n",
       "        text-align: left;\n",
       "    }\n",
       "\n",
       "    .dataframe tbody tr th {\n",
       "        vertical-align: top;\n",
       "    }\n",
       "</style>\n",
       "<table border=\"1\" class=\"dataframe\">\n",
       "  <thead>\n",
       "    <tr style=\"text-align: right;\">\n",
       "      <th></th>\n",
       "      <th>photo_id</th>\n",
       "      <th>cover_words</th>\n",
       "      <th>cover_length</th>\n",
       "      <th>doc_vec</th>\n",
       "    </tr>\n",
       "  </thead>\n",
       "  <tbody>\n",
       "    <tr>\n",
       "      <th>0</th>\n",
       "      <td>5735948</td>\n",
       "      <td>[508, 509, 510, 511, 512, 508, 513, 514, 515, ...</td>\n",
       "      <td>154</td>\n",
       "      <td>[-0.025878702781887516, -0.047330769046244246,...</td>\n",
       "    </tr>\n",
       "    <tr>\n",
       "      <th>1</th>\n",
       "      <td>1035274</td>\n",
       "      <td>[351, 789, 356, 33, 79, 61, 198, 790, 14, 791,...</td>\n",
       "      <td>154</td>\n",
       "      <td>[-0.017359135672450066, -0.0212560188619123, -...</td>\n",
       "    </tr>\n",
       "    <tr>\n",
       "      <th>2</th>\n",
       "      <td>5752571</td>\n",
       "      <td>[1158, 1159, 1160, 1158, 1159, 1160, 1161, 116...</td>\n",
       "      <td>189</td>\n",
       "      <td>[-0.01641334203929551, -0.009614278170369608, ...</td>\n",
       "    </tr>\n",
       "    <tr>\n",
       "      <th>3</th>\n",
       "      <td>473617</td>\n",
       "      <td>[1294, 173, 1295, 1296, 14, 1297, 150, 1298, 1...</td>\n",
       "      <td>35</td>\n",
       "      <td>[0.0024094040409716614, 0.019040408003253535, ...</td>\n",
       "    </tr>\n",
       "    <tr>\n",
       "      <th>4</th>\n",
       "      <td>1040170</td>\n",
       "      <td>[1474, 1475, 1476, 1477, 1478, 1479, 1480, 148...</td>\n",
       "      <td>18</td>\n",
       "      <td>[-0.00876109438416149, 0.0368937700654247, 0.0...</td>\n",
       "    </tr>\n",
       "  </tbody>\n",
       "</table>\n",
       "</div>"
      ],
      "text/plain": [
       "   photo_id                                        cover_words  cover_length  \\\n",
       "0   5735948  [508, 509, 510, 511, 512, 508, 513, 514, 515, ...           154   \n",
       "1   1035274  [351, 789, 356, 33, 79, 61, 198, 790, 14, 791,...           154   \n",
       "2   5752571  [1158, 1159, 1160, 1158, 1159, 1160, 1161, 116...           189   \n",
       "3    473617  [1294, 173, 1295, 1296, 14, 1297, 150, 1298, 1...            35   \n",
       "4   1040170  [1474, 1475, 1476, 1477, 1478, 1479, 1480, 148...            18   \n",
       "\n",
       "                                             doc_vec  \n",
       "0  [-0.025878702781887516, -0.047330769046244246,...  \n",
       "1  [-0.017359135672450066, -0.0212560188619123, -...  \n",
       "2  [-0.01641334203929551, -0.009614278170369608, ...  \n",
       "3  [0.0024094040409716614, 0.019040408003253535, ...  \n",
       "4  [-0.00876109438416149, 0.0368937700654247, 0.0...  "
      ]
     },
     "execution_count": 22,
     "metadata": {},
     "output_type": "execute_result"
    }
   ],
   "source": [
    "text_data.head()"
   ]
  },
  {
   "cell_type": "code",
   "execution_count": 23,
   "metadata": {
    "collapsed": true,
    "deletable": true,
    "editable": true
   },
   "outputs": [],
   "source": [
    "f = 'text_data_docvec'\n",
    "f = f + '.sample.csv' if USE_SAMPLE else f + '.csv'\n",
    "text_data['doc_vec'].to_csv(f)"
   ]
  },
  {
   "cell_type": "markdown",
   "metadata": {
    "deletable": true,
    "editable": true
   },
   "source": [
    "另一种方法是先使用Kmeans对所有的单词做聚类，这可以看成无监督学习出来隐含空间的文本特征属性，每一个类代表一个维度的特征，然后统计一个文本中的单词都属于哪些类的词频作为对应维度的特征值，构成一个DocVector；\n",
    "\n",
    "这里对文本进行分类可以直接采用得到的Doc2Vec对文本进行聚类，聚类之后，每一个photo就具有类别属性，可以对photo进行编码。\n",
    "\n",
    "前面的是直接将词向量简单的做平均来构造一个文档的向量DocVector, 当然也可以乘以tf-idf权重。\n"
   ]
  },
  {
   "cell_type": "code",
   "execution_count": null,
   "metadata": {
    "collapsed": true,
    "deletable": true,
    "editable": true
   },
   "outputs": [],
   "source": [
    "USER_FEATURE_TRAIN_FILE = 'user_feature_train'\n",
    "USER_FEATURE_TRAIN_FILE = USER_FEATURE_TRAIN_FILE + '_sample.csv' if USE_SAMPLE else USER_FEATURE_TRAIN_FILE + '.csv'\n",
    "user_item_train = pd.read_csv(USER_FEATURE_TRAIN_FILE, sep='\\t')\n",
    "\n",
    "USER_FEATURE_TEST_FILE = 'user_feature_test'\n",
    "USER_FEATURE_TEST_FILE = USER_FEATURE_TEST_FILE + '_sample.csv' if USE_SAMPLE else USER_FEATURE_TEST_FILE + '.csv'\n",
    "user_item_test = pd.read_csv(USER_FEATURE_TEST_FILE, sep='\\t')"
   ]
  },
  {
   "cell_type": "markdown",
   "metadata": {
    "deletable": true,
    "editable": true
   },
   "source": [
    "# 图片的行为交互属性\n",
    "图片本身被用户交互曝光点击等属性，以及视频时长等属性"
   ]
  },
  {
   "cell_type": "code",
   "execution_count": 10,
   "metadata": {
    "collapsed": true,
    "deletable": true,
    "editable": true
   },
   "outputs": [],
   "source": [
    "items = pd.DataFrame()\n",
    "common = ['photo_id', 'duration_time', 'time']\n",
    "items[common] = user_item_train[common]\n",
    "\n",
    "items['display_num'] = user_item_train['photo_id'].groupby(user_item_train['photo_id']).transform('count')\n",
    "items['click_num'] = user_item_train['click'].groupby(user_item_train['photo_id']).transform('sum')\n",
    "items['like_num'] = user_item_train['like'].groupby(user_item_train['photo_id']).transform('sum')\n",
    "items['follow_num'] = user_item_train['follow'].groupby(user_item_train['photo_id']).transform('sum')\n",
    "items['playing_sum'] = user_item_train['playing_time'].groupby(user_item_train['photo_id']).transform('sum')\n",
    "items['duration_sum'] = user_item_train['duration_time'].groupby(user_item_train['photo_id']).transform('sum')\n",
    "items['click_ratio'] = user_item_train['click'].groupby(user_item_train['photo_id']).transform('mean')\n",
    "items['like_ratio'] = user_item_train['like'].groupby(user_item_train['photo_id']).transform('mean')\n",
    "items['follow_ratio'] = user_item_train['follow'].groupby(user_item_train['photo_id']).transform('mean')\n",
    "items['playing_ratio'] = items['playing_sum'] / items['duration_sum']\n"
   ]
  },
  {
   "cell_type": "code",
   "execution_count": 11,
   "metadata": {
    "collapsed": true,
    "deletable": true,
    "editable": true
   },
   "outputs": [],
   "source": [
    "items.drop_duplicates(['photo_id'], inplace=True)"
   ]
  },
  {
   "cell_type": "code",
   "execution_count": 12,
   "metadata": {
    "collapsed": false,
    "deletable": true,
    "editable": true
   },
   "outputs": [
    {
     "data": {
      "text/plain": [
       "1112781"
      ]
     },
     "execution_count": 12,
     "metadata": {},
     "output_type": "execute_result"
    }
   ],
   "source": [
    "items['photo_id'].nunique()"
   ]
  },
  {
   "cell_type": "code",
   "execution_count": 13,
   "metadata": {
    "collapsed": true,
    "deletable": true,
    "editable": true
   },
   "outputs": [],
   "source": [
    "import numpy as np\n",
    "import scipy as sp\n",
    "from scipy import sparse as ssp\n",
    "from scipy.stats import spearmanr\n",
    "import pandas as pd\n",
    "from sklearn.linear_model import LogisticRegression\n",
    "from sklearn.model_selection import StratifiedKFold\n",
    "from sklearn.metrics import roc_auc_score\n",
    "from sklearn.preprocessing import OneHotEncoder,MinMaxScaler"
   ]
  },
  {
   "cell_type": "code",
   "execution_count": 22,
   "metadata": {
    "collapsed": false,
    "deletable": true,
    "editable": true
   },
   "outputs": [
    {
     "data": {
      "text/plain": [
       "Index([u'photo_id', u'duration_time', u'time', u'display_num', u'click_num',\n",
       "       u'like_num', u'follow_num', u'playing_sum', u'duration_sum',\n",
       "       u'click_ratio', u'like_ratio', u'follow_ratio', u'playing_ratio'],\n",
       "      dtype='object')"
      ]
     },
     "execution_count": 22,
     "metadata": {},
     "output_type": "execute_result"
    }
   ],
   "source": [
    "items.columns"
   ]
  },
  {
   "cell_type": "code",
   "execution_count": 23,
   "metadata": {
    "collapsed": false,
    "deletable": true,
    "editable": true
   },
   "outputs": [
    {
     "data": {
      "text/plain": [
       "Index([u'user_id', u'photo_id', u'click', u'like', u'follow', u'time',\n",
       "       u'playing_time', u'duration_time'],\n",
       "      dtype='object')"
      ]
     },
     "execution_count": 23,
     "metadata": {},
     "output_type": "execute_result"
    }
   ],
   "source": [
    "user_item_train.columns"
   ]
  },
  {
   "cell_type": "code",
   "execution_count": 34,
   "metadata": {
    "collapsed": false,
    "deletable": true,
    "editable": true
   },
   "outputs": [
    {
     "data": {
      "text/plain": [
       "['click_num',\n",
       " 'click_ratio',\n",
       " 'display_num',\n",
       " 'duration_sum',\n",
       " 'follow_num',\n",
       " 'follow_ratio',\n",
       " 'like_num',\n",
       " 'like_ratio',\n",
       " 'playing_ratio',\n",
       " 'playing_sum']"
      ]
     },
     "execution_count": 34,
     "metadata": {},
     "output_type": "execute_result"
    }
   ],
   "source": [
    "cols_to_use = list(items.columns.difference(user_item_train.columns))\n",
    "cols_to_use"
   ]
  },
  {
   "cell_type": "code",
   "execution_count": 35,
   "metadata": {
    "collapsed": false,
    "deletable": true,
    "editable": true
   },
   "outputs": [
    {
     "data": {
      "text/plain": [
       "['click_num',\n",
       " 'click_ratio',\n",
       " 'display_num',\n",
       " 'duration_sum',\n",
       " 'follow_num',\n",
       " 'follow_ratio',\n",
       " 'like_num',\n",
       " 'like_ratio',\n",
       " 'playing_ratio',\n",
       " 'playing_sum',\n",
       " 'photo_id']"
      ]
     },
     "execution_count": 35,
     "metadata": {},
     "output_type": "execute_result"
    }
   ],
   "source": [
    "cols_to_use.append('photo_id')\n",
    "cols_to_use"
   ]
  },
  {
   "cell_type": "code",
   "execution_count": 36,
   "metadata": {
    "collapsed": true,
    "deletable": true,
    "editable": true
   },
   "outputs": [],
   "source": [
    "user_features = ['display_num', 'click_num', 'like_num', 'follow_num', 'playing_sum','duration_sum', 'click_ratio', 'like_ratio', 'follow_ratio', 'playing_ratio']\n",
    "user_item_train = pd.merge(user_item_train, items[cols_to_use],\n",
    "                          how='inner',\n",
    "                          on=['photo_id'])\n",
    "# df2 = pd.merge(a ,df1, on='ID', how='left', suffixes=('_',''))\n",
    "# df2.drop('value1_', axis=1, inplace=True)\n",
    "duration_df = user_item_train['duration_time']\n",
    "user_item_train['duration_time'] = (duration_df-duration_min)/(duration_max-duration_min)"
   ]
  },
  {
   "cell_type": "code",
   "execution_count": 47,
   "metadata": {
    "collapsed": true,
    "deletable": true,
    "editable": true
   },
   "outputs": [],
   "source": [
    "y = user_item_train['click'].values"
   ]
  },
  {
   "cell_type": "code",
   "execution_count": 48,
   "metadata": {
    "collapsed": true,
    "deletable": true,
    "editable": true
   },
   "outputs": [],
   "source": [
    "input_features = ['user_id', 'photo_id', 'time', 'duration_time'] + user_features\n",
    "user_item_train = user_item_train[input_features]"
   ]
  },
  {
   "cell_type": "code",
   "execution_count": 49,
   "metadata": {
    "collapsed": false,
    "deletable": true,
    "editable": true
   },
   "outputs": [
    {
     "data": {
      "text/html": [
       "<div>\n",
       "<style>\n",
       "    .dataframe thead tr:only-child th {\n",
       "        text-align: right;\n",
       "    }\n",
       "\n",
       "    .dataframe thead th {\n",
       "        text-align: left;\n",
       "    }\n",
       "\n",
       "    .dataframe tbody tr th {\n",
       "        vertical-align: top;\n",
       "    }\n",
       "</style>\n",
       "<table border=\"1\" class=\"dataframe\">\n",
       "  <thead>\n",
       "    <tr style=\"text-align: right;\">\n",
       "      <th></th>\n",
       "      <th>user_id</th>\n",
       "      <th>photo_id</th>\n",
       "      <th>time</th>\n",
       "      <th>duration_time</th>\n",
       "      <th>display_num</th>\n",
       "      <th>click_num</th>\n",
       "      <th>like_num</th>\n",
       "      <th>follow_num</th>\n",
       "      <th>playing_sum</th>\n",
       "      <th>duration_sum</th>\n",
       "      <th>click_ratio</th>\n",
       "      <th>like_ratio</th>\n",
       "      <th>follow_ratio</th>\n",
       "      <th>playing_ratio</th>\n",
       "    </tr>\n",
       "  </thead>\n",
       "  <tbody>\n",
       "    <tr>\n",
       "      <th>0</th>\n",
       "      <td>2</td>\n",
       "      <td>528031</td>\n",
       "      <td>0.451825</td>\n",
       "      <td>0.004574</td>\n",
       "      <td>52</td>\n",
       "      <td>14</td>\n",
       "      <td>0</td>\n",
       "      <td>0</td>\n",
       "      <td>205</td>\n",
       "      <td>832</td>\n",
       "      <td>0.269231</td>\n",
       "      <td>0.0</td>\n",
       "      <td>0.0</td>\n",
       "      <td>0.246394</td>\n",
       "    </tr>\n",
       "    <tr>\n",
       "      <th>1</th>\n",
       "      <td>2004</td>\n",
       "      <td>528031</td>\n",
       "      <td>0.219017</td>\n",
       "      <td>0.004574</td>\n",
       "      <td>52</td>\n",
       "      <td>14</td>\n",
       "      <td>0</td>\n",
       "      <td>0</td>\n",
       "      <td>205</td>\n",
       "      <td>832</td>\n",
       "      <td>0.269231</td>\n",
       "      <td>0.0</td>\n",
       "      <td>0.0</td>\n",
       "      <td>0.246394</td>\n",
       "    </tr>\n",
       "    <tr>\n",
       "      <th>2</th>\n",
       "      <td>2347</td>\n",
       "      <td>528031</td>\n",
       "      <td>0.588651</td>\n",
       "      <td>0.004574</td>\n",
       "      <td>52</td>\n",
       "      <td>14</td>\n",
       "      <td>0</td>\n",
       "      <td>0</td>\n",
       "      <td>205</td>\n",
       "      <td>832</td>\n",
       "      <td>0.269231</td>\n",
       "      <td>0.0</td>\n",
       "      <td>0.0</td>\n",
       "      <td>0.246394</td>\n",
       "    </tr>\n",
       "    <tr>\n",
       "      <th>3</th>\n",
       "      <td>3597</td>\n",
       "      <td>528031</td>\n",
       "      <td>0.472426</td>\n",
       "      <td>0.004574</td>\n",
       "      <td>52</td>\n",
       "      <td>14</td>\n",
       "      <td>0</td>\n",
       "      <td>0</td>\n",
       "      <td>205</td>\n",
       "      <td>832</td>\n",
       "      <td>0.269231</td>\n",
       "      <td>0.0</td>\n",
       "      <td>0.0</td>\n",
       "      <td>0.246394</td>\n",
       "    </tr>\n",
       "    <tr>\n",
       "      <th>4</th>\n",
       "      <td>3758</td>\n",
       "      <td>528031</td>\n",
       "      <td>0.451302</td>\n",
       "      <td>0.004574</td>\n",
       "      <td>52</td>\n",
       "      <td>14</td>\n",
       "      <td>0</td>\n",
       "      <td>0</td>\n",
       "      <td>205</td>\n",
       "      <td>832</td>\n",
       "      <td>0.269231</td>\n",
       "      <td>0.0</td>\n",
       "      <td>0.0</td>\n",
       "      <td>0.246394</td>\n",
       "    </tr>\n",
       "  </tbody>\n",
       "</table>\n",
       "</div>"
      ],
      "text/plain": [
       "   user_id  photo_id      time  duration_time  display_num  click_num  \\\n",
       "0        2    528031  0.451825       0.004574           52         14   \n",
       "1     2004    528031  0.219017       0.004574           52         14   \n",
       "2     2347    528031  0.588651       0.004574           52         14   \n",
       "3     3597    528031  0.472426       0.004574           52         14   \n",
       "4     3758    528031  0.451302       0.004574           52         14   \n",
       "\n",
       "   like_num  follow_num  playing_sum  duration_sum  click_ratio  like_ratio  \\\n",
       "0         0           0          205           832     0.269231         0.0   \n",
       "1         0           0          205           832     0.269231         0.0   \n",
       "2         0           0          205           832     0.269231         0.0   \n",
       "3         0           0          205           832     0.269231         0.0   \n",
       "4         0           0          205           832     0.269231         0.0   \n",
       "\n",
       "   follow_ratio  playing_ratio  \n",
       "0           0.0       0.246394  \n",
       "1           0.0       0.246394  \n",
       "2           0.0       0.246394  \n",
       "3           0.0       0.246394  \n",
       "4           0.0       0.246394  "
      ]
     },
     "execution_count": 49,
     "metadata": {},
     "output_type": "execute_result"
    }
   ],
   "source": [
    "user_item_train.head()"
   ]
  },
  {
   "cell_type": "code",
   "execution_count": 50,
   "metadata": {
    "collapsed": true,
    "deletable": true,
    "editable": true
   },
   "outputs": [],
   "source": [
    "time_df = user_item_test['time']\n",
    "user_item_test['time'] = (time_df-time_min)/(time_max-time_min)\n",
    "duration_df = user_item_test['duration_time']\n",
    "user_item_test['duration_time'] = (duration_df-duration_min)/(duration_max-duration_min)"
   ]
  },
  {
   "cell_type": "code",
   "execution_count": 51,
   "metadata": {
    "collapsed": false,
    "deletable": true,
    "editable": true
   },
   "outputs": [
    {
     "data": {
      "text/html": [
       "<div>\n",
       "<style>\n",
       "    .dataframe thead tr:only-child th {\n",
       "        text-align: right;\n",
       "    }\n",
       "\n",
       "    .dataframe thead th {\n",
       "        text-align: left;\n",
       "    }\n",
       "\n",
       "    .dataframe tbody tr th {\n",
       "        vertical-align: top;\n",
       "    }\n",
       "</style>\n",
       "<table border=\"1\" class=\"dataframe\">\n",
       "  <thead>\n",
       "    <tr style=\"text-align: right;\">\n",
       "      <th></th>\n",
       "      <th>user_id</th>\n",
       "      <th>photo_id</th>\n",
       "      <th>time</th>\n",
       "      <th>duration_time</th>\n",
       "    </tr>\n",
       "  </thead>\n",
       "  <tbody>\n",
       "    <tr>\n",
       "      <th>0</th>\n",
       "      <td>2</td>\n",
       "      <td>8493743</td>\n",
       "      <td>0.975743</td>\n",
       "      <td>0.003145</td>\n",
       "    </tr>\n",
       "    <tr>\n",
       "      <th>1</th>\n",
       "      <td>2</td>\n",
       "      <td>8676804</td>\n",
       "      <td>0.975743</td>\n",
       "      <td>0.002001</td>\n",
       "    </tr>\n",
       "    <tr>\n",
       "      <th>2</th>\n",
       "      <td>2</td>\n",
       "      <td>8389617</td>\n",
       "      <td>0.987327</td>\n",
       "      <td>0.013436</td>\n",
       "    </tr>\n",
       "    <tr>\n",
       "      <th>3</th>\n",
       "      <td>2</td>\n",
       "      <td>9080838</td>\n",
       "      <td>0.975743</td>\n",
       "      <td>0.040023</td>\n",
       "    </tr>\n",
       "    <tr>\n",
       "      <th>4</th>\n",
       "      <td>2</td>\n",
       "      <td>8962078</td>\n",
       "      <td>0.987327</td>\n",
       "      <td>0.001144</td>\n",
       "    </tr>\n",
       "  </tbody>\n",
       "</table>\n",
       "</div>"
      ],
      "text/plain": [
       "   user_id  photo_id      time  duration_time\n",
       "0        2   8493743  0.975743       0.003145\n",
       "1        2   8676804  0.975743       0.002001\n",
       "2        2   8389617  0.987327       0.013436\n",
       "3        2   9080838  0.975743       0.040023\n",
       "4        2   8962078  0.987327       0.001144"
      ]
     },
     "execution_count": 51,
     "metadata": {},
     "output_type": "execute_result"
    }
   ],
   "source": [
    "user_item_test.head()"
   ]
  },
  {
   "cell_type": "code",
   "execution_count": 52,
   "metadata": {
    "collapsed": false,
    "deletable": true,
    "editable": true
   },
   "outputs": [
    {
     "name": "stdout",
     "output_type": "stream",
     "text": [
      "<class 'pandas.core.frame.DataFrame'>\n",
      "RangeIndex: 489929 entries, 0 to 489928\n",
      "Data columns (total 4 columns):\n",
      "user_id          489929 non-null int64\n",
      "photo_id         489929 non-null int64\n",
      "time             489929 non-null float64\n",
      "duration_time    489929 non-null float64\n",
      "dtypes: float64(2), int64(2)\n",
      "memory usage: 15.0 MB\n"
     ]
    }
   ],
   "source": [
    "user_item_test.info()"
   ]
  },
  {
   "cell_type": "code",
   "execution_count": 53,
   "metadata": {
    "collapsed": true,
    "deletable": true,
    "editable": true
   },
   "outputs": [],
   "source": [
    "user_item_test = pd.merge(user_item_test, items,\n",
    "                          how='inner',\n",
    "                          on=['photo_id'])"
   ]
  },
  {
   "cell_type": "code",
   "execution_count": 54,
   "metadata": {
    "collapsed": false,
    "deletable": true,
    "editable": true
   },
   "outputs": [
    {
     "data": {
      "text/html": [
       "<div>\n",
       "<style>\n",
       "    .dataframe thead tr:only-child th {\n",
       "        text-align: right;\n",
       "    }\n",
       "\n",
       "    .dataframe thead th {\n",
       "        text-align: left;\n",
       "    }\n",
       "\n",
       "    .dataframe tbody tr th {\n",
       "        vertical-align: top;\n",
       "    }\n",
       "</style>\n",
       "<table border=\"1\" class=\"dataframe\">\n",
       "  <thead>\n",
       "    <tr style=\"text-align: right;\">\n",
       "      <th></th>\n",
       "      <th>user_id</th>\n",
       "      <th>photo_id</th>\n",
       "      <th>time_x</th>\n",
       "      <th>duration_time_x</th>\n",
       "      <th>duration_time_y</th>\n",
       "      <th>time_y</th>\n",
       "      <th>display_num</th>\n",
       "      <th>click_num</th>\n",
       "      <th>like_num</th>\n",
       "      <th>follow_num</th>\n",
       "      <th>playing_sum</th>\n",
       "      <th>duration_sum</th>\n",
       "      <th>click_ratio</th>\n",
       "      <th>like_ratio</th>\n",
       "      <th>follow_ratio</th>\n",
       "      <th>playing_ratio</th>\n",
       "    </tr>\n",
       "  </thead>\n",
       "  <tbody>\n",
       "  </tbody>\n",
       "</table>\n",
       "</div>"
      ],
      "text/plain": [
       "Empty DataFrame\n",
       "Columns: [user_id, photo_id, time_x, duration_time_x, duration_time_y, time_y, display_num, click_num, like_num, follow_num, playing_sum, duration_sum, click_ratio, like_ratio, follow_ratio, playing_ratio]\n",
       "Index: []"
      ]
     },
     "execution_count": 54,
     "metadata": {},
     "output_type": "execute_result"
    }
   ],
   "source": [
    "user_item_test.head()"
   ]
  },
  {
   "cell_type": "code",
   "execution_count": null,
   "metadata": {
    "collapsed": true,
    "deletable": true,
    "editable": true
   },
   "outputs": [],
   "source": [
    "features = list(set(input_features) - set(['user_id', 'photo_id']))\n",
    "X = user_item_train.as_matrix(features)\n",
    "\n",
    "features = input_features.remove('photo_id')\n",
    "X = user_item_train.as_matrix(features)"
   ]
  },
  {
   "cell_type": "code",
   "execution_count": 129,
   "metadata": {
    "collapsed": false,
    "deletable": true,
    "editable": true
   },
   "outputs": [
    {
     "data": {
      "text/plain": [
       "0"
      ]
     },
     "execution_count": 129,
     "metadata": {},
     "output_type": "execute_result"
    }
   ],
   "source": [
    "np.sum(np.isnan(X))"
   ]
  },
  {
   "cell_type": "code",
   "execution_count": 130,
   "metadata": {
    "collapsed": true,
    "deletable": true,
    "editable": true
   },
   "outputs": [],
   "source": [
    "from sklearn import preprocessing\n",
    "X = preprocessing.scale(X)"
   ]
  },
  {
   "cell_type": "code",
   "execution_count": 131,
   "metadata": {
    "collapsed": false,
    "deletable": true,
    "editable": true
   },
   "outputs": [
    {
     "data": {
      "text/plain": [
       "435"
      ]
     },
     "execution_count": 131,
     "metadata": {},
     "output_type": "execute_result"
    }
   ],
   "source": [
    "del user_item_train\n",
    "gc.collect()"
   ]
  },
  {
   "cell_type": "code",
   "execution_count": 132,
   "metadata": {
    "collapsed": true,
    "deletable": true,
    "editable": true
   },
   "outputs": [],
   "source": [
    "from sklearn.model_selection import cross_val_score, train_test_split, GridSearchCV\n",
    "from sklearn.linear_model import LogisticRegression\n",
    "from sklearn.ensemble import RandomForestClassifier, AdaBoostClassifier, GradientBoostingClassifier\n",
    "from sklearn.metrics import recall_score, accuracy_score\n"
   ]
  },
  {
   "cell_type": "code",
   "execution_count": 133,
   "metadata": {
    "collapsed": true,
    "deletable": true,
    "editable": true
   },
   "outputs": [],
   "source": [
    "X_train, X_test, y_train, y_test = train_test_split(X, y, test_size=0.2, random_state=0)"
   ]
  },
  {
   "cell_type": "code",
   "execution_count": 134,
   "metadata": {
    "collapsed": false,
    "deletable": true,
    "editable": true
   },
   "outputs": [
    {
     "name": "stdout",
     "output_type": "stream",
     "text": [
      "0.8031740793135325\n",
      "CPU times: user 18.2 s, sys: 980 ms, total: 19.2 s\n",
      "Wall time: 19.4 s\n"
     ]
    }
   ],
   "source": [
    "%%time\n",
    "clf = LogisticRegression(C=1,random_state=1)\n",
    "clf.fit(X_train, y_train)\n",
    "print(clf.score(X_test, y_test))"
   ]
  },
  {
   "cell_type": "code",
   "execution_count": 46,
   "metadata": {
    "collapsed": false,
    "deletable": true,
    "editable": true
   },
   "outputs": [
    {
     "name": "stdout",
     "output_type": "stream",
     "text": [
      "[0.80339036 0.80345573 0.80177673 0.80308405 0.80347015]\n",
      "CPU times: user 1min 11s, sys: 5.73 s, total: 1min 17s\n",
      "Wall time: 1min 17s\n"
     ]
    }
   ],
   "source": [
    "%%time\n",
    "scores = cross_val_score(clf, X, y, cv=5)\n",
    "print(scores)"
   ]
  },
  {
   "cell_type": "code",
   "execution_count": 47,
   "metadata": {
    "collapsed": false,
    "deletable": true,
    "editable": true
   },
   "outputs": [
    {
     "name": "stdout",
     "output_type": "stream",
     "text": [
      "Accuracy: 0.80 (+/- 0.00)\n"
     ]
    }
   ],
   "source": [
    "print(\"Accuracy: %0.2f (+/- %0.2f)\" % (scores.mean(), scores.std() * 2))"
   ]
  },
  {
   "cell_type": "code",
   "execution_count": null,
   "metadata": {
    "collapsed": true,
    "deletable": true,
    "editable": true
   },
   "outputs": [],
   "source": [
    "%%time\n",
    "param_grid = {\n",
    "              'C': [1, 10, 100, 500, 1000],\n",
    "             }\n",
    "\n",
    "# est = GradientBoostingClassifier({'n_estimators': 100, 'learning_rate': 0.1, 'max_depth': 4, 'min_samples_leaf': 9})\n",
    "# this may take some minutes\n",
    "gs_cv = GridSearchCV(LogisticRegression(), param_grid).fit(X_train, y_train)\n",
    "print(gs_cv.best_params_)\n",
    "\n",
    "\n",
    "# best hyperparameter setting\n",
    "\n",
    "# est.fit(X_train, y_train)\n",
    "print(accuracy_score(y_test, gs_cv.predict(X_test)))"
   ]
  },
  {
   "cell_type": "code",
   "execution_count": null,
   "metadata": {
    "collapsed": false,
    "deletable": true,
    "editable": true
   },
   "outputs": [
    {
     "name": "stdout",
     "output_type": "stream",
     "text": [
      "Logistic Regression             测试集acc/recall:  0.798934924325/ 0.516325331576 训练集acc/recall:  0.798533275658/ 0.798533275658\n"
     ]
    }
   ],
   "source": [
    "%%time\n",
    "from sklearn.model_selection import StratifiedShuffleSplit\n",
    "from sklearn.model_selection import GridSearchCV\n",
    "\n",
    "from sklearn.metrics import roc_curve, auc\n",
    "from sklearn.metrics import recall_score, accuracy_score\n",
    "\n",
    "from sklearn import svm\n",
    "from sklearn.linear_model import LinearRegression\n",
    "from sklearn.linear_model import LogisticRegression\n",
    "\n",
    "from sklearn.tree import DecisionTreeClassifier\n",
    "\n",
    "from sklearn.ensemble import RandomForestClassifier, AdaBoostClassifier, GradientBoostingClassifier\n",
    "from xgboost import XGBClassifier\n",
    "\n",
    "\n",
    "names = [\"Logistic Regression\", \"Linear SVM\", \"RBF SVM\", \n",
    "         \"Decision Tree\", \"Random Forest\", \"AdaBoost\", \"Gradient Boosting Decision Tree\", \"XGBoost\"]\n",
    "classifiers = [\n",
    "    LogisticRegression(C=100),\n",
    "    svm.SVC(kernel=\"linear\", C=0.025),\n",
    "    svm.SVC(gamma=0.01, C=10),\n",
    "    DecisionTreeClassifier(max_depth=5),\n",
    "    RandomForestClassifier(max_depth=5, n_estimators=10, max_features=1),\n",
    "    AdaBoostClassifier(),\n",
    "    GradientBoostingClassifier(n_estimators=100, learning_rate=0.1, max_depth=4, min_samples_leaf=9),\n",
    "    XGBClassifier()]\n",
    "\n",
    "for name, clf in zip(names,classifiers):\n",
    "    clf.fit(X_train, y_train)\n",
    "    print(\"{:31} 测试集acc/recall: {:15}/{:15} 训练集acc/recall: {:15}/{:15}\".format(name, \n",
    "        accuracy_score(y_test, clf.predict(X_test)), recall_score(y_test, clf.predict(X_test), average='macro'), \n",
    "        accuracy_score(y_train, clf.predict(X_train)), recall_score(y_train, clf.predict(X_train), average='micro')))\n",
    "    \n",
    "for name, clf in zip(names, classifiers):\n",
    "    try: \n",
    "        importances = clf.feature_importances_\n",
    "        indices = np.argsort(importances)[::-1]\n",
    "        print('{}特征权值分布为: '.format(name))\n",
    "        for f in range(X_train.shape[1]):\n",
    "            print(\"%d. feature %d (%f)\" % (f + 1, indices[f], importances[indices[f]]))\n",
    "    except AttributeError:\n",
    "        print('{} has no feture_importances_'.format(name))\n",
    "    \n",
    "# b: blue\n",
    "# g: green\n",
    "# r: red\n",
    "# c: cyan\n",
    "# m: magenta\n",
    "# y: yellow\n",
    "# k: black\n",
    "# w: white\n",
    "colors = ['b', 'g', 'r', 'c', 'm', 'y', 'k', 'w']\n",
    "for name, clf, color in zip(names,classifiers, colors):\n",
    "    # y_score = classifier.fit(X_train, y_train).decision_function(X_test)\n",
    "    try:\n",
    "        y_score = clf.decision_function(X_test)\n",
    "    except AttributeError:\n",
    "        print('{} has no decision_function'.format(name))\n",
    "        continue\n",
    "\n",
    "    # Compute ROC curve and ROC area for each class\n",
    "    fpr, tpr, _ = roc_curve(y_test, y_score, sample_weight=None)\n",
    "    roc_auc = auc(fpr, tpr)\n",
    "\n",
    "    # Plot ROC curve\n",
    "    plt.plot(fpr, tpr, label='{} ROC curve (area = {})'.format(name, roc_auc))\n",
    "    plt.plot([0, 1], [0, 1], color)  # random predictions curve\n",
    "    plt.xlim([0.0, 1.0])\n",
    "    plt.ylim([0.0, 1.0])\n",
    "    plt.xlabel('False Positive Rate or (1 - Specifity)')\n",
    "    plt.ylabel('True Positive Rate or (Sensitivity)')\n",
    "    plt.title('Receiver Operating Characteristic')\n",
    "    plt.legend(loc=\"lower right\")"
   ]
  },
  {
   "cell_type": "code",
   "execution_count": null,
   "metadata": {
    "collapsed": true,
    "deletable": true,
    "editable": true
   },
   "outputs": [],
   "source": [
    "%%time\n",
    "param_grid = {'learning_rate': [1, 0.5, 0.1, 0.05, 0.02, 0.01],\n",
    "              'max_depth': [2, 4, 6, 8],\n",
    "              'min_samples_leaf': [3, 5, 9, 11, 13, 15, 17],\n",
    "              'n_estimators': [10, 100, 500, 1000, 2000, 3000, 4000],\n",
    "              # 'max_features': [1.0, 0.3, 0.1] ## not         possible in our example (only 1 fx)\n",
    "             }\n",
    "\n",
    "# est = GradientBoostingClassifier({'n_estimators': 100, 'learning_rate': 0.1, 'max_depth': 4, 'min_samples_leaf': 9})\n",
    "# this may take some minutes\n",
    "gs_cv = GridSearchCV(GradientBoostingClassifier(), param_grid, n_jobs=4).fit(X_train, y_train)\n",
    "print(gs_cv.best_params_)\n",
    "\n",
    "\n",
    "# best hyperparameter setting\n",
    "\n",
    "# est.fit(X_train, y_train)\n",
    "print(accuracy_score(y_test, gs_cv.predict(X_test)))"
   ]
  },
  {
   "cell_type": "code",
   "execution_count": 135,
   "metadata": {
    "collapsed": false,
    "deletable": true,
    "editable": true
   },
   "outputs": [
    {
     "data": {
      "text/plain": [
       "(489929, 14)"
      ]
     },
     "execution_count": 135,
     "metadata": {},
     "output_type": "execute_result"
    }
   ],
   "source": [
    "X_t = user_item_test.as_matrix(features)\n",
    "from sklearn import preprocessing\n",
    "X_t = preprocessing.scale(X_t)\n",
    "X_t.shape"
   ]
  },
  {
   "cell_type": "code",
   "execution_count": 136,
   "metadata": {
    "collapsed": true,
    "deletable": true,
    "editable": true
   },
   "outputs": [],
   "source": [
    "y_sub = clf.predict_proba(X_t)[:,1]\n",
    "submission = pd.DataFrame()\n",
    "submission['user_id'] = user_item_test['user_id']\n",
    "submission['photo_id'] = user_item_test['photo_id']\n",
    "submission['click_probability'] = y_sub\n",
    "submission['click_probability'] = submission['click_probability'].apply(lambda x: float('%.6f' % x))\n",
    "submission.to_csv('sub_lr.txt', sep='\\t', index=False, header=False)"
   ]
  },
  {
   "cell_type": "code",
   "execution_count": 137,
   "metadata": {
    "collapsed": false,
    "deletable": true,
    "editable": true
   },
   "outputs": [
    {
     "data": {
      "text/plain": [
       "count    489929.000000\n",
       "mean          0.202159\n",
       "std           0.128521\n",
       "min           0.000213\n",
       "25%           0.113491\n",
       "50%           0.164768\n",
       "75%           0.253056\n",
       "max           0.923619\n",
       "Name: click_probability, dtype: float64"
      ]
     },
     "execution_count": 137,
     "metadata": {},
     "output_type": "execute_result"
    }
   ],
   "source": [
    "submission['click_probability'].describe()"
   ]
  }
 ],
 "metadata": {
  "kernelspec": {
   "display_name": "Python 2",
   "language": "python",
   "name": "python2"
  },
  "language_info": {
   "codemirror_mode": {
    "name": "ipython",
    "version": 2
   },
   "file_extension": ".py",
   "mimetype": "text/x-python",
   "name": "python",
   "nbconvert_exporter": "python",
   "pygments_lexer": "ipython2",
   "version": "2.7.12"
  }
 },
 "nbformat": 4,
 "nbformat_minor": 2
}
