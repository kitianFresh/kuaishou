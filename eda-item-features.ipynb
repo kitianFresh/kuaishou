{
 "cells": [
  {
   "cell_type": "code",
   "execution_count": 1,
   "metadata": {},
   "outputs": [],
   "source": [
    "import pandas as pd\n",
    "import numpy as np\n",
    "import matplotlib.pyplot as plt\n",
    "import seaborn as sns\n",
    "%matplotlib inline\n",
    "p = sns.color_palette()\n",
    "\n",
    "USE_SAMPLE = False\n",
    "TRAIN_FACE = './sample/train_face.txt' if USE_SAMPLE else './data/train_face.txt'\n",
    "TRAIN_USER_INTERACT = './sample/train_interaction.txt' if USE_SAMPLE else './data/train_interaction.txt'\n",
    "TRAIN_TEXT = './sample/train_text.txt' if USE_SAMPLE else './data/train_text.txt'\n",
    "TEST_FACE = './sample/test_face.txt' if USE_SAMPLE else './data/test_face.txt'\n",
    "TEST_INTERACT = './sample/test_interaction.txt' if USE_SAMPLE else './data/test_interaction.txt'\n",
    "TEST_TEXT = './sample/test_text.txt' if USE_SAMPLE else './data/test_text.txt'"
   ]
  },
  {
   "cell_type": "code",
   "execution_count": 2,
   "metadata": {},
   "outputs": [],
   "source": [
    "face_train = pd.read_csv(TRAIN_FACE, \n",
    "                        sep='\\t', \n",
    "                        header=None, \n",
    "                        names=['photo_id', 'faces'])"
   ]
  },
  {
   "cell_type": "code",
   "execution_count": 3,
   "metadata": {},
   "outputs": [],
   "source": [
    "user_item_train = pd.read_csv(TRAIN_USER_INTERACT, \n",
    "                             sep='\\t', \n",
    "                             header=None, \n",
    "                             names=['user_id', 'photo_id', 'click', 'like', 'follow', 'time', 'playing_time', 'duration_time'])"
   ]
  },
  {
   "cell_type": "code",
   "execution_count": 4,
   "metadata": {},
   "outputs": [],
   "source": [
    "text_train = pd.read_csv(TRAIN_TEXT,\n",
    "                       sep='\\t',\n",
    "                       header=None,\n",
    "                       names=['photo_id', 'cover_words'])"
   ]
  },
  {
   "cell_type": "code",
   "execution_count": 5,
   "metadata": {},
   "outputs": [],
   "source": [
    "face_test = pd.read_csv(TEST_FACE, \n",
    "                        sep='\\t', \n",
    "                        header=None, \n",
    "                        names=['photo_id', 'faces'])"
   ]
  },
  {
   "cell_type": "code",
   "execution_count": 6,
   "metadata": {},
   "outputs": [],
   "source": [
    "user_item_test = pd.read_csv(TEST_INTERACT, \n",
    "                             sep='\\t', \n",
    "                             header=None, \n",
    "                             names=['user_id', 'photo_id', 'time', 'duration_time'])"
   ]
  },
  {
   "cell_type": "code",
   "execution_count": 7,
   "metadata": {},
   "outputs": [],
   "source": [
    "text_test = pd.read_csv(TEST_TEXT,\n",
    "                       sep='\\t',\n",
    "                       header=None,\n",
    "                       names=['photo_id', 'cover_words'])"
   ]
  },
  {
   "cell_type": "code",
   "execution_count": 8,
   "metadata": {},
   "outputs": [],
   "source": [
    "alpha = 2.5171267342473382\n",
    "beta = 7.087836849232511"
   ]
  },
  {
   "cell_type": "code",
   "execution_count": 9,
   "metadata": {},
   "outputs": [
    {
     "data": {
      "text/plain": [
       "0.2620652033055799"
      ]
     },
     "execution_count": 9,
     "metadata": {},
     "output_type": "execute_result"
    }
   ],
   "source": [
    "ctr = alpha/(alpha+beta)\n",
    "ctr"
   ]
  },
  {
   "cell_type": "markdown",
   "metadata": {},
   "source": [
    "# 图片被用户浏览数据分布"
   ]
  },
  {
   "cell_type": "code",
   "execution_count": 9,
   "metadata": {},
   "outputs": [
    {
     "data": {
      "text/plain": [
       "<matplotlib.text.Text at 0x1032fa190>"
      ]
     },
     "execution_count": 9,
     "metadata": {},
     "output_type": "execute_result"
    },
    {
     "data": {
      "image/png": "[encoded data removed]",
      "text/plain": [
       "<matplotlib.figure.Figure at 0x108ac50d0>"
      ]
     },
     "metadata": {},
     "output_type": "display_data"
    }
   ],
   "source": [
    "sizes_train = user_item_train.groupby('photo_id')['user_id'].count().value_counts()\n",
    "sizes_test = user_item_test.groupby('photo_id')['user_id'].count().value_counts()\n",
    "sizes_train = sizes_train / np.sum(sizes_train)\n",
    "sizes_test = sizes_test / np.sum(sizes_test)\n",
    "\n",
    "plt.figure(figsize=(12,4))\n",
    "sns.barplot(sizes_train.index, sizes_train.values, alpha=0.8, color=p[0], label='train')\n",
    "sns.barplot(sizes_test.index, sizes_test.values, alpha=0.6, color=p[1], label='test')\n",
    "plt.legend()\n",
    "plt.xlabel('Photo', fontsize=12)\n",
    "plt.ylabel('Number of users in each photo', fontsize=12)"
   ]
  },
  {
   "cell_type": "markdown",
   "metadata": {},
   "source": [
    "# 图片文本分类 \n",
    "由于文字数据集是全的，通过对图片文字描述的分类，可以挖掘图片的隐含语义信息，从而对图片进行分类，可以利用这些分类信息，完成图片id的编码\n"
   ]
  },
  {
   "cell_type": "code",
   "execution_count": 28,
   "metadata": {},
   "outputs": [
    {
     "name": "stdout",
     "output_type": "stream",
     "text": [
      "<class 'pandas.core.frame.DataFrame'>\n",
      "Int64Index: 5174532 entries, 0 to 895845\n",
      "Data columns (total 3 columns):\n",
      "photo_id        int64\n",
      "cover_words     object\n",
      "cover_length    int64\n",
      "dtypes: int64(2), object(1)\n",
      "memory usage: 157.9+ MB\n"
     ]
    }
   ],
   "source": [
    "text_data = pd.concat([text_train, text_test])\n",
    "\n",
    "text_data['photo_id'].nunique()\n",
    "def words_to_list(words):\n",
    "        if words == '0':\n",
    "            return []\n",
    "        else:\n",
    "            return words.split(',')\n",
    "        \n",
    "text_data['cover_words'] = text_data['cover_words'].apply(words_to_list)\n",
    "text_data['cover_length'] = text_data['cover_words'].apply(lambda words: len(words))\n",
    "\n",
    "text_data.info()\n",
    "\n"
   ]
  },
  {
   "cell_type": "code",
   "execution_count": 29,
   "metadata": {},
   "outputs": [
    {
     "data": {
      "text/html": [
       "<div>\n",
       "<style>\n",
       "    .dataframe thead tr:only-child th {\n",
       "        text-align: right;\n",
       "    }\n",
       "\n",
       "    .dataframe thead th {\n",
       "        text-align: left;\n",
       "    }\n",
       "\n",
       "    .dataframe tbody tr th {\n",
       "        vertical-align: top;\n",
       "    }\n",
       "</style>\n",
       "<table border=\"1\" class=\"dataframe\">\n",
       "  <thead>\n",
       "    <tr style=\"text-align: right;\">\n",
       "      <th></th>\n",
       "      <th>photo_id</th>\n",
       "      <th>cover_words</th>\n",
       "      <th>cover_length</th>\n",
       "    </tr>\n",
       "  </thead>\n",
       "  <tbody>\n",
       "    <tr>\n",
       "      <th>0</th>\n",
       "      <td>1711318</td>\n",
       "      <td>[1, 2, 3, 4, 5, 6, 7, 8, 9, 10, 11, 12, 13, 14...</td>\n",
       "      <td>196</td>\n",
       "    </tr>\n",
       "    <tr>\n",
       "      <th>1</th>\n",
       "      <td>2758458</td>\n",
       "      <td>[278, 279, 280, 281, 282, 24, 283, 284, 285, 2...</td>\n",
       "      <td>190</td>\n",
       "    </tr>\n",
       "    <tr>\n",
       "      <th>2</th>\n",
       "      <td>5314019</td>\n",
       "      <td>[359, 360, 361, 362, 363, 364, 365, 366, 33, 3...</td>\n",
       "      <td>210</td>\n",
       "    </tr>\n",
       "    <tr>\n",
       "      <th>3</th>\n",
       "      <td>5735948</td>\n",
       "      <td>[508, 509, 510, 511, 512, 508, 513, 514, 515, ...</td>\n",
       "      <td>154</td>\n",
       "    </tr>\n",
       "    <tr>\n",
       "      <th>4</th>\n",
       "      <td>3161504</td>\n",
       "      <td>[549, 74, 550, 14, 551, 551, 279, 552, 553, 55...</td>\n",
       "      <td>812</td>\n",
       "    </tr>\n",
       "    <tr>\n",
       "      <th>5</th>\n",
       "      <td>1457390</td>\n",
       "      <td>[0, 735, 164, 736, 76, 737, 738, 739, 0, 738, ...</td>\n",
       "      <td>48</td>\n",
       "    </tr>\n",
       "    <tr>\n",
       "      <th>6</th>\n",
       "      <td>55956</td>\n",
       "      <td>[8, 324, 93, 73, 491, 74, 93, 73, 14, 742, 12,...</td>\n",
       "      <td>190</td>\n",
       "    </tr>\n",
       "    <tr>\n",
       "      <th>7</th>\n",
       "      <td>1035274</td>\n",
       "      <td>[351, 789, 356, 33, 79, 61, 198, 790, 14, 791,...</td>\n",
       "      <td>154</td>\n",
       "    </tr>\n",
       "    <tr>\n",
       "      <th>8</th>\n",
       "      <td>2284079</td>\n",
       "      <td>[8, 324, 93, 73, 491, 74, 93, 73, 14, 742, 12,...</td>\n",
       "      <td>189</td>\n",
       "    </tr>\n",
       "    <tr>\n",
       "      <th>9</th>\n",
       "      <td>2228409</td>\n",
       "      <td>[8, 324, 93, 73, 491, 74, 93, 73, 14, 742, 12,...</td>\n",
       "      <td>189</td>\n",
       "    </tr>\n",
       "    <tr>\n",
       "      <th>10</th>\n",
       "      <td>3181379</td>\n",
       "      <td>[888, 889, 890, 0, 892, 8, 324, 93, 73, 491, 7...</td>\n",
       "      <td>192</td>\n",
       "    </tr>\n",
       "    <tr>\n",
       "      <th>11</th>\n",
       "      <td>6556740</td>\n",
       "      <td>[973, 9, 24, 217, 74, 339, 122, 875, 974, 29, ...</td>\n",
       "      <td>167</td>\n",
       "    </tr>\n",
       "    <tr>\n",
       "      <th>12</th>\n",
       "      <td>5990451</td>\n",
       "      <td>[1007, 1008, 1009, 1010, 1011, 297, 1012, 14, ...</td>\n",
       "      <td>164</td>\n",
       "    </tr>\n",
       "    <tr>\n",
       "      <th>13</th>\n",
       "      <td>6760416</td>\n",
       "      <td>[8, 324, 93, 73, 491, 74, 93, 73, 14, 742, 12,...</td>\n",
       "      <td>189</td>\n",
       "    </tr>\n",
       "    <tr>\n",
       "      <th>14</th>\n",
       "      <td>5752571</td>\n",
       "      <td>[1158, 1159, 1160, 1158, 1159, 1160, 1161, 116...</td>\n",
       "      <td>189</td>\n",
       "    </tr>\n",
       "    <tr>\n",
       "      <th>15</th>\n",
       "      <td>209</td>\n",
       "      <td>[592, 128, 1181, 1182, 144, 18, 0, 758, 14, 11...</td>\n",
       "      <td>50</td>\n",
       "    </tr>\n",
       "    <tr>\n",
       "      <th>16</th>\n",
       "      <td>190141</td>\n",
       "      <td>[1220, 326, 1221, 1222, 73, 14, 176, 1223, 122...</td>\n",
       "      <td>12</td>\n",
       "    </tr>\n",
       "    <tr>\n",
       "      <th>17</th>\n",
       "      <td>472721</td>\n",
       "      <td>[76, 1254, 128, 1255, 74, 534, 1256, 1257]</td>\n",
       "      <td>8</td>\n",
       "    </tr>\n",
       "    <tr>\n",
       "      <th>18</th>\n",
       "      <td>379262</td>\n",
       "      <td>[143, 722, 1258, 218, 143, 173, 1259, 143, 722...</td>\n",
       "      <td>38</td>\n",
       "    </tr>\n",
       "    <tr>\n",
       "      <th>19</th>\n",
       "      <td>379357</td>\n",
       "      <td>[1280, 1053, 1045, 1281, 867, 76, 1282, 633, 1...</td>\n",
       "      <td>45</td>\n",
       "    </tr>\n",
       "  </tbody>\n",
       "</table>\n",
       "</div>"
      ],
      "text/plain": [
       "    photo_id                                        cover_words  cover_length\n",
       "0    1711318  [1, 2, 3, 4, 5, 6, 7, 8, 9, 10, 11, 12, 13, 14...           196\n",
       "1    2758458  [278, 279, 280, 281, 282, 24, 283, 284, 285, 2...           190\n",
       "2    5314019  [359, 360, 361, 362, 363, 364, 365, 366, 33, 3...           210\n",
       "3    5735948  [508, 509, 510, 511, 512, 508, 513, 514, 515, ...           154\n",
       "4    3161504  [549, 74, 550, 14, 551, 551, 279, 552, 553, 55...           812\n",
       "5    1457390  [0, 735, 164, 736, 76, 737, 738, 739, 0, 738, ...            48\n",
       "6      55956  [8, 324, 93, 73, 491, 74, 93, 73, 14, 742, 12,...           190\n",
       "7    1035274  [351, 789, 356, 33, 79, 61, 198, 790, 14, 791,...           154\n",
       "8    2284079  [8, 324, 93, 73, 491, 74, 93, 73, 14, 742, 12,...           189\n",
       "9    2228409  [8, 324, 93, 73, 491, 74, 93, 73, 14, 742, 12,...           189\n",
       "10   3181379  [888, 889, 890, 0, 892, 8, 324, 93, 73, 491, 7...           192\n",
       "11   6556740  [973, 9, 24, 217, 74, 339, 122, 875, 974, 29, ...           167\n",
       "12   5990451  [1007, 1008, 1009, 1010, 1011, 297, 1012, 14, ...           164\n",
       "13   6760416  [8, 324, 93, 73, 491, 74, 93, 73, 14, 742, 12,...           189\n",
       "14   5752571  [1158, 1159, 1160, 1158, 1159, 1160, 1161, 116...           189\n",
       "15       209  [592, 128, 1181, 1182, 144, 18, 0, 758, 14, 11...            50\n",
       "16    190141  [1220, 326, 1221, 1222, 73, 14, 176, 1223, 122...            12\n",
       "17    472721         [76, 1254, 128, 1255, 74, 534, 1256, 1257]             8\n",
       "18    379262  [143, 722, 1258, 218, 143, 173, 1259, 143, 722...            38\n",
       "19    379357  [1280, 1053, 1045, 1281, 867, 76, 1282, 633, 1...            45"
      ]
     },
     "execution_count": 29,
     "metadata": {},
     "output_type": "execute_result"
    }
   ],
   "source": [
    "text_data.head(20)"
   ]
  },
  {
   "cell_type": "code",
   "execution_count": 30,
   "metadata": {},
   "outputs": [
    {
     "data": {
      "text/html": [
       "<div>\n",
       "<style>\n",
       "    .dataframe thead tr:only-child th {\n",
       "        text-align: right;\n",
       "    }\n",
       "\n",
       "    .dataframe thead th {\n",
       "        text-align: left;\n",
       "    }\n",
       "\n",
       "    .dataframe tbody tr th {\n",
       "        vertical-align: top;\n",
       "    }\n",
       "</style>\n",
       "<table border=\"1\" class=\"dataframe\">\n",
       "  <thead>\n",
       "    <tr style=\"text-align: right;\">\n",
       "      <th></th>\n",
       "      <th>photo_id</th>\n",
       "      <th>cover_words</th>\n",
       "      <th>cover_length</th>\n",
       "    </tr>\n",
       "  </thead>\n",
       "  <tbody>\n",
       "  </tbody>\n",
       "</table>\n",
       "</div>"
      ],
      "text/plain": [
       "Empty DataFrame\n",
       "Columns: [photo_id, cover_words, cover_length]\n",
       "Index: []"
      ]
     },
     "execution_count": 30,
     "metadata": {},
     "output_type": "execute_result"
    }
   ],
   "source": [
    "text_data[(text_data['cover_length']==1) & (text_data['cover_words'] is [0])]"
   ]
  },
  {
   "cell_type": "code",
   "execution_count": 31,
   "metadata": {},
   "outputs": [],
   "source": [
    "no_text_photo_ids = list(text_data[text_data['cover_length']==0]['photo_id'].unique())"
   ]
  },
  {
   "cell_type": "code",
   "execution_count": 32,
   "metadata": {},
   "outputs": [
    {
     "data": {
      "text/plain": [
       "2641712"
      ]
     },
     "execution_count": 32,
     "metadata": {},
     "output_type": "execute_result"
    }
   ],
   "source": [
    "len(no_text_photo_ids)"
   ]
  },
  {
   "cell_type": "code",
   "execution_count": 33,
   "metadata": {},
   "outputs": [],
   "source": [
    "text_photo_ids = list(text_data[text_data['cover_length']>0]['photo_id'].unique())"
   ]
  },
  {
   "cell_type": "code",
   "execution_count": 34,
   "metadata": {},
   "outputs": [
    {
     "data": {
      "text/plain": [
       "2532820"
      ]
     },
     "execution_count": 34,
     "metadata": {},
     "output_type": "execute_result"
    }
   ],
   "source": [
    "len(text_photo_ids)"
   ]
  },
  {
   "cell_type": "code",
   "execution_count": 35,
   "metadata": {},
   "outputs": [
    {
     "data": {
      "text/plain": [
       "895846"
      ]
     },
     "execution_count": 35,
     "metadata": {},
     "output_type": "execute_result"
    }
   ],
   "source": [
    "text_train_photo_ids = list(text_train['photo_id'].unique())\n",
    "text_train['photo_id'].nunique()\n",
    "text_test_photo_ids = list(text_test['photo_id'].unique())\n",
    "text_test['photo_id'].nunique()\n",
    "interaction_train_photo_ids = list(user_item_train['photo_id'].unique())\n",
    "user_item_train['photo_id'].nunique()\n",
    "interaction_test_photo_ids = list(user_item_test['photo_id'].unique())\n",
    "user_item_test['photo_id'].nunique()"
   ]
  },
  {
   "cell_type": "code",
   "execution_count": 36,
   "metadata": {},
   "outputs": [
    {
     "data": {
      "text/plain": [
       "5174532"
      ]
     },
     "execution_count": 36,
     "metadata": {},
     "output_type": "execute_result"
    }
   ],
   "source": [
    "interaction_photo_ids = set(interaction_train_photo_ids + interaction_test_photo_ids)\n",
    "len(interaction_photo_ids)"
   ]
  },
  {
   "cell_type": "code",
   "execution_count": 37,
   "metadata": {},
   "outputs": [
    {
     "data": {
      "image/png": "[encoded data removed]",
      "text/plain": [
       "<matplotlib.figure.Figure at 0x1aa53ce50>"
      ]
     },
     "metadata": {},
     "output_type": "display_data"
    }
   ],
   "source": [
    "import matplotlib.pyplot as plt\n",
    "from matplotlib_venn import venn2\n",
    "plt.figure(figsize=(4, 4))\n",
    "venn2([set(interaction_photo_ids), set(text_photo_ids)], ['interaction_photo_ids', 'text_photo_ids'])\n",
    "plt.show()"
   ]
  },
  {
   "cell_type": "code",
   "execution_count": 38,
   "metadata": {},
   "outputs": [
    {
     "data": {
      "image/png": "[encoded data removed]",
      "text/plain": [
       "<matplotlib.figure.Figure at 0x112b81350>"
      ]
     },
     "metadata": {},
     "output_type": "display_data"
    }
   ],
   "source": [
    "import matplotlib.pyplot as plt\n",
    "from matplotlib_venn import venn2\n",
    "plt.figure(figsize=(4, 4))\n",
    "venn2([set(interaction_train_photo_ids), set(text_train_photo_ids)], ['interaction_train', 'text_train'])\n",
    "plt.show()"
   ]
  },
  {
   "cell_type": "code",
   "execution_count": 39,
   "metadata": {},
   "outputs": [
    {
     "data": {
      "image/png": "[encoded data removed]",
      "text/plain": [
       "<matplotlib.figure.Figure at 0x1097887d0>"
      ]
     },
     "metadata": {},
     "output_type": "display_data"
    }
   ],
   "source": [
    "import matplotlib.pyplot as plt\n",
    "from matplotlib_venn import venn2\n",
    "plt.figure(figsize=(4, 4))\n",
    "venn2([set(interaction_test_photo_ids), set(text_test_photo_ids)], ['interaction_train', 'text_test'])\n",
    "plt.show()"
   ]
  },
  {
   "cell_type": "markdown",
   "metadata": {},
   "source": [
    "## 图片文本分类模型\n",
    "对于图片的文本数据，我们可以通过不同的模型学习和分类图片，首先由文档有两类表示方法，tfidf 和 word2vec/doc2vec, 然后我们可以采用不同的模型进行聚类（隐含语义分类）或者做分类（二分01点击），可以使用K-means,LDA等进行聚类，也可以用 SVM/LR/GBDT等进行分类，最后尝试LSTM深度学习。\n",
    "\n",
    "### 模型输入数据表征\n",
    "#### word2vec"
   ]
  },
  {
   "cell_type": "code",
   "execution_count": 11,
   "metadata": {},
   "outputs": [
    {
     "name": "stdout",
     "output_type": "stream",
     "text": [
      "Training model...\n"
     ]
    }
   ],
   "source": [
    "num_features = 128\n",
    "min_word_count = 40\n",
    "num_workers = 4\n",
    "context = 6\n",
    "downsampling = 1e-3\n",
    "\n",
    "from gensim.models import word2vec\n",
    "import os\n",
    "model = None\n",
    "model_name = \"%dfeatures_%dminwords_%dcontext.model\" % (num_features, min_word_count, context)\n",
    "model_name = model_name + \".sample\" if USE_SAMPLE else model_name\n",
    "if not os.path.exists(model_name):\n",
    "    print \"Training model...\"\n",
    "    model = word2vec.Word2Vec(text_data.cover_words,\n",
    "                              workers=num_workers,\n",
    "                              size=num_features,\n",
    "                              min_count = min_word_count,\n",
    "                              window = context,\n",
    "                              sample = downsampling)\n",
    "    model.init_sims(replace=True)\n",
    "    model.save(model_name)\n",
    "\n",
    "model = word2vec.Word2Vec.load(model_name)"
   ]
  },
  {
   "cell_type": "code",
   "execution_count": 20,
   "metadata": {},
   "outputs": [
    {
     "name": "stderr",
     "output_type": "stream",
     "text": [
      "/Library/Python/2.7/site-packages/ipykernel_launcher.py:1: DeprecationWarning: Call to deprecated `most_similar` (Method will be removed in 4.0.0, use self.wv.most_similar() instead).\n",
      "  \"\"\"Entry point for launching an IPython kernel.\n"
     ]
    },
    {
     "data": {
      "text/plain": [
       "[('1828', 0.602296769618988),\n",
       " ('1526', 0.5761873722076416),\n",
       " ('3390', 0.572670042514801),\n",
       " ('1516', 0.5605823993682861),\n",
       " ('3392', 0.5523289442062378),\n",
       " ('3178', 0.5438832640647888),\n",
       " ('4895', 0.5339459180831909),\n",
       " ('1908', 0.525124192237854),\n",
       " ('10702', 0.5236855745315552),\n",
       " ('3378', 0.5225512981414795)]"
      ]
     },
     "execution_count": 20,
     "metadata": {},
     "output_type": "execute_result"
    }
   ],
   "source": [
    "model.most_similar(\"0\")"
   ]
  },
  {
   "cell_type": "code",
   "execution_count": 13,
   "metadata": {},
   "outputs": [
    {
     "name": "stdout",
     "output_type": "stream",
     "text": [
      "1337176\n",
      "8005\n"
     ]
    }
   ],
   "source": [
    "print(model.corpus_count)\n",
    "print(len(set(model.wv.index2word)))"
   ]
  },
  {
   "cell_type": "markdown",
   "metadata": {},
   "source": [
    "#### doc2vec"
   ]
  },
  {
   "cell_type": "code",
   "execution_count": 14,
   "metadata": {},
   "outputs": [],
   "source": [
    "import numpy as np  # Make sure that numpy is imported\n",
    "\n",
    "def makeFeatureVec(model, num_features, words):\n",
    "    featureVec = np.zeros((num_features,),dtype=\"float64\")\n",
    "    nwords = 0\n",
    "    # set for fast query\n",
    "    index2word_set = set(model.wv.index2word)\n",
    "    for word in words:\n",
    "        if word in index2word_set: \n",
    "            nwords = nwords + 1\n",
    "            featureVec = np.add(featureVec,model[word])\n",
    "    # Divide the result by the number of words to get the average\n",
    "    featureVec = np.divide(featureVec,nwords*1.0)\n",
    "    return featureVec\n",
    "\n",
    "\n",
    "def getAvgFeatureVecs(covers, model, num_features):\n",
    "    counter = 0\n",
    "    reviewFeatureVecs = np.zeros((len(covers),num_features),dtype=\"float64\")\n",
    "    for cover in covers:\n",
    "        if counter%100000 == 0:\n",
    "            print \"Cover %d of %d\" % (counter, len(covers))\n",
    "        # Call the function (defined above) that makes average feature vectors\n",
    "        reviewFeatureVecs[counter] = makeFeatureVec(cover, model, \\\n",
    "           num_features)\n",
    "        # Increment the counter\n",
    "        counter = counter + 1\n",
    "    return reviewFeatureVecs"
   ]
  },
  {
   "cell_type": "code",
   "execution_count": 15,
   "metadata": {},
   "outputs": [
    {
     "name": "stderr",
     "output_type": "stream",
     "text": [
      "/Library/Python/2.7/site-packages/ipykernel_launcher.py:11: DeprecationWarning: Call to deprecated `__getitem__` (Method will be removed in 4.0.0, use self.wv.__getitem__() instead).\n",
      "  # This is added back by InteractiveShellApp.init_path()\n"
     ]
    }
   ],
   "source": [
    "import functools\n",
    "doc2vec = functools.partial(makeFeatureVec, model, num_features)\n",
    "text_data['doc_vec'] = text_data['cover_words'].apply(doc2vec)"
   ]
  },
  {
   "cell_type": "code",
   "execution_count": 22,
   "metadata": {},
   "outputs": [
    {
     "data": {
      "text/html": [
       "<div>\n",
       "<style>\n",
       "    .dataframe thead tr:only-child th {\n",
       "        text-align: right;\n",
       "    }\n",
       "\n",
       "    .dataframe thead th {\n",
       "        text-align: left;\n",
       "    }\n",
       "\n",
       "    .dataframe tbody tr th {\n",
       "        vertical-align: top;\n",
       "    }\n",
       "</style>\n",
       "<table border=\"1\" class=\"dataframe\">\n",
       "  <thead>\n",
       "    <tr style=\"text-align: right;\">\n",
       "      <th></th>\n",
       "      <th>photo_id</th>\n",
       "      <th>cover_words</th>\n",
       "      <th>cover_length</th>\n",
       "      <th>doc_vec</th>\n",
       "    </tr>\n",
       "  </thead>\n",
       "  <tbody>\n",
       "    <tr>\n",
       "      <th>0</th>\n",
       "      <td>5735948</td>\n",
       "      <td>[508, 509, 510, 511, 512, 508, 513, 514, 515, ...</td>\n",
       "      <td>154</td>\n",
       "      <td>[-0.025878702781887516, -0.047330769046244246,...</td>\n",
       "    </tr>\n",
       "    <tr>\n",
       "      <th>1</th>\n",
       "      <td>1035274</td>\n",
       "      <td>[351, 789, 356, 33, 79, 61, 198, 790, 14, 791,...</td>\n",
       "      <td>154</td>\n",
       "      <td>[-0.017359135672450066, -0.0212560188619123, -...</td>\n",
       "    </tr>\n",
       "    <tr>\n",
       "      <th>2</th>\n",
       "      <td>5752571</td>\n",
       "      <td>[1158, 1159, 1160, 1158, 1159, 1160, 1161, 116...</td>\n",
       "      <td>189</td>\n",
       "      <td>[-0.01641334203929551, -0.009614278170369608, ...</td>\n",
       "    </tr>\n",
       "    <tr>\n",
       "      <th>3</th>\n",
       "      <td>473617</td>\n",
       "      <td>[1294, 173, 1295, 1296, 14, 1297, 150, 1298, 1...</td>\n",
       "      <td>35</td>\n",
       "      <td>[0.0024094040409716614, 0.019040408003253535, ...</td>\n",
       "    </tr>\n",
       "    <tr>\n",
       "      <th>4</th>\n",
       "      <td>1040170</td>\n",
       "      <td>[1474, 1475, 1476, 1477, 1478, 1479, 1480, 148...</td>\n",
       "      <td>18</td>\n",
       "      <td>[-0.00876109438416149, 0.0368937700654247, 0.0...</td>\n",
       "    </tr>\n",
       "  </tbody>\n",
       "</table>\n",
       "</div>"
      ],
      "text/plain": [
       "   photo_id                                        cover_words  cover_length  \\\n",
       "0   5735948  [508, 509, 510, 511, 512, 508, 513, 514, 515, ...           154   \n",
       "1   1035274  [351, 789, 356, 33, 79, 61, 198, 790, 14, 791,...           154   \n",
       "2   5752571  [1158, 1159, 1160, 1158, 1159, 1160, 1161, 116...           189   \n",
       "3    473617  [1294, 173, 1295, 1296, 14, 1297, 150, 1298, 1...            35   \n",
       "4   1040170  [1474, 1475, 1476, 1477, 1478, 1479, 1480, 148...            18   \n",
       "\n",
       "                                             doc_vec  \n",
       "0  [-0.025878702781887516, -0.047330769046244246,...  \n",
       "1  [-0.017359135672450066, -0.0212560188619123, -...  \n",
       "2  [-0.01641334203929551, -0.009614278170369608, ...  \n",
       "3  [0.0024094040409716614, 0.019040408003253535, ...  \n",
       "4  [-0.00876109438416149, 0.0368937700654247, 0.0...  "
      ]
     },
     "execution_count": 22,
     "metadata": {},
     "output_type": "execute_result"
    }
   ],
   "source": [
    "text_data.head()"
   ]
  },
  {
   "cell_type": "code",
   "execution_count": 23,
   "metadata": {
    "collapsed": true
   },
   "outputs": [],
   "source": [
    "f = 'text_data_docvec'\n",
    "f = f + '.sample.csv' if USE_SAMPLE else f + '.csv'\n",
    "text_data['doc_vec'].to_csv(f)"
   ]
  },
  {
   "cell_type": "markdown",
   "metadata": {},
   "source": [
    "另一种方法是先使用Kmeans对所有的单词做聚类，这可以看成无监督学习出来隐含空间的文本特征属性，每一个类代表一个维度的特征，然后统计一个文本中的单词都属于哪些类的词频作为对应维度的特征值，构成一个DocVector；\n",
    "\n",
    "这里对文本进行分类可以直接采用得到的Doc2Vec对文本进行聚类，聚类之后，每一个photo就具有类别属性，可以对photo进行编码。\n",
    "\n",
    "前面的是直接将词向量简单的做平均来构造一个文档的向量DocVector, 当然也可以乘以tf-idf权重。\n"
   ]
  },
  {
   "cell_type": "code",
   "execution_count": null,
   "metadata": {
    "collapsed": true
   },
   "outputs": [],
   "source": [
    "USER_FEATURE_TRAIN_FILE = 'user_feature_train'\n",
    "USER_FEATURE_TRAIN_FILE = USER_FEATURE_TRAIN_FILE + '_sample.csv' if USE_SAMPLE else USER_FEATURE_TRAIN_FILE + '.csv'\n",
    "user_item_train = pd.read_csv(USER_FEATURE_TRAIN_FILE, sep='\\t')\n",
    "\n",
    "USER_FEATURE_TEST_FILE = 'user_feature_test'\n",
    "USER_FEATURE_TEST_FILE = USER_FEATURE_TEST_FILE + '_sample.csv' if USE_SAMPLE else USER_FEATURE_TEST_FILE + '.csv'\n",
    "user_item_test = pd.read_csv(USER_FEATURE_TEST_FILE, sep='\\t')"
   ]
  },
  {
   "cell_type": "code",
   "execution_count": 41,
   "metadata": {},
   "outputs": [
    {
     "data": {
      "text/html": [
       "<div>\n",
       "<style>\n",
       "    .dataframe thead tr:only-child th {\n",
       "        text-align: right;\n",
       "    }\n",
       "\n",
       "    .dataframe thead th {\n",
       "        text-align: left;\n",
       "    }\n",
       "\n",
       "    .dataframe tbody tr th {\n",
       "        vertical-align: top;\n",
       "    }\n",
       "</style>\n",
       "<table border=\"1\" class=\"dataframe\">\n",
       "  <thead>\n",
       "    <tr style=\"text-align: right;\">\n",
       "      <th></th>\n",
       "      <th>photo_id</th>\n",
       "      <th>cover_words</th>\n",
       "      <th>cover_length</th>\n",
       "    </tr>\n",
       "  </thead>\n",
       "  <tbody>\n",
       "    <tr>\n",
       "      <th>0</th>\n",
       "      <td>1711318</td>\n",
       "      <td>[1, 2, 3, 4, 5, 6, 7, 8, 9, 10, 11, 12, 13, 14...</td>\n",
       "      <td>196</td>\n",
       "    </tr>\n",
       "    <tr>\n",
       "      <th>1</th>\n",
       "      <td>2758458</td>\n",
       "      <td>[278, 279, 280, 281, 282, 24, 283, 284, 285, 2...</td>\n",
       "      <td>190</td>\n",
       "    </tr>\n",
       "    <tr>\n",
       "      <th>2</th>\n",
       "      <td>5314019</td>\n",
       "      <td>[359, 360, 361, 362, 363, 364, 365, 366, 33, 3...</td>\n",
       "      <td>210</td>\n",
       "    </tr>\n",
       "    <tr>\n",
       "      <th>3</th>\n",
       "      <td>5735948</td>\n",
       "      <td>[508, 509, 510, 511, 512, 508, 513, 514, 515, ...</td>\n",
       "      <td>154</td>\n",
       "    </tr>\n",
       "    <tr>\n",
       "      <th>4</th>\n",
       "      <td>3161504</td>\n",
       "      <td>[549, 74, 550, 14, 551, 551, 279, 552, 553, 55...</td>\n",
       "      <td>812</td>\n",
       "    </tr>\n",
       "  </tbody>\n",
       "</table>\n",
       "</div>"
      ],
      "text/plain": [
       "   photo_id                                        cover_words  cover_length\n",
       "0   1711318  [1, 2, 3, 4, 5, 6, 7, 8, 9, 10, 11, 12, 13, 14...           196\n",
       "1   2758458  [278, 279, 280, 281, 282, 24, 283, 284, 285, 2...           190\n",
       "2   5314019  [359, 360, 361, 362, 363, 364, 365, 366, 33, 3...           210\n",
       "3   5735948  [508, 509, 510, 511, 512, 508, 513, 514, 515, ...           154\n",
       "4   3161504  [549, 74, 550, 14, 551, 551, 279, 552, 553, 55...           812"
      ]
     },
     "execution_count": 41,
     "metadata": {},
     "output_type": "execute_result"
    }
   ],
   "source": [
    "text_data.head()"
   ]
  },
  {
   "cell_type": "code",
   "execution_count": 42,
   "metadata": {},
   "outputs": [
    {
     "data": {
      "text/plain": [
       "(5174532, 3)"
      ]
     },
     "execution_count": 42,
     "metadata": {},
     "output_type": "execute_result"
    }
   ],
   "source": [
    "text_data.shape"
   ]
  },
  {
   "cell_type": "code",
   "execution_count": 43,
   "metadata": {},
   "outputs": [
    {
     "name": "stdout",
     "output_type": "stream",
     "text": [
      "['1', '2', '3', '4', '5', '6', '7', '8', '9', '10', '11', '12', '13', '14', '15', '16', '17', '18', '10', '19', '18', '20', '21', '18', '22', '23', '18', '11', '24', '25', '26', '18', '27', '24', '28', '29', '30', '31', '32', '5', '33', '24', '34', '35', '36', '14', '37', '38', '39', '40', '37', '29', '41', '42', '18', '41', '43', '30', '44', '45', '46', '18', '47', '48', '41', '49', '18', '41', '8', '9', '50', '51', '52', '53', '54', '41', '8', '9', '55', '5', '56', '57', '58', '59', '60', '61', '62', '63', '64', '65', '14', '66', '67', '68', '69', '70', '71', '41', '1', '2', '3', '4', '5', '6', '7', '8', '9', '10', '11', '12', '13', '14', '15', '16', '17', '18', '10', '19', '18', '20', '21', '18', '22', '23', '18', '11', '24', '25', '26', '18', '27', '24', '28', '29', '30', '31', '32', '5', '33', '24', '34', '35', '36', '14', '37', '38', '39', '40', '37', '29', '41', '42', '18', '41', '43', '30', '44', '45', '46', '18', '47', '48', '41', '49', '18', '41', '8', '9', '50', '51', '52', '53', '54', '41', '8', '9', '55', '5', '56', '57', '58', '59', '60', '61', '62', '63', '64', '65', '14', '66', '67', '68', '69', '70', '71', '41']\n"
     ]
    }
   ],
   "source": [
    "print(text_data.iloc[0]['cover_words'])"
   ]
  },
  {
   "cell_type": "code",
   "execution_count": 44,
   "metadata": {},
   "outputs": [
    {
     "name": "stdout",
     "output_type": "stream",
     "text": [
      "['278', '279', '280', '281', '282', '24', '283', '284', '285', '279', '286', '89', '287', '172', '288', '289', '290', '79', '128', '61', '291', '143', '266', '231', '292', '293', '279', '9', '294', '295', '288', '296', '289', '18', '290', '297', '285', '298', '299', '74', '300', '301', '113', '302', '303', '304', '305', '52', '306', '231', '307', '308', '231', '309', '310', '311', '312', '76', '9', '313', '314', '315', '29', '287', '316', '317', '143', '318', '288', '14', '319', '279', '320', '312', '231', '14', '321', '24', '322', '246', '323', '14', '324', '325', '33', '12', '8', '326', '14', '5', '327', '128', '318', '73', '118', '278', '279', '280', '281', '282', '24', '283', '284', '285', '279', '286', '89', '287', '172', '288', '289', '290', '79', '128', '61', '291', '143', '266', '231', '292', '293', '279', '9', '294', '295', '288', '296', '289', '18', '290', '297', '285', '298', '299', '74', '300', '301', '113', '302', '303', '304', '305', '52', '306', '231', '307', '308', '231', '309', '310', '311', '312', '76', '9', '313', '314', '315', '29', '287', '316', '317', '143', '318', '288', '14', '319', '279', '320', '312', '231', '14', '321', '24', '322', '246', '323', '14', '324', '325', '33', '12', '8', '326', '14', '5', '327', '128', '318', '73', '118']\n"
     ]
    }
   ],
   "source": [
    "print(text_data.iloc[1]['cover_words'])"
   ]
  },
  {
   "cell_type": "code",
   "execution_count": 45,
   "metadata": {},
   "outputs": [
    {
     "name": "stdout",
     "output_type": "stream",
     "text": [
      "['359', '360', '361', '362', '363', '364', '365', '366', '33', '367', '68', '368', '369', '370', '371', '372', '373', '374', '375', '376', '377', '378', '8', '379', '29', '380', '381', '382', '369', '57', '43', '383', '384', '385', '386', '82', '29', '387', '388', '389', '390', '391', '392', '393', '394', '395', '76', '396', '30', '397', '398', '399', '33', '400', '401', '402', '64', '403', '404', '405', '406', '407', '86', '408', '79', '409', '410', '128', '317', '73', '411', '88', '412', '96', '413', '91', '414', '96', '415', '416', '417', '418', '419', '420', '421', '422', '423', '424', '425', '426', '427', '428', '429', '430', '369', '431', '432', '433', '76', '434', '79', '418', '435', '428', '436', '437', '73', '438', '439', '231', '280', '440', '280', '441', '442', '443', '444', '24', '445', '446', '447', '369', '448', '449', '450', '451', '12', '452', '450', '453', '454', '455', '456', '457', '74', '458', '408', '459', '224', '460', '461', '462', '463', '464', '390', '465', '96', '466', '96', '467', '468', '157', '469', '470', '471', '470', '472', '473', '128', '474', '475', '476', '372', '373', '477', '478', '96', '418', '479', '480', '481', '482', '483', '484', '485', '486', '487', '33', '488', '379', '489', '490', '491', '492', '493', '122', '494', '33', '495', '496', '497', '498', '14', '109', '499', '287', '363', '287', '500', '136', '187', '501', '502', '503', '363', '504', '33', '505', '506', '507']\n"
     ]
    }
   ],
   "source": [
    "print(text_data.iloc[2]['cover_words'])"
   ]
  },
  {
   "cell_type": "code",
   "execution_count": 134,
   "metadata": {},
   "outputs": [],
   "source": [
    "from sklearn.feature_extraction.text import TfidfVectorizer\n",
    "vectorizer = TfidfVectorizer(max_df=0.08)"
   ]
  },
  {
   "cell_type": "code",
   "execution_count": 86,
   "metadata": {},
   "outputs": [],
   "source": [
    "corpus = text_data['cover_words'].apply(lambda words: ' '.join(words))"
   ]
  },
  {
   "cell_type": "code",
   "execution_count": 112,
   "metadata": {},
   "outputs": [],
   "source": [
    "from collections import Counter\n",
    "text = list()\n",
    "for doc in text_data['cover_words']:\n",
    "    text.extend(doc)"
   ]
  },
  {
   "cell_type": "code",
   "execution_count": 114,
   "metadata": {},
   "outputs": [],
   "source": [
    "c = Counter(text)"
   ]
  },
  {
   "cell_type": "code",
   "execution_count": 130,
   "metadata": {},
   "outputs": [
    {
     "data": {
      "text/plain": [
       "233243"
      ]
     },
     "execution_count": 130,
     "metadata": {},
     "output_type": "execute_result"
    }
   ],
   "source": [
    "len(c)"
   ]
  },
  {
   "cell_type": "code",
   "execution_count": 133,
   "metadata": {},
   "outputs": [
    {
     "data": {
      "text/plain": [
       "0.09402086990668915"
      ]
     },
     "execution_count": 133,
     "metadata": {},
     "output_type": "execute_result"
    }
   ],
   "source": [
    "486514. / 5174532"
   ]
  },
  {
   "cell_type": "code",
   "execution_count": 122,
   "metadata": {},
   "outputs": [
    {
     "data": {
      "text/plain": [
       "[('14', 486514),\n",
       " ('18', 431876),\n",
       " ('143', 232551),\n",
       " ('73', 164121),\n",
       " ('0', 116487),\n",
       " ('76', 115414),\n",
       " ('29', 109436),\n",
       " ('74', 95020),\n",
       " ('9', 71572),\n",
       " ('149', 71128),\n",
       " ('33', 69759),\n",
       " ('86', 66111),\n",
       " ('12', 62943),\n",
       " ('1152', 62312),\n",
       " ('24', 61192),\n",
       " ('369', 59539),\n",
       " ('563', 59433),\n",
       " ('45', 58225),\n",
       " ('30', 49194),\n",
       " ('164', 47094)]"
      ]
     },
     "execution_count": 122,
     "metadata": {},
     "output_type": "execute_result"
    }
   ],
   "source": [
    "sorted(c.iteritems(), key=lambda x :x[1], reverse=True)[:20]"
   ]
  },
  {
   "cell_type": "code",
   "execution_count": 129,
   "metadata": {},
   "outputs": [
    {
     "data": {
      "text/plain": [
       "True"
      ]
     },
     "execution_count": 129,
     "metadata": {},
     "output_type": "execute_result"
    }
   ],
   "source": [
    "'149' in words"
   ]
  },
  {
   "cell_type": "code",
   "execution_count": 135,
   "metadata": {},
   "outputs": [],
   "source": [
    "tfidf = vectorizer.fit_transform(corpus)"
   ]
  },
  {
   "cell_type": "code",
   "execution_count": 136,
   "metadata": {},
   "outputs": [
    {
     "data": {
      "text/plain": [
       "(5174532, 233232)"
      ]
     },
     "execution_count": 136,
     "metadata": {},
     "output_type": "execute_result"
    }
   ],
   "source": [
    "tfidf.shape"
   ]
  },
  {
   "cell_type": "code",
   "execution_count": 137,
   "metadata": {},
   "outputs": [],
   "source": [
    "avg_tfidf = np.mean(tfidf, axis=1)"
   ]
  },
  {
   "cell_type": "code",
   "execution_count": 138,
   "metadata": {},
   "outputs": [
    {
     "data": {
      "text/plain": [
       "matrix([[2.97993242e-05],\n",
       "        [3.22933164e-05],\n",
       "        [5.42490012e-05],\n",
       "        ...,\n",
       "        [1.53207939e-05],\n",
       "        [1.68956530e-05],\n",
       "        [1.96312587e-05]])"
      ]
     },
     "execution_count": 138,
     "metadata": {},
     "output_type": "execute_result"
    }
   ],
   "source": [
    "avg_tfidf"
   ]
  },
  {
   "cell_type": "code",
   "execution_count": 139,
   "metadata": {},
   "outputs": [],
   "source": [
    "text_data['avg_tfidf'] = avg_tfidf"
   ]
  },
  {
   "cell_type": "code",
   "execution_count": 140,
   "metadata": {},
   "outputs": [
    {
     "data": {
      "text/html": [
       "<div>\n",
       "<style>\n",
       "    .dataframe thead tr:only-child th {\n",
       "        text-align: right;\n",
       "    }\n",
       "\n",
       "    .dataframe thead th {\n",
       "        text-align: left;\n",
       "    }\n",
       "\n",
       "    .dataframe tbody tr th {\n",
       "        vertical-align: top;\n",
       "    }\n",
       "</style>\n",
       "<table border=\"1\" class=\"dataframe\">\n",
       "  <thead>\n",
       "    <tr style=\"text-align: right;\">\n",
       "      <th></th>\n",
       "      <th>photo_id</th>\n",
       "      <th>cover_words</th>\n",
       "      <th>cover_length</th>\n",
       "      <th>avg_tfidf</th>\n",
       "    </tr>\n",
       "  </thead>\n",
       "  <tbody>\n",
       "    <tr>\n",
       "      <th>0</th>\n",
       "      <td>1711318</td>\n",
       "      <td>[1, 2, 3, 4, 5, 6, 7, 8, 9, 10, 11, 12, 13, 14...</td>\n",
       "      <td>196</td>\n",
       "      <td>0.000030</td>\n",
       "    </tr>\n",
       "    <tr>\n",
       "      <th>1</th>\n",
       "      <td>2758458</td>\n",
       "      <td>[278, 279, 280, 281, 282, 24, 283, 284, 285, 2...</td>\n",
       "      <td>190</td>\n",
       "      <td>0.000032</td>\n",
       "    </tr>\n",
       "    <tr>\n",
       "      <th>2</th>\n",
       "      <td>5314019</td>\n",
       "      <td>[359, 360, 361, 362, 363, 364, 365, 366, 33, 3...</td>\n",
       "      <td>210</td>\n",
       "      <td>0.000054</td>\n",
       "    </tr>\n",
       "    <tr>\n",
       "      <th>3</th>\n",
       "      <td>5735948</td>\n",
       "      <td>[508, 509, 510, 511, 512, 508, 513, 514, 515, ...</td>\n",
       "      <td>154</td>\n",
       "      <td>0.000020</td>\n",
       "    </tr>\n",
       "    <tr>\n",
       "      <th>4</th>\n",
       "      <td>3161504</td>\n",
       "      <td>[549, 74, 550, 14, 551, 551, 279, 552, 553, 55...</td>\n",
       "      <td>812</td>\n",
       "      <td>0.000052</td>\n",
       "    </tr>\n",
       "  </tbody>\n",
       "</table>\n",
       "</div>"
      ],
      "text/plain": [
       "   photo_id                                        cover_words  cover_length  \\\n",
       "0   1711318  [1, 2, 3, 4, 5, 6, 7, 8, 9, 10, 11, 12, 13, 14...           196   \n",
       "1   2758458  [278, 279, 280, 281, 282, 24, 283, 284, 285, 2...           190   \n",
       "2   5314019  [359, 360, 361, 362, 363, 364, 365, 366, 33, 3...           210   \n",
       "3   5735948  [508, 509, 510, 511, 512, 508, 513, 514, 515, ...           154   \n",
       "4   3161504  [549, 74, 550, 14, 551, 551, 279, 552, 553, 55...           812   \n",
       "\n",
       "   avg_tfidf  \n",
       "0   0.000030  \n",
       "1   0.000032  \n",
       "2   0.000054  \n",
       "3   0.000020  \n",
       "4   0.000052  "
      ]
     },
     "execution_count": 140,
     "metadata": {},
     "output_type": "execute_result"
    }
   ],
   "source": [
    "text_data.head()"
   ]
  },
  {
   "cell_type": "code",
   "execution_count": 141,
   "metadata": {},
   "outputs": [
    {
     "data": {
      "text/plain": [
       "(2642343, 4)"
      ]
     },
     "execution_count": 141,
     "metadata": {},
     "output_type": "execute_result"
    }
   ],
   "source": [
    "text_data[text_data['avg_tfidf']==0].shape"
   ]
  },
  {
   "cell_type": "code",
   "execution_count": 94,
   "metadata": {},
   "outputs": [],
   "source": [
    "words = vectorizer.get_feature_names()"
   ]
  },
  {
   "cell_type": "code",
   "execution_count": 84,
   "metadata": {},
   "outputs": [
    {
     "data": {
      "text/plain": [
       "233233"
      ]
     },
     "execution_count": 84,
     "metadata": {},
     "output_type": "execute_result"
    }
   ],
   "source": [
    "len(words)"
   ]
  },
  {
   "cell_type": "code",
   "execution_count": 132,
   "metadata": {},
   "outputs": [
    {
     "data": {
      "text/plain": [
       "{u'228055': 108649,\n",
       " u'228054': 108648,\n",
       " u'228057': 108650,\n",
       " u'228051': 108646,\n",
       " u'228050': 108645,\n",
       " u'228053': 108647,\n",
       " u'287145': 152226,\n",
       " u'228059': 108651,\n",
       " u'287146': 152227,\n",
       " u'89371': 223098,\n",
       " u'89372': 223099,\n",
       " u'89373': 223100,\n",
       " u'89374': 223101,\n",
       " u'89376': 223102,\n",
       " u'89377': 223103,\n",
       " u'89378': 223104,\n",
       " u'89379': 223105,\n",
       " u'287141': 152223,\n",
       " u'123851': 22121,\n",
       " u'5988': 194170,\n",
       " u'5989': 194179,\n",
       " u'287142': 152224,\n",
       " u'123850': 22120,\n",
       " u'5982': 194112,\n",
       " u'5983': 194120,\n",
       " u'5980': 194090,\n",
       " u'5981': 194101,\n",
       " u'5986': 194149,\n",
       " u'5987': 194160,\n",
       " u'5984': 194130,\n",
       " u'5985': 194139,\n",
       " u'38844': 172706,\n",
       " u'79236': 213278,\n",
       " u'218135': 100943,\n",
       " u'218134': 100942,\n",
       " u'287148': 152228,\n",
       " u'218137': 100944,\n",
       " u'184242': 73839,\n",
       " u'194080': 81735,\n",
       " u'123859': 22129,\n",
       " u'252561': 127225,\n",
       " u'218131': 100939,\n",
       " u'218130': 100938,\n",
       " u'218133': 100941,\n",
       " u'194081': 81736,\n",
       " u'97159': 230528,\n",
       " u'97158': 230527,\n",
       " u'12995': 27609,\n",
       " u'97153': 230523,\n",
       " u'97152': 230522,\n",
       " u'97150': 230521,\n",
       " u'97157': 230526,\n",
       " u'97156': 230525,\n",
       " u'97154': 230524,\n",
       " u'260299': 132894,\n",
       " u'260298': 132893,\n",
       " u'260293': 132889,\n",
       " u'260291': 132888,\n",
       " u'260290': 132887,\n",
       " u'260296': 132892,\n",
       " u'260295': 132891,\n",
       " u'260294': 132890,\n",
       " u'270': 140008,\n",
       " u'271': 140737,\n",
       " u'272': 141488,\n",
       " u'273': 142222,\n",
       " u'274': 142937,\n",
       " u'275': 143627,\n",
       " u'276': 144261,\n",
       " u'277': 145002,\n",
       " u'278': 145711,\n",
       " u'279': 146432,\n",
       " u'16707': 59679,\n",
       " u'16706': 59669,\n",
       " u'16701': 59626,\n",
       " u'16700': 59620,\n",
       " u'16703': 59645,\n",
       " u'16702': 59636,\n",
       " u'88023': 221793,\n",
       " u'88020': 221792,\n",
       " u'88026': 221796,\n",
       " u'88025': 221795,\n",
       " u'88024': 221794,\n",
       " u'273736': 142734,\n",
       " u'194083': 81738,\n",
       " u'88029': 221797,\n",
       " u'79232': 213275,\n",
       " u'119868': 18485,\n",
       " u'119867': 18484,\n",
       " u'119866': 18483,\n",
       " u'119861': 18482,\n",
       " u'119860': 18481,\n",
       " u'256902': 130406,\n",
       " u'80278': 214292,\n",
       " u'235969': 114758,\n",
       " u'235968': 114757,\n",
       " u'235966': 114756,\n",
       " u'80279': 214293,\n",
       " u'235963': 114755,\n",
       " u'235962': 114754,\n",
       " u'235961': 114753,\n",
       " u'235960': 114752,\n",
       " u'176063': 67194,\n",
       " u'176060': 67192,\n",
       " u'176061': 67193,\n",
       " u'49569': 183727,\n",
       " u'49568': 183726,\n",
       " u'176065': 67195,\n",
       " u'49565': 183723,\n",
       " u'49564': 183722,\n",
       " u'49567': 183725,\n",
       " u'49566': 183724,\n",
       " u'49561': 183719,\n",
       " u'49560': 183718,\n",
       " u'49563': 183721,\n",
       " u'49562': 183720,\n",
       " u'54541': 188759,\n",
       " u'147096': 42795,\n",
       " u'101356': 1277,\n",
       " u'101357': 1278,\n",
       " u'250998': 126042,\n",
       " u'101354': 1275,\n",
       " u'250992': 126038,\n",
       " u'250991': 126037,\n",
       " u'250990': 126036,\n",
       " u'250997': 126041,\n",
       " u'250996': 126040,\n",
       " u'250995': 126039,\n",
       " u'168083': 60527,\n",
       " u'246723': 122841,\n",
       " u'168081': 60526,\n",
       " u'168080': 60525,\n",
       " u'168087': 60531,\n",
       " u'168086': 60530,\n",
       " u'168085': 60529,\n",
       " u'168084': 60528,\n",
       " u'168089': 60532,\n",
       " u'46869': 180977,\n",
       " u'46868': 180976,\n",
       " u'160259': 54011,\n",
       " u'46861': 180969,\n",
       " u'46860': 180968,\n",
       " u'46863': 180971,\n",
       " u'46862': 180970,\n",
       " u'46865': 180973,\n",
       " u'46864': 180972,\n",
       " u'46867': 180975,\n",
       " u'46866': 180974,\n",
       " u'155638': 50106,\n",
       " u'48627': 182761,\n",
       " u'187987': 76822,\n",
       " u'16769': 60191,\n",
       " u'48626': 182760,\n",
       " u'127479': 25374,\n",
       " u'20159': 87811,\n",
       " u'82448': 216418,\n",
       " u'62361': 196648,\n",
       " u'54542': 188760,\n",
       " u'163509': 56676,\n",
       " u'163508': 56675,\n",
       " u'163507': 56674,\n",
       " u'163506': 56673,\n",
       " u'163505': 56672,\n",
       " u'163504': 56671,\n",
       " u'163502': 56670,\n",
       " u'163501': 56669,\n",
       " u'163500': 56668,\n",
       " u'82443': 216413,\n",
       " u'82442': 216412,\n",
       " u'82441': 216411,\n",
       " u'155633': 50102,\n",
       " u'82447': 216417,\n",
       " u'82446': 216416,\n",
       " u'108869': 8317,\n",
       " u'127475': 25371,\n",
       " u'82444': 216414,\n",
       " u'285155': 150849,\n",
       " u'285150': 150847,\n",
       " u'285152': 150848,\n",
       " u'285158': 150850,\n",
       " u'256124': 129837,\n",
       " u'256125': 129838,\n",
       " u'256126': 129839,\n",
       " u'256123': 129836,\n",
       " u'256128': 129840,\n",
       " u'150566': 45775,\n",
       " u'290484': 154609,\n",
       " u'290487': 154611,\n",
       " u'290486': 154610,\n",
       " u'290480': 154606,\n",
       " u'290483': 154608,\n",
       " u'290482': 154607,\n",
       " u'290489': 154612,\n",
       " u'217709': 100608,\n",
       " u'178652': 69290,\n",
       " u'242147': 119407,\n",
       " u'242145': 119406,\n",
       " u'242144': 119405,\n",
       " u'242143': 119404,\n",
       " u'303230': 163489,\n",
       " u'303232': 163490,\n",
       " u'303235': 163492,\n",
       " u'303234': 163491,\n",
       " u'27619': 144391,\n",
       " u'27618': 144383,\n",
       " u'27617': 144375,\n",
       " u'27616': 144369,\n",
       " u'27615': 144361,\n",
       " u'27614': 144353,\n",
       " u'27613': 144346,\n",
       " u'27612': 144342,\n",
       " u'27611': 144333,\n",
       " u'27610': 144326,\n",
       " u'43268': 177258,\n",
       " u'83762': 217690,\n",
       " u'174680': 66054,\n",
       " u'174681': 66055,\n",
       " u'174683': 66056,\n",
       " u'174684': 66057,\n",
       " u'192887': 80770,\n",
       " u'174686': 66058,\n",
       " u'192885': 80768,\n",
       " u'174688': 66060,\n",
       " u'263172': 134997,\n",
       " u'192889': 80771,\n",
       " u'65888': 200177,\n",
       " u'65889': 200178,\n",
       " u'65880': 200169,\n",
       " u'65881': 200170,\n",
       " u'65882': 200171,\n",
       " u'65883': 200172,\n",
       " u'65884': 200173,\n",
       " u'65885': 200174,\n",
       " u'65886': 200175,\n",
       " u'65887': 200176,\n",
       " u'257655': 130957,\n",
       " u'257656': 130958,\n",
       " u'257651': 130955,\n",
       " u'257650': 130954,\n",
       " u'257652': 130956,\n",
       " u'257659': 130960,\n",
       " u'257658': 130959,\n",
       " u'17112': 63067,\n",
       " u'53263': 187468,\n",
       " u'52811': 187022,\n",
       " u'52810': 187021,\n",
       " u'52813': 187024,\n",
       " u'52812': 187023,\n",
       " u'52815': 187026,\n",
       " u'52814': 187025,\n",
       " u'52817': 187028,\n",
       " u'52816': 187027,\n",
       " u'52819': 187030,\n",
       " u'52818': 187029,\n",
       " u'60902': 195185,\n",
       " u'60900': 195183,\n",
       " u'60901': 195184,\n",
       " u'60906': 195187,\n",
       " u'60907': 195188,\n",
       " u'26568': 136845,\n",
       " u'60905': 195186,\n",
       " u'26566': 136829,\n",
       " u'26567': 136837,\n",
       " u'26564': 136816,\n",
       " u'26565': 136820,\n",
       " u'26562': 136806,\n",
       " u'26563': 136810,\n",
       " u'26560': 136791,\n",
       " u'26561': 136799,\n",
       " u'283187': 149510,\n",
       " u'175971': 67119,\n",
       " u'175970': 67118,\n",
       " u'59731': 194022,\n",
       " u'277909': 145649,\n",
       " u'277908': 145648,\n",
       " u'150169': 45426,\n",
       " u'150168': 45425,\n",
       " u'150167': 45424,\n",
       " u'150166': 45423,\n",
       " u'150165': 45422,\n",
       " u'150164': 45421,\n",
       " u'150163': 45420,\n",
       " u'179591': 70078,\n",
       " u'150161': 45418,\n",
       " u'92886': 226470,\n",
       " u'92887': 226471,\n",
       " u'92884': 226468,\n",
       " u'92885': 226469,\n",
       " u'92883': 226467,\n",
       " u'92880': 226465,\n",
       " u'92881': 226466,\n",
       " u'134734': 31931,\n",
       " u'92888': 226472,\n",
       " u'92889': 226473,\n",
       " u'59737': 194028,\n",
       " u'175979': 67124,\n",
       " u'179594': 70081,\n",
       " u'266452': 137413,\n",
       " u'266457': 137415,\n",
       " u'266456': 137414,\n",
       " u'266458': 137416,\n",
       " u'25393': 128214,\n",
       " u'109835': 9220,\n",
       " u'82461': 216430,\n",
       " u'206860': 92052,\n",
       " u'105639': 5268,\n",
       " u'105638': 5267,\n",
       " u'250383': 125571,\n",
       " u'250380': 125570,\n",
       " u'141849': 38219,\n",
       " u'105630': 5261,\n",
       " u'105633': 5263,\n",
       " u'105632': 5262,\n",
       " u'105635': 5265,\n",
       " u'105634': 5264,\n",
       " u'141840': 38215,\n",
       " u'105636': 5266,\n",
       " u'260886': 133308,\n",
       " u'260884': 133307,\n",
       " u'260882': 133305,\n",
       " u'260883': 133306,\n",
       " u'260880': 133304,\n",
       " u'260889': 133309,\n",
       " u'301219': 162094,\n",
       " u'301218': 162093,\n",
       " u'176503': 67559,\n",
       " u'301213': 162088,\n",
       " u'301215': 162090,\n",
       " u'301214': 162089,\n",
       " u'301217': 162092,\n",
       " u'301216': 162091,\n",
       " u'286235': 151599,\n",
       " u'85208': 219101,\n",
       " u'174005': 65495,\n",
       " u'286237': 151601,\n",
       " u'265108': 136420,\n",
       " u'286236': 151600,\n",
       " u'109830': 9216,\n",
       " u'265100': 136417,\n",
       " u'16709': 59692,\n",
       " u'265103': 136418,\n",
       " u'265105': 136419,\n",
       " u'16708': 59686,\n",
       " u'15708': 51331,\n",
       " u'15709': 51338,\n",
       " u'102364': 2225,\n",
       " u'102365': 2226,\n",
       " u'102362': 2223,\n",
       " u'102363': 2224,\n",
       " u'102360': 2221,\n",
       " u'102361': 2222,\n",
       " u'15700': 51270,\n",
       " u'15701': 51280,\n",
       " u'15703': 51293,\n",
       " u'295518': 158202,\n",
       " u'15705': 51308,\n",
       " u'102368': 2229,\n",
       " u'15707': 51322,\n",
       " u'9757': 230914,\n",
       " u'9756': 230905,\n",
       " u'9755': 230895,\n",
       " u'9754': 230884,\n",
       " u'9753': 230876,\n",
       " u'9752': 230865,\n",
       " u'9751': 230857,\n",
       " u'16704': 59652,\n",
       " u'239541': 117436,\n",
       " u'9759': 230935,\n",
       " u'9758': 230924,\n",
       " u'24146': 118906,\n",
       " u'24147': 118913,\n",
       " u'233039': 112528,\n",
       " u'24145': 118899,\n",
       " u'24142': 118874,\n",
       " u'24143': 118880,\n",
       " u'24140': 118858,\n",
       " u'24141': 118868,\n",
       " u'187417': 76360,\n",
       " u'187416': 76359,\n",
       " u'187415': 76358,\n",
       " u'187414': 76357,\n",
       " u'187413': 76356,\n",
       " u'187412': 76355,\n",
       " u'24148': 118920,\n",
       " u'24149': 118930,\n",
       " u'11849': 17280,\n",
       " u'54278': 188495,\n",
       " u'36709': 170471,\n",
       " u'11847': 17259,\n",
       " u'298649': 160321,\n",
       " u'176614': 67640,\n",
       " u'298641': 160319,\n",
       " u'298640': 160318,\n",
       " u'176617': 67641,\n",
       " u'298644': 160320,\n",
       " u'136857': 33832,\n",
       " u'136856': 33831,\n",
       " u'136855': 33830,\n",
       " u'54274': 188491,\n",
       " u'136853': 33829,\n",
       " u'136852': 33828,\n",
       " u'136851': 33827,\n",
       " u'136850': 33826,\n",
       " u'54273': 188490,\n",
       " u'136859': 33834,\n",
       " u'136858': 33833,\n",
       " u'54271': 188488,\n",
       " u'157247': 51472,\n",
       " u'157246': 51471,\n",
       " u'157245': 51470,\n",
       " u'157244': 51469,\n",
       " u'157243': 51468,\n",
       " u'157242': 51467,\n",
       " u'157241': 51466,\n",
       " u'157240': 51465,\n",
       " u'37387': 171180,\n",
       " u'94334': 227833,\n",
       " u'17258': 64299,\n",
       " u'17259': 64308,\n",
       " u'109851': 9236,\n",
       " u'109850': 9235,\n",
       " u'109853': 9238,\n",
       " u'109852': 9237,\n",
       " u'109855': 9240,\n",
       " u'109854': 9239,\n",
       " u'169929': 62069,\n",
       " u'109856': 9241,\n",
       " u'109859': 9242,\n",
       " u'169926': 62067,\n",
       " u'169925': 62066,\n",
       " u'169924': 62065,\n",
       " u'169923': 62064,\n",
       " u'169921': 62063,\n",
       " u'169920': 62062,\n",
       " u'7566': 209815,\n",
       " u'7567': 209824,\n",
       " u'52460': 186661,\n",
       " u'44806': 178850,\n",
       " u'17251': 64234,\n",
       " u'44801': 178845,\n",
       " u'17252': 64244,\n",
       " u'7563': 209785,\n",
       " u'299518': 160917,\n",
       " u'17253': 64255,\n",
       " u'299510': 160911,\n",
       " u'299511': 160912,\n",
       " u'299512': 160913,\n",
       " u'299515': 160914,\n",
       " u'299516': 160915,\n",
       " u'299517': 160916,\n",
       " u'183413': 73165,\n",
       " u'183411': 73164,\n",
       " u'183410': 73163,\n",
       " u'183416': 73168,\n",
       " u'183415': 73167,\n",
       " u'183414': 73166,\n",
       " u'81562': 215543,\n",
       " u'183419': 73170,\n",
       " u'183418': 73169,\n",
       " u'180140': 70520,\n",
       " u'180142': 70521,\n",
       " u'180143': 70522,\n",
       " u'180145': 70523,\n",
       " u'180146': 70524,\n",
       " u'180147': 70525,\n",
       " u'180148': 70526,\n",
       " u'10709': 6643,\n",
       " u'23266': 112248,\n",
       " u'23267': 112256,\n",
       " u'23264': 112235,\n",
       " u'23265': 112242,\n",
       " u'23262': 112225,\n",
       " u'23263': 112229,\n",
       " u'23260': 112211,\n",
       " u'188778': 77454,\n",
       " u'188777': 77453,\n",
       " u'230712': 110734,\n",
       " u'230711': 110733,\n",
       " u'230710': 110732,\n",
       " u'188773': 77451,\n",
       " u'132669': 30089,\n",
       " u'23268': 112264,\n",
       " u'23269': 112272,\n",
       " u'63022': 197314,\n",
       " u'53733': 187944,\n",
       " u'95796': 229231,\n",
       " u'95795': 229230,\n",
       " u'218092': 100906,\n",
       " u'218090': 100904,\n",
       " u'218091': 100905,\n",
       " u'218096': 100908,\n",
       " u'218097': 100909,\n",
       " u'218095': 100907,\n",
       " u'10707': 6625,\n",
       " u'218098': 100910,\n",
       " u'218099': 100911,\n",
       " u'95792': 229228,\n",
       " u'95791': 229227,\n",
       " u'95790': 229226,\n",
       " u'110161': 9521,\n",
       " u'107286': 6827,\n",
       " u'107287': 6828,\n",
       " u'107285': 6826,\n",
       " u'107282': 6825,\n",
       " u'107280': 6823,\n",
       " u'107281': 6824,\n",
       " u'107288': 6829,\n",
       " u'107289': 6830,\n",
       " u'205397': 90885,\n",
       " u'205396': 90884,\n",
       " u'205395': 90883,\n",
       " u'205394': 90882,\n",
       " u'205393': 90881,\n",
       " u'205392': 90880,\n",
       " u'205399': 90887,\n",
       " u'205398': 90886,\n",
       " u'231048': 111002,\n",
       " u'131314': 28862,\n",
       " u'131317': 28864,\n",
       " u'131316': 28863,\n",
       " u'131311': 28859,\n",
       " u'131310': 28858,\n",
       " u'131313': 28861,\n",
       " u'131312': 28860,\n",
       " u'231040': 110996,\n",
       " u'231041': 110997,\n",
       " u'231042': 110998,\n",
       " u'231043': 110999,\n",
       " u'131319': 28865,\n",
       " u'231045': 111000,\n",
       " u'231046': 111001,\n",
       " u'247462': 123380,\n",
       " u'1678': 60287,\n",
       " u'1679': 60371,\n",
       " u'155689': 50143,\n",
       " u'219323': 101872,\n",
       " u'219322': 101871,\n",
       " u'219321': 101870,\n",
       " u'219320': 101869,\n",
       " u'219327': 101874,\n",
       " u'219326': 101873,\n",
       " u'219328': 101875,\n",
       " u'196742': 83876,\n",
       " u'243737': 120633,\n",
       " u'1670': 59619,\n",
       " u'1671': 59702,\n",
       " u'203949': 89723,\n",
       " u'203941': 89717,\n",
       " u'203942': 89718,\n",
       " u'203943': 89719,\n",
       " u'203944': 89720,\n",
       " u'203945': 89721,\n",
       " u'203946': 89722,\n",
       " u'135944': 33008,\n",
       " u'135945': 33009,\n",
       " u'135946': 33010,\n",
       " u'135940': 33005,\n",
       " u'135942': 33006,\n",
       " u'135943': 33007,\n",
       " u'135948': 33011,\n",
       " u'135949': 33012,\n",
       " u'170914': 62909,\n",
       " u'170915': 62910,\n",
       " u'5058': 184767,\n",
       " u'5059': 184776,\n",
       " u'170912': 62907,\n",
       " u'170913': 62908,\n",
       " u'5054': 184725,\n",
       " u'5055': 184735,\n",
       " u'5056': 184746,\n",
       " u'5057': 184756,\n",
       " u'5050': 184686,\n",
       " u'170919': 62911,\n",
       " u'5052': 184705,\n",
       " u'5053': 184715,\n",
       " u'204444': 90109,\n",
       " u'38568': 172416,\n",
       " u'204446': 90111,\n",
       " u'204447': 90112,\n",
       " u'204440': 90107,\n",
       " u'204442': 90108,\n",
       " u'38560': 172411,\n",
       " u'38563': 172412,\n",
       " u'38565': 172414,\n",
       " u'38564': 172413,\n",
       " u'38566': 172415,\n",
       " u'18893': 77571,\n",
       " u'18892': 77563,\n",
       " u'18891': 77556,\n",
       " u'18890': 77550,\n",
       " u'18897': 77602,\n",
       " u'18895': 77586,\n",
       " u'120770': 19302,\n",
       " u'18899': 77619,\n",
       " u'18898': 77610,\n",
       " u'236908': 115437,\n",
       " u'48128': 182266,\n",
       " u'246205': 122458,\n",
       " u'246206': 122459,\n",
       " u'246207': 122460,\n",
       " u'246200': 122455,\n",
       " u'246201': 122456,\n",
       " u'246202': 122457,\n",
       " u'13892': 35663,\n",
       " u'246208': 122461,\n",
       " u'13893': 35671,\n",
       " u'252432': 127130,\n",
       " u'175249': 66509,\n",
       " u'252436': 127132,\n",
       " u'252437': 127133,\n",
       " u'252434': 127131,\n",
       " u'175243': 66504,\n",
       " u'175242': 66503,\n",
       " u'252438': 127134,\n",
       " u'175240': 66502,\n",
       " u'175247': 66508,\n",
       " u'175246': 66507,\n",
       " u'175245': 66506,\n",
       " u'175244': 66505,\n",
       " u'120779': 19310,\n",
       " u'123949': 22214,\n",
       " u'123948': 22213,\n",
       " u'123943': 22209,\n",
       " u'123941': 22208,\n",
       " u'123940': 22207,\n",
       " u'123947': 22212,\n",
       " u'123945': 22211,\n",
       " u'123944': 22210,\n",
       " u'300872': 161849,\n",
       " u'300876': 161851,\n",
       " u'300877': 161852,\n",
       " u'300874': 161850,\n",
       " u'300879': 161853,\n",
       " u'13899': 35724,\n",
       " u'83637': 217569,\n",
       " u'83636': 217568,\n",
       " u'83635': 217567,\n",
       " u'83633': 217566,\n",
       " u'83632': 217565,\n",
       " u'83631': 217564,\n",
       " u'83639': 217571,\n",
       " u'83638': 217570,\n",
       " u'98492': 231808,\n",
       " u'272805': 142076,\n",
       " u'272804': 142075,\n",
       " u'272807': 142078,\n",
       " u'272806': 142077,\n",
       " u'272801': 142072,\n",
       " u'272800': 142071,\n",
       " u'272803': 142074,\n",
       " u'272802': 142073,\n",
       " u'39290': 173159,\n",
       " u'174118': 65591,\n",
       " u'174119': 65592,\n",
       " u'50083': 184258,\n",
       " u'174110': 65583,\n",
       " u'174111': 65584,\n",
       " u'174112': 65585,\n",
       " u'174113': 65586,\n",
       " u'174114': 65587,\n",
       " u'174115': 65588,\n",
       " u'174116': 65589,\n",
       " u'174117': 65590,\n",
       " u'9576': 229199,\n",
       " u'160254': 54009,\n",
       " u'154584': 49222,\n",
       " u'44912': 178957,\n",
       " u'44911': 178956,\n",
       " u'44910': 178955,\n",
       " u'44917': 178961,\n",
       " u'44916': 178960,\n",
       " u'44915': 178959,\n",
       " u'44914': 178958,\n",
       " u'160252': 54007,\n",
       " u'44919': 178963,\n",
       " u'44918': 178962,\n",
       " u'296870': 159108,\n",
       " u'160253': 54008,\n",
       " u'226505': 107431,\n",
       " u'226507': 107433,\n",
       " u'226506': 107432,\n",
       " u'242433': 119632,\n",
       " u'226500': 107428,\n",
       " u'242431': 119630,\n",
       " u'226502': 107429,\n",
       " u'160251': 54006,\n",
       " u'226509': 107435,\n",
       " u'226508': 107434,\n",
       " u'242439': 119636,\n",
       " u'242438': 119635,\n",
       " u'213185': 97052,\n",
       " u'213184': 97051,\n",
       " u'213187': 97053,\n",
       " u'213180': 97050,\n",
       " u'94887': 228361,\n",
       " u'213189': 97055,\n",
       " u'213188': 97054,\n",
       " u'207093': 92244,\n",
       " u'207090': 92242,\n",
       " u'120629': 19183,\n",
       " u'120628': 19182,\n",
       " u'154840': 49437,\n",
       " u'120622': 19178,\n",
       " u'120621': 19177,\n",
       " u'120620': 19176,\n",
       " u'154844': 49440,\n",
       " u'120626': 19181,\n",
       " u'154846': 49441,\n",
       " u'120624': 19180,\n",
       " u'158282': 52335,\n",
       " u'261040': 133428,\n",
       " u'261042': 133430,\n",
       " u'158286': 52338,\n",
       " u'158287': 52339,\n",
       " u'158284': 52336,\n",
       " u'158285': 52337,\n",
       " u'241316': 118797,\n",
       " u'158288': 52340,\n",
       " u'158289': 52341,\n",
       " u'241313': 118794,\n",
       " u'241312': 118793,\n",
       " u'241311': 118792,\n",
       " u'224843': 106149,\n",
       " u'89235': 222963,\n",
       " u'89237': 222965,\n",
       " u'89236': 222964,\n",
       " u'89231': 222960,\n",
       " u'89233': 222962,\n",
       " u'89232': 222961,\n",
       " u'89239': 222967,\n",
       " u'89238': 222966,\n",
       " u'5869': 192972,\n",
       " u'5865': 192933,\n",
       " u'5864': 192922,\n",
       " u'5867': 192954,\n",
       " u'5866': 192944,\n",
       " u'5861': 192890,\n",
       " u'5860': 192880,\n",
       " u'5863': 192912,\n",
       " u'5862': 192901,\n",
       " u'129861': 27526,\n",
       " u'129866': 27528,\n",
       " u'88211': 221978,\n",
       " u'216983': 100054,\n",
       " u'129865': 27527,\n",
       " u'184122': 73745,\n",
       " u'121978': 20408,\n",
       " u'121979': 20409,\n",
       " u'192054': 80089,\n",
       " u'121970': 20401,\n",
       " u'121971': 20402,\n",
       " u'121972': 20403,\n",
       " u'121973': 20404,\n",
       " u'121974': 20405,\n",
       " u'121975': 20406,\n",
       " u'121977': 20407,\n",
       " u'153104': 47962,\n",
       " u'153105': 47963,\n",
       " u'153106': 47964,\n",
       " u'192056': 80091,\n",
       " u'20869': 93491,\n",
       " u'20868': 93481,\n",
       " u'153102': 47960,\n",
       " u'153103': 47961,\n",
       " u'2235': 105130,\n",
       " u'20867': 93475,\n",
       " u'20866': 93469,\n",
       " u'153109': 47966,\n",
       " u'20863': 93448,\n",
       " u'148427': 43921,\n",
       " u'148426': 43920,\n",
       " u'148425': 43919,\n",
       " u'148423': 43918,\n",
       " u'148422': 43917,\n",
       " u'148421': 43916,\n",
       " u'148420': 43915,\n",
       " u'260316': 132908,\n",
       " u'260317': 132909,\n",
       " u'260314': 132907,\n",
       " u'2236': 105211,\n",
       " u'260312': 132906,\n",
       " u'148429': 43923,\n",
       " u'148428': 43922,\n",
       " u'300043': 161284,\n",
       " u'300042': 161283,\n",
       " u'292988': 156427,\n",
       " u'300040': 161281,\n",
       " u'300047': 161285,\n",
       " u'51925': 186131,\n",
       " u'292982': 156423,\n",
       " u'292983': 156424,\n",
       " u'300049': 161286,\n",
       " u'292981': 156422,\n",
       " u'16116': 54753,\n",
       " u'292984': 156425,\n",
       " u'292985': 156426,\n",
       " u'161804': 55282,\n",
       " u'161805': 55283,\n",
       " u'161807': 55284,\n",
       " u'161800': 55279,\n",
       " u'161801': 55280,\n",
       " u'161802': 55281,\n",
       " u'16110': 54705,\n",
       " u'114362': 13437,\n",
       " u'161808': 55285,\n",
       " u'161809': 55286,\n",
       " u'16111': 54711,\n",
       " u'162575': 55926,\n",
       " u'162577': 55928,\n",
       " u'162576': 55927,\n",
       " u'162570': 55923,\n",
       " u'162573': 55925,\n",
       " u'162572': 55924,\n",
       " u'16113': 54731,\n",
       " u'162579': 55930,\n",
       " u'162578': 55929,\n",
       " u'102579': 2432,\n",
       " u'198178': 85042,\n",
       " u'198179': 85043,\n",
       " u'198175': 85039,\n",
       " u'198176': 85040,\n",
       " u'198177': 85041,\n",
       " u'16119': 54777,\n",
       " u'176189': 67294,\n",
       " u'190789': 79052,\n",
       " u'176181': 67287,\n",
       " u'190782': 79046,\n",
       " u'176183': 67289,\n",
       " u'176182': 67288,\n",
       " u'190787': 79051,\n",
       " u'176184': 67290,\n",
       " u'176187': 67293,\n",
       " u'176186': 67292,\n",
       " u'295069': 157884,\n",
       " u'295064': 157883,\n",
       " u'295061': 157880,\n",
       " u'295062': 157881,\n",
       " u'295063': 157882,\n",
       " u'29358': 156845,\n",
       " u'152277': 47245,\n",
       " u'152276': 47244,\n",
       " u'152271': 47241,\n",
       " u'152270': 47240,\n",
       " u'152272': 47242,\n",
       " u'29350': 156791,\n",
       " u'29351': 156796,\n",
       " u'29352': 156805,\n",
       " u'29353': 156812,\n",
       " u'29354': 156820,\n",
       " u'29355': 156825,\n",
       " u'29356': 156831,\n",
       " u'29357': 156838,\n",
       " u'144804': 40784,\n",
       " u'111620': 10870,\n",
       " u'288181': 152921,\n",
       " u'288183': 152922,\n",
       " u'187719': 76604,\n",
       " u'288186': 152924,\n",
       " u'187715': 76601,\n",
       " u'187716': 76602,\n",
       " u'187717': 76603,\n",
       " u'187710': 76597,\n",
       " u'187711': 76598,\n",
       " u'187712': 76599,\n",
       " u'187713': 76600,\n",
       " u'157737': 51877,\n",
       " u'157736': 51876,\n",
       " u'157735': 51875,\n",
       " u'157734': 51874,\n",
       " u'157731': 51873,\n",
       " u'157739': 51878,\n",
       " u'264560': 136017,\n",
       " u'264562': 136018,\n",
       " u'264564': 136019,\n",
       " u'264569': 136021,\n",
       " u'264568': 136020,\n",
       " u'263038': 134901,\n",
       " u'263039': 134902,\n",
       " u'263036': 134899,\n",
       " u'263037': 134900,\n",
       " u'263034': 134898,\n",
       " u'263033': 134897,\n",
       " u'263031': 134896,\n",
       " u'192928': 80801,\n",
       " u'192921': 80795,\n",
       " u'267599': 138206,\n",
       " u'192923': 80797,\n",
       " u'192922': 80796,\n",
       " u'192925': 80799,\n",
       " u'192924': 80798,\n",
       " u'192926': 80800,\n",
       " u'169497': 61714,\n",
       " u'79725': 213761,\n",
       " u'28409': 150116,\n",
       " u'28408': 150110,\n",
       " u'169493': 61711,\n",
       " u'169492': 61710,\n",
       " u'79722': 213759,\n",
       " u'79723': 213760,\n",
       " u'28403': 150076,\n",
       " u'28402': 150069,\n",
       " u'28401': 150061,\n",
       " u'28400': 150053,\n",
       " u'28407': 150106,\n",
       " u'28406': 150100,\n",
       " u'28405': 150091,\n",
       " u'28404': 150084,\n",
       " u'11667': 15560,\n",
       " u'267596': 138203,\n",
       " u'144803': 40783,\n",
       " u'50087': 184261,\n",
       " u'267205': 137943,\n",
       " u'267204': 137942,\n",
       " u'11664': 15530,\n",
       " u'197258': 84297,\n",
       " u'13053': 28144,\n",
       " u'197256': 84295,\n",
       " u'197257': 84296,\n",
       " u'197250': 84291,\n",
       " u'197251': 84292,\n",
       " u'197252': 84293,\n",
       " u'197253': 84294,\n",
       " u'144802': 40782,\n",
       " u'13056': 28170,\n",
       " u'11660': 15495,\n",
       " u'13057': 28178,\n",
       " u'13054': 28153,\n",
       " u'13055': 28161,\n",
       " u'151195': 46317,\n",
       " u'151194': 46316,\n",
       " u'151196': 46318,\n",
       " u'151190': 46313,\n",
       " u'151193': 46315,\n",
       " u'151192': 46314,\n",
       " u'36459': 170207,\n",
       " u'151199': 46320,\n",
       " u'151198': 46319,\n",
       " u'11643': 15336,\n",
       " u'23718': 115641,\n",
       " u'23719': 115644,\n",
       " u'23716': 115627,\n",
       " u'23717': 115633,\n",
       " u'23714': 115610,\n",
       " u'23712': 115594,\n",
       " u'23713': 115601,\n",
       " u'23710': 115579,\n",
       " u'23711': 115588,\n",
       " u'59205': 193491,\n",
       " u'59204': 193490,\n",
       " u'59207': 193493,\n",
       " u'59206': 193492,\n",
       " u'59201': 193487,\n",
       " u'59200': 193486,\n",
       " u'59203': 193489,\n",
       " u'59202': 193488,\n",
       " u'59209': 193495,\n",
       " u'59208': 193494,\n",
       " u'52624': 186822,\n",
       " u'266557': 137491,\n",
       " u'266555': 137490,\n",
       " u'266552': 137488,\n",
       " u'266553': 137489,\n",
       " u'266550': 137486,\n",
       " u'266551': 137487,\n",
       " u'266559': 137492,\n",
       " u'59158': 193440,\n",
       " u'115920': 14864,\n",
       " u'115921': 14865,\n",
       " u'115923': 14866,\n",
       " u'115924': 14867,\n",
       " u'115925': 14868,\n",
       " u'115927': 14869,\n",
       " u'196125': 83391,\n",
       " u'115929': 14870,\n",
       " u'196126': 83392,\n",
       " u'196121': 83389,\n",
       " u'196120': 83388,\n",
       " u'196123': 83390,\n",
       " u'107918': 7433,\n",
       " u'107919': 7434,\n",
       " u'107916': 7431,\n",
       " u'107917': 7432,\n",
       " u'107914': 7429,\n",
       " u'107915': 7430,\n",
       " u'107912': 7427,\n",
       " u'107913': 7428,\n",
       " u'107910': 7425,\n",
       " u'107911': 7426,\n",
       " u'51354': 185548,\n",
       " u'297039': 159226,\n",
       " u'297035': 159224,\n",
       " u'51353': 185547,\n",
       " u'297037': 159225,\n",
       " u'297031': 159221,\n",
       " u'297032': 159222,\n",
       " u'55878': 190126,\n",
       " u'55879': 190127,\n",
       " u'5459': 188808,\n",
       " u'55872': 190120,\n",
       " u'55873': 190121,\n",
       " ...}"
      ]
     },
     "execution_count": 132,
     "metadata": {},
     "output_type": "execute_result"
    }
   ],
   "source": [
    "vectorizer.vocabulary_"
   ]
  },
  {
   "cell_type": "code",
   "execution_count": null,
   "metadata": {},
   "outputs": [],
   "source": [
    "for i in range(tfidf.shape[0]):\n",
    "    print('----Document %d----' % (i))\n",
    "    for j in range(len(words)):\n",
    "        if tfidf[i,j] > 1e-5:\n",
    "              print( words[j], tfidf[i,j])"
   ]
  },
  {
   "cell_type": "code",
   "execution_count": 45,
   "metadata": {},
   "outputs": [
    {
     "name": "stdout",
     "output_type": "stream",
     "text": [
      "[u'and', u'first', u'one', u'second', u'third']\n"
     ]
    }
   ],
   "source": [
    "from sklearn.feature_extraction.text import CountVectorizer\n",
    "\n",
    "#语料\n",
    "corpus = [\n",
    "        'This is the first document.',\n",
    "        'This is the second second document.',\n",
    "        'And the third one.'\n",
    "        'Is this the first document?'\n",
    "        ]\n",
    "\n",
    "# 将文本中的词语，转换成词频矩阵\n",
    "\n",
    "vectorizer = CountVectorizer(max_df=0.8)\n",
    "\n",
    "# 计算词语出现的频率\n",
    "X = vectorizer.fit_transform(corpus)\n",
    "\n",
    "# 获取词袋中所有文本关键词\n",
    "words = vectorizer.get_feature_names()\n",
    "print(words)"
   ]
  },
  {
   "cell_type": "code",
   "execution_count": 46,
   "metadata": {},
   "outputs": [
    {
     "data": {
      "text/plain": [
       "{u'and': 0, u'first': 1, u'one': 2, u'second': 3, u'third': 4}"
      ]
     },
     "execution_count": 46,
     "metadata": {},
     "output_type": "execute_result"
    }
   ],
   "source": [
    "vectorizer.vocabulary_"
   ]
  },
  {
   "cell_type": "code",
   "execution_count": 41,
   "metadata": {},
   "outputs": [
    {
     "data": {
      "text/plain": [
       "array([[0, 1, 1, 1, 0, 0, 1, 0, 1],\n",
       "       [0, 1, 0, 1, 0, 2, 1, 0, 1],\n",
       "       [1, 1, 1, 1, 1, 0, 2, 1, 1]])"
      ]
     },
     "execution_count": 41,
     "metadata": {},
     "output_type": "execute_result"
    }
   ],
   "source": [
    "X.toarray()"
   ]
  },
  {
   "cell_type": "code",
   "execution_count": 42,
   "metadata": {},
   "outputs": [
    {
     "name": "stdout",
     "output_type": "stream",
     "text": [
      "[u'and', u'document', u'first', u'is', u'one', u'second', u'the', u'third', u'this']\n"
     ]
    }
   ],
   "source": [
    "from sklearn.feature_extraction.text import TfidfVectorizer\n",
    "vectorizer = TfidfVectorizer()\n",
    "\n",
    "#语料\n",
    "corpus = [\n",
    "        'This is the first document.',\n",
    "        'This is the second second document.',\n",
    "        'And the third one.'\n",
    "        'Is this the first document?'\n",
    "        ]\n",
    "\n",
    "# 将文本中的词语，转换成词频矩阵\n",
    "\n",
    "vectorizer = TfidfVectorizer()\n",
    "\n",
    "# 计算词语出现的频率\n",
    "X = vectorizer.fit_transform(corpus)\n",
    "\n",
    "# 获取词袋中所有文本关键词\n",
    "words = vectorizer.get_feature_names()\n",
    "print(words)"
   ]
  },
  {
   "cell_type": "code",
   "execution_count": 43,
   "metadata": {},
   "outputs": [
    {
     "data": {
      "text/plain": [
       "array([[0.        , 0.42040099, 0.54134281, 0.42040099, 0.        ,\n",
       "        0.        , 0.42040099, 0.        , 0.42040099],\n",
       "       [0.        , 0.25427116, 0.        , 0.25427116, 0.        ,\n",
       "        0.861037  , 0.25427116, 0.        , 0.25427116],\n",
       "       [0.4075631 , 0.24071333, 0.30996224, 0.24071333, 0.4075631 ,\n",
       "        0.        , 0.48142667, 0.4075631 , 0.24071333]])"
      ]
     },
     "execution_count": 43,
     "metadata": {},
     "output_type": "execute_result"
    }
   ],
   "source": [
    "X.toarray()"
   ]
  },
  {
   "cell_type": "code",
   "execution_count": 144,
   "metadata": {},
   "outputs": [
    {
     "data": {
      "text/plain": [
       "False"
      ]
     },
     "execution_count": 144,
     "metadata": {},
     "output_type": "execute_result"
    }
   ],
   "source": [
    "set([1,2,4,5]) in set([1,2,3,4,5])"
   ]
  },
  {
   "cell_type": "markdown",
   "metadata": {},
   "source": [
    "# 图片的行为交互属性\n",
    "图片本身被用户交互曝光点击等属性，以及视频时长等属性"
   ]
  },
  {
   "cell_type": "code",
   "execution_count": 183,
   "metadata": {},
   "outputs": [
    {
     "name": "stdout",
     "output_type": "stream",
     "text": [
      "[0.5126139  0.47536132 0.47519824 0.48996173 0.49128503 0.53275642\n",
      " 0.49663963 0.49234455 0.49628574 0.50455946]\n",
      "([1000, 1000, 1000, 1000, 1000, 1000, 1000, 1000, 1000, 1000], [512.6138964778866, 475.36131893976903, 475.19823812359937, 489.96172705681954, 491.2850251717192, 532.7564183245967, 496.6396282679757, 492.3445544156475, 496.2857418791724, 504.5594577374588])\n",
      "(77.34025414825255, 78.3610578300499)\n",
      "[0.5104728570535837, 0.4782391153834722, 0.47809800555303467, 0.49087249043092096, 0.4920175078339336, 0.5279016871829106, 0.4966507145636989, 0.4929342925022097, 0.4963445053510456, 0.503503548758311]\n"
     ]
    }
   ],
   "source": [
    "#!/usr/bin/python\n",
    "# coding=utf-8\n",
    "\n",
    "import numpy\n",
    "import random\n",
    "import scipy.special as special\n",
    "\n",
    "class BayesianSmoothing(object):\n",
    "    def __init__(self, alpha, beta):\n",
    "        self.alpha = alpha\n",
    "        self.beta = beta\n",
    "\n",
    "    def sample(self, alpha, beta, num, imp_upperbound):\n",
    "        sample = numpy.random.beta(alpha, beta, num)\n",
    "        print(sample)\n",
    "        I = []\n",
    "        C = []\n",
    "        for clk_rt in sample:\n",
    "            imp = imp_upperbound\n",
    "            clk = imp * clk_rt\n",
    "            I.append(imp)\n",
    "            C.append(clk)\n",
    "        return I, C\n",
    "\n",
    "    def update(self, imps, clks, iter_num, epsilon):\n",
    "        for i in range(iter_num):\n",
    "            new_alpha, new_beta = self.__fixed_point_iteration(imps, clks, self.alpha, self.beta)\n",
    "            if abs(new_alpha-self.alpha)<epsilon and abs(new_beta-self.beta)<epsilon:\n",
    "                break\n",
    "            self.alpha = new_alpha\n",
    "            self.beta = new_beta\n",
    "\n",
    "    def __fixed_point_iteration(self, imps, clks, alpha, beta):\n",
    "        numerator_alpha = 0.0\n",
    "        numerator_beta = 0.0\n",
    "        denominator = 0.0\n",
    "\n",
    "        for i in range(len(imps)):\n",
    "            numerator_alpha += (special.digamma(clks[i]+alpha) - special.digamma(alpha))\n",
    "            numerator_beta += (special.digamma(imps[i]-clks[i]+beta) - special.digamma(beta))\n",
    "            denominator += (special.digamma(imps[i]+alpha+beta) - special.digamma(alpha+beta))\n",
    "\n",
    "        return alpha*(numerator_alpha/denominator), beta*(numerator_beta/denominator)\n",
    "\n",
    "def main():\n",
    "    bs = BayesianSmoothing(1, 1)\n",
    "    I, C = bs.sample(500, 500, 10, 1000)\n",
    "    print(I, C)\n",
    "    bs.update(I, C, 1000, 0.0000000001)\n",
    "    print(bs.alpha, bs.beta)\n",
    "    ctr = []\n",
    "    for i in range(len(I)):\n",
    "        ctr.append((C[i]+bs.alpha)/(I[i]+bs.alpha+bs.beta))\n",
    "    print(ctr)\n",
    "\n",
    "if __name__ == '__main__':\n",
    "    main()"
   ]
  },
  {
   "cell_type": "code",
   "execution_count": 184,
   "metadata": {},
   "outputs": [],
   "source": [
    "items = pd.DataFrame()\n",
    "common = ['photo_id', 'duration_time', 'time']\n",
    "items[common] = user_item_train[common]\n",
    "\n",
    "items['exposure_num'] = user_item_train['photo_id'].groupby(user_item_train['photo_id']).transform('count')\n",
    "items['clicked_num'] = user_item_train['click'].groupby(user_item_train['photo_id']).transform('sum')\n",
    "items['liked_num'] = user_item_train['like'].groupby(user_item_train['photo_id']).transform('sum')\n",
    "items['followed_num'] = user_item_train['follow'].groupby(user_item_train['photo_id']).transform('sum')\n",
    "items['played_sum'] = user_item_train['playing_time'].groupby(user_item_train['photo_id']).transform('sum')\n",
    "items['duration_sum'] = user_item_train['duration_time'].groupby(user_item_train['photo_id']).transform('sum')\n",
    "items['clicked_ratio'] = user_item_train['click'].groupby(user_item_train['photo_id']).transform('mean')\n",
    "items['liked_ratio'] = user_item_train['like'].groupby(user_item_train['photo_id']).transform('mean')\n",
    "items['followed_ratio'] = user_item_train['follow'].groupby(user_item_train['photo_id']).transform('mean')\n",
    "items['played_ratio'] = items['played_sum'] / items['duration_sum']\n"
   ]
  },
  {
   "cell_type": "code",
   "execution_count": 185,
   "metadata": {},
   "outputs": [],
   "source": [
    "items.drop_duplicates(['photo_id'], inplace=True)"
   ]
  },
  {
   "cell_type": "code",
   "execution_count": 186,
   "metadata": {},
   "outputs": [
    {
     "data": {
      "text/plain": [
       "4278686"
      ]
     },
     "execution_count": 186,
     "metadata": {},
     "output_type": "execute_result"
    }
   ],
   "source": [
    "items['photo_id'].nunique()"
   ]
  },
  {
   "cell_type": "code",
   "execution_count": 187,
   "metadata": {},
   "outputs": [
    {
     "data": {
      "text/plain": [
       "4278686"
      ]
     },
     "execution_count": 187,
     "metadata": {},
     "output_type": "execute_result"
    }
   ],
   "source": [
    "user_item_train['photo_id'].nunique()"
   ]
  },
  {
   "cell_type": "code",
   "execution_count": 188,
   "metadata": {},
   "outputs": [
    {
     "data": {
      "text/html": [
       "<div>\n",
       "<style>\n",
       "    .dataframe thead tr:only-child th {\n",
       "        text-align: right;\n",
       "    }\n",
       "\n",
       "    .dataframe thead th {\n",
       "        text-align: left;\n",
       "    }\n",
       "\n",
       "    .dataframe tbody tr th {\n",
       "        vertical-align: top;\n",
       "    }\n",
       "</style>\n",
       "<table border=\"1\" class=\"dataframe\">\n",
       "  <thead>\n",
       "    <tr style=\"text-align: right;\">\n",
       "      <th></th>\n",
       "      <th>photo_id</th>\n",
       "      <th>duration_time</th>\n",
       "      <th>time</th>\n",
       "      <th>exposure_num</th>\n",
       "      <th>clicked_num</th>\n",
       "      <th>liked_num</th>\n",
       "      <th>followed_num</th>\n",
       "      <th>played_sum</th>\n",
       "      <th>duration_sum</th>\n",
       "      <th>clicked_ratio</th>\n",
       "      <th>liked_ratio</th>\n",
       "      <th>followed_ratio</th>\n",
       "      <th>played_ratio</th>\n",
       "    </tr>\n",
       "  </thead>\n",
       "  <tbody>\n",
       "    <tr>\n",
       "      <th>0</th>\n",
       "      <td>6484142</td>\n",
       "      <td>11</td>\n",
       "      <td>761036604603</td>\n",
       "      <td>13</td>\n",
       "      <td>5</td>\n",
       "      <td>0</td>\n",
       "      <td>0</td>\n",
       "      <td>34</td>\n",
       "      <td>143</td>\n",
       "      <td>0.384615</td>\n",
       "      <td>0.0</td>\n",
       "      <td>0.0</td>\n",
       "      <td>0.237762</td>\n",
       "    </tr>\n",
       "    <tr>\n",
       "      <th>1</th>\n",
       "      <td>4647664</td>\n",
       "      <td>11</td>\n",
       "      <td>761035501863</td>\n",
       "      <td>2</td>\n",
       "      <td>1</td>\n",
       "      <td>0</td>\n",
       "      <td>0</td>\n",
       "      <td>12</td>\n",
       "      <td>22</td>\n",
       "      <td>0.500000</td>\n",
       "      <td>0.0</td>\n",
       "      <td>0.0</td>\n",
       "      <td>0.545455</td>\n",
       "    </tr>\n",
       "    <tr>\n",
       "      <th>2</th>\n",
       "      <td>4994626</td>\n",
       "      <td>10</td>\n",
       "      <td>761036933553</td>\n",
       "      <td>34</td>\n",
       "      <td>9</td>\n",
       "      <td>0</td>\n",
       "      <td>0</td>\n",
       "      <td>72</td>\n",
       "      <td>340</td>\n",
       "      <td>0.264706</td>\n",
       "      <td>0.0</td>\n",
       "      <td>0.0</td>\n",
       "      <td>0.211765</td>\n",
       "    </tr>\n",
       "    <tr>\n",
       "      <th>3</th>\n",
       "      <td>4416881</td>\n",
       "      <td>9</td>\n",
       "      <td>761119247892</td>\n",
       "      <td>1</td>\n",
       "      <td>0</td>\n",
       "      <td>0</td>\n",
       "      <td>0</td>\n",
       "      <td>0</td>\n",
       "      <td>9</td>\n",
       "      <td>0.000000</td>\n",
       "      <td>0.0</td>\n",
       "      <td>0.0</td>\n",
       "      <td>0.000000</td>\n",
       "    </tr>\n",
       "    <tr>\n",
       "      <th>4</th>\n",
       "      <td>2597756</td>\n",
       "      <td>11</td>\n",
       "      <td>761119421332</td>\n",
       "      <td>2</td>\n",
       "      <td>0</td>\n",
       "      <td>0</td>\n",
       "      <td>0</td>\n",
       "      <td>0</td>\n",
       "      <td>22</td>\n",
       "      <td>0.000000</td>\n",
       "      <td>0.0</td>\n",
       "      <td>0.0</td>\n",
       "      <td>0.000000</td>\n",
       "    </tr>\n",
       "  </tbody>\n",
       "</table>\n",
       "</div>"
      ],
      "text/plain": [
       "   photo_id  duration_time          time  exposure_num  clicked_num  \\\n",
       "0   6484142             11  761036604603            13            5   \n",
       "1   4647664             11  761035501863             2            1   \n",
       "2   4994626             10  761036933553            34            9   \n",
       "3   4416881              9  761119247892             1            0   \n",
       "4   2597756             11  761119421332             2            0   \n",
       "\n",
       "   liked_num  followed_num  played_sum  duration_sum  clicked_ratio  \\\n",
       "0          0             0          34           143       0.384615   \n",
       "1          0             0          12            22       0.500000   \n",
       "2          0             0          72           340       0.264706   \n",
       "3          0             0           0             9       0.000000   \n",
       "4          0             0           0            22       0.000000   \n",
       "\n",
       "   liked_ratio  followed_ratio  played_ratio  \n",
       "0          0.0             0.0      0.237762  \n",
       "1          0.0             0.0      0.545455  \n",
       "2          0.0             0.0      0.211765  \n",
       "3          0.0             0.0      0.000000  \n",
       "4          0.0             0.0      0.000000  "
      ]
     },
     "execution_count": 188,
     "metadata": {},
     "output_type": "execute_result"
    }
   ],
   "source": [
    "items.head()"
   ]
  },
  {
   "cell_type": "code",
   "execution_count": 189,
   "metadata": {},
   "outputs": [],
   "source": [
    "# 对用户点击率做贝叶斯平滑\n",
    "I, C = items['exposure_num'].values, items['clicked_num'].values\n",
    "#bs.update(I, C, 10000, 0.0000000001)\n",
    "#print(bs.alpha, bs.beta)\n",
    "#alpha_item, beta_item = bs.alpha, bs.beta\n",
    "alpha_item, beta_item = 2.8072236088257325, 13.280311727786964\n",
    "ctr = []\n",
    "for i in range(len(I)):\n",
    "    ctr.append((C[i]+alpha_item)/(I[i]+alpha_item+beta_item))\n",
    "items['clicked_ratio'] = ctr\n",
    "items.drop(['exposure_num'], axis=1, inplace=True)\n",
    "\n",
    "common = ['photo_id', 'duration_time', 'time']\n",
    "user_item_data = pd.concat([user_item_train[common], user_item_test[common]])\n",
    "\n",
    "photo_data = pd.DataFrame()\n",
    "photo_data['photo_id'] = user_item_data['photo_id']\n",
    "photo_data['exposure_num'] = user_item_data['photo_id'].groupby(user_item_data['photo_id']).transform('count') \n",
    "photo_data.drop_duplicates(inplace=True)"
   ]
  },
  {
   "cell_type": "code",
   "execution_count": 190,
   "metadata": {},
   "outputs": [
    {
     "data": {
      "text/plain": [
       "(4278686, 12)"
      ]
     },
     "execution_count": 190,
     "metadata": {},
     "output_type": "execute_result"
    }
   ],
   "source": [
    "items.shape"
   ]
  },
  {
   "cell_type": "code",
   "execution_count": 191,
   "metadata": {},
   "outputs": [
    {
     "data": {
      "text/html": [
       "<div>\n",
       "<style>\n",
       "    .dataframe thead tr:only-child th {\n",
       "        text-align: right;\n",
       "    }\n",
       "\n",
       "    .dataframe thead th {\n",
       "        text-align: left;\n",
       "    }\n",
       "\n",
       "    .dataframe tbody tr th {\n",
       "        vertical-align: top;\n",
       "    }\n",
       "</style>\n",
       "<table border=\"1\" class=\"dataframe\">\n",
       "  <thead>\n",
       "    <tr style=\"text-align: right;\">\n",
       "      <th></th>\n",
       "      <th>photo_id</th>\n",
       "      <th>exposure_num</th>\n",
       "    </tr>\n",
       "  </thead>\n",
       "  <tbody>\n",
       "    <tr>\n",
       "      <th>0</th>\n",
       "      <td>6484142</td>\n",
       "      <td>13</td>\n",
       "    </tr>\n",
       "    <tr>\n",
       "      <th>1</th>\n",
       "      <td>4647664</td>\n",
       "      <td>2</td>\n",
       "    </tr>\n",
       "    <tr>\n",
       "      <th>2</th>\n",
       "      <td>4994626</td>\n",
       "      <td>34</td>\n",
       "    </tr>\n",
       "    <tr>\n",
       "      <th>3</th>\n",
       "      <td>4416881</td>\n",
       "      <td>1</td>\n",
       "    </tr>\n",
       "    <tr>\n",
       "      <th>4</th>\n",
       "      <td>2597756</td>\n",
       "      <td>2</td>\n",
       "    </tr>\n",
       "  </tbody>\n",
       "</table>\n",
       "</div>"
      ],
      "text/plain": [
       "   photo_id  exposure_num\n",
       "0   6484142            13\n",
       "1   4647664             2\n",
       "2   4994626            34\n",
       "3   4416881             1\n",
       "4   2597756             2"
      ]
     },
     "execution_count": 191,
     "metadata": {},
     "output_type": "execute_result"
    }
   ],
   "source": [
    "photo_data.head()"
   ]
  },
  {
   "cell_type": "code",
   "execution_count": 192,
   "metadata": {},
   "outputs": [
    {
     "data": {
      "text/plain": [
       "(5174532, 2)"
      ]
     },
     "execution_count": 192,
     "metadata": {},
     "output_type": "execute_result"
    }
   ],
   "source": [
    "photo_data.shape"
   ]
  },
  {
   "cell_type": "code",
   "execution_count": 193,
   "metadata": {},
   "outputs": [],
   "source": [
    "photo_data = pd.merge(photo_data, items,\n",
    "                     how='left',\n",
    "                     on=['photo_id'])"
   ]
  },
  {
   "cell_type": "code",
   "execution_count": 194,
   "metadata": {},
   "outputs": [
    {
     "data": {
      "text/html": [
       "<div>\n",
       "<style>\n",
       "    .dataframe thead tr:only-child th {\n",
       "        text-align: right;\n",
       "    }\n",
       "\n",
       "    .dataframe thead th {\n",
       "        text-align: left;\n",
       "    }\n",
       "\n",
       "    .dataframe tbody tr th {\n",
       "        vertical-align: top;\n",
       "    }\n",
       "</style>\n",
       "<table border=\"1\" class=\"dataframe\">\n",
       "  <thead>\n",
       "    <tr style=\"text-align: right;\">\n",
       "      <th></th>\n",
       "      <th>photo_id</th>\n",
       "      <th>exposure_num</th>\n",
       "      <th>duration_time</th>\n",
       "      <th>time</th>\n",
       "      <th>clicked_num</th>\n",
       "      <th>liked_num</th>\n",
       "      <th>followed_num</th>\n",
       "      <th>played_sum</th>\n",
       "      <th>duration_sum</th>\n",
       "      <th>clicked_ratio</th>\n",
       "      <th>liked_ratio</th>\n",
       "      <th>followed_ratio</th>\n",
       "      <th>played_ratio</th>\n",
       "    </tr>\n",
       "  </thead>\n",
       "  <tbody>\n",
       "    <tr>\n",
       "      <th>0</th>\n",
       "      <td>6484142</td>\n",
       "      <td>13</td>\n",
       "      <td>11.0</td>\n",
       "      <td>7.610366e+11</td>\n",
       "      <td>5.0</td>\n",
       "      <td>0.0</td>\n",
       "      <td>0.0</td>\n",
       "      <td>34.0</td>\n",
       "      <td>143.0</td>\n",
       "      <td>0.268404</td>\n",
       "      <td>0.0</td>\n",
       "      <td>0.0</td>\n",
       "      <td>0.237762</td>\n",
       "    </tr>\n",
       "    <tr>\n",
       "      <th>1</th>\n",
       "      <td>4647664</td>\n",
       "      <td>2</td>\n",
       "      <td>11.0</td>\n",
       "      <td>7.610355e+11</td>\n",
       "      <td>1.0</td>\n",
       "      <td>0.0</td>\n",
       "      <td>0.0</td>\n",
       "      <td>12.0</td>\n",
       "      <td>22.0</td>\n",
       "      <td>0.210489</td>\n",
       "      <td>0.0</td>\n",
       "      <td>0.0</td>\n",
       "      <td>0.545455</td>\n",
       "    </tr>\n",
       "    <tr>\n",
       "      <th>2</th>\n",
       "      <td>4994626</td>\n",
       "      <td>34</td>\n",
       "      <td>10.0</td>\n",
       "      <td>7.610369e+11</td>\n",
       "      <td>9.0</td>\n",
       "      <td>0.0</td>\n",
       "      <td>0.0</td>\n",
       "      <td>72.0</td>\n",
       "      <td>340.0</td>\n",
       "      <td>0.235732</td>\n",
       "      <td>0.0</td>\n",
       "      <td>0.0</td>\n",
       "      <td>0.211765</td>\n",
       "    </tr>\n",
       "    <tr>\n",
       "      <th>3</th>\n",
       "      <td>4416881</td>\n",
       "      <td>1</td>\n",
       "      <td>9.0</td>\n",
       "      <td>7.611192e+11</td>\n",
       "      <td>0.0</td>\n",
       "      <td>0.0</td>\n",
       "      <td>0.0</td>\n",
       "      <td>0.0</td>\n",
       "      <td>9.0</td>\n",
       "      <td>0.164285</td>\n",
       "      <td>0.0</td>\n",
       "      <td>0.0</td>\n",
       "      <td>0.000000</td>\n",
       "    </tr>\n",
       "    <tr>\n",
       "      <th>4</th>\n",
       "      <td>2597756</td>\n",
       "      <td>2</td>\n",
       "      <td>11.0</td>\n",
       "      <td>7.611194e+11</td>\n",
       "      <td>0.0</td>\n",
       "      <td>0.0</td>\n",
       "      <td>0.0</td>\n",
       "      <td>0.0</td>\n",
       "      <td>22.0</td>\n",
       "      <td>0.155202</td>\n",
       "      <td>0.0</td>\n",
       "      <td>0.0</td>\n",
       "      <td>0.000000</td>\n",
       "    </tr>\n",
       "  </tbody>\n",
       "</table>\n",
       "</div>"
      ],
      "text/plain": [
       "   photo_id  exposure_num  duration_time          time  clicked_num  \\\n",
       "0   6484142            13           11.0  7.610366e+11          5.0   \n",
       "1   4647664             2           11.0  7.610355e+11          1.0   \n",
       "2   4994626            34           10.0  7.610369e+11          9.0   \n",
       "3   4416881             1            9.0  7.611192e+11          0.0   \n",
       "4   2597756             2           11.0  7.611194e+11          0.0   \n",
       "\n",
       "   liked_num  followed_num  played_sum  duration_sum  clicked_ratio  \\\n",
       "0        0.0           0.0        34.0         143.0       0.268404   \n",
       "1        0.0           0.0        12.0          22.0       0.210489   \n",
       "2        0.0           0.0        72.0         340.0       0.235732   \n",
       "3        0.0           0.0         0.0           9.0       0.164285   \n",
       "4        0.0           0.0         0.0          22.0       0.155202   \n",
       "\n",
       "   liked_ratio  followed_ratio  played_ratio  \n",
       "0          0.0             0.0      0.237762  \n",
       "1          0.0             0.0      0.545455  \n",
       "2          0.0             0.0      0.211765  \n",
       "3          0.0             0.0      0.000000  \n",
       "4          0.0             0.0      0.000000  "
      ]
     },
     "execution_count": 194,
     "metadata": {},
     "output_type": "execute_result"
    }
   ],
   "source": [
    "photo_data.head()"
   ]
  },
  {
   "cell_type": "code",
   "execution_count": 195,
   "metadata": {},
   "outputs": [
    {
     "data": {
      "text/plain": [
       "photo_id               0\n",
       "exposure_num           0\n",
       "duration_time     895846\n",
       "time              895846\n",
       "clicked_num       895846\n",
       "liked_num         895846\n",
       "followed_num      895846\n",
       "played_sum        895846\n",
       "duration_sum      895846\n",
       "clicked_ratio     895846\n",
       "liked_ratio       895846\n",
       "followed_ratio    895846\n",
       "played_ratio      896938\n",
       "dtype: int64"
      ]
     },
     "execution_count": 195,
     "metadata": {},
     "output_type": "execute_result"
    }
   ],
   "source": [
    "np.sum(photo_data.isnull())"
   ]
  },
  {
   "cell_type": "code",
   "execution_count": 196,
   "metadata": {},
   "outputs": [
    {
     "data": {
      "text/plain": [
       "set()"
      ]
     },
     "execution_count": 196,
     "metadata": {},
     "output_type": "execute_result"
    }
   ],
   "source": [
    "set(user_item_train['photo_id'].unique()) & set(user_item_test['photo_id'].unique())"
   ]
  },
  {
   "cell_type": "code",
   "execution_count": 197,
   "metadata": {},
   "outputs": [
    {
     "data": {
      "text/plain": [
       "895846"
      ]
     },
     "execution_count": 197,
     "metadata": {},
     "output_type": "execute_result"
    }
   ],
   "source": [
    "user_item_test['photo_id'].nunique()"
   ]
  },
  {
   "cell_type": "code",
   "execution_count": 198,
   "metadata": {},
   "outputs": [],
   "source": [
    "photo_data.clicked_ratio.fillna(alpha_item/(alpha_item+beta_item), inplace=True)"
   ]
  },
  {
   "cell_type": "code",
   "execution_count": 199,
   "metadata": {},
   "outputs": [
    {
     "data": {
      "text/plain": [
       "0"
      ]
     },
     "execution_count": 199,
     "metadata": {},
     "output_type": "execute_result"
    }
   ],
   "source": [
    "np.sum(photo_data.clicked_ratio.isnull())"
   ]
  },
  {
   "cell_type": "code",
   "execution_count": 200,
   "metadata": {},
   "outputs": [],
   "source": [
    "def exposure_time_diff(group):\n",
    "#     print(group.head())\n",
    "    m1, m2 = group.min(), group.max()\n",
    "    return (m2 - m1) / 1000"
   ]
  },
  {
   "cell_type": "code",
   "execution_count": 201,
   "metadata": {},
   "outputs": [],
   "source": [
    "# user_train, user_test = user_item_train[common], user_item_test[common]\n",
    "\n",
    "# user_item_data = pd.concat([user_train, user_test])\n",
    "# photo_data = pd.DataFrame()\n",
    "# photo_data['photo_id'] = user_item_data['photo_id']\n",
    "# photo_data['exposure_num'] = user_item_data['photo_id'].groupby(user_item_data['photo_id']).transform('count') \n",
    "# photo_data['exposure_time_diff'] = user_item_data['time'].groupby(user_item_data['photo_id']).transform(exposure_time_diff)\n",
    "# photo_data.drop_duplicates(inplace=True)\n",
    "\n",
    "\n",
    "# photo_data['exposure_freq'] = photo_data['exposure_num'] / photo_data['exposure_time_diff']\n",
    "\n",
    "# photo_data.drop(['exposure_num'], axis=1, inplace=True)"
   ]
  },
  {
   "cell_type": "code",
   "execution_count": 202,
   "metadata": {},
   "outputs": [
    {
     "data": {
      "text/html": [
       "<div>\n",
       "<style>\n",
       "    .dataframe thead tr:only-child th {\n",
       "        text-align: right;\n",
       "    }\n",
       "\n",
       "    .dataframe thead th {\n",
       "        text-align: left;\n",
       "    }\n",
       "\n",
       "    .dataframe tbody tr th {\n",
       "        vertical-align: top;\n",
       "    }\n",
       "</style>\n",
       "<table border=\"1\" class=\"dataframe\">\n",
       "  <thead>\n",
       "    <tr style=\"text-align: right;\">\n",
       "      <th></th>\n",
       "      <th>photo_id</th>\n",
       "      <th>exposure_num</th>\n",
       "      <th>duration_time</th>\n",
       "      <th>time</th>\n",
       "      <th>clicked_num</th>\n",
       "      <th>liked_num</th>\n",
       "      <th>followed_num</th>\n",
       "      <th>played_sum</th>\n",
       "      <th>duration_sum</th>\n",
       "      <th>clicked_ratio</th>\n",
       "      <th>liked_ratio</th>\n",
       "      <th>followed_ratio</th>\n",
       "      <th>played_ratio</th>\n",
       "    </tr>\n",
       "  </thead>\n",
       "  <tbody>\n",
       "    <tr>\n",
       "      <th>0</th>\n",
       "      <td>6484142</td>\n",
       "      <td>13</td>\n",
       "      <td>11.0</td>\n",
       "      <td>7.610366e+11</td>\n",
       "      <td>5.0</td>\n",
       "      <td>0.0</td>\n",
       "      <td>0.0</td>\n",
       "      <td>34.0</td>\n",
       "      <td>143.0</td>\n",
       "      <td>0.268404</td>\n",
       "      <td>0.000000</td>\n",
       "      <td>0.000000</td>\n",
       "      <td>0.237762</td>\n",
       "    </tr>\n",
       "    <tr>\n",
       "      <th>1</th>\n",
       "      <td>4647664</td>\n",
       "      <td>2</td>\n",
       "      <td>11.0</td>\n",
       "      <td>7.610355e+11</td>\n",
       "      <td>1.0</td>\n",
       "      <td>0.0</td>\n",
       "      <td>0.0</td>\n",
       "      <td>12.0</td>\n",
       "      <td>22.0</td>\n",
       "      <td>0.210489</td>\n",
       "      <td>0.000000</td>\n",
       "      <td>0.000000</td>\n",
       "      <td>0.545455</td>\n",
       "    </tr>\n",
       "    <tr>\n",
       "      <th>2</th>\n",
       "      <td>4994626</td>\n",
       "      <td>34</td>\n",
       "      <td>10.0</td>\n",
       "      <td>7.610369e+11</td>\n",
       "      <td>9.0</td>\n",
       "      <td>0.0</td>\n",
       "      <td>0.0</td>\n",
       "      <td>72.0</td>\n",
       "      <td>340.0</td>\n",
       "      <td>0.235732</td>\n",
       "      <td>0.000000</td>\n",
       "      <td>0.000000</td>\n",
       "      <td>0.211765</td>\n",
       "    </tr>\n",
       "    <tr>\n",
       "      <th>3</th>\n",
       "      <td>4416881</td>\n",
       "      <td>1</td>\n",
       "      <td>9.0</td>\n",
       "      <td>7.611192e+11</td>\n",
       "      <td>0.0</td>\n",
       "      <td>0.0</td>\n",
       "      <td>0.0</td>\n",
       "      <td>0.0</td>\n",
       "      <td>9.0</td>\n",
       "      <td>0.164285</td>\n",
       "      <td>0.000000</td>\n",
       "      <td>0.000000</td>\n",
       "      <td>0.000000</td>\n",
       "    </tr>\n",
       "    <tr>\n",
       "      <th>4</th>\n",
       "      <td>2597756</td>\n",
       "      <td>2</td>\n",
       "      <td>11.0</td>\n",
       "      <td>7.611194e+11</td>\n",
       "      <td>0.0</td>\n",
       "      <td>0.0</td>\n",
       "      <td>0.0</td>\n",
       "      <td>0.0</td>\n",
       "      <td>22.0</td>\n",
       "      <td>0.155202</td>\n",
       "      <td>0.000000</td>\n",
       "      <td>0.000000</td>\n",
       "      <td>0.000000</td>\n",
       "    </tr>\n",
       "    <tr>\n",
       "      <th>5</th>\n",
       "      <td>4977481</td>\n",
       "      <td>155</td>\n",
       "      <td>11.0</td>\n",
       "      <td>7.610347e+11</td>\n",
       "      <td>71.0</td>\n",
       "      <td>0.0</td>\n",
       "      <td>0.0</td>\n",
       "      <td>744.0</td>\n",
       "      <td>1705.0</td>\n",
       "      <td>0.431400</td>\n",
       "      <td>0.000000</td>\n",
       "      <td>0.000000</td>\n",
       "      <td>0.436364</td>\n",
       "    </tr>\n",
       "    <tr>\n",
       "      <th>6</th>\n",
       "      <td>5089000</td>\n",
       "      <td>852</td>\n",
       "      <td>10.0</td>\n",
       "      <td>7.610358e+11</td>\n",
       "      <td>366.0</td>\n",
       "      <td>14.0</td>\n",
       "      <td>3.0</td>\n",
       "      <td>2922.0</td>\n",
       "      <td>8520.0</td>\n",
       "      <td>0.424850</td>\n",
       "      <td>0.016432</td>\n",
       "      <td>0.003521</td>\n",
       "      <td>0.342958</td>\n",
       "    </tr>\n",
       "    <tr>\n",
       "      <th>7</th>\n",
       "      <td>693195</td>\n",
       "      <td>55</td>\n",
       "      <td>11.0</td>\n",
       "      <td>7.610350e+11</td>\n",
       "      <td>18.0</td>\n",
       "      <td>0.0</td>\n",
       "      <td>0.0</td>\n",
       "      <td>173.0</td>\n",
       "      <td>605.0</td>\n",
       "      <td>0.292699</td>\n",
       "      <td>0.000000</td>\n",
       "      <td>0.000000</td>\n",
       "      <td>0.285950</td>\n",
       "    </tr>\n",
       "    <tr>\n",
       "      <th>8</th>\n",
       "      <td>163901</td>\n",
       "      <td>265</td>\n",
       "      <td>17.0</td>\n",
       "      <td>7.610344e+11</td>\n",
       "      <td>101.0</td>\n",
       "      <td>1.0</td>\n",
       "      <td>0.0</td>\n",
       "      <td>1244.0</td>\n",
       "      <td>4505.0</td>\n",
       "      <td>0.369306</td>\n",
       "      <td>0.003774</td>\n",
       "      <td>0.000000</td>\n",
       "      <td>0.276138</td>\n",
       "    </tr>\n",
       "    <tr>\n",
       "      <th>9</th>\n",
       "      <td>6472236</td>\n",
       "      <td>1</td>\n",
       "      <td>7.0</td>\n",
       "      <td>7.610357e+11</td>\n",
       "      <td>0.0</td>\n",
       "      <td>0.0</td>\n",
       "      <td>0.0</td>\n",
       "      <td>0.0</td>\n",
       "      <td>7.0</td>\n",
       "      <td>0.164285</td>\n",
       "      <td>0.000000</td>\n",
       "      <td>0.000000</td>\n",
       "      <td>0.000000</td>\n",
       "    </tr>\n",
       "    <tr>\n",
       "      <th>10</th>\n",
       "      <td>4509888</td>\n",
       "      <td>3</td>\n",
       "      <td>8.0</td>\n",
       "      <td>7.610370e+11</td>\n",
       "      <td>0.0</td>\n",
       "      <td>0.0</td>\n",
       "      <td>0.0</td>\n",
       "      <td>0.0</td>\n",
       "      <td>24.0</td>\n",
       "      <td>0.147071</td>\n",
       "      <td>0.000000</td>\n",
       "      <td>0.000000</td>\n",
       "      <td>0.000000</td>\n",
       "    </tr>\n",
       "    <tr>\n",
       "      <th>11</th>\n",
       "      <td>3678099</td>\n",
       "      <td>289</td>\n",
       "      <td>15.0</td>\n",
       "      <td>7.611189e+11</td>\n",
       "      <td>80.0</td>\n",
       "      <td>1.0</td>\n",
       "      <td>1.0</td>\n",
       "      <td>1087.0</td>\n",
       "      <td>4335.0</td>\n",
       "      <td>0.271421</td>\n",
       "      <td>0.003460</td>\n",
       "      <td>0.003460</td>\n",
       "      <td>0.250750</td>\n",
       "    </tr>\n",
       "    <tr>\n",
       "      <th>12</th>\n",
       "      <td>3856567</td>\n",
       "      <td>353</td>\n",
       "      <td>17.0</td>\n",
       "      <td>7.611189e+11</td>\n",
       "      <td>89.0</td>\n",
       "      <td>0.0</td>\n",
       "      <td>2.0</td>\n",
       "      <td>1484.0</td>\n",
       "      <td>6001.0</td>\n",
       "      <td>0.248741</td>\n",
       "      <td>0.000000</td>\n",
       "      <td>0.005666</td>\n",
       "      <td>0.247292</td>\n",
       "    </tr>\n",
       "    <tr>\n",
       "      <th>13</th>\n",
       "      <td>4937691</td>\n",
       "      <td>126</td>\n",
       "      <td>4.0</td>\n",
       "      <td>7.610346e+11</td>\n",
       "      <td>38.0</td>\n",
       "      <td>0.0</td>\n",
       "      <td>0.0</td>\n",
       "      <td>560.0</td>\n",
       "      <td>504.0</td>\n",
       "      <td>0.287198</td>\n",
       "      <td>0.000000</td>\n",
       "      <td>0.000000</td>\n",
       "      <td>1.111111</td>\n",
       "    </tr>\n",
       "    <tr>\n",
       "      <th>14</th>\n",
       "      <td>1140809</td>\n",
       "      <td>25</td>\n",
       "      <td>11.0</td>\n",
       "      <td>7.611192e+11</td>\n",
       "      <td>1.0</td>\n",
       "      <td>0.0</td>\n",
       "      <td>0.0</td>\n",
       "      <td>15.0</td>\n",
       "      <td>275.0</td>\n",
       "      <td>0.092661</td>\n",
       "      <td>0.000000</td>\n",
       "      <td>0.000000</td>\n",
       "      <td>0.054545</td>\n",
       "    </tr>\n",
       "    <tr>\n",
       "      <th>15</th>\n",
       "      <td>730381</td>\n",
       "      <td>34</td>\n",
       "      <td>11.0</td>\n",
       "      <td>7.611191e+11</td>\n",
       "      <td>10.0</td>\n",
       "      <td>0.0</td>\n",
       "      <td>0.0</td>\n",
       "      <td>181.0</td>\n",
       "      <td>374.0</td>\n",
       "      <td>0.255697</td>\n",
       "      <td>0.000000</td>\n",
       "      <td>0.000000</td>\n",
       "      <td>0.483957</td>\n",
       "    </tr>\n",
       "    <tr>\n",
       "      <th>16</th>\n",
       "      <td>5810278</td>\n",
       "      <td>462</td>\n",
       "      <td>17.0</td>\n",
       "      <td>7.610358e+11</td>\n",
       "      <td>158.0</td>\n",
       "      <td>6.0</td>\n",
       "      <td>0.0</td>\n",
       "      <td>1962.0</td>\n",
       "      <td>7854.0</td>\n",
       "      <td>0.336355</td>\n",
       "      <td>0.012987</td>\n",
       "      <td>0.000000</td>\n",
       "      <td>0.249809</td>\n",
       "    </tr>\n",
       "    <tr>\n",
       "      <th>17</th>\n",
       "      <td>99180</td>\n",
       "      <td>184</td>\n",
       "      <td>11.0</td>\n",
       "      <td>7.610346e+11</td>\n",
       "      <td>53.0</td>\n",
       "      <td>0.0</td>\n",
       "      <td>0.0</td>\n",
       "      <td>528.0</td>\n",
       "      <td>2024.0</td>\n",
       "      <td>0.278914</td>\n",
       "      <td>0.000000</td>\n",
       "      <td>0.000000</td>\n",
       "      <td>0.260870</td>\n",
       "    </tr>\n",
       "    <tr>\n",
       "      <th>18</th>\n",
       "      <td>5103484</td>\n",
       "      <td>2</td>\n",
       "      <td>11.0</td>\n",
       "      <td>7.610351e+11</td>\n",
       "      <td>0.0</td>\n",
       "      <td>0.0</td>\n",
       "      <td>0.0</td>\n",
       "      <td>0.0</td>\n",
       "      <td>22.0</td>\n",
       "      <td>0.155202</td>\n",
       "      <td>0.000000</td>\n",
       "      <td>0.000000</td>\n",
       "      <td>0.000000</td>\n",
       "    </tr>\n",
       "    <tr>\n",
       "      <th>19</th>\n",
       "      <td>6394919</td>\n",
       "      <td>11</td>\n",
       "      <td>11.0</td>\n",
       "      <td>7.611194e+11</td>\n",
       "      <td>3.0</td>\n",
       "      <td>0.0</td>\n",
       "      <td>0.0</td>\n",
       "      <td>25.0</td>\n",
       "      <td>121.0</td>\n",
       "      <td>0.214387</td>\n",
       "      <td>0.000000</td>\n",
       "      <td>0.000000</td>\n",
       "      <td>0.206612</td>\n",
       "    </tr>\n",
       "  </tbody>\n",
       "</table>\n",
       "</div>"
      ],
      "text/plain": [
       "    photo_id  exposure_num  duration_time          time  clicked_num  \\\n",
       "0    6484142            13           11.0  7.610366e+11          5.0   \n",
       "1    4647664             2           11.0  7.610355e+11          1.0   \n",
       "2    4994626            34           10.0  7.610369e+11          9.0   \n",
       "3    4416881             1            9.0  7.611192e+11          0.0   \n",
       "4    2597756             2           11.0  7.611194e+11          0.0   \n",
       "5    4977481           155           11.0  7.610347e+11         71.0   \n",
       "6    5089000           852           10.0  7.610358e+11        366.0   \n",
       "7     693195            55           11.0  7.610350e+11         18.0   \n",
       "8     163901           265           17.0  7.610344e+11        101.0   \n",
       "9    6472236             1            7.0  7.610357e+11          0.0   \n",
       "10   4509888             3            8.0  7.610370e+11          0.0   \n",
       "11   3678099           289           15.0  7.611189e+11         80.0   \n",
       "12   3856567           353           17.0  7.611189e+11         89.0   \n",
       "13   4937691           126            4.0  7.610346e+11         38.0   \n",
       "14   1140809            25           11.0  7.611192e+11          1.0   \n",
       "15    730381            34           11.0  7.611191e+11         10.0   \n",
       "16   5810278           462           17.0  7.610358e+11        158.0   \n",
       "17     99180           184           11.0  7.610346e+11         53.0   \n",
       "18   5103484             2           11.0  7.610351e+11          0.0   \n",
       "19   6394919            11           11.0  7.611194e+11          3.0   \n",
       "\n",
       "    liked_num  followed_num  played_sum  duration_sum  clicked_ratio  \\\n",
       "0         0.0           0.0        34.0         143.0       0.268404   \n",
       "1         0.0           0.0        12.0          22.0       0.210489   \n",
       "2         0.0           0.0        72.0         340.0       0.235732   \n",
       "3         0.0           0.0         0.0           9.0       0.164285   \n",
       "4         0.0           0.0         0.0          22.0       0.155202   \n",
       "5         0.0           0.0       744.0        1705.0       0.431400   \n",
       "6        14.0           3.0      2922.0        8520.0       0.424850   \n",
       "7         0.0           0.0       173.0         605.0       0.292699   \n",
       "8         1.0           0.0      1244.0        4505.0       0.369306   \n",
       "9         0.0           0.0         0.0           7.0       0.164285   \n",
       "10        0.0           0.0         0.0          24.0       0.147071   \n",
       "11        1.0           1.0      1087.0        4335.0       0.271421   \n",
       "12        0.0           2.0      1484.0        6001.0       0.248741   \n",
       "13        0.0           0.0       560.0         504.0       0.287198   \n",
       "14        0.0           0.0        15.0         275.0       0.092661   \n",
       "15        0.0           0.0       181.0         374.0       0.255697   \n",
       "16        6.0           0.0      1962.0        7854.0       0.336355   \n",
       "17        0.0           0.0       528.0        2024.0       0.278914   \n",
       "18        0.0           0.0         0.0          22.0       0.155202   \n",
       "19        0.0           0.0        25.0         121.0       0.214387   \n",
       "\n",
       "    liked_ratio  followed_ratio  played_ratio  \n",
       "0      0.000000        0.000000      0.237762  \n",
       "1      0.000000        0.000000      0.545455  \n",
       "2      0.000000        0.000000      0.211765  \n",
       "3      0.000000        0.000000      0.000000  \n",
       "4      0.000000        0.000000      0.000000  \n",
       "5      0.000000        0.000000      0.436364  \n",
       "6      0.016432        0.003521      0.342958  \n",
       "7      0.000000        0.000000      0.285950  \n",
       "8      0.003774        0.000000      0.276138  \n",
       "9      0.000000        0.000000      0.000000  \n",
       "10     0.000000        0.000000      0.000000  \n",
       "11     0.003460        0.003460      0.250750  \n",
       "12     0.000000        0.005666      0.247292  \n",
       "13     0.000000        0.000000      1.111111  \n",
       "14     0.000000        0.000000      0.054545  \n",
       "15     0.000000        0.000000      0.483957  \n",
       "16     0.012987        0.000000      0.249809  \n",
       "17     0.000000        0.000000      0.260870  \n",
       "18     0.000000        0.000000      0.000000  \n",
       "19     0.000000        0.000000      0.206612  "
      ]
     },
     "execution_count": 202,
     "metadata": {},
     "output_type": "execute_result"
    }
   ],
   "source": [
    "photo_data.head(20)"
   ]
  },
  {
   "cell_type": "code",
   "execution_count": 203,
   "metadata": {},
   "outputs": [],
   "source": [
    "photo_data = pd.merge(photo_data, text_data,\n",
    "                     how='left',\n",
    "                     on='photo_id')"
   ]
  },
  {
   "cell_type": "code",
   "execution_count": 204,
   "metadata": {},
   "outputs": [
    {
     "data": {
      "text/html": [
       "<div>\n",
       "<style>\n",
       "    .dataframe thead tr:only-child th {\n",
       "        text-align: right;\n",
       "    }\n",
       "\n",
       "    .dataframe thead th {\n",
       "        text-align: left;\n",
       "    }\n",
       "\n",
       "    .dataframe tbody tr th {\n",
       "        vertical-align: top;\n",
       "    }\n",
       "</style>\n",
       "<table border=\"1\" class=\"dataframe\">\n",
       "  <thead>\n",
       "    <tr style=\"text-align: right;\">\n",
       "      <th></th>\n",
       "      <th>photo_id</th>\n",
       "      <th>exposure_num</th>\n",
       "      <th>duration_time</th>\n",
       "      <th>time</th>\n",
       "      <th>clicked_num</th>\n",
       "      <th>liked_num</th>\n",
       "      <th>followed_num</th>\n",
       "      <th>played_sum</th>\n",
       "      <th>duration_sum</th>\n",
       "      <th>clicked_ratio</th>\n",
       "      <th>liked_ratio</th>\n",
       "      <th>followed_ratio</th>\n",
       "      <th>played_ratio</th>\n",
       "      <th>cover_words</th>\n",
       "      <th>cover_length</th>\n",
       "    </tr>\n",
       "  </thead>\n",
       "  <tbody>\n",
       "    <tr>\n",
       "      <th>0</th>\n",
       "      <td>6484142</td>\n",
       "      <td>13</td>\n",
       "      <td>11.0</td>\n",
       "      <td>7.610366e+11</td>\n",
       "      <td>5.0</td>\n",
       "      <td>0.0</td>\n",
       "      <td>0.0</td>\n",
       "      <td>34.0</td>\n",
       "      <td>143.0</td>\n",
       "      <td>0.268404</td>\n",
       "      <td>0.0</td>\n",
       "      <td>0.0</td>\n",
       "      <td>0.237762</td>\n",
       "      <td>[229, 56]</td>\n",
       "      <td>2</td>\n",
       "    </tr>\n",
       "    <tr>\n",
       "      <th>1</th>\n",
       "      <td>4647664</td>\n",
       "      <td>2</td>\n",
       "      <td>11.0</td>\n",
       "      <td>7.610355e+11</td>\n",
       "      <td>1.0</td>\n",
       "      <td>0.0</td>\n",
       "      <td>0.0</td>\n",
       "      <td>12.0</td>\n",
       "      <td>22.0</td>\n",
       "      <td>0.210489</td>\n",
       "      <td>0.0</td>\n",
       "      <td>0.0</td>\n",
       "      <td>0.545455</td>\n",
       "      <td>[17874, 14, 73, 29, 143, 1117, 14, 93]</td>\n",
       "      <td>8</td>\n",
       "    </tr>\n",
       "    <tr>\n",
       "      <th>2</th>\n",
       "      <td>4994626</td>\n",
       "      <td>34</td>\n",
       "      <td>10.0</td>\n",
       "      <td>7.610369e+11</td>\n",
       "      <td>9.0</td>\n",
       "      <td>0.0</td>\n",
       "      <td>0.0</td>\n",
       "      <td>72.0</td>\n",
       "      <td>340.0</td>\n",
       "      <td>0.235732</td>\n",
       "      <td>0.0</td>\n",
       "      <td>0.0</td>\n",
       "      <td>0.211765</td>\n",
       "      <td>[87420, 30620, 15258]</td>\n",
       "      <td>3</td>\n",
       "    </tr>\n",
       "    <tr>\n",
       "      <th>3</th>\n",
       "      <td>4416881</td>\n",
       "      <td>1</td>\n",
       "      <td>9.0</td>\n",
       "      <td>7.611192e+11</td>\n",
       "      <td>0.0</td>\n",
       "      <td>0.0</td>\n",
       "      <td>0.0</td>\n",
       "      <td>0.0</td>\n",
       "      <td>9.0</td>\n",
       "      <td>0.164285</td>\n",
       "      <td>0.0</td>\n",
       "      <td>0.0</td>\n",
       "      <td>0.000000</td>\n",
       "      <td>[]</td>\n",
       "      <td>0</td>\n",
       "    </tr>\n",
       "    <tr>\n",
       "      <th>4</th>\n",
       "      <td>2597756</td>\n",
       "      <td>2</td>\n",
       "      <td>11.0</td>\n",
       "      <td>7.611194e+11</td>\n",
       "      <td>0.0</td>\n",
       "      <td>0.0</td>\n",
       "      <td>0.0</td>\n",
       "      <td>0.0</td>\n",
       "      <td>22.0</td>\n",
       "      <td>0.155202</td>\n",
       "      <td>0.0</td>\n",
       "      <td>0.0</td>\n",
       "      <td>0.000000</td>\n",
       "      <td>[]</td>\n",
       "      <td>0</td>\n",
       "    </tr>\n",
       "  </tbody>\n",
       "</table>\n",
       "</div>"
      ],
      "text/plain": [
       "   photo_id  exposure_num  duration_time          time  clicked_num  \\\n",
       "0   6484142            13           11.0  7.610366e+11          5.0   \n",
       "1   4647664             2           11.0  7.610355e+11          1.0   \n",
       "2   4994626            34           10.0  7.610369e+11          9.0   \n",
       "3   4416881             1            9.0  7.611192e+11          0.0   \n",
       "4   2597756             2           11.0  7.611194e+11          0.0   \n",
       "\n",
       "   liked_num  followed_num  played_sum  duration_sum  clicked_ratio  \\\n",
       "0        0.0           0.0        34.0         143.0       0.268404   \n",
       "1        0.0           0.0        12.0          22.0       0.210489   \n",
       "2        0.0           0.0        72.0         340.0       0.235732   \n",
       "3        0.0           0.0         0.0           9.0       0.164285   \n",
       "4        0.0           0.0         0.0          22.0       0.155202   \n",
       "\n",
       "   liked_ratio  followed_ratio  played_ratio  \\\n",
       "0          0.0             0.0      0.237762   \n",
       "1          0.0             0.0      0.545455   \n",
       "2          0.0             0.0      0.211765   \n",
       "3          0.0             0.0      0.000000   \n",
       "4          0.0             0.0      0.000000   \n",
       "\n",
       "                              cover_words  cover_length  \n",
       "0                               [229, 56]             2  \n",
       "1  [17874, 14, 73, 29, 143, 1117, 14, 93]             8  \n",
       "2                   [87420, 30620, 15258]             3  \n",
       "3                                      []             0  \n",
       "4                                      []             0  "
      ]
     },
     "execution_count": 204,
     "metadata": {},
     "output_type": "execute_result"
    }
   ],
   "source": [
    "photo_data.head()"
   ]
  },
  {
   "cell_type": "code",
   "execution_count": 205,
   "metadata": {},
   "outputs": [],
   "source": [
    "def plot_data_cut(df, col, n_bins=20):\n",
    "    quartiles = pd.cut(df[col], n_bins)\n",
    "    grouped = df.groupby(quartiles)\n",
    "    \n",
    "    plt.figure(figsize=(30,15)) \n",
    "    plt.xlabel(col)\n",
    "    plt.ylabel('counts in ' + col)\n",
    "    nums_of_col = grouped.size()\n",
    "    nums_of_col.plot.bar()"
   ]
  },
  {
   "cell_type": "code",
   "execution_count": 206,
   "metadata": {},
   "outputs": [],
   "source": [
    "def clicked_ratio_discretization(num):\n",
    "    if 0 <= num <= 0.06:\n",
    "        return 0\n",
    "    elif 0.06 < num <= 0.12:\n",
    "        return 1\n",
    "    elif 0.12 < num <= 0.2:\n",
    "        return 2\n",
    "    elif 0.2 < num <= 0.3:\n",
    "        return 3\n",
    "    else:\n",
    "        return 4"
   ]
  },
  {
   "cell_type": "code",
   "execution_count": 207,
   "metadata": {},
   "outputs": [
    {
     "data": {
      "image/png": "[encoded data removed]",
      "text/plain": [
       "<matplotlib.figure.Figure at 0x115ac0450>"
      ]
     },
     "metadata": {},
     "output_type": "display_data"
    }
   ],
   "source": [
    "plot_data_cut(photo_data, 'clicked_ratio', 10)"
   ]
  },
  {
   "cell_type": "code",
   "execution_count": 208,
   "metadata": {},
   "outputs": [],
   "source": [
    "def cover_length_discretization(num):\n",
    "    if num == 0:\n",
    "        return 0\n",
    "    elif 0 < num <= 3:\n",
    "        return 1\n",
    "    elif 3 < num <= 10:\n",
    "        return 2\n",
    "    elif 10 < num <= 20:\n",
    "        return 3\n",
    "    else:\n",
    "        return 4"
   ]
  },
  {
   "cell_type": "code",
   "execution_count": 209,
   "metadata": {},
   "outputs": [
    {
     "data": {
      "text/html": [
       "<div>\n",
       "<style>\n",
       "    .dataframe thead tr:only-child th {\n",
       "        text-align: right;\n",
       "    }\n",
       "\n",
       "    .dataframe thead th {\n",
       "        text-align: left;\n",
       "    }\n",
       "\n",
       "    .dataframe tbody tr th {\n",
       "        vertical-align: top;\n",
       "    }\n",
       "</style>\n",
       "<table border=\"1\" class=\"dataframe\">\n",
       "  <thead>\n",
       "    <tr style=\"text-align: right;\">\n",
       "      <th></th>\n",
       "      <th>photo_id</th>\n",
       "      <th>exposure_num</th>\n",
       "      <th>duration_time</th>\n",
       "      <th>time</th>\n",
       "      <th>clicked_num</th>\n",
       "      <th>liked_num</th>\n",
       "      <th>followed_num</th>\n",
       "      <th>played_sum</th>\n",
       "      <th>duration_sum</th>\n",
       "      <th>clicked_ratio</th>\n",
       "      <th>liked_ratio</th>\n",
       "      <th>followed_ratio</th>\n",
       "      <th>played_ratio</th>\n",
       "      <th>cover_words</th>\n",
       "      <th>cover_length</th>\n",
       "    </tr>\n",
       "  </thead>\n",
       "  <tbody>\n",
       "    <tr>\n",
       "      <th>0</th>\n",
       "      <td>6484142</td>\n",
       "      <td>13</td>\n",
       "      <td>11.0</td>\n",
       "      <td>7.610366e+11</td>\n",
       "      <td>5.0</td>\n",
       "      <td>0.0</td>\n",
       "      <td>0.0</td>\n",
       "      <td>34.0</td>\n",
       "      <td>143.0</td>\n",
       "      <td>0.268404</td>\n",
       "      <td>0.0</td>\n",
       "      <td>0.0</td>\n",
       "      <td>0.237762</td>\n",
       "      <td>[229, 56]</td>\n",
       "      <td>2</td>\n",
       "    </tr>\n",
       "    <tr>\n",
       "      <th>1</th>\n",
       "      <td>4647664</td>\n",
       "      <td>2</td>\n",
       "      <td>11.0</td>\n",
       "      <td>7.610355e+11</td>\n",
       "      <td>1.0</td>\n",
       "      <td>0.0</td>\n",
       "      <td>0.0</td>\n",
       "      <td>12.0</td>\n",
       "      <td>22.0</td>\n",
       "      <td>0.210489</td>\n",
       "      <td>0.0</td>\n",
       "      <td>0.0</td>\n",
       "      <td>0.545455</td>\n",
       "      <td>[17874, 14, 73, 29, 143, 1117, 14, 93]</td>\n",
       "      <td>8</td>\n",
       "    </tr>\n",
       "    <tr>\n",
       "      <th>2</th>\n",
       "      <td>4994626</td>\n",
       "      <td>34</td>\n",
       "      <td>10.0</td>\n",
       "      <td>7.610369e+11</td>\n",
       "      <td>9.0</td>\n",
       "      <td>0.0</td>\n",
       "      <td>0.0</td>\n",
       "      <td>72.0</td>\n",
       "      <td>340.0</td>\n",
       "      <td>0.235732</td>\n",
       "      <td>0.0</td>\n",
       "      <td>0.0</td>\n",
       "      <td>0.211765</td>\n",
       "      <td>[87420, 30620, 15258]</td>\n",
       "      <td>3</td>\n",
       "    </tr>\n",
       "    <tr>\n",
       "      <th>3</th>\n",
       "      <td>4416881</td>\n",
       "      <td>1</td>\n",
       "      <td>9.0</td>\n",
       "      <td>7.611192e+11</td>\n",
       "      <td>0.0</td>\n",
       "      <td>0.0</td>\n",
       "      <td>0.0</td>\n",
       "      <td>0.0</td>\n",
       "      <td>9.0</td>\n",
       "      <td>0.164285</td>\n",
       "      <td>0.0</td>\n",
       "      <td>0.0</td>\n",
       "      <td>0.000000</td>\n",
       "      <td>[]</td>\n",
       "      <td>0</td>\n",
       "    </tr>\n",
       "    <tr>\n",
       "      <th>4</th>\n",
       "      <td>2597756</td>\n",
       "      <td>2</td>\n",
       "      <td>11.0</td>\n",
       "      <td>7.611194e+11</td>\n",
       "      <td>0.0</td>\n",
       "      <td>0.0</td>\n",
       "      <td>0.0</td>\n",
       "      <td>0.0</td>\n",
       "      <td>22.0</td>\n",
       "      <td>0.155202</td>\n",
       "      <td>0.0</td>\n",
       "      <td>0.0</td>\n",
       "      <td>0.000000</td>\n",
       "      <td>[]</td>\n",
       "      <td>0</td>\n",
       "    </tr>\n",
       "  </tbody>\n",
       "</table>\n",
       "</div>"
      ],
      "text/plain": [
       "   photo_id  exposure_num  duration_time          time  clicked_num  \\\n",
       "0   6484142            13           11.0  7.610366e+11          5.0   \n",
       "1   4647664             2           11.0  7.610355e+11          1.0   \n",
       "2   4994626            34           10.0  7.610369e+11          9.0   \n",
       "3   4416881             1            9.0  7.611192e+11          0.0   \n",
       "4   2597756             2           11.0  7.611194e+11          0.0   \n",
       "\n",
       "   liked_num  followed_num  played_sum  duration_sum  clicked_ratio  \\\n",
       "0        0.0           0.0        34.0         143.0       0.268404   \n",
       "1        0.0           0.0        12.0          22.0       0.210489   \n",
       "2        0.0           0.0        72.0         340.0       0.235732   \n",
       "3        0.0           0.0         0.0           9.0       0.164285   \n",
       "4        0.0           0.0         0.0          22.0       0.155202   \n",
       "\n",
       "   liked_ratio  followed_ratio  played_ratio  \\\n",
       "0          0.0             0.0      0.237762   \n",
       "1          0.0             0.0      0.545455   \n",
       "2          0.0             0.0      0.211765   \n",
       "3          0.0             0.0      0.000000   \n",
       "4          0.0             0.0      0.000000   \n",
       "\n",
       "                              cover_words  cover_length  \n",
       "0                               [229, 56]             2  \n",
       "1  [17874, 14, 73, 29, 143, 1117, 14, 93]             8  \n",
       "2                   [87420, 30620, 15258]             3  \n",
       "3                                      []             0  \n",
       "4                                      []             0  "
      ]
     },
     "execution_count": 209,
     "metadata": {},
     "output_type": "execute_result"
    }
   ],
   "source": [
    "photo_data.head()"
   ]
  },
  {
   "cell_type": "code",
   "execution_count": 210,
   "metadata": {},
   "outputs": [
    {
     "data": {
      "text/plain": [
       "(5733, 15)"
      ]
     },
     "execution_count": 210,
     "metadata": {},
     "output_type": "execute_result"
    }
   ],
   "source": [
    "photo_data[photo_data['cover_length']>30].shape"
   ]
  },
  {
   "cell_type": "code",
   "execution_count": 75,
   "metadata": {},
   "outputs": [
    {
     "data": {
      "image/png": "[encoded data removed]",
      "text/plain": [
       "<matplotlib.figure.Figure at 0x1aa0f2610>"
      ]
     },
     "metadata": {},
     "output_type": "display_data"
    }
   ],
   "source": [
    "plot_data_cut(photo_data, 'cover_length', 100)"
   ]
  },
  {
   "cell_type": "code",
   "execution_count": 76,
   "metadata": {},
   "outputs": [],
   "source": [
    "user_item_train = pd.merge(user_item_train, photo_data,\n",
    "                              how='left',\n",
    "                              on=['photo_id'])"
   ]
  },
  {
   "cell_type": "code",
   "execution_count": 77,
   "metadata": {},
   "outputs": [],
   "source": [
    "# 用户点击视频中对人脸和颜值以及年龄的偏好，以后考虑离散化\n",
    "favor_cols = ['cover_length']\n",
    "favors = user_item_train.loc[user_item_train['click']==1, favor_cols+['user_id']]\n",
    "\n",
    "# 文本平均长度作为偏爱率\n",
    "favors['cover_length_favor'] = favors['cover_length'].groupby(favors['user_id']).transform('mean')\n",
    "\n",
    "favors.drop_duplicates(['user_id'], inplace=True)\n",
    "favors.drop(favor_cols, axis=1, inplace=True)\n",
    "favors.reset_index(drop=True, inplace=True)\n"
   ]
  },
  {
   "cell_type": "code",
   "execution_count": null,
   "metadata": {},
   "outputs": [],
   "source": [
    "def cover_length_favor_discretization(num):\n",
    "    if num == 0:\n",
    "        return 0\n",
    "    elif 0 < num <= 3:\n",
    "        return 1\n",
    "    elif 3 < num <= 10:\n",
    "        return 2\n",
    "    else:\n",
    "        return 3"
   ]
  },
  {
   "cell_type": "code",
   "execution_count": 82,
   "metadata": {},
   "outputs": [
    {
     "data": {
      "image/png": "[encoded data removed]",
      "text/plain": [
       "<matplotlib.figure.Figure at 0x1aa23fdd0>"
      ]
     },
     "metadata": {},
     "output_type": "display_data"
    }
   ],
   "source": [
    "plot_data_cut(favors, 'cover_length_favor', 10)"
   ]
  },
  {
   "cell_type": "code",
   "execution_count": 89,
   "metadata": {},
   "outputs": [
    {
     "name": "stdout",
     "output_type": "stream",
     "text": [
      "(2.8072236088257325, 13.280311727786964)\n"
     ]
    }
   ],
   "source": [
    "bs = BayesianSmoothing(1, 1)\n",
    "I, C = items['exposure_num'].values, items['clicked_num'].values\n",
    "bs.update(I, C, 1000, 0.0000000001)\n",
    "print(bs.alpha, bs.beta)\n",
    "alpha, beta = bs.alpha, bs.beta\n",
    "ctr = []\n",
    "for i in range(len(I)):\n",
    "    ctr.append((C[i]+alpha)/(I[i]+alpha+beta))\n",
    "items['smooth_clicked_ratio'] = ctr"
   ]
  },
  {
   "cell_type": "code",
   "execution_count": 92,
   "metadata": {},
   "outputs": [
    {
     "data": {
      "text/plain": [
       "0.175"
      ]
     },
     "execution_count": 92,
     "metadata": {},
     "output_type": "execute_result"
    }
   ],
   "source": [
    "2.8/(2.8+13.2)"
   ]
  },
  {
   "cell_type": "code",
   "execution_count": null,
   "metadata": {},
   "outputs": [],
   "source": []
  }
 ],
 "metadata": {
  "kernelspec": {
   "display_name": "Python 2",
   "language": "python",
   "name": "python2"
  },
  "language_info": {
   "codemirror_mode": {
    "name": "ipython",
    "version": 2
   },
   "file_extension": ".py",
   "mimetype": "text/x-python",
   "name": "python",
   "nbconvert_exporter": "python",
   "pygments_lexer": "ipython2",
   "version": "2.7.10"
  }
 },
 "nbformat": 4,
 "nbformat_minor": 2
}
