{
 "cells": [
  {
   "cell_type": "code",
   "execution_count": 1,
   "metadata": {},
   "outputs": [],
   "source": [
    "import os\n",
    "import pandas as pd\n",
    "import numpy as np\n",
    "import matplotlib.pyplot as plt\n",
    "import seaborn as sns\n",
    "%matplotlib inline\n",
    "p = sns.color_palette()\n",
    "\n",
    "USE_SAMPLE = False\n",
    "TRAIN_FACE = './sample/train_face.txt' if USE_SAMPLE else './data/train_face.txt'\n",
    "TRAIN_USER_INTERACT = './sample/train_interaction.txt' if USE_SAMPLE else './data/train_interaction.txt'\n",
    "TRAIN_TEXT = './sample/train_text.txt' if USE_SAMPLE else './data/train_text.txt'\n",
    "TEST_FACE = './sample/test_face.txt' if USE_SAMPLE else './data/test_face.txt'\n",
    "TEST_INTERACT = './sample/test_interaction.txt' if USE_SAMPLE else './data/test_interaction.txt'\n",
    "TEST_TEXT = './sample/test_text.txt' if USE_SAMPLE else './data/test_text.txt'\n",
    "col_feature_store_path = './sample/features/columns' if USE_SAMPLE else './data/features/columns'"
   ]
  },
  {
   "cell_type": "code",
   "execution_count": 2,
   "metadata": {},
   "outputs": [],
   "source": [
    "face_train = pd.read_csv(TRAIN_FACE, \n",
    "                        sep='\\t', \n",
    "                        header=None, \n",
    "                        names=['photo_id', 'faces'])"
   ]
  },
  {
   "cell_type": "code",
   "execution_count": 3,
   "metadata": {},
   "outputs": [],
   "source": [
    "user_item_train = pd.read_csv(TRAIN_USER_INTERACT, \n",
    "                             sep='\\t', \n",
    "                             header=None, \n",
    "                             names=['user_id', 'photo_id', 'click', 'like', 'follow', 'time', 'playing_time', 'duration_time'])"
   ]
  },
  {
   "cell_type": "code",
   "execution_count": 4,
   "metadata": {},
   "outputs": [],
   "source": [
    "text_train = pd.read_csv(TRAIN_TEXT,\n",
    "                       sep='\\t',\n",
    "                       header=None,\n",
    "                       names=['photo_id', 'cover_words'])"
   ]
  },
  {
   "cell_type": "code",
   "execution_count": 5,
   "metadata": {},
   "outputs": [],
   "source": [
    "face_test = pd.read_csv(TEST_FACE, \n",
    "                        sep='\\t', \n",
    "                        header=None, \n",
    "                        names=['photo_id', 'faces'])"
   ]
  },
  {
   "cell_type": "code",
   "execution_count": 6,
   "metadata": {},
   "outputs": [],
   "source": [
    "user_item_test = pd.read_csv(TEST_INTERACT, \n",
    "                             sep='\\t', \n",
    "                             header=None, \n",
    "                             names=['user_id', 'photo_id', 'time', 'duration_time'])"
   ]
  },
  {
   "cell_type": "code",
   "execution_count": 7,
   "metadata": {},
   "outputs": [],
   "source": [
    "text_test = pd.read_csv(TEST_TEXT,\n",
    "                       sep='\\t',\n",
    "                       header=None,\n",
    "                       names=['photo_id', 'cover_words'])"
   ]
  },
  {
   "cell_type": "code",
   "execution_count": 8,
   "metadata": {},
   "outputs": [],
   "source": [
    "alpha = 2.5171267342473382\n",
    "beta = 7.087836849232511"
   ]
  },
  {
   "cell_type": "code",
   "execution_count": 9,
   "metadata": {},
   "outputs": [
    {
     "data": {
      "text/plain": [
       "0.2620652033055799"
      ]
     },
     "execution_count": 9,
     "metadata": {},
     "output_type": "execute_result"
    }
   ],
   "source": [
    "ctr = alpha/(alpha+beta)\n",
    "ctr"
   ]
  },
  {
   "cell_type": "markdown",
   "metadata": {},
   "source": [
    "# 图片被用户浏览数据分布"
   ]
  },
  {
   "cell_type": "code",
   "execution_count": 10,
   "metadata": {},
   "outputs": [
    {
     "data": {
      "text/plain": [
       "<matplotlib.text.Text at 0x109c606d0>"
      ]
     },
     "execution_count": 10,
     "metadata": {},
     "output_type": "execute_result"
    },
    {
     "data": {
      "image/png": "[encoded data removed]",
      "text/plain": [
       "<matplotlib.figure.Figure at 0x10e24fa10>"
      ]
     },
     "metadata": {},
     "output_type": "display_data"
    }
   ],
   "source": [
    "sizes_train = user_item_train.groupby('photo_id')['user_id'].count().value_counts()\n",
    "sizes_test = user_item_test.groupby('photo_id')['user_id'].count().value_counts()\n",
    "sizes_train = sizes_train / np.sum(sizes_train)\n",
    "sizes_test = sizes_test / np.sum(sizes_test)\n",
    "\n",
    "plt.figure(figsize=(12,4))\n",
    "sns.barplot(sizes_train.index, sizes_train.values, alpha=0.8, color=p[0], label='train')\n",
    "sns.barplot(sizes_test.index, sizes_test.values, alpha=0.6, color=p[1], label='test')\n",
    "plt.legend()\n",
    "plt.xlabel('Photo', fontsize=12)\n",
    "plt.ylabel('Number of users in each photo', fontsize=12)"
   ]
  },
  {
   "cell_type": "markdown",
   "metadata": {},
   "source": [
    "# 图片文本分类 \n",
    "由于文字数据集是全的，通过对图片文字描述的分类，可以挖掘图片的隐含语义信息，从而对图片进行分类，可以利用这些分类信息，完成图片id的编码\n"
   ]
  },
  {
   "cell_type": "code",
   "execution_count": 10,
   "metadata": {},
   "outputs": [
    {
     "name": "stdout",
     "output_type": "stream",
     "text": [
      "<class 'pandas.core.frame.DataFrame'>\n",
      "Int64Index: 5174532 entries, 0 to 895845\n",
      "Data columns (total 3 columns):\n",
      "photo_id        int64\n",
      "cover_words     object\n",
      "cover_length    int64\n",
      "dtypes: int64(2), object(1)\n",
      "memory usage: 157.9+ MB\n"
     ]
    }
   ],
   "source": [
    "text_data = pd.concat([text_train, text_test])\n",
    "\n",
    "text_data['photo_id'].nunique()\n",
    "def words_to_list(words):\n",
    "        if words == '0':\n",
    "            return []\n",
    "        else:\n",
    "            return words.split(',')\n",
    "        \n",
    "text_data['cover_words'] = text_data['cover_words'].apply(words_to_list)\n",
    "text_data['cover_length'] = text_data['cover_words'].apply(lambda words: len(words))\n",
    "\n",
    "text_data.info()\n",
    "\n"
   ]
  },
  {
   "cell_type": "code",
   "execution_count": 11,
   "metadata": {},
   "outputs": [
    {
     "data": {
      "text/html": [
       "<div>\n",
       "<style>\n",
       "    .dataframe thead tr:only-child th {\n",
       "        text-align: right;\n",
       "    }\n",
       "\n",
       "    .dataframe thead th {\n",
       "        text-align: left;\n",
       "    }\n",
       "\n",
       "    .dataframe tbody tr th {\n",
       "        vertical-align: top;\n",
       "    }\n",
       "</style>\n",
       "<table border=\"1\" class=\"dataframe\">\n",
       "  <thead>\n",
       "    <tr style=\"text-align: right;\">\n",
       "      <th></th>\n",
       "      <th>photo_id</th>\n",
       "      <th>cover_words</th>\n",
       "      <th>cover_length</th>\n",
       "    </tr>\n",
       "  </thead>\n",
       "  <tbody>\n",
       "    <tr>\n",
       "      <th>0</th>\n",
       "      <td>1711318</td>\n",
       "      <td>[1, 2, 3, 4, 5, 6, 7, 8, 9, 10, 11, 12, 13, 14...</td>\n",
       "      <td>196</td>\n",
       "    </tr>\n",
       "    <tr>\n",
       "      <th>1</th>\n",
       "      <td>2758458</td>\n",
       "      <td>[278, 279, 280, 281, 282, 24, 283, 284, 285, 2...</td>\n",
       "      <td>190</td>\n",
       "    </tr>\n",
       "    <tr>\n",
       "      <th>2</th>\n",
       "      <td>5314019</td>\n",
       "      <td>[359, 360, 361, 362, 363, 364, 365, 366, 33, 3...</td>\n",
       "      <td>210</td>\n",
       "    </tr>\n",
       "    <tr>\n",
       "      <th>3</th>\n",
       "      <td>5735948</td>\n",
       "      <td>[508, 509, 510, 511, 512, 508, 513, 514, 515, ...</td>\n",
       "      <td>154</td>\n",
       "    </tr>\n",
       "    <tr>\n",
       "      <th>4</th>\n",
       "      <td>3161504</td>\n",
       "      <td>[549, 74, 550, 14, 551, 551, 279, 552, 553, 55...</td>\n",
       "      <td>812</td>\n",
       "    </tr>\n",
       "    <tr>\n",
       "      <th>5</th>\n",
       "      <td>1457390</td>\n",
       "      <td>[0, 735, 164, 736, 76, 737, 738, 739, 0, 738, ...</td>\n",
       "      <td>48</td>\n",
       "    </tr>\n",
       "    <tr>\n",
       "      <th>6</th>\n",
       "      <td>55956</td>\n",
       "      <td>[8, 324, 93, 73, 491, 74, 93, 73, 14, 742, 12,...</td>\n",
       "      <td>190</td>\n",
       "    </tr>\n",
       "    <tr>\n",
       "      <th>7</th>\n",
       "      <td>1035274</td>\n",
       "      <td>[351, 789, 356, 33, 79, 61, 198, 790, 14, 791,...</td>\n",
       "      <td>154</td>\n",
       "    </tr>\n",
       "    <tr>\n",
       "      <th>8</th>\n",
       "      <td>2284079</td>\n",
       "      <td>[8, 324, 93, 73, 491, 74, 93, 73, 14, 742, 12,...</td>\n",
       "      <td>189</td>\n",
       "    </tr>\n",
       "    <tr>\n",
       "      <th>9</th>\n",
       "      <td>2228409</td>\n",
       "      <td>[8, 324, 93, 73, 491, 74, 93, 73, 14, 742, 12,...</td>\n",
       "      <td>189</td>\n",
       "    </tr>\n",
       "    <tr>\n",
       "      <th>10</th>\n",
       "      <td>3181379</td>\n",
       "      <td>[888, 889, 890, 0, 892, 8, 324, 93, 73, 491, 7...</td>\n",
       "      <td>192</td>\n",
       "    </tr>\n",
       "    <tr>\n",
       "      <th>11</th>\n",
       "      <td>6556740</td>\n",
       "      <td>[973, 9, 24, 217, 74, 339, 122, 875, 974, 29, ...</td>\n",
       "      <td>167</td>\n",
       "    </tr>\n",
       "    <tr>\n",
       "      <th>12</th>\n",
       "      <td>5990451</td>\n",
       "      <td>[1007, 1008, 1009, 1010, 1011, 297, 1012, 14, ...</td>\n",
       "      <td>164</td>\n",
       "    </tr>\n",
       "    <tr>\n",
       "      <th>13</th>\n",
       "      <td>6760416</td>\n",
       "      <td>[8, 324, 93, 73, 491, 74, 93, 73, 14, 742, 12,...</td>\n",
       "      <td>189</td>\n",
       "    </tr>\n",
       "    <tr>\n",
       "      <th>14</th>\n",
       "      <td>5752571</td>\n",
       "      <td>[1158, 1159, 1160, 1158, 1159, 1160, 1161, 116...</td>\n",
       "      <td>189</td>\n",
       "    </tr>\n",
       "    <tr>\n",
       "      <th>15</th>\n",
       "      <td>209</td>\n",
       "      <td>[592, 128, 1181, 1182, 144, 18, 0, 758, 14, 11...</td>\n",
       "      <td>50</td>\n",
       "    </tr>\n",
       "    <tr>\n",
       "      <th>16</th>\n",
       "      <td>190141</td>\n",
       "      <td>[1220, 326, 1221, 1222, 73, 14, 176, 1223, 122...</td>\n",
       "      <td>12</td>\n",
       "    </tr>\n",
       "    <tr>\n",
       "      <th>17</th>\n",
       "      <td>472721</td>\n",
       "      <td>[76, 1254, 128, 1255, 74, 534, 1256, 1257]</td>\n",
       "      <td>8</td>\n",
       "    </tr>\n",
       "    <tr>\n",
       "      <th>18</th>\n",
       "      <td>379262</td>\n",
       "      <td>[143, 722, 1258, 218, 143, 173, 1259, 143, 722...</td>\n",
       "      <td>38</td>\n",
       "    </tr>\n",
       "    <tr>\n",
       "      <th>19</th>\n",
       "      <td>379357</td>\n",
       "      <td>[1280, 1053, 1045, 1281, 867, 76, 1282, 633, 1...</td>\n",
       "      <td>45</td>\n",
       "    </tr>\n",
       "  </tbody>\n",
       "</table>\n",
       "</div>"
      ],
      "text/plain": [
       "    photo_id                                        cover_words  cover_length\n",
       "0    1711318  [1, 2, 3, 4, 5, 6, 7, 8, 9, 10, 11, 12, 13, 14...           196\n",
       "1    2758458  [278, 279, 280, 281, 282, 24, 283, 284, 285, 2...           190\n",
       "2    5314019  [359, 360, 361, 362, 363, 364, 365, 366, 33, 3...           210\n",
       "3    5735948  [508, 509, 510, 511, 512, 508, 513, 514, 515, ...           154\n",
       "4    3161504  [549, 74, 550, 14, 551, 551, 279, 552, 553, 55...           812\n",
       "5    1457390  [0, 735, 164, 736, 76, 737, 738, 739, 0, 738, ...            48\n",
       "6      55956  [8, 324, 93, 73, 491, 74, 93, 73, 14, 742, 12,...           190\n",
       "7    1035274  [351, 789, 356, 33, 79, 61, 198, 790, 14, 791,...           154\n",
       "8    2284079  [8, 324, 93, 73, 491, 74, 93, 73, 14, 742, 12,...           189\n",
       "9    2228409  [8, 324, 93, 73, 491, 74, 93, 73, 14, 742, 12,...           189\n",
       "10   3181379  [888, 889, 890, 0, 892, 8, 324, 93, 73, 491, 7...           192\n",
       "11   6556740  [973, 9, 24, 217, 74, 339, 122, 875, 974, 29, ...           167\n",
       "12   5990451  [1007, 1008, 1009, 1010, 1011, 297, 1012, 14, ...           164\n",
       "13   6760416  [8, 324, 93, 73, 491, 74, 93, 73, 14, 742, 12,...           189\n",
       "14   5752571  [1158, 1159, 1160, 1158, 1159, 1160, 1161, 116...           189\n",
       "15       209  [592, 128, 1181, 1182, 144, 18, 0, 758, 14, 11...            50\n",
       "16    190141  [1220, 326, 1221, 1222, 73, 14, 176, 1223, 122...            12\n",
       "17    472721         [76, 1254, 128, 1255, 74, 534, 1256, 1257]             8\n",
       "18    379262  [143, 722, 1258, 218, 143, 173, 1259, 143, 722...            38\n",
       "19    379357  [1280, 1053, 1045, 1281, 867, 76, 1282, 633, 1...            45"
      ]
     },
     "execution_count": 11,
     "metadata": {},
     "output_type": "execute_result"
    }
   ],
   "source": [
    "text_data.head(20)"
   ]
  },
  {
   "cell_type": "code",
   "execution_count": 12,
   "metadata": {},
   "outputs": [
    {
     "data": {
      "text/html": [
       "<div>\n",
       "<style>\n",
       "    .dataframe thead tr:only-child th {\n",
       "        text-align: right;\n",
       "    }\n",
       "\n",
       "    .dataframe thead th {\n",
       "        text-align: left;\n",
       "    }\n",
       "\n",
       "    .dataframe tbody tr th {\n",
       "        vertical-align: top;\n",
       "    }\n",
       "</style>\n",
       "<table border=\"1\" class=\"dataframe\">\n",
       "  <thead>\n",
       "    <tr style=\"text-align: right;\">\n",
       "      <th></th>\n",
       "      <th>photo_id</th>\n",
       "      <th>cover_words</th>\n",
       "      <th>cover_length</th>\n",
       "    </tr>\n",
       "  </thead>\n",
       "  <tbody>\n",
       "  </tbody>\n",
       "</table>\n",
       "</div>"
      ],
      "text/plain": [
       "Empty DataFrame\n",
       "Columns: [photo_id, cover_words, cover_length]\n",
       "Index: []"
      ]
     },
     "execution_count": 12,
     "metadata": {},
     "output_type": "execute_result"
    }
   ],
   "source": [
    "text_data[(text_data['cover_length']==1) & (text_data['cover_words'] is [0])]"
   ]
  },
  {
   "cell_type": "code",
   "execution_count": 13,
   "metadata": {},
   "outputs": [],
   "source": [
    "no_text_photo_ids = list(text_data[text_data['cover_length']==0]['photo_id'].unique())"
   ]
  },
  {
   "cell_type": "code",
   "execution_count": 14,
   "metadata": {},
   "outputs": [
    {
     "data": {
      "text/plain": [
       "2641712"
      ]
     },
     "execution_count": 14,
     "metadata": {},
     "output_type": "execute_result"
    }
   ],
   "source": [
    "len(no_text_photo_ids)"
   ]
  },
  {
   "cell_type": "code",
   "execution_count": 23,
   "metadata": {},
   "outputs": [],
   "source": [
    "text_photo_ids = list(text_data[text_data['cover_length']>0]['photo_id'].unique())"
   ]
  },
  {
   "cell_type": "code",
   "execution_count": 24,
   "metadata": {},
   "outputs": [
    {
     "data": {
      "text/plain": [
       "2532820"
      ]
     },
     "execution_count": 24,
     "metadata": {},
     "output_type": "execute_result"
    }
   ],
   "source": [
    "len(text_photo_ids)"
   ]
  },
  {
   "cell_type": "code",
   "execution_count": 49,
   "metadata": {},
   "outputs": [],
   "source": [
    "text_train = text_data.iloc[:text_train.shape[0]]\n",
    "text_test = text_data.iloc[text_train.shape[0]:]\n",
    "text_train_photo_ids = list(text_train[text_train['cover_length']>0]['photo_id'].unique())\n",
    "text_test_photo_ids = list(text_test['photo_id'].unique())\n",
    "no_text_train_photo_ids = list(text_train[text_train['cover_length']==0]['photo_id'].unique())\n",
    "no_text_test_photo_ids = list(text_test[text_test['cover_length']==0]['photo_id'].unique())"
   ]
  },
  {
   "cell_type": "code",
   "execution_count": 54,
   "metadata": {},
   "outputs": [
    {
     "data": {
      "text/plain": [
       "4278686"
      ]
     },
     "execution_count": 54,
     "metadata": {},
     "output_type": "execute_result"
    }
   ],
   "source": [
    "interaction_train_photo_ids = list(user_item_train['photo_id'].unique())\n",
    "user_item_train['photo_id'].nunique()"
   ]
  },
  {
   "cell_type": "code",
   "execution_count": 55,
   "metadata": {},
   "outputs": [
    {
     "data": {
      "text/plain": [
       "895846"
      ]
     },
     "execution_count": 55,
     "metadata": {},
     "output_type": "execute_result"
    }
   ],
   "source": [
    "interaction_test_photo_ids = list(user_item_test['photo_id'].unique())\n",
    "user_item_test['photo_id'].nunique()"
   ]
  },
  {
   "cell_type": "code",
   "execution_count": 39,
   "metadata": {},
   "outputs": [],
   "source": [
    "face_train_photo_ids = list(face_train['photo_id'].unique())\n",
    "face_test_photo_ids = list(face_test['photo_id'].unique())"
   ]
  },
  {
   "cell_type": "code",
   "execution_count": 40,
   "metadata": {},
   "outputs": [
    {
     "data": {
      "text/plain": [
       "5174532"
      ]
     },
     "execution_count": 40,
     "metadata": {},
     "output_type": "execute_result"
    }
   ],
   "source": [
    "interaction_photo_ids = set(interaction_train_photo_ids + interaction_test_photo_ids)\n",
    "len(interaction_photo_ids)"
   ]
  },
  {
   "cell_type": "code",
   "execution_count": 51,
   "metadata": {},
   "outputs": [
    {
     "data": {
      "text/plain": [
       "4278686"
      ]
     },
     "execution_count": 51,
     "metadata": {},
     "output_type": "execute_result"
    }
   ],
   "source": [
    "all_text_train_photo_ids = set(text_train_photo_ids + no_text_train_photo_ids)\n",
    "len(all_text_train_photo_ids)"
   ]
  },
  {
   "cell_type": "code",
   "execution_count": 53,
   "metadata": {},
   "outputs": [
    {
     "data": {
      "text/plain": [
       "895846"
      ]
     },
     "execution_count": 53,
     "metadata": {},
     "output_type": "execute_result"
    }
   ],
   "source": [
    "all_text_test_photo_ids = set(text_test_photo_ids + no_text_test_photo_ids)\n",
    "len(all_text_test_photo_ids)"
   ]
  },
  {
   "cell_type": "code",
   "execution_count": 41,
   "metadata": {},
   "outputs": [
    {
     "data": {
      "image/png": "[encoded data removed]",
      "text/plain": [
       "<matplotlib.figure.Figure at 0x109531a50>"
      ]
     },
     "metadata": {},
     "output_type": "display_data"
    }
   ],
   "source": [
    "import matplotlib.pyplot as plt\n",
    "from matplotlib_venn import venn2\n",
    "plt.figure(figsize=(4, 4))\n",
    "venn2([set(interaction_train_photo_ids), set(text_train_photo_ids)], ['interaction_train_photo_ids', 'text_train_photo_ids'])\n",
    "plt.show()"
   ]
  },
  {
   "cell_type": "code",
   "execution_count": 43,
   "metadata": {},
   "outputs": [
    {
     "data": {
      "image/png": "[encoded data removed]",
      "text/plain": [
       "<matplotlib.figure.Figure at 0x11cbced50>"
      ]
     },
     "metadata": {},
     "output_type": "display_data"
    }
   ],
   "source": [
    "import matplotlib.pyplot as plt\n",
    "from matplotlib_venn import venn2\n",
    "plt.figure(figsize=(4, 4))\n",
    "venn2([set(interaction_train_photo_ids), set(face_train_photo_ids)], ['interaction_train_photo_ids', 'face_train_photo_ids'])\n",
    "plt.show()"
   ]
  },
  {
   "cell_type": "code",
   "execution_count": 42,
   "metadata": {},
   "outputs": [
    {
     "data": {
      "image/png": "[encoded data removed]",
      "text/plain": [
       "<matplotlib.figure.Figure at 0x11cc13ed0>"
      ]
     },
     "metadata": {},
     "output_type": "display_data"
    }
   ],
   "source": [
    "import matplotlib.pyplot as plt\n",
    "from matplotlib_venn import venn2\n",
    "plt.figure(figsize=(4, 4))\n",
    "venn2([set(face_train_photo_ids), set(text_train_photo_ids)], ['face_train_photo_ids', 'text_train_photo_ids'])\n",
    "plt.show()"
   ]
  },
  {
   "cell_type": "markdown",
   "metadata": {},
   "source": [
    "上面三个图是关于线下数据的，并不是所有的线下数据集图片都有文本描述，线上数据的文本，人脸都只有部分图片有，然后带人脸和文本的也只有部分交叉，但是大部分带人脸的都有文本描述，888612 幅图带人脸的有724523有文本描述。而在线上数据集，所有带人脸的图片都有文本描述，且所有图片都有文本描述。"
   ]
  },
  {
   "cell_type": "code",
   "execution_count": 47,
   "metadata": {},
   "outputs": [
    {
     "data": {
      "image/png": "[encoded data removed]",
      "text/plain": [
       "<matplotlib.figure.Figure at 0x188fc0f10>"
      ]
     },
     "metadata": {},
     "output_type": "display_data"
    }
   ],
   "source": [
    "import matplotlib.pyplot as plt\n",
    "from matplotlib_venn import venn2\n",
    "plt.figure(figsize=(4, 4))\n",
    "venn2([set(interaction_test_photo_ids), set(face_test_photo_ids)], ['interaction_test_photo_ids', 'face_test_photo_ids'])\n",
    "plt.show()"
   ]
  },
  {
   "cell_type": "code",
   "execution_count": 45,
   "metadata": {},
   "outputs": [
    {
     "data": {
      "image/png": "[encoded data removed]",
      "text/plain": [
       "<matplotlib.figure.Figure at 0x10b0157d0>"
      ]
     },
     "metadata": {},
     "output_type": "display_data"
    }
   ],
   "source": [
    "import matplotlib.pyplot as plt\n",
    "from matplotlib_venn import venn2\n",
    "plt.figure(figsize=(4, 4))\n",
    "venn2([set(interaction_test_photo_ids), set(text_test_photo_ids)], ['interaction_test_photo_ids', 'text_test_photo_ids'])\n",
    "plt.show()"
   ]
  },
  {
   "cell_type": "code",
   "execution_count": 48,
   "metadata": {},
   "outputs": [
    {
     "data": {
      "image/png": "[encoded data removed]",
      "text/plain": [
       "<matplotlib.figure.Figure at 0x11cc13b50>"
      ]
     },
     "metadata": {},
     "output_type": "display_data"
    }
   ],
   "source": [
    "import matplotlib.pyplot as plt\n",
    "from matplotlib_venn import venn2\n",
    "plt.figure(figsize=(4, 4))\n",
    "venn2([set(text_test_photo_ids), set(face_test_photo_ids)], ['text_test_photo_ids', 'face_test_photo_ids'])\n",
    "plt.show()"
   ]
  },
  {
   "cell_type": "markdown",
   "metadata": {},
   "source": [
    "上面三个图可以看到，所有的线上数据都包含文本描述，部分包含人脸，即在线上数据中所有包含人脸的数据都是有文本描述的"
   ]
  },
  {
   "cell_type": "markdown",
   "metadata": {},
   "source": [
    "## 图片文本分类模型\n",
    "对于图片的文本数据，我们可以通过不同的模型学习和分类图片，首先由文档有两类表示方法，tfidf 和 word2vec/doc2vec, 然后我们可以采用不同的模型进行聚类（隐含语义分类）或者做分类（二分01点击），可以使用K-means,LDA等进行聚类，也可以用 SVM/LR/GBDT等进行分类，最后尝试LSTM深度学习。\n",
    "\n",
    "### 模型输入数据表征\n",
    "#### word2vec"
   ]
  },
  {
   "cell_type": "code",
   "execution_count": 11,
   "metadata": {},
   "outputs": [
    {
     "name": "stdout",
     "output_type": "stream",
     "text": [
      "Training model...\n"
     ]
    }
   ],
   "source": [
    "num_features = 128\n",
    "min_word_count = 40\n",
    "num_workers = 4\n",
    "context = 6\n",
    "downsampling = 1e-3\n",
    "\n",
    "from gensim.models import word2vec\n",
    "import os\n",
    "model = None\n",
    "model_name = \"%dfeatures_%dminwords_%dcontext.model\" % (num_features, min_word_count, context)\n",
    "model_name = model_name + \".sample\" if USE_SAMPLE else model_name\n",
    "if not os.path.exists(model_name):\n",
    "    print \"Training model...\"\n",
    "    model = word2vec.Word2Vec(text_data.cover_words,\n",
    "                              workers=num_workers,\n",
    "                              size=num_features,\n",
    "                              min_count = min_word_count,\n",
    "                              window = context,\n",
    "                              sample = downsampling)\n",
    "    model.init_sims(replace=True)\n",
    "    model.save(model_name)\n",
    "\n",
    "model = word2vec.Word2Vec.load(model_name)"
   ]
  },
  {
   "cell_type": "code",
   "execution_count": 20,
   "metadata": {},
   "outputs": [
    {
     "name": "stderr",
     "output_type": "stream",
     "text": [
      "/Library/Python/2.7/site-packages/ipykernel_launcher.py:1: DeprecationWarning: Call to deprecated `most_similar` (Method will be removed in 4.0.0, use self.wv.most_similar() instead).\n",
      "  \"\"\"Entry point for launching an IPython kernel.\n"
     ]
    },
    {
     "data": {
      "text/plain": [
       "[('1828', 0.602296769618988),\n",
       " ('1526', 0.5761873722076416),\n",
       " ('3390', 0.572670042514801),\n",
       " ('1516', 0.5605823993682861),\n",
       " ('3392', 0.5523289442062378),\n",
       " ('3178', 0.5438832640647888),\n",
       " ('4895', 0.5339459180831909),\n",
       " ('1908', 0.525124192237854),\n",
       " ('10702', 0.5236855745315552),\n",
       " ('3378', 0.5225512981414795)]"
      ]
     },
     "execution_count": 20,
     "metadata": {},
     "output_type": "execute_result"
    }
   ],
   "source": [
    "model.most_similar(\"0\")"
   ]
  },
  {
   "cell_type": "code",
   "execution_count": 13,
   "metadata": {},
   "outputs": [
    {
     "name": "stdout",
     "output_type": "stream",
     "text": [
      "1337176\n",
      "8005\n"
     ]
    }
   ],
   "source": [
    "print(model.corpus_count)\n",
    "print(len(set(model.wv.index2word)))"
   ]
  },
  {
   "cell_type": "markdown",
   "metadata": {},
   "source": [
    "#### doc2vec"
   ]
  },
  {
   "cell_type": "code",
   "execution_count": 14,
   "metadata": {},
   "outputs": [],
   "source": [
    "import numpy as np  # Make sure that numpy is imported\n",
    "\n",
    "def makeFeatureVec(model, num_features, words):\n",
    "    featureVec = np.zeros((num_features,),dtype=\"float64\")\n",
    "    nwords = 0\n",
    "    # set for fast query\n",
    "    index2word_set = set(model.wv.index2word)\n",
    "    for word in words:\n",
    "        if word in index2word_set: \n",
    "            nwords = nwords + 1\n",
    "            featureVec = np.add(featureVec,model[word])\n",
    "    # Divide the result by the number of words to get the average\n",
    "    featureVec = np.divide(featureVec,nwords*1.0)\n",
    "    return featureVec\n",
    "\n",
    "\n",
    "def getAvgFeatureVecs(covers, model, num_features):\n",
    "    counter = 0\n",
    "    reviewFeatureVecs = np.zeros((len(covers),num_features),dtype=\"float64\")\n",
    "    for cover in covers:\n",
    "        if counter%100000 == 0:\n",
    "            print \"Cover %d of %d\" % (counter, len(covers))\n",
    "        # Call the function (defined above) that makes average feature vectors\n",
    "        reviewFeatureVecs[counter] = makeFeatureVec(cover, model, \\\n",
    "           num_features)\n",
    "        # Increment the counter\n",
    "        counter = counter + 1\n",
    "    return reviewFeatureVecs"
   ]
  },
  {
   "cell_type": "code",
   "execution_count": 15,
   "metadata": {},
   "outputs": [
    {
     "name": "stderr",
     "output_type": "stream",
     "text": [
      "/Library/Python/2.7/site-packages/ipykernel_launcher.py:11: DeprecationWarning: Call to deprecated `__getitem__` (Method will be removed in 4.0.0, use self.wv.__getitem__() instead).\n",
      "  # This is added back by InteractiveShellApp.init_path()\n"
     ]
    }
   ],
   "source": [
    "import functools\n",
    "doc2vec = functools.partial(makeFeatureVec, model, num_features)\n",
    "text_data['doc_vec'] = text_data['cover_words'].apply(doc2vec)"
   ]
  },
  {
   "cell_type": "code",
   "execution_count": 22,
   "metadata": {},
   "outputs": [
    {
     "data": {
      "text/html": [
       "<div>\n",
       "<style>\n",
       "    .dataframe thead tr:only-child th {\n",
       "        text-align: right;\n",
       "    }\n",
       "\n",
       "    .dataframe thead th {\n",
       "        text-align: left;\n",
       "    }\n",
       "\n",
       "    .dataframe tbody tr th {\n",
       "        vertical-align: top;\n",
       "    }\n",
       "</style>\n",
       "<table border=\"1\" class=\"dataframe\">\n",
       "  <thead>\n",
       "    <tr style=\"text-align: right;\">\n",
       "      <th></th>\n",
       "      <th>photo_id</th>\n",
       "      <th>cover_words</th>\n",
       "      <th>cover_length</th>\n",
       "      <th>doc_vec</th>\n",
       "    </tr>\n",
       "  </thead>\n",
       "  <tbody>\n",
       "    <tr>\n",
       "      <th>0</th>\n",
       "      <td>5735948</td>\n",
       "      <td>[508, 509, 510, 511, 512, 508, 513, 514, 515, ...</td>\n",
       "      <td>154</td>\n",
       "      <td>[-0.025878702781887516, -0.047330769046244246,...</td>\n",
       "    </tr>\n",
       "    <tr>\n",
       "      <th>1</th>\n",
       "      <td>1035274</td>\n",
       "      <td>[351, 789, 356, 33, 79, 61, 198, 790, 14, 791,...</td>\n",
       "      <td>154</td>\n",
       "      <td>[-0.017359135672450066, -0.0212560188619123, -...</td>\n",
       "    </tr>\n",
       "    <tr>\n",
       "      <th>2</th>\n",
       "      <td>5752571</td>\n",
       "      <td>[1158, 1159, 1160, 1158, 1159, 1160, 1161, 116...</td>\n",
       "      <td>189</td>\n",
       "      <td>[-0.01641334203929551, -0.009614278170369608, ...</td>\n",
       "    </tr>\n",
       "    <tr>\n",
       "      <th>3</th>\n",
       "      <td>473617</td>\n",
       "      <td>[1294, 173, 1295, 1296, 14, 1297, 150, 1298, 1...</td>\n",
       "      <td>35</td>\n",
       "      <td>[0.0024094040409716614, 0.019040408003253535, ...</td>\n",
       "    </tr>\n",
       "    <tr>\n",
       "      <th>4</th>\n",
       "      <td>1040170</td>\n",
       "      <td>[1474, 1475, 1476, 1477, 1478, 1479, 1480, 148...</td>\n",
       "      <td>18</td>\n",
       "      <td>[-0.00876109438416149, 0.0368937700654247, 0.0...</td>\n",
       "    </tr>\n",
       "  </tbody>\n",
       "</table>\n",
       "</div>"
      ],
      "text/plain": [
       "   photo_id                                        cover_words  cover_length  \\\n",
       "0   5735948  [508, 509, 510, 511, 512, 508, 513, 514, 515, ...           154   \n",
       "1   1035274  [351, 789, 356, 33, 79, 61, 198, 790, 14, 791,...           154   \n",
       "2   5752571  [1158, 1159, 1160, 1158, 1159, 1160, 1161, 116...           189   \n",
       "3    473617  [1294, 173, 1295, 1296, 14, 1297, 150, 1298, 1...            35   \n",
       "4   1040170  [1474, 1475, 1476, 1477, 1478, 1479, 1480, 148...            18   \n",
       "\n",
       "                                             doc_vec  \n",
       "0  [-0.025878702781887516, -0.047330769046244246,...  \n",
       "1  [-0.017359135672450066, -0.0212560188619123, -...  \n",
       "2  [-0.01641334203929551, -0.009614278170369608, ...  \n",
       "3  [0.0024094040409716614, 0.019040408003253535, ...  \n",
       "4  [-0.00876109438416149, 0.0368937700654247, 0.0...  "
      ]
     },
     "execution_count": 22,
     "metadata": {},
     "output_type": "execute_result"
    }
   ],
   "source": [
    "text_data.head()"
   ]
  },
  {
   "cell_type": "code",
   "execution_count": 23,
   "metadata": {
    "collapsed": true
   },
   "outputs": [],
   "source": [
    "f = 'text_data_docvec'\n",
    "f = f + '.sample.csv' if USE_SAMPLE else f + '.csv'\n",
    "text_data['doc_vec'].to_csv(f)"
   ]
  },
  {
   "cell_type": "markdown",
   "metadata": {},
   "source": [
    "另一种方法是先使用Kmeans对所有的单词做聚类，这可以看成无监督学习出来隐含空间的文本特征属性，每一个类代表一个维度的特征，然后统计一个文本中的单词都属于哪些类的词频作为对应维度的特征值，构成一个DocVector；\n",
    "\n",
    "这里对文本进行分类可以直接采用得到的Doc2Vec对文本进行聚类，聚类之后，每一个photo就具有类别属性，可以对photo进行编码。\n",
    "\n",
    "前面的是直接将词向量简单的做平均来构造一个文档的向量DocVector, 当然也可以乘以tf-idf权重。\n"
   ]
  },
  {
   "cell_type": "code",
   "execution_count": null,
   "metadata": {
    "collapsed": true
   },
   "outputs": [],
   "source": [
    "USER_FEATURE_TRAIN_FILE = 'user_feature_train'\n",
    "USER_FEATURE_TRAIN_FILE = USER_FEATURE_TRAIN_FILE + '_sample.csv' if USE_SAMPLE else USER_FEATURE_TRAIN_FILE + '.csv'\n",
    "user_item_train = pd.read_csv(USER_FEATURE_TRAIN_FILE, sep='\\t')\n",
    "\n",
    "USER_FEATURE_TEST_FILE = 'user_feature_test'\n",
    "USER_FEATURE_TEST_FILE = USER_FEATURE_TEST_FILE + '_sample.csv' if USE_SAMPLE else USER_FEATURE_TEST_FILE + '.csv'\n",
    "user_item_test = pd.read_csv(USER_FEATURE_TEST_FILE, sep='\\t')"
   ]
  },
  {
   "cell_type": "code",
   "execution_count": 23,
   "metadata": {},
   "outputs": [
    {
     "data": {
      "text/html": [
       "<div>\n",
       "<style>\n",
       "    .dataframe thead tr:only-child th {\n",
       "        text-align: right;\n",
       "    }\n",
       "\n",
       "    .dataframe thead th {\n",
       "        text-align: left;\n",
       "    }\n",
       "\n",
       "    .dataframe tbody tr th {\n",
       "        vertical-align: top;\n",
       "    }\n",
       "</style>\n",
       "<table border=\"1\" class=\"dataframe\">\n",
       "  <thead>\n",
       "    <tr style=\"text-align: right;\">\n",
       "      <th></th>\n",
       "      <th>photo_id</th>\n",
       "      <th>cover_words</th>\n",
       "      <th>cover_length</th>\n",
       "    </tr>\n",
       "  </thead>\n",
       "  <tbody>\n",
       "    <tr>\n",
       "      <th>0</th>\n",
       "      <td>5735948</td>\n",
       "      <td>[508, 509, 510, 511, 512, 508, 513, 514, 515, ...</td>\n",
       "      <td>154</td>\n",
       "    </tr>\n",
       "    <tr>\n",
       "      <th>1</th>\n",
       "      <td>1035274</td>\n",
       "      <td>[351, 789, 356, 33, 79, 61, 198, 790, 14, 791,...</td>\n",
       "      <td>154</td>\n",
       "    </tr>\n",
       "    <tr>\n",
       "      <th>2</th>\n",
       "      <td>5752571</td>\n",
       "      <td>[1158, 1159, 1160, 1158, 1159, 1160, 1161, 116...</td>\n",
       "      <td>189</td>\n",
       "    </tr>\n",
       "    <tr>\n",
       "      <th>3</th>\n",
       "      <td>473617</td>\n",
       "      <td>[1294, 173, 1295, 1296, 14, 1297, 150, 1298, 1...</td>\n",
       "      <td>35</td>\n",
       "    </tr>\n",
       "    <tr>\n",
       "      <th>4</th>\n",
       "      <td>1040170</td>\n",
       "      <td>[1474, 1475, 1476, 1477, 1478, 1479, 1480, 148...</td>\n",
       "      <td>18</td>\n",
       "    </tr>\n",
       "  </tbody>\n",
       "</table>\n",
       "</div>"
      ],
      "text/plain": [
       "   photo_id                                        cover_words  cover_length\n",
       "0   5735948  [508, 509, 510, 511, 512, 508, 513, 514, 515, ...           154\n",
       "1   1035274  [351, 789, 356, 33, 79, 61, 198, 790, 14, 791,...           154\n",
       "2   5752571  [1158, 1159, 1160, 1158, 1159, 1160, 1161, 116...           189\n",
       "3    473617  [1294, 173, 1295, 1296, 14, 1297, 150, 1298, 1...            35\n",
       "4   1040170  [1474, 1475, 1476, 1477, 1478, 1479, 1480, 148...            18"
      ]
     },
     "execution_count": 23,
     "metadata": {},
     "output_type": "execute_result"
    }
   ],
   "source": [
    "text_data.head()"
   ]
  },
  {
   "cell_type": "code",
   "execution_count": 24,
   "metadata": {},
   "outputs": [
    {
     "data": {
      "text/plain": [
       "(1337176, 3)"
      ]
     },
     "execution_count": 24,
     "metadata": {},
     "output_type": "execute_result"
    }
   ],
   "source": [
    "text_data.shape"
   ]
  },
  {
   "cell_type": "code",
   "execution_count": 25,
   "metadata": {},
   "outputs": [
    {
     "name": "stdout",
     "output_type": "stream",
     "text": [
      "['508', '509', '510', '511', '512', '508', '513', '514', '515', '516', '517', '287', '14', '518', '508', '9', '519', '520', '510', '93', '521', '522', '508', '523', '524', '525', '526', '508', '193', '527', '528', '529', '530', '10', '508', '531', '511', '515', '532', '533', '522', '508', '509', '515', '74', '534', '535', '536', '508', '537', '510', '538', '508', '539', '540', '515', '516', '62', '541', '508', '542', '510', '543', '508', '544', '515', '74', '89', '545', '508', '254', '546', '547', '510', '546', '287', '548', '508', '509', '510', '511', '512', '508', '513', '514', '515', '516', '517', '287', '14', '518', '508', '9', '519', '520', '510', '93', '521', '522', '508', '523', '524', '525', '526', '508', '193', '527', '528', '529', '530', '10', '508', '531', '511', '515', '532', '533', '522', '508', '509', '515', '74', '534', '535', '536', '508', '537', '510', '538', '508', '539', '540', '515', '516', '62', '541', '508', '542', '510', '543', '508', '544', '515', '74', '89', '545', '508', '254', '546', '547', '510', '546', '287', '548']\n"
     ]
    }
   ],
   "source": [
    "print(text_data.iloc[0]['cover_words'])"
   ]
  },
  {
   "cell_type": "code",
   "execution_count": 26,
   "metadata": {},
   "outputs": [
    {
     "name": "stdout",
     "output_type": "stream",
     "text": [
      "['351', '789', '356', '33', '79', '61', '198', '790', '14', '791', '745', '198', '258', '14', '246', '9', '792', '317', '228', '793', '24', '794', '795', '423', '796', '18', '356', '689', '797', '795', '423', '798', '18', '356', '799', '800', '801', '749', '802', '803', '146', '41', '74', '804', '805', '806', '29', '73', '14', '726', '87', '150', '73', '14', '807', '808', '787', '809', '14', '198', '167', '810', '811', '770', '76', '812', '813', '770', '76', '814', '795', '287', '137', '239', '815', '287', '816', '351', '789', '356', '33', '79', '61', '198', '790', '14', '791', '745', '198', '258', '14', '246', '9', '792', '317', '228', '793', '24', '794', '795', '423', '796', '18', '356', '689', '797', '795', '423', '798', '18', '356', '799', '800', '801', '749', '802', '803', '146', '41', '74', '804', '805', '806', '29', '73', '14', '726', '87', '150', '73', '14', '807', '808', '787', '809', '14', '198', '167', '810', '811', '770', '76', '812', '813', '770', '76', '814', '795', '287', '137', '239', '815', '287', '816']\n"
     ]
    }
   ],
   "source": [
    "print(text_data.iloc[1]['cover_words'])"
   ]
  },
  {
   "cell_type": "code",
   "execution_count": 27,
   "metadata": {},
   "outputs": [
    {
     "name": "stdout",
     "output_type": "stream",
     "text": [
      "['1158', '1159', '1160', '1158', '1159', '1160', '1161', '1162', '997', '975', '761', '120', '143', '73', '1003', '6', '143', '89', '143', '254', '1003', '20', '658', '62', '63', '770', '20', '239', '1163', '770', '20', '1164', '1165', '1166', '6', '29', '651', '6', '29', '1167', '14', '1168', '1169', '9', '115', '616', '1170', '689', '1169', '691', '1171', '390', '115', '616', '1172', '689', '1160', '218', '33', '29', '1173', '274', '616', '20', '1123', '689', '1174', '1175', '797', '1167', '14', '137', '1101', '797', '20', '185', '1176', '64', '651', '9', '491', '64', '1177', '14', '1178', '20', '185', '1176', '64', '651', '9', '491', '64', '1179', '14', '1180', '1158', '1159', '1160', '1161', '1162', '997', '975', '761', '120', '143', '73', '1003', '6', '143', '89', '143', '254', '1003', '20', '658', '62', '63', '770', '20', '239', '1163', '770', '20', '1164', '1165', '1166', '6', '29', '651', '6', '29', '1167', '14', '1168', '1169', '9', '115', '616', '1170', '689', '1169', '691', '1171', '390', '115', '616', '1172', '689', '1160', '218', '33', '29', '1173', '274', '616', '20', '1123', '689', '1174', '1175', '797', '1167', '14', '137', '1101', '797', '20', '185', '1176', '64', '651', '9', '491', '64', '1177', '14', '1178', '20', '185', '1176', '64', '651', '9', '491', '64', '1179', '14', '1180']\n"
     ]
    }
   ],
   "source": [
    "print(text_data.iloc[2]['cover_words'])"
   ]
  },
  {
   "cell_type": "code",
   "execution_count": 28,
   "metadata": {},
   "outputs": [],
   "source": [
    "from sklearn.feature_extraction.text import TfidfVectorizer\n",
    "vectorizer = TfidfVectorizer(max_df=0.08)"
   ]
  },
  {
   "cell_type": "code",
   "execution_count": 29,
   "metadata": {},
   "outputs": [],
   "source": [
    "corpus = text_data['cover_words'].apply(lambda words: ' '.join(words))"
   ]
  },
  {
   "cell_type": "code",
   "execution_count": 30,
   "metadata": {},
   "outputs": [],
   "source": [
    "from collections import Counter\n",
    "text = list()\n",
    "for doc in text_data['cover_words']:\n",
    "    text.extend(doc)"
   ]
  },
  {
   "cell_type": "code",
   "execution_count": 31,
   "metadata": {},
   "outputs": [],
   "source": [
    "c = Counter(text)"
   ]
  },
  {
   "cell_type": "code",
   "execution_count": 32,
   "metadata": {},
   "outputs": [
    {
     "data": {
      "text/plain": [
       "126028"
      ]
     },
     "execution_count": 32,
     "metadata": {},
     "output_type": "execute_result"
    }
   ],
   "source": [
    "len(c)"
   ]
  },
  {
   "cell_type": "code",
   "execution_count": 33,
   "metadata": {},
   "outputs": [
    {
     "data": {
      "text/plain": [
       "0.09402086990668915"
      ]
     },
     "execution_count": 33,
     "metadata": {},
     "output_type": "execute_result"
    }
   ],
   "source": [
    "486514. / 5174532"
   ]
  },
  {
   "cell_type": "code",
   "execution_count": 34,
   "metadata": {},
   "outputs": [
    {
     "data": {
      "text/plain": [
       "[('14', 142318),\n",
       " ('18', 124209),\n",
       " ('143', 63487),\n",
       " ('73', 47575),\n",
       " ('0', 40633),\n",
       " ('76', 33844),\n",
       " ('29', 31197),\n",
       " ('74', 27395),\n",
       " ('33', 20431),\n",
       " ('149', 20412),\n",
       " ('9', 19762),\n",
       " ('12', 17459),\n",
       " ('24', 17098),\n",
       " ('369', 16905),\n",
       " ('86', 16891),\n",
       " ('1152', 16736),\n",
       " ('563', 16570),\n",
       " ('45', 16400),\n",
       " ('169', 14953),\n",
       " ('30', 13943)]"
      ]
     },
     "execution_count": 34,
     "metadata": {},
     "output_type": "execute_result"
    }
   ],
   "source": [
    "sorted(c.iteritems(), key=lambda x :x[1], reverse=True)[:20]"
   ]
  },
  {
   "cell_type": "code",
   "execution_count": 35,
   "metadata": {},
   "outputs": [
    {
     "name": "stderr",
     "output_type": "stream",
     "text": [
      "/Library/Python/2.7/site-packages/sklearn/feature_extraction/text.py:1089: FutureWarning: Conversion of the second argument of issubdtype from `float` to `np.floating` is deprecated. In future, it will be treated as `np.float64 == np.dtype(float).type`.\n",
      "  if hasattr(X, 'dtype') and np.issubdtype(X.dtype, np.float):\n"
     ]
    }
   ],
   "source": [
    "tfidf = vectorizer.fit_transform(corpus)"
   ]
  },
  {
   "cell_type": "code",
   "execution_count": 36,
   "metadata": {},
   "outputs": [
    {
     "data": {
      "text/plain": [
       "(1337176, 126016)"
      ]
     },
     "execution_count": 36,
     "metadata": {},
     "output_type": "execute_result"
    }
   ],
   "source": [
    "tfidf.shape"
   ]
  },
  {
   "cell_type": "code",
   "execution_count": 37,
   "metadata": {},
   "outputs": [],
   "source": [
    "avg_tfidf = np.mean(tfidf, axis=1)"
   ]
  },
  {
   "cell_type": "code",
   "execution_count": 38,
   "metadata": {},
   "outputs": [
    {
     "data": {
      "text/plain": [
       "matrix([[3.71270929e-05],\n",
       "        [5.46918498e-05],\n",
       "        [5.14501988e-05],\n",
       "        ...,\n",
       "        [3.88857165e-05],\n",
       "        [3.34532800e-05],\n",
       "        [2.72193296e-05]])"
      ]
     },
     "execution_count": 38,
     "metadata": {},
     "output_type": "execute_result"
    }
   ],
   "source": [
    "avg_tfidf"
   ]
  },
  {
   "cell_type": "code",
   "execution_count": 39,
   "metadata": {},
   "outputs": [],
   "source": [
    "text_data['avg_tfidf'] = avg_tfidf"
   ]
  },
  {
   "cell_type": "code",
   "execution_count": 40,
   "metadata": {},
   "outputs": [
    {
     "data": {
      "text/html": [
       "<div>\n",
       "<style>\n",
       "    .dataframe thead tr:only-child th {\n",
       "        text-align: right;\n",
       "    }\n",
       "\n",
       "    .dataframe thead th {\n",
       "        text-align: left;\n",
       "    }\n",
       "\n",
       "    .dataframe tbody tr th {\n",
       "        vertical-align: top;\n",
       "    }\n",
       "</style>\n",
       "<table border=\"1\" class=\"dataframe\">\n",
       "  <thead>\n",
       "    <tr style=\"text-align: right;\">\n",
       "      <th></th>\n",
       "      <th>photo_id</th>\n",
       "      <th>cover_words</th>\n",
       "      <th>cover_length</th>\n",
       "      <th>avg_tfidf</th>\n",
       "    </tr>\n",
       "  </thead>\n",
       "  <tbody>\n",
       "    <tr>\n",
       "      <th>0</th>\n",
       "      <td>5735948</td>\n",
       "      <td>[508, 509, 510, 511, 512, 508, 513, 514, 515, ...</td>\n",
       "      <td>154</td>\n",
       "      <td>0.000037</td>\n",
       "    </tr>\n",
       "    <tr>\n",
       "      <th>1</th>\n",
       "      <td>1035274</td>\n",
       "      <td>[351, 789, 356, 33, 79, 61, 198, 790, 14, 791,...</td>\n",
       "      <td>154</td>\n",
       "      <td>0.000055</td>\n",
       "    </tr>\n",
       "    <tr>\n",
       "      <th>2</th>\n",
       "      <td>5752571</td>\n",
       "      <td>[1158, 1159, 1160, 1158, 1159, 1160, 1161, 116...</td>\n",
       "      <td>189</td>\n",
       "      <td>0.000051</td>\n",
       "    </tr>\n",
       "    <tr>\n",
       "      <th>3</th>\n",
       "      <td>473617</td>\n",
       "      <td>[1294, 173, 1295, 1296, 14, 1297, 150, 1298, 1...</td>\n",
       "      <td>35</td>\n",
       "      <td>0.000039</td>\n",
       "    </tr>\n",
       "    <tr>\n",
       "      <th>4</th>\n",
       "      <td>1040170</td>\n",
       "      <td>[1474, 1475, 1476, 1477, 1478, 1479, 1480, 148...</td>\n",
       "      <td>18</td>\n",
       "      <td>0.000032</td>\n",
       "    </tr>\n",
       "  </tbody>\n",
       "</table>\n",
       "</div>"
      ],
      "text/plain": [
       "   photo_id                                        cover_words  cover_length  \\\n",
       "0   5735948  [508, 509, 510, 511, 512, 508, 513, 514, 515, ...           154   \n",
       "1   1035274  [351, 789, 356, 33, 79, 61, 198, 790, 14, 791,...           154   \n",
       "2   5752571  [1158, 1159, 1160, 1158, 1159, 1160, 1161, 116...           189   \n",
       "3    473617  [1294, 173, 1295, 1296, 14, 1297, 150, 1298, 1...            35   \n",
       "4   1040170  [1474, 1475, 1476, 1477, 1478, 1479, 1480, 148...            18   \n",
       "\n",
       "   avg_tfidf  \n",
       "0   0.000037  \n",
       "1   0.000055  \n",
       "2   0.000051  \n",
       "3   0.000039  \n",
       "4   0.000032  "
      ]
     },
     "execution_count": 40,
     "metadata": {},
     "output_type": "execute_result"
    }
   ],
   "source": [
    "text_data.head()"
   ]
  },
  {
   "cell_type": "code",
   "execution_count": 41,
   "metadata": {},
   "outputs": [
    {
     "data": {
      "text/plain": [
       "(622816, 4)"
      ]
     },
     "execution_count": 41,
     "metadata": {},
     "output_type": "execute_result"
    }
   ],
   "source": [
    "text_data[text_data['avg_tfidf']==0].shape"
   ]
  },
  {
   "cell_type": "code",
   "execution_count": 42,
   "metadata": {},
   "outputs": [],
   "source": [
    "words = vectorizer.get_feature_names()"
   ]
  },
  {
   "cell_type": "code",
   "execution_count": 43,
   "metadata": {},
   "outputs": [
    {
     "data": {
      "text/plain": [
       "126016"
      ]
     },
     "execution_count": 43,
     "metadata": {},
     "output_type": "execute_result"
    }
   ],
   "source": [
    "len(words)"
   ]
  },
  {
   "cell_type": "code",
   "execution_count": 45,
   "metadata": {},
   "outputs": [
    {
     "name": "stdout",
     "output_type": "stream",
     "text": [
      "[u'and', u'first', u'one', u'second', u'third']\n"
     ]
    }
   ],
   "source": [
    "from sklearn.feature_extraction.text import CountVectorizer\n",
    "\n",
    "#语料\n",
    "corpus = [\n",
    "        'This is the first document.',\n",
    "        'This is the second second document.',\n",
    "        'And the third one.'\n",
    "        'Is this the first document?'\n",
    "        ]\n",
    "\n",
    "# 将文本中的词语，转换成词频矩阵\n",
    "\n",
    "vectorizer = CountVectorizer(max_df=0.8)\n",
    "\n",
    "# 计算词语出现的频率\n",
    "X = vectorizer.fit_transform(corpus)\n",
    "\n",
    "# 获取词袋中所有文本关键词\n",
    "words = vectorizer.get_feature_names()\n",
    "print(words)"
   ]
  },
  {
   "cell_type": "code",
   "execution_count": 46,
   "metadata": {},
   "outputs": [
    {
     "data": {
      "text/plain": [
       "{u'and': 0, u'first': 1, u'one': 2, u'second': 3, u'third': 4}"
      ]
     },
     "execution_count": 46,
     "metadata": {},
     "output_type": "execute_result"
    }
   ],
   "source": [
    "vectorizer.vocabulary_"
   ]
  },
  {
   "cell_type": "code",
   "execution_count": 47,
   "metadata": {},
   "outputs": [
    {
     "data": {
      "text/plain": [
       "array([[0, 1, 0, 0, 0],\n",
       "       [0, 0, 0, 2, 0],\n",
       "       [1, 1, 1, 0, 1]])"
      ]
     },
     "execution_count": 47,
     "metadata": {},
     "output_type": "execute_result"
    }
   ],
   "source": [
    "X.toarray()"
   ]
  },
  {
   "cell_type": "code",
   "execution_count": 48,
   "metadata": {},
   "outputs": [
    {
     "name": "stdout",
     "output_type": "stream",
     "text": [
      "[u'and', u'document', u'first', u'is', u'one', u'second', u'the', u'third', u'this']\n"
     ]
    }
   ],
   "source": [
    "from sklearn.feature_extraction.text import TfidfVectorizer\n",
    "vectorizer = TfidfVectorizer()\n",
    "\n",
    "#语料\n",
    "corpus = [\n",
    "        'This is the first document.',\n",
    "        'This is the second second document.',\n",
    "        'And the third one.'\n",
    "        'Is this the first document?'\n",
    "        ]\n",
    "\n",
    "# 将文本中的词语，转换成词频矩阵\n",
    "\n",
    "vectorizer = TfidfVectorizer()\n",
    "\n",
    "# 计算词语出现的频率\n",
    "X = vectorizer.fit_transform(corpus)\n",
    "\n",
    "# 获取词袋中所有文本关键词\n",
    "words = vectorizer.get_feature_names()\n",
    "print(words)"
   ]
  },
  {
   "cell_type": "code",
   "execution_count": 49,
   "metadata": {},
   "outputs": [
    {
     "data": {
      "text/plain": [
       "array([[0.        , 0.42040099, 0.54134281, 0.42040099, 0.        ,\n",
       "        0.        , 0.42040099, 0.        , 0.42040099],\n",
       "       [0.        , 0.25427116, 0.        , 0.25427116, 0.        ,\n",
       "        0.861037  , 0.25427116, 0.        , 0.25427116],\n",
       "       [0.4075631 , 0.24071333, 0.30996224, 0.24071333, 0.4075631 ,\n",
       "        0.        , 0.48142667, 0.4075631 , 0.24071333]])"
      ]
     },
     "execution_count": 49,
     "metadata": {},
     "output_type": "execute_result"
    }
   ],
   "source": [
    "X.toarray()"
   ]
  },
  {
   "cell_type": "code",
   "execution_count": 50,
   "metadata": {},
   "outputs": [
    {
     "data": {
      "text/plain": [
       "False"
      ]
     },
     "execution_count": 50,
     "metadata": {},
     "output_type": "execute_result"
    }
   ],
   "source": [
    "set([1,2,4,5]) in set([1,2,3,4,5])"
   ]
  },
  {
   "cell_type": "markdown",
   "metadata": {},
   "source": [
    "# 图片的行为交互属性\n",
    "图片本身被用户交互曝光点击等属性，以及视频时长等属性"
   ]
  },
  {
   "cell_type": "code",
   "execution_count": 51,
   "metadata": {},
   "outputs": [
    {
     "name": "stdout",
     "output_type": "stream",
     "text": [
      "[0.48801363 0.50334971 0.4791393  0.47164184 0.5165303  0.50725467\n",
      " 0.50282385 0.51981198 0.52398186 0.51664006]\n",
      "([1000, 1000, 1000, 1000, 1000, 1000, 1000, 1000, 1000, 1000], [488.0136282457003, 503.3497135874692, 479.1392970393228, 471.64184494656456, 516.530297401391, 507.25467347391896, 502.8238477340633, 519.8119750710899, 523.9818601580988, 516.6400647849877])\n",
      "(77.61041379572542, 76.71535036759057)\n",
      "[0.49000382699714234, 0.5032895785742848, 0.48231593551807633, 0.4758208434690892, 0.5147080050039118, 0.5066724710017793, 0.5028340175275408, 0.5175509439485152, 0.5211633428193239, 0.5148030972101195]\n"
     ]
    }
   ],
   "source": [
    "#!/usr/bin/python\n",
    "# coding=utf-8\n",
    "\n",
    "import numpy\n",
    "import random\n",
    "import scipy.special as special\n",
    "\n",
    "class BayesianSmoothing(object):\n",
    "    def __init__(self, alpha, beta):\n",
    "        self.alpha = alpha\n",
    "        self.beta = beta\n",
    "\n",
    "    def sample(self, alpha, beta, num, imp_upperbound):\n",
    "        sample = numpy.random.beta(alpha, beta, num)\n",
    "        print(sample)\n",
    "        I = []\n",
    "        C = []\n",
    "        for clk_rt in sample:\n",
    "            imp = imp_upperbound\n",
    "            clk = imp * clk_rt\n",
    "            I.append(imp)\n",
    "            C.append(clk)\n",
    "        return I, C\n",
    "\n",
    "    def update(self, imps, clks, iter_num, epsilon):\n",
    "        for i in range(iter_num):\n",
    "            new_alpha, new_beta = self.__fixed_point_iteration(imps, clks, self.alpha, self.beta)\n",
    "            if abs(new_alpha-self.alpha)<epsilon and abs(new_beta-self.beta)<epsilon:\n",
    "                break\n",
    "            self.alpha = new_alpha\n",
    "            self.beta = new_beta\n",
    "\n",
    "    def __fixed_point_iteration(self, imps, clks, alpha, beta):\n",
    "        numerator_alpha = 0.0\n",
    "        numerator_beta = 0.0\n",
    "        denominator = 0.0\n",
    "\n",
    "        for i in range(len(imps)):\n",
    "            numerator_alpha += (special.digamma(clks[i]+alpha) - special.digamma(alpha))\n",
    "            numerator_beta += (special.digamma(imps[i]-clks[i]+beta) - special.digamma(beta))\n",
    "            denominator += (special.digamma(imps[i]+alpha+beta) - special.digamma(alpha+beta))\n",
    "\n",
    "        return alpha*(numerator_alpha/denominator), beta*(numerator_beta/denominator)\n",
    "\n",
    "def main():\n",
    "    bs = BayesianSmoothing(1, 1)\n",
    "    I, C = bs.sample(500, 500, 10, 1000)\n",
    "    print(I, C)\n",
    "    bs.update(I, C, 1000, 0.0000000001)\n",
    "    print(bs.alpha, bs.beta)\n",
    "    ctr = []\n",
    "    for i in range(len(I)):\n",
    "        ctr.append((C[i]+bs.alpha)/(I[i]+bs.alpha+bs.beta))\n",
    "    print(ctr)\n",
    "\n",
    "if __name__ == '__main__':\n",
    "    main()"
   ]
  },
  {
   "cell_type": "code",
   "execution_count": 52,
   "metadata": {},
   "outputs": [],
   "source": [
    "def plot_data_cut(df, col, n_bins=20):\n",
    "    quartiles = pd.cut(df[col], n_bins)\n",
    "    grouped = df.groupby(quartiles)\n",
    "    \n",
    "    plt.figure(figsize=(30,15)) \n",
    "    plt.xlabel(col)\n",
    "    plt.ylabel('counts in ' + col)\n",
    "    nums_of_col = grouped.size()\n",
    "    nums_of_col.plot.bar()"
   ]
  },
  {
   "cell_type": "code",
   "execution_count": 107,
   "metadata": {},
   "outputs": [],
   "source": [
    "items = pd.DataFrame()\n",
    "common = ['photo_id', 'duration_time', 'time']\n",
    "items[common] = user_item_train[common]\n",
    "\n",
    "items['exposure_num'] = user_item_train['photo_id'].groupby(user_item_train['photo_id']).transform('count')\n",
    "items['clicked_num'] = user_item_train['click'].groupby(user_item_train['photo_id']).transform('sum')\n",
    "items['liked_num'] = user_item_train['like'].groupby(user_item_train['photo_id']).transform('sum')\n",
    "items['followed_num'] = user_item_train['follow'].groupby(user_item_train['photo_id']).transform('sum')\n",
    "items['played_sum'] = user_item_train['playing_time'].groupby(user_item_train['photo_id']).transform('sum')\n",
    "items['duration_sum'] = user_item_train['duration_time'].groupby(user_item_train['photo_id']).transform('sum')\n",
    "items['clicked_ratio'] = user_item_train['click'].groupby(user_item_train['photo_id']).transform('mean')\n",
    "items['liked_ratio'] = user_item_train['like'].groupby(user_item_train['photo_id']).transform('mean')\n",
    "items['followed_ratio'] = user_item_train['follow'].groupby(user_item_train['photo_id']).transform('mean')\n",
    "items['played_ratio'] = items['played_sum'] / items['duration_sum']\n"
   ]
  },
  {
   "cell_type": "code",
   "execution_count": 108,
   "metadata": {},
   "outputs": [],
   "source": [
    "items.drop_duplicates(['photo_id'], inplace=True)"
   ]
  },
  {
   "cell_type": "code",
   "execution_count": 109,
   "metadata": {},
   "outputs": [
    {
     "data": {
      "text/plain": [
       "1112781"
      ]
     },
     "execution_count": 109,
     "metadata": {},
     "output_type": "execute_result"
    }
   ],
   "source": [
    "items['photo_id'].nunique()"
   ]
  },
  {
   "cell_type": "code",
   "execution_count": 110,
   "metadata": {},
   "outputs": [
    {
     "data": {
      "text/plain": [
       "1112781"
      ]
     },
     "execution_count": 110,
     "metadata": {},
     "output_type": "execute_result"
    }
   ],
   "source": [
    "user_item_train['photo_id'].nunique()"
   ]
  },
  {
   "cell_type": "code",
   "execution_count": 111,
   "metadata": {},
   "outputs": [
    {
     "data": {
      "text/html": [
       "<div>\n",
       "<style>\n",
       "    .dataframe thead tr:only-child th {\n",
       "        text-align: right;\n",
       "    }\n",
       "\n",
       "    .dataframe thead th {\n",
       "        text-align: left;\n",
       "    }\n",
       "\n",
       "    .dataframe tbody tr th {\n",
       "        vertical-align: top;\n",
       "    }\n",
       "</style>\n",
       "<table border=\"1\" class=\"dataframe\">\n",
       "  <thead>\n",
       "    <tr style=\"text-align: right;\">\n",
       "      <th></th>\n",
       "      <th>photo_id</th>\n",
       "      <th>duration_time</th>\n",
       "      <th>time</th>\n",
       "      <th>exposure_num</th>\n",
       "      <th>clicked_num</th>\n",
       "      <th>liked_num</th>\n",
       "      <th>followed_num</th>\n",
       "      <th>played_sum</th>\n",
       "      <th>duration_sum</th>\n",
       "      <th>clicked_ratio</th>\n",
       "      <th>liked_ratio</th>\n",
       "      <th>followed_ratio</th>\n",
       "      <th>played_ratio</th>\n",
       "    </tr>\n",
       "  </thead>\n",
       "  <tbody>\n",
       "    <tr>\n",
       "      <th>0</th>\n",
       "      <td>528031</td>\n",
       "      <td>16</td>\n",
       "      <td>761073153303</td>\n",
       "      <td>52</td>\n",
       "      <td>14</td>\n",
       "      <td>0</td>\n",
       "      <td>0</td>\n",
       "      <td>205</td>\n",
       "      <td>832</td>\n",
       "      <td>0.269231</td>\n",
       "      <td>0.000000</td>\n",
       "      <td>0.000000</td>\n",
       "      <td>0.246394</td>\n",
       "    </tr>\n",
       "    <tr>\n",
       "      <th>1</th>\n",
       "      <td>3141045</td>\n",
       "      <td>10</td>\n",
       "      <td>761073449279</td>\n",
       "      <td>189</td>\n",
       "      <td>63</td>\n",
       "      <td>1</td>\n",
       "      <td>0</td>\n",
       "      <td>728</td>\n",
       "      <td>1890</td>\n",
       "      <td>0.333333</td>\n",
       "      <td>0.005291</td>\n",
       "      <td>0.000000</td>\n",
       "      <td>0.385185</td>\n",
       "    </tr>\n",
       "    <tr>\n",
       "      <th>2</th>\n",
       "      <td>6410672</td>\n",
       "      <td>13</td>\n",
       "      <td>761072688657</td>\n",
       "      <td>157</td>\n",
       "      <td>33</td>\n",
       "      <td>0</td>\n",
       "      <td>1</td>\n",
       "      <td>465</td>\n",
       "      <td>2041</td>\n",
       "      <td>0.210191</td>\n",
       "      <td>0.000000</td>\n",
       "      <td>0.006369</td>\n",
       "      <td>0.227829</td>\n",
       "    </tr>\n",
       "    <tr>\n",
       "      <th>3</th>\n",
       "      <td>6031965</td>\n",
       "      <td>11</td>\n",
       "      <td>761079542559</td>\n",
       "      <td>8</td>\n",
       "      <td>1</td>\n",
       "      <td>0</td>\n",
       "      <td>0</td>\n",
       "      <td>7</td>\n",
       "      <td>88</td>\n",
       "      <td>0.125000</td>\n",
       "      <td>0.000000</td>\n",
       "      <td>0.000000</td>\n",
       "      <td>0.079545</td>\n",
       "    </tr>\n",
       "    <tr>\n",
       "      <th>4</th>\n",
       "      <td>492513</td>\n",
       "      <td>11</td>\n",
       "      <td>761071781792</td>\n",
       "      <td>1</td>\n",
       "      <td>0</td>\n",
       "      <td>0</td>\n",
       "      <td>0</td>\n",
       "      <td>0</td>\n",
       "      <td>11</td>\n",
       "      <td>0.000000</td>\n",
       "      <td>0.000000</td>\n",
       "      <td>0.000000</td>\n",
       "      <td>0.000000</td>\n",
       "    </tr>\n",
       "  </tbody>\n",
       "</table>\n",
       "</div>"
      ],
      "text/plain": [
       "   photo_id  duration_time          time  exposure_num  clicked_num  \\\n",
       "0    528031             16  761073153303            52           14   \n",
       "1   3141045             10  761073449279           189           63   \n",
       "2   6410672             13  761072688657           157           33   \n",
       "3   6031965             11  761079542559             8            1   \n",
       "4    492513             11  761071781792             1            0   \n",
       "\n",
       "   liked_num  followed_num  played_sum  duration_sum  clicked_ratio  \\\n",
       "0          0             0         205           832       0.269231   \n",
       "1          1             0         728          1890       0.333333   \n",
       "2          0             1         465          2041       0.210191   \n",
       "3          0             0           7            88       0.125000   \n",
       "4          0             0           0            11       0.000000   \n",
       "\n",
       "   liked_ratio  followed_ratio  played_ratio  \n",
       "0     0.000000        0.000000      0.246394  \n",
       "1     0.005291        0.000000      0.385185  \n",
       "2     0.000000        0.006369      0.227829  \n",
       "3     0.000000        0.000000      0.079545  \n",
       "4     0.000000        0.000000      0.000000  "
      ]
     },
     "execution_count": 111,
     "metadata": {},
     "output_type": "execute_result"
    }
   ],
   "source": [
    "items.head()"
   ]
  },
  {
   "cell_type": "code",
   "execution_count": 114,
   "metadata": {},
   "outputs": [],
   "source": [
    "# 对物品击率做贝叶斯平滑\n",
    "I, C = items['exposure_num'].values, items['clicked_num'].values\n",
    "# bs = BayesianSmoothing(1, 1)\n",
    "# bs.update(I, C, 1000, 0.0000000001)\n",
    "# print(bs.alpha, bs.beta)\n",
    "# alpha_item, beta_item = bs.alpha, bs.beta\n",
    "alpha_item = 2.5171267342473382 if USE_SAMPLE else 2.8072236088257325\n",
    "beta_item = 7.087836849232511 if USE_SAMPLE else 13.280311727786964\n",
    "ctr = []\n",
    "for i in range(len(I)):\n",
    "    ctr.append((C[i]+alpha_item)/(I[i]+alpha_item+beta_item))\n",
    "items['smooth_clicked_ratio'] = ctr\n"
   ]
  },
  {
   "cell_type": "code",
   "execution_count": 115,
   "metadata": {},
   "outputs": [],
   "source": [
    "items.drop(['exposure_num'], axis=1, inplace=True)\n",
    "\n",
    "common = ['photo_id', 'duration_time', 'time']\n",
    "user_item_data = pd.concat([user_item_train[common], user_item_test[common]])\n",
    "\n",
    "photo_data = pd.DataFrame()\n",
    "photo_data['photo_id'] = user_item_data['photo_id']\n",
    "photo_data['exposure_num'] = user_item_data['photo_id'].groupby(user_item_data['photo_id']).transform('count') \n",
    "photo_data.drop_duplicates(inplace=True)"
   ]
  },
  {
   "cell_type": "code",
   "execution_count": 116,
   "metadata": {},
   "outputs": [
    {
     "data": {
      "text/plain": [
       "(1112781, 13)"
      ]
     },
     "execution_count": 116,
     "metadata": {},
     "output_type": "execute_result"
    }
   ],
   "source": [
    "items.shape"
   ]
  },
  {
   "cell_type": "code",
   "execution_count": 117,
   "metadata": {},
   "outputs": [
    {
     "data": {
      "text/html": [
       "<div>\n",
       "<style>\n",
       "    .dataframe thead tr:only-child th {\n",
       "        text-align: right;\n",
       "    }\n",
       "\n",
       "    .dataframe thead th {\n",
       "        text-align: left;\n",
       "    }\n",
       "\n",
       "    .dataframe tbody tr th {\n",
       "        vertical-align: top;\n",
       "    }\n",
       "</style>\n",
       "<table border=\"1\" class=\"dataframe\">\n",
       "  <thead>\n",
       "    <tr style=\"text-align: right;\">\n",
       "      <th></th>\n",
       "      <th>photo_id</th>\n",
       "      <th>duration_time</th>\n",
       "      <th>time</th>\n",
       "      <th>clicked_num</th>\n",
       "      <th>liked_num</th>\n",
       "      <th>followed_num</th>\n",
       "      <th>played_sum</th>\n",
       "      <th>duration_sum</th>\n",
       "      <th>clicked_ratio</th>\n",
       "      <th>liked_ratio</th>\n",
       "      <th>followed_ratio</th>\n",
       "      <th>played_ratio</th>\n",
       "      <th>smooth_clicked_ratio</th>\n",
       "    </tr>\n",
       "  </thead>\n",
       "  <tbody>\n",
       "    <tr>\n",
       "      <th>0</th>\n",
       "      <td>528031</td>\n",
       "      <td>16</td>\n",
       "      <td>761073153303</td>\n",
       "      <td>14</td>\n",
       "      <td>0</td>\n",
       "      <td>0</td>\n",
       "      <td>205</td>\n",
       "      <td>832</td>\n",
       "      <td>0.269231</td>\n",
       "      <td>0.000000</td>\n",
       "      <td>0.000000</td>\n",
       "      <td>0.246394</td>\n",
       "      <td>0.268114</td>\n",
       "    </tr>\n",
       "    <tr>\n",
       "      <th>1</th>\n",
       "      <td>3141045</td>\n",
       "      <td>10</td>\n",
       "      <td>761073449279</td>\n",
       "      <td>63</td>\n",
       "      <td>1</td>\n",
       "      <td>0</td>\n",
       "      <td>728</td>\n",
       "      <td>1890</td>\n",
       "      <td>0.333333</td>\n",
       "      <td>0.005291</td>\n",
       "      <td>0.000000</td>\n",
       "      <td>0.385185</td>\n",
       "      <td>0.329887</td>\n",
       "    </tr>\n",
       "    <tr>\n",
       "      <th>2</th>\n",
       "      <td>6410672</td>\n",
       "      <td>13</td>\n",
       "      <td>761072688657</td>\n",
       "      <td>33</td>\n",
       "      <td>0</td>\n",
       "      <td>1</td>\n",
       "      <td>465</td>\n",
       "      <td>2041</td>\n",
       "      <td>0.210191</td>\n",
       "      <td>0.000000</td>\n",
       "      <td>0.006369</td>\n",
       "      <td>0.227829</td>\n",
       "      <td>0.213182</td>\n",
       "    </tr>\n",
       "    <tr>\n",
       "      <th>3</th>\n",
       "      <td>6031965</td>\n",
       "      <td>11</td>\n",
       "      <td>761079542559</td>\n",
       "      <td>1</td>\n",
       "      <td>0</td>\n",
       "      <td>0</td>\n",
       "      <td>7</td>\n",
       "      <td>88</td>\n",
       "      <td>0.125000</td>\n",
       "      <td>0.000000</td>\n",
       "      <td>0.000000</td>\n",
       "      <td>0.079545</td>\n",
       "      <td>0.199780</td>\n",
       "    </tr>\n",
       "    <tr>\n",
       "      <th>4</th>\n",
       "      <td>492513</td>\n",
       "      <td>11</td>\n",
       "      <td>761071781792</td>\n",
       "      <td>0</td>\n",
       "      <td>0</td>\n",
       "      <td>0</td>\n",
       "      <td>0</td>\n",
       "      <td>11</td>\n",
       "      <td>0.000000</td>\n",
       "      <td>0.000000</td>\n",
       "      <td>0.000000</td>\n",
       "      <td>0.000000</td>\n",
       "      <td>0.237354</td>\n",
       "    </tr>\n",
       "  </tbody>\n",
       "</table>\n",
       "</div>"
      ],
      "text/plain": [
       "   photo_id  duration_time          time  clicked_num  liked_num  \\\n",
       "0    528031             16  761073153303           14          0   \n",
       "1   3141045             10  761073449279           63          1   \n",
       "2   6410672             13  761072688657           33          0   \n",
       "3   6031965             11  761079542559            1          0   \n",
       "4    492513             11  761071781792            0          0   \n",
       "\n",
       "   followed_num  played_sum  duration_sum  clicked_ratio  liked_ratio  \\\n",
       "0             0         205           832       0.269231     0.000000   \n",
       "1             0         728          1890       0.333333     0.005291   \n",
       "2             1         465          2041       0.210191     0.000000   \n",
       "3             0           7            88       0.125000     0.000000   \n",
       "4             0           0            11       0.000000     0.000000   \n",
       "\n",
       "   followed_ratio  played_ratio  smooth_clicked_ratio  \n",
       "0        0.000000      0.246394              0.268114  \n",
       "1        0.000000      0.385185              0.329887  \n",
       "2        0.006369      0.227829              0.213182  \n",
       "3        0.000000      0.079545              0.199780  \n",
       "4        0.000000      0.000000              0.237354  "
      ]
     },
     "execution_count": 117,
     "metadata": {},
     "output_type": "execute_result"
    }
   ],
   "source": [
    "items.head()"
   ]
  },
  {
   "cell_type": "code",
   "execution_count": 118,
   "metadata": {},
   "outputs": [
    {
     "data": {
      "text/html": [
       "<div>\n",
       "<style>\n",
       "    .dataframe thead tr:only-child th {\n",
       "        text-align: right;\n",
       "    }\n",
       "\n",
       "    .dataframe thead th {\n",
       "        text-align: left;\n",
       "    }\n",
       "\n",
       "    .dataframe tbody tr th {\n",
       "        vertical-align: top;\n",
       "    }\n",
       "</style>\n",
       "<table border=\"1\" class=\"dataframe\">\n",
       "  <thead>\n",
       "    <tr style=\"text-align: right;\">\n",
       "      <th></th>\n",
       "      <th>photo_id</th>\n",
       "      <th>exposure_num</th>\n",
       "    </tr>\n",
       "  </thead>\n",
       "  <tbody>\n",
       "    <tr>\n",
       "      <th>0</th>\n",
       "      <td>528031</td>\n",
       "      <td>52</td>\n",
       "    </tr>\n",
       "    <tr>\n",
       "      <th>1</th>\n",
       "      <td>3141045</td>\n",
       "      <td>189</td>\n",
       "    </tr>\n",
       "    <tr>\n",
       "      <th>2</th>\n",
       "      <td>6410672</td>\n",
       "      <td>157</td>\n",
       "    </tr>\n",
       "    <tr>\n",
       "      <th>3</th>\n",
       "      <td>6031965</td>\n",
       "      <td>8</td>\n",
       "    </tr>\n",
       "    <tr>\n",
       "      <th>4</th>\n",
       "      <td>492513</td>\n",
       "      <td>1</td>\n",
       "    </tr>\n",
       "  </tbody>\n",
       "</table>\n",
       "</div>"
      ],
      "text/plain": [
       "   photo_id  exposure_num\n",
       "0    528031            52\n",
       "1   3141045           189\n",
       "2   6410672           157\n",
       "3   6031965             8\n",
       "4    492513             1"
      ]
     },
     "execution_count": 118,
     "metadata": {},
     "output_type": "execute_result"
    }
   ],
   "source": [
    "photo_data.head()"
   ]
  },
  {
   "cell_type": "code",
   "execution_count": 119,
   "metadata": {},
   "outputs": [
    {
     "data": {
      "text/plain": [
       "(1337176, 2)"
      ]
     },
     "execution_count": 119,
     "metadata": {},
     "output_type": "execute_result"
    }
   ],
   "source": [
    "photo_data.shape"
   ]
  },
  {
   "cell_type": "code",
   "execution_count": 120,
   "metadata": {},
   "outputs": [],
   "source": [
    "photo_data = pd.merge(photo_data, items,\n",
    "                     how='left',\n",
    "                     on=['photo_id'])"
   ]
  },
  {
   "cell_type": "code",
   "execution_count": 121,
   "metadata": {},
   "outputs": [
    {
     "data": {
      "text/html": [
       "<div>\n",
       "<style>\n",
       "    .dataframe thead tr:only-child th {\n",
       "        text-align: right;\n",
       "    }\n",
       "\n",
       "    .dataframe thead th {\n",
       "        text-align: left;\n",
       "    }\n",
       "\n",
       "    .dataframe tbody tr th {\n",
       "        vertical-align: top;\n",
       "    }\n",
       "</style>\n",
       "<table border=\"1\" class=\"dataframe\">\n",
       "  <thead>\n",
       "    <tr style=\"text-align: right;\">\n",
       "      <th></th>\n",
       "      <th>photo_id</th>\n",
       "      <th>exposure_num</th>\n",
       "      <th>duration_time</th>\n",
       "      <th>time</th>\n",
       "      <th>clicked_num</th>\n",
       "      <th>liked_num</th>\n",
       "      <th>followed_num</th>\n",
       "      <th>played_sum</th>\n",
       "      <th>duration_sum</th>\n",
       "      <th>clicked_ratio</th>\n",
       "      <th>liked_ratio</th>\n",
       "      <th>followed_ratio</th>\n",
       "      <th>played_ratio</th>\n",
       "      <th>smooth_clicked_ratio</th>\n",
       "    </tr>\n",
       "  </thead>\n",
       "  <tbody>\n",
       "    <tr>\n",
       "      <th>0</th>\n",
       "      <td>528031</td>\n",
       "      <td>52</td>\n",
       "      <td>16.0</td>\n",
       "      <td>7.610732e+11</td>\n",
       "      <td>14.0</td>\n",
       "      <td>0.0</td>\n",
       "      <td>0.0</td>\n",
       "      <td>205.0</td>\n",
       "      <td>832.0</td>\n",
       "      <td>0.269231</td>\n",
       "      <td>0.000000</td>\n",
       "      <td>0.000000</td>\n",
       "      <td>0.246394</td>\n",
       "      <td>0.268114</td>\n",
       "    </tr>\n",
       "    <tr>\n",
       "      <th>1</th>\n",
       "      <td>3141045</td>\n",
       "      <td>189</td>\n",
       "      <td>10.0</td>\n",
       "      <td>7.610734e+11</td>\n",
       "      <td>63.0</td>\n",
       "      <td>1.0</td>\n",
       "      <td>0.0</td>\n",
       "      <td>728.0</td>\n",
       "      <td>1890.0</td>\n",
       "      <td>0.333333</td>\n",
       "      <td>0.005291</td>\n",
       "      <td>0.000000</td>\n",
       "      <td>0.385185</td>\n",
       "      <td>0.329887</td>\n",
       "    </tr>\n",
       "    <tr>\n",
       "      <th>2</th>\n",
       "      <td>6410672</td>\n",
       "      <td>157</td>\n",
       "      <td>13.0</td>\n",
       "      <td>7.610727e+11</td>\n",
       "      <td>33.0</td>\n",
       "      <td>0.0</td>\n",
       "      <td>1.0</td>\n",
       "      <td>465.0</td>\n",
       "      <td>2041.0</td>\n",
       "      <td>0.210191</td>\n",
       "      <td>0.000000</td>\n",
       "      <td>0.006369</td>\n",
       "      <td>0.227829</td>\n",
       "      <td>0.213182</td>\n",
       "    </tr>\n",
       "    <tr>\n",
       "      <th>3</th>\n",
       "      <td>6031965</td>\n",
       "      <td>8</td>\n",
       "      <td>11.0</td>\n",
       "      <td>7.610795e+11</td>\n",
       "      <td>1.0</td>\n",
       "      <td>0.0</td>\n",
       "      <td>0.0</td>\n",
       "      <td>7.0</td>\n",
       "      <td>88.0</td>\n",
       "      <td>0.125000</td>\n",
       "      <td>0.000000</td>\n",
       "      <td>0.000000</td>\n",
       "      <td>0.079545</td>\n",
       "      <td>0.199780</td>\n",
       "    </tr>\n",
       "    <tr>\n",
       "      <th>4</th>\n",
       "      <td>492513</td>\n",
       "      <td>1</td>\n",
       "      <td>11.0</td>\n",
       "      <td>7.610718e+11</td>\n",
       "      <td>0.0</td>\n",
       "      <td>0.0</td>\n",
       "      <td>0.0</td>\n",
       "      <td>0.0</td>\n",
       "      <td>11.0</td>\n",
       "      <td>0.000000</td>\n",
       "      <td>0.000000</td>\n",
       "      <td>0.000000</td>\n",
       "      <td>0.000000</td>\n",
       "      <td>0.237354</td>\n",
       "    </tr>\n",
       "  </tbody>\n",
       "</table>\n",
       "</div>"
      ],
      "text/plain": [
       "   photo_id  exposure_num  duration_time          time  clicked_num  \\\n",
       "0    528031            52           16.0  7.610732e+11         14.0   \n",
       "1   3141045           189           10.0  7.610734e+11         63.0   \n",
       "2   6410672           157           13.0  7.610727e+11         33.0   \n",
       "3   6031965             8           11.0  7.610795e+11          1.0   \n",
       "4    492513             1           11.0  7.610718e+11          0.0   \n",
       "\n",
       "   liked_num  followed_num  played_sum  duration_sum  clicked_ratio  \\\n",
       "0        0.0           0.0       205.0         832.0       0.269231   \n",
       "1        1.0           0.0       728.0        1890.0       0.333333   \n",
       "2        0.0           1.0       465.0        2041.0       0.210191   \n",
       "3        0.0           0.0         7.0          88.0       0.125000   \n",
       "4        0.0           0.0         0.0          11.0       0.000000   \n",
       "\n",
       "   liked_ratio  followed_ratio  played_ratio  smooth_clicked_ratio  \n",
       "0     0.000000        0.000000      0.246394              0.268114  \n",
       "1     0.005291        0.000000      0.385185              0.329887  \n",
       "2     0.000000        0.006369      0.227829              0.213182  \n",
       "3     0.000000        0.000000      0.079545              0.199780  \n",
       "4     0.000000        0.000000      0.000000              0.237354  "
      ]
     },
     "execution_count": 121,
     "metadata": {},
     "output_type": "execute_result"
    }
   ],
   "source": [
    "photo_data.head()"
   ]
  },
  {
   "cell_type": "code",
   "execution_count": 122,
   "metadata": {},
   "outputs": [
    {
     "data": {
      "text/plain": [
       "photo_id                     0\n",
       "exposure_num                 0\n",
       "duration_time           224395\n",
       "time                    224395\n",
       "clicked_num             224395\n",
       "liked_num               224395\n",
       "followed_num            224395\n",
       "played_sum              224395\n",
       "duration_sum            224395\n",
       "clicked_ratio           224395\n",
       "liked_ratio             224395\n",
       "followed_ratio          224395\n",
       "played_ratio            224748\n",
       "smooth_clicked_ratio    224395\n",
       "dtype: int64"
      ]
     },
     "execution_count": 122,
     "metadata": {},
     "output_type": "execute_result"
    }
   ],
   "source": [
    "np.sum(photo_data.isnull())"
   ]
  },
  {
   "cell_type": "code",
   "execution_count": 123,
   "metadata": {},
   "outputs": [
    {
     "data": {
      "text/plain": [
       "set()"
      ]
     },
     "execution_count": 123,
     "metadata": {},
     "output_type": "execute_result"
    }
   ],
   "source": [
    "set(user_item_train['photo_id'].unique()) & set(user_item_test['photo_id'].unique())"
   ]
  },
  {
   "cell_type": "code",
   "execution_count": 124,
   "metadata": {},
   "outputs": [
    {
     "data": {
      "text/plain": [
       "(1112781, 224395)"
      ]
     },
     "execution_count": 124,
     "metadata": {},
     "output_type": "execute_result"
    }
   ],
   "source": [
    "num_train, num_test = user_item_train['photo_id'].nunique(), user_item_test['photo_id'].nunique()\n",
    "num_train, num_test"
   ]
  },
  {
   "cell_type": "code",
   "execution_count": 125,
   "metadata": {},
   "outputs": [],
   "source": [
    "photo_train = photo_data.iloc[:num_train]\n",
    "photo_test = photo_data.iloc[num_train:]"
   ]
  },
  {
   "cell_type": "code",
   "execution_count": 126,
   "metadata": {},
   "outputs": [
    {
     "data": {
      "text/plain": [
       "<matplotlib.axes.AxesSubplot at 0x1402b0890>"
      ]
     },
     "execution_count": 126,
     "metadata": {},
     "output_type": "execute_result"
    },
    {
     "data": {
      "image/png": "[encoded data removed]",
      "text/plain": [
       "<matplotlib.figure.Figure at 0x113be3b50>"
      ]
     },
     "metadata": {},
     "output_type": "display_data"
    }
   ],
   "source": [
    "photo_train.exposure_num.plot(figsize=(20, 5))"
   ]
  },
  {
   "cell_type": "code",
   "execution_count": 127,
   "metadata": {},
   "outputs": [
    {
     "data": {
      "text/plain": [
       "<matplotlib.axes.AxesSubplot at 0x15f56d910>"
      ]
     },
     "execution_count": 127,
     "metadata": {},
     "output_type": "execute_result"
    },
    {
     "data": {
      "image/png": "[encoded data removed]",
      "text/plain": [
       "<matplotlib.figure.Figure at 0x136672390>"
      ]
     },
     "metadata": {},
     "output_type": "display_data"
    }
   ],
   "source": [
    "photo_train.clicked_ratio.plot(figsize=(20, 5))"
   ]
  },
  {
   "cell_type": "code",
   "execution_count": 128,
   "metadata": {},
   "outputs": [
    {
     "data": {
      "text/plain": [
       "count    1.112781e+06\n",
       "mean     1.354221e-01\n",
       "std      3.000498e-01\n",
       "min      0.000000e+00\n",
       "25%      0.000000e+00\n",
       "50%      0.000000e+00\n",
       "75%      0.000000e+00\n",
       "max      1.000000e+00\n",
       "Name: clicked_ratio, dtype: float64"
      ]
     },
     "execution_count": 128,
     "metadata": {},
     "output_type": "execute_result"
    }
   ],
   "source": [
    "photo_train.clicked_ratio.describe()"
   ]
  },
  {
   "cell_type": "code",
   "execution_count": 129,
   "metadata": {},
   "outputs": [
    {
     "data": {
      "text/plain": [
       "count    1.112781e+06\n",
       "mean     2.477915e-01\n",
       "std      4.097648e-02\n",
       "min      2.020085e-02\n",
       "25%      2.373536e-01\n",
       "50%      2.373536e-01\n",
       "75%      2.373536e-01\n",
       "max      6.050367e-01\n",
       "Name: smooth_clicked_ratio, dtype: float64"
      ]
     },
     "execution_count": 129,
     "metadata": {},
     "output_type": "execute_result"
    }
   ],
   "source": [
    "photo_train.smooth_clicked_ratio.describe()"
   ]
  },
  {
   "cell_type": "code",
   "execution_count": 132,
   "metadata": {},
   "outputs": [
    {
     "name": "stderr",
     "output_type": "stream",
     "text": [
      "/Library/Python/2.7/site-packages/ipykernel_launcher.py:1: SettingWithCopyWarning: \n",
      "A value is trying to be set on a copy of a slice from a DataFrame.\n",
      "Try using .loc[row_indexer,col_indexer] = value instead\n",
      "\n",
      "See the caveats in the documentation: http://pandas.pydata.org/pandas-docs/stable/indexing.html#indexing-view-versus-copy\n",
      "  \"\"\"Entry point for launching an IPython kernel.\n"
     ]
    }
   ],
   "source": [
    "# photo_test['clicked_ratio'] = np.exp(-photo_test['exposure_num'])* np.random.beta(alpha_item, beta_item, photo_test.shape[0])"
   ]
  },
  {
   "cell_type": "code",
   "execution_count": 135,
   "metadata": {},
   "outputs": [
    {
     "name": "stderr",
     "output_type": "stream",
     "text": [
      "/Library/Python/2.7/site-packages/ipykernel_launcher.py:1: SettingWithCopyWarning: \n",
      "A value is trying to be set on a copy of a slice from a DataFrame.\n",
      "Try using .loc[row_indexer,col_indexer] = value instead\n",
      "\n",
      "See the caveats in the documentation: http://pandas.pydata.org/pandas-docs/stable/indexing.html#indexing-view-versus-copy\n",
      "  \"\"\"Entry point for launching an IPython kernel.\n"
     ]
    }
   ],
   "source": [
    "photo_test['clicked_ratio'] = np.random.beta(alpha_item, beta_item, photo_test.shape[0])"
   ]
  },
  {
   "cell_type": "code",
   "execution_count": 136,
   "metadata": {},
   "outputs": [
    {
     "data": {
      "text/plain": [
       "<matplotlib.axes.AxesSubplot at 0x13c48f5d0>"
      ]
     },
     "execution_count": 136,
     "metadata": {},
     "output_type": "execute_result"
    },
    {
     "data": {
      "image/png": "[encoded data removed]",
      "text/plain": [
       "<matplotlib.figure.Figure at 0x15f56d8d0>"
      ]
     },
     "metadata": {},
     "output_type": "display_data"
    }
   ],
   "source": [
    "photo_test.clicked_ratio.plot(figsize=(20, 5))"
   ]
  },
  {
   "cell_type": "code",
   "execution_count": 76,
   "metadata": {},
   "outputs": [],
   "source": [
    "from numpy.random import normal\n",
    "\n",
    "sigma = 0.02966509\n",
    "u = alpha_item/(alpha_item+beta_item)\n",
    "\n"
   ]
  },
  {
   "cell_type": "code",
   "execution_count": 77,
   "metadata": {},
   "outputs": [
    {
     "data": {
      "text/plain": [
       "0.17223556543292678"
      ]
     },
     "execution_count": 77,
     "metadata": {},
     "output_type": "execute_result"
    }
   ],
   "source": [
    "import math\n",
    "math.sqrt(sigma)"
   ]
  },
  {
   "cell_type": "code",
   "execution_count": 78,
   "metadata": {},
   "outputs": [
    {
     "name": "stderr",
     "output_type": "stream",
     "text": [
      "/Library/Python/2.7/site-packages/ipykernel_launcher.py:1: SettingWithCopyWarning: \n",
      "A value is trying to be set on a copy of a slice from a DataFrame.\n",
      "Try using .loc[row_indexer,col_indexer] = value instead\n",
      "\n",
      "See the caveats in the documentation: http://pandas.pydata.org/pandas-docs/stable/indexing.html#indexing-view-versus-copy\n",
      "  \"\"\"Entry point for launching an IPython kernel.\n"
     ]
    }
   ],
   "source": [
    "photo_test['exposure_num_sigma'] = photo_test['exposure_num'].apply(lambda x: np.exp(-x) * sigma)"
   ]
  },
  {
   "cell_type": "code",
   "execution_count": 79,
   "metadata": {},
   "outputs": [
    {
     "name": "stderr",
     "output_type": "stream",
     "text": [
      "/Library/Python/2.7/site-packages/ipykernel_launcher.py:1: SettingWithCopyWarning: \n",
      "A value is trying to be set on a copy of a slice from a DataFrame.\n",
      "Try using .loc[row_indexer,col_indexer] = value instead\n",
      "\n",
      "See the caveats in the documentation: http://pandas.pydata.org/pandas-docs/stable/indexing.html#indexing-view-versus-copy\n",
      "  \"\"\"Entry point for launching an IPython kernel.\n"
     ]
    }
   ],
   "source": [
    "photo_test['noise'] = photo_test['exposure_num_sigma'].apply(lambda x: normal(0, x))"
   ]
  },
  {
   "cell_type": "code",
   "execution_count": 80,
   "metadata": {},
   "outputs": [
    {
     "name": "stderr",
     "output_type": "stream",
     "text": [
      "/Library/Python/2.7/site-packages/ipykernel_launcher.py:1: SettingWithCopyWarning: \n",
      "A value is trying to be set on a copy of a slice from a DataFrame.\n",
      "Try using .loc[row_indexer,col_indexer] = value instead\n",
      "\n",
      "See the caveats in the documentation: http://pandas.pydata.org/pandas-docs/stable/indexing.html#indexing-view-versus-copy\n",
      "  \"\"\"Entry point for launching an IPython kernel.\n"
     ]
    }
   ],
   "source": [
    "photo_test['clicked_ratio'] = u + photo_test['noise']"
   ]
  },
  {
   "cell_type": "code",
   "execution_count": 81,
   "metadata": {},
   "outputs": [
    {
     "data": {
      "text/plain": [
       "<matplotlib.axes.AxesSubplot at 0x112ee2190>"
      ]
     },
     "execution_count": 81,
     "metadata": {},
     "output_type": "execute_result"
    },
    {
     "data": {
      "image/png": "[encoded data removed]",
      "text/plain": [
       "<matplotlib.figure.Figure at 0x1130236d0>"
      ]
     },
     "metadata": {},
     "output_type": "display_data"
    }
   ],
   "source": [
    "photo_test.clicked_ratio.plot(figsize=(20, 5))"
   ]
  },
  {
   "cell_type": "code",
   "execution_count": null,
   "metadata": {},
   "outputs": [],
   "source": [
    "photo_test[photo_test['clicked_ratio']<0, ['clicked_ratio']] = 0"
   ]
  },
  {
   "cell_type": "code",
   "execution_count": 83,
   "metadata": {},
   "outputs": [
    {
     "data": {
      "text/plain": [
       "count    224395.000000\n",
       "mean          0.174487\n",
       "std           0.009610\n",
       "min           0.123255\n",
       "25%           0.169223\n",
       "50%           0.174497\n",
       "75%           0.179730\n",
       "max           0.223715\n",
       "Name: clicked_ratio, dtype: float64"
      ]
     },
     "execution_count": 83,
     "metadata": {},
     "output_type": "execute_result"
    }
   ],
   "source": [
    "photo_test.clicked_ratio.describe()"
   ]
  },
  {
   "cell_type": "code",
   "execution_count": 84,
   "metadata": {},
   "outputs": [
    {
     "data": {
      "text/html": [
       "<div>\n",
       "<style>\n",
       "    .dataframe thead tr:only-child th {\n",
       "        text-align: right;\n",
       "    }\n",
       "\n",
       "    .dataframe thead th {\n",
       "        text-align: left;\n",
       "    }\n",
       "\n",
       "    .dataframe tbody tr th {\n",
       "        vertical-align: top;\n",
       "    }\n",
       "</style>\n",
       "<table border=\"1\" class=\"dataframe\">\n",
       "  <thead>\n",
       "    <tr style=\"text-align: right;\">\n",
       "      <th></th>\n",
       "      <th>user_id</th>\n",
       "      <th>photo_id</th>\n",
       "      <th>click</th>\n",
       "      <th>like</th>\n",
       "      <th>follow</th>\n",
       "      <th>time</th>\n",
       "      <th>playing_time</th>\n",
       "      <th>duration_time</th>\n",
       "    </tr>\n",
       "  </thead>\n",
       "  <tbody>\n",
       "    <tr>\n",
       "      <th>0</th>\n",
       "      <td>2</td>\n",
       "      <td>528031</td>\n",
       "      <td>0</td>\n",
       "      <td>0</td>\n",
       "      <td>0</td>\n",
       "      <td>761073153303</td>\n",
       "      <td>0</td>\n",
       "      <td>16</td>\n",
       "    </tr>\n",
       "    <tr>\n",
       "      <th>1</th>\n",
       "      <td>2</td>\n",
       "      <td>3141045</td>\n",
       "      <td>0</td>\n",
       "      <td>0</td>\n",
       "      <td>0</td>\n",
       "      <td>761073449279</td>\n",
       "      <td>0</td>\n",
       "      <td>10</td>\n",
       "    </tr>\n",
       "    <tr>\n",
       "      <th>2</th>\n",
       "      <td>2</td>\n",
       "      <td>6410672</td>\n",
       "      <td>0</td>\n",
       "      <td>0</td>\n",
       "      <td>0</td>\n",
       "      <td>761072688657</td>\n",
       "      <td>0</td>\n",
       "      <td>13</td>\n",
       "    </tr>\n",
       "    <tr>\n",
       "      <th>3</th>\n",
       "      <td>2</td>\n",
       "      <td>6031965</td>\n",
       "      <td>0</td>\n",
       "      <td>0</td>\n",
       "      <td>0</td>\n",
       "      <td>761079542559</td>\n",
       "      <td>0</td>\n",
       "      <td>11</td>\n",
       "    </tr>\n",
       "    <tr>\n",
       "      <th>4</th>\n",
       "      <td>2</td>\n",
       "      <td>492513</td>\n",
       "      <td>0</td>\n",
       "      <td>0</td>\n",
       "      <td>0</td>\n",
       "      <td>761071781792</td>\n",
       "      <td>0</td>\n",
       "      <td>11</td>\n",
       "    </tr>\n",
       "  </tbody>\n",
       "</table>\n",
       "</div>"
      ],
      "text/plain": [
       "   user_id  photo_id  click  like  follow          time  playing_time  \\\n",
       "0        2    528031      0     0       0  761073153303             0   \n",
       "1        2   3141045      0     0       0  761073449279             0   \n",
       "2        2   6410672      0     0       0  761072688657             0   \n",
       "3        2   6031965      0     0       0  761079542559             0   \n",
       "4        2    492513      0     0       0  761071781792             0   \n",
       "\n",
       "   duration_time  \n",
       "0             16  \n",
       "1             10  \n",
       "2             13  \n",
       "3             11  \n",
       "4             11  "
      ]
     },
     "execution_count": 84,
     "metadata": {},
     "output_type": "execute_result"
    }
   ],
   "source": [
    "user_item_train.head()"
   ]
  },
  {
   "cell_type": "code",
   "execution_count": 85,
   "metadata": {},
   "outputs": [
    {
     "data": {
      "text/html": [
       "<div>\n",
       "<style>\n",
       "    .dataframe thead tr:only-child th {\n",
       "        text-align: right;\n",
       "    }\n",
       "\n",
       "    .dataframe thead th {\n",
       "        text-align: left;\n",
       "    }\n",
       "\n",
       "    .dataframe tbody tr th {\n",
       "        vertical-align: top;\n",
       "    }\n",
       "</style>\n",
       "<table border=\"1\" class=\"dataframe\">\n",
       "  <thead>\n",
       "    <tr style=\"text-align: right;\">\n",
       "      <th></th>\n",
       "      <th>photo_id</th>\n",
       "      <th>exposure_num</th>\n",
       "      <th>duration_time</th>\n",
       "      <th>time</th>\n",
       "      <th>clicked_num</th>\n",
       "      <th>liked_num</th>\n",
       "      <th>followed_num</th>\n",
       "      <th>played_sum</th>\n",
       "      <th>duration_sum</th>\n",
       "      <th>clicked_ratio</th>\n",
       "      <th>liked_ratio</th>\n",
       "      <th>followed_ratio</th>\n",
       "      <th>played_ratio</th>\n",
       "      <th>smooth_clicked_ratio</th>\n",
       "    </tr>\n",
       "  </thead>\n",
       "  <tbody>\n",
       "    <tr>\n",
       "      <th>0</th>\n",
       "      <td>528031</td>\n",
       "      <td>52</td>\n",
       "      <td>16.0</td>\n",
       "      <td>7.610732e+11</td>\n",
       "      <td>14.0</td>\n",
       "      <td>0.0</td>\n",
       "      <td>0.0</td>\n",
       "      <td>205.0</td>\n",
       "      <td>832.0</td>\n",
       "      <td>0.269231</td>\n",
       "      <td>0.000000</td>\n",
       "      <td>0.000000</td>\n",
       "      <td>0.246394</td>\n",
       "      <td>0.246847</td>\n",
       "    </tr>\n",
       "    <tr>\n",
       "      <th>1</th>\n",
       "      <td>3141045</td>\n",
       "      <td>189</td>\n",
       "      <td>10.0</td>\n",
       "      <td>7.610734e+11</td>\n",
       "      <td>63.0</td>\n",
       "      <td>1.0</td>\n",
       "      <td>0.0</td>\n",
       "      <td>728.0</td>\n",
       "      <td>1890.0</td>\n",
       "      <td>0.333333</td>\n",
       "      <td>0.005291</td>\n",
       "      <td>0.000000</td>\n",
       "      <td>0.385185</td>\n",
       "      <td>0.320874</td>\n",
       "    </tr>\n",
       "    <tr>\n",
       "      <th>2</th>\n",
       "      <td>6410672</td>\n",
       "      <td>157</td>\n",
       "      <td>13.0</td>\n",
       "      <td>7.610727e+11</td>\n",
       "      <td>33.0</td>\n",
       "      <td>0.0</td>\n",
       "      <td>1.0</td>\n",
       "      <td>465.0</td>\n",
       "      <td>2041.0</td>\n",
       "      <td>0.210191</td>\n",
       "      <td>0.000000</td>\n",
       "      <td>0.006369</td>\n",
       "      <td>0.227829</td>\n",
       "      <td>0.206873</td>\n",
       "    </tr>\n",
       "    <tr>\n",
       "      <th>3</th>\n",
       "      <td>6031965</td>\n",
       "      <td>8</td>\n",
       "      <td>11.0</td>\n",
       "      <td>7.610795e+11</td>\n",
       "      <td>1.0</td>\n",
       "      <td>0.0</td>\n",
       "      <td>0.0</td>\n",
       "      <td>7.0</td>\n",
       "      <td>88.0</td>\n",
       "      <td>0.125000</td>\n",
       "      <td>0.000000</td>\n",
       "      <td>0.000000</td>\n",
       "      <td>0.079545</td>\n",
       "      <td>0.158058</td>\n",
       "    </tr>\n",
       "    <tr>\n",
       "      <th>4</th>\n",
       "      <td>492513</td>\n",
       "      <td>1</td>\n",
       "      <td>11.0</td>\n",
       "      <td>7.610718e+11</td>\n",
       "      <td>0.0</td>\n",
       "      <td>0.0</td>\n",
       "      <td>0.0</td>\n",
       "      <td>0.0</td>\n",
       "      <td>11.0</td>\n",
       "      <td>0.000000</td>\n",
       "      <td>0.000000</td>\n",
       "      <td>0.000000</td>\n",
       "      <td>0.000000</td>\n",
       "      <td>0.164285</td>\n",
       "    </tr>\n",
       "  </tbody>\n",
       "</table>\n",
       "</div>"
      ],
      "text/plain": [
       "   photo_id  exposure_num  duration_time          time  clicked_num  \\\n",
       "0    528031            52           16.0  7.610732e+11         14.0   \n",
       "1   3141045           189           10.0  7.610734e+11         63.0   \n",
       "2   6410672           157           13.0  7.610727e+11         33.0   \n",
       "3   6031965             8           11.0  7.610795e+11          1.0   \n",
       "4    492513             1           11.0  7.610718e+11          0.0   \n",
       "\n",
       "   liked_num  followed_num  played_sum  duration_sum  clicked_ratio  \\\n",
       "0        0.0           0.0       205.0         832.0       0.269231   \n",
       "1        1.0           0.0       728.0        1890.0       0.333333   \n",
       "2        0.0           1.0       465.0        2041.0       0.210191   \n",
       "3        0.0           0.0         7.0          88.0       0.125000   \n",
       "4        0.0           0.0         0.0          11.0       0.000000   \n",
       "\n",
       "   liked_ratio  followed_ratio  played_ratio  smooth_clicked_ratio  \n",
       "0     0.000000        0.000000      0.246394              0.246847  \n",
       "1     0.005291        0.000000      0.385185              0.320874  \n",
       "2     0.000000        0.006369      0.227829              0.206873  \n",
       "3     0.000000        0.000000      0.079545              0.158058  \n",
       "4     0.000000        0.000000      0.000000              0.164285  "
      ]
     },
     "execution_count": 85,
     "metadata": {},
     "output_type": "execute_result"
    }
   ],
   "source": [
    "photo_train.head()"
   ]
  },
  {
   "cell_type": "code",
   "execution_count": 86,
   "metadata": {},
   "outputs": [
    {
     "name": "stderr",
     "output_type": "stream",
     "text": [
      "/Library/Python/2.7/site-packages/ipykernel_launcher.py:1: SettingWithCopyWarning: \n",
      "A value is trying to be set on a copy of a slice from a DataFrame.\n",
      "Try using .loc[row_indexer,col_indexer] = value instead\n",
      "\n",
      "See the caveats in the documentation: http://pandas.pydata.org/pandas-docs/stable/indexing.html#indexing-view-versus-copy\n",
      "  \"\"\"Entry point for launching an IPython kernel.\n"
     ]
    }
   ],
   "source": [
    "photo_train['clicked_ratio'] = photo_train['smooth_clicked_ratio']\n"
   ]
  },
  {
   "cell_type": "code",
   "execution_count": 87,
   "metadata": {},
   "outputs": [],
   "source": [
    "clicked_ratio_col_train = pd.merge(user_item_train[['user_id', 'photo_id']], photo_train[['photo_id', 'clicked_ratio']],\n",
    "                                  how='left',\n",
    "                                  on=['photo_id'])"
   ]
  },
  {
   "cell_type": "code",
   "execution_count": 88,
   "metadata": {},
   "outputs": [
    {
     "data": {
      "text/html": [
       "<div>\n",
       "<style>\n",
       "    .dataframe thead tr:only-child th {\n",
       "        text-align: right;\n",
       "    }\n",
       "\n",
       "    .dataframe thead th {\n",
       "        text-align: left;\n",
       "    }\n",
       "\n",
       "    .dataframe tbody tr th {\n",
       "        vertical-align: top;\n",
       "    }\n",
       "</style>\n",
       "<table border=\"1\" class=\"dataframe\">\n",
       "  <thead>\n",
       "    <tr style=\"text-align: right;\">\n",
       "      <th></th>\n",
       "      <th>user_id</th>\n",
       "      <th>photo_id</th>\n",
       "      <th>clicked_ratio</th>\n",
       "    </tr>\n",
       "  </thead>\n",
       "  <tbody>\n",
       "    <tr>\n",
       "      <th>0</th>\n",
       "      <td>2</td>\n",
       "      <td>528031</td>\n",
       "      <td>0.246847</td>\n",
       "    </tr>\n",
       "    <tr>\n",
       "      <th>1</th>\n",
       "      <td>2</td>\n",
       "      <td>3141045</td>\n",
       "      <td>0.320874</td>\n",
       "    </tr>\n",
       "    <tr>\n",
       "      <th>2</th>\n",
       "      <td>2</td>\n",
       "      <td>6410672</td>\n",
       "      <td>0.206873</td>\n",
       "    </tr>\n",
       "    <tr>\n",
       "      <th>3</th>\n",
       "      <td>2</td>\n",
       "      <td>6031965</td>\n",
       "      <td>0.158058</td>\n",
       "    </tr>\n",
       "    <tr>\n",
       "      <th>4</th>\n",
       "      <td>2</td>\n",
       "      <td>492513</td>\n",
       "      <td>0.164285</td>\n",
       "    </tr>\n",
       "  </tbody>\n",
       "</table>\n",
       "</div>"
      ],
      "text/plain": [
       "   user_id  photo_id  clicked_ratio\n",
       "0        2    528031       0.246847\n",
       "1        2   3141045       0.320874\n",
       "2        2   6410672       0.206873\n",
       "3        2   6031965       0.158058\n",
       "4        2    492513       0.164285"
      ]
     },
     "execution_count": 88,
     "metadata": {},
     "output_type": "execute_result"
    }
   ],
   "source": [
    "clicked_ratio_col_train.head()"
   ]
  },
  {
   "cell_type": "code",
   "execution_count": 89,
   "metadata": {},
   "outputs": [],
   "source": [
    "clicked_ratio_col_train.to_csv(os.path.join(col_feature_store_path, 'clicked_ratio_train.csv'), sep='\\t', index=False)"
   ]
  },
  {
   "cell_type": "code",
   "execution_count": 137,
   "metadata": {},
   "outputs": [
    {
     "data": {
      "text/html": [
       "<div>\n",
       "<style>\n",
       "    .dataframe thead tr:only-child th {\n",
       "        text-align: right;\n",
       "    }\n",
       "\n",
       "    .dataframe thead th {\n",
       "        text-align: left;\n",
       "    }\n",
       "\n",
       "    .dataframe tbody tr th {\n",
       "        vertical-align: top;\n",
       "    }\n",
       "</style>\n",
       "<table border=\"1\" class=\"dataframe\">\n",
       "  <thead>\n",
       "    <tr style=\"text-align: right;\">\n",
       "      <th></th>\n",
       "      <th>photo_id</th>\n",
       "      <th>exposure_num</th>\n",
       "      <th>duration_time</th>\n",
       "      <th>time</th>\n",
       "      <th>clicked_num</th>\n",
       "      <th>liked_num</th>\n",
       "      <th>followed_num</th>\n",
       "      <th>played_sum</th>\n",
       "      <th>duration_sum</th>\n",
       "      <th>clicked_ratio</th>\n",
       "      <th>liked_ratio</th>\n",
       "      <th>followed_ratio</th>\n",
       "      <th>played_ratio</th>\n",
       "      <th>smooth_clicked_ratio</th>\n",
       "    </tr>\n",
       "  </thead>\n",
       "  <tbody>\n",
       "    <tr>\n",
       "      <th>1112781</th>\n",
       "      <td>8493743</td>\n",
       "      <td>83</td>\n",
       "      <td>NaN</td>\n",
       "      <td>NaN</td>\n",
       "      <td>NaN</td>\n",
       "      <td>NaN</td>\n",
       "      <td>NaN</td>\n",
       "      <td>NaN</td>\n",
       "      <td>NaN</td>\n",
       "      <td>0.421666</td>\n",
       "      <td>NaN</td>\n",
       "      <td>NaN</td>\n",
       "      <td>NaN</td>\n",
       "      <td>NaN</td>\n",
       "    </tr>\n",
       "    <tr>\n",
       "      <th>1112782</th>\n",
       "      <td>8676804</td>\n",
       "      <td>7</td>\n",
       "      <td>NaN</td>\n",
       "      <td>NaN</td>\n",
       "      <td>NaN</td>\n",
       "      <td>NaN</td>\n",
       "      <td>NaN</td>\n",
       "      <td>NaN</td>\n",
       "      <td>NaN</td>\n",
       "      <td>0.321698</td>\n",
       "      <td>NaN</td>\n",
       "      <td>NaN</td>\n",
       "      <td>NaN</td>\n",
       "      <td>NaN</td>\n",
       "    </tr>\n",
       "    <tr>\n",
       "      <th>1112783</th>\n",
       "      <td>8389617</td>\n",
       "      <td>165</td>\n",
       "      <td>NaN</td>\n",
       "      <td>NaN</td>\n",
       "      <td>NaN</td>\n",
       "      <td>NaN</td>\n",
       "      <td>NaN</td>\n",
       "      <td>NaN</td>\n",
       "      <td>NaN</td>\n",
       "      <td>0.482907</td>\n",
       "      <td>NaN</td>\n",
       "      <td>NaN</td>\n",
       "      <td>NaN</td>\n",
       "      <td>NaN</td>\n",
       "    </tr>\n",
       "    <tr>\n",
       "      <th>1112784</th>\n",
       "      <td>9080838</td>\n",
       "      <td>2</td>\n",
       "      <td>NaN</td>\n",
       "      <td>NaN</td>\n",
       "      <td>NaN</td>\n",
       "      <td>NaN</td>\n",
       "      <td>NaN</td>\n",
       "      <td>NaN</td>\n",
       "      <td>NaN</td>\n",
       "      <td>0.277770</td>\n",
       "      <td>NaN</td>\n",
       "      <td>NaN</td>\n",
       "      <td>NaN</td>\n",
       "      <td>NaN</td>\n",
       "    </tr>\n",
       "    <tr>\n",
       "      <th>1112785</th>\n",
       "      <td>8962078</td>\n",
       "      <td>3</td>\n",
       "      <td>NaN</td>\n",
       "      <td>NaN</td>\n",
       "      <td>NaN</td>\n",
       "      <td>NaN</td>\n",
       "      <td>NaN</td>\n",
       "      <td>NaN</td>\n",
       "      <td>NaN</td>\n",
       "      <td>0.131625</td>\n",
       "      <td>NaN</td>\n",
       "      <td>NaN</td>\n",
       "      <td>NaN</td>\n",
       "      <td>NaN</td>\n",
       "    </tr>\n",
       "  </tbody>\n",
       "</table>\n",
       "</div>"
      ],
      "text/plain": [
       "         photo_id  exposure_num  duration_time  time  clicked_num  liked_num  \\\n",
       "1112781   8493743            83            NaN   NaN          NaN        NaN   \n",
       "1112782   8676804             7            NaN   NaN          NaN        NaN   \n",
       "1112783   8389617           165            NaN   NaN          NaN        NaN   \n",
       "1112784   9080838             2            NaN   NaN          NaN        NaN   \n",
       "1112785   8962078             3            NaN   NaN          NaN        NaN   \n",
       "\n",
       "         followed_num  played_sum  duration_sum  clicked_ratio  liked_ratio  \\\n",
       "1112781           NaN         NaN           NaN       0.421666          NaN   \n",
       "1112782           NaN         NaN           NaN       0.321698          NaN   \n",
       "1112783           NaN         NaN           NaN       0.482907          NaN   \n",
       "1112784           NaN         NaN           NaN       0.277770          NaN   \n",
       "1112785           NaN         NaN           NaN       0.131625          NaN   \n",
       "\n",
       "         followed_ratio  played_ratio  smooth_clicked_ratio  \n",
       "1112781             NaN           NaN                   NaN  \n",
       "1112782             NaN           NaN                   NaN  \n",
       "1112783             NaN           NaN                   NaN  \n",
       "1112784             NaN           NaN                   NaN  \n",
       "1112785             NaN           NaN                   NaN  "
      ]
     },
     "execution_count": 137,
     "metadata": {},
     "output_type": "execute_result"
    }
   ],
   "source": [
    "photo_test.head()"
   ]
  },
  {
   "cell_type": "code",
   "execution_count": 138,
   "metadata": {},
   "outputs": [],
   "source": [
    "clicked_ratio_col_test = pd.merge(user_item_test[['user_id', 'photo_id']], photo_test[['photo_id', 'clicked_ratio']],\n",
    "                                  how='left',\n",
    "                                  on=['photo_id'])"
   ]
  },
  {
   "cell_type": "code",
   "execution_count": 139,
   "metadata": {},
   "outputs": [
    {
     "data": {
      "text/html": [
       "<div>\n",
       "<style>\n",
       "    .dataframe thead tr:only-child th {\n",
       "        text-align: right;\n",
       "    }\n",
       "\n",
       "    .dataframe thead th {\n",
       "        text-align: left;\n",
       "    }\n",
       "\n",
       "    .dataframe tbody tr th {\n",
       "        vertical-align: top;\n",
       "    }\n",
       "</style>\n",
       "<table border=\"1\" class=\"dataframe\">\n",
       "  <thead>\n",
       "    <tr style=\"text-align: right;\">\n",
       "      <th></th>\n",
       "      <th>user_id</th>\n",
       "      <th>photo_id</th>\n",
       "      <th>clicked_ratio</th>\n",
       "    </tr>\n",
       "  </thead>\n",
       "  <tbody>\n",
       "    <tr>\n",
       "      <th>0</th>\n",
       "      <td>2</td>\n",
       "      <td>8493743</td>\n",
       "      <td>0.421666</td>\n",
       "    </tr>\n",
       "    <tr>\n",
       "      <th>1</th>\n",
       "      <td>2</td>\n",
       "      <td>8676804</td>\n",
       "      <td>0.321698</td>\n",
       "    </tr>\n",
       "    <tr>\n",
       "      <th>2</th>\n",
       "      <td>2</td>\n",
       "      <td>8389617</td>\n",
       "      <td>0.482907</td>\n",
       "    </tr>\n",
       "    <tr>\n",
       "      <th>3</th>\n",
       "      <td>2</td>\n",
       "      <td>9080838</td>\n",
       "      <td>0.277770</td>\n",
       "    </tr>\n",
       "    <tr>\n",
       "      <th>4</th>\n",
       "      <td>2</td>\n",
       "      <td>8962078</td>\n",
       "      <td>0.131625</td>\n",
       "    </tr>\n",
       "  </tbody>\n",
       "</table>\n",
       "</div>"
      ],
      "text/plain": [
       "   user_id  photo_id  clicked_ratio\n",
       "0        2   8493743       0.421666\n",
       "1        2   8676804       0.321698\n",
       "2        2   8389617       0.482907\n",
       "3        2   9080838       0.277770\n",
       "4        2   8962078       0.131625"
      ]
     },
     "execution_count": 139,
     "metadata": {},
     "output_type": "execute_result"
    }
   ],
   "source": [
    "clicked_ratio_col_test.head()"
   ]
  },
  {
   "cell_type": "code",
   "execution_count": 140,
   "metadata": {},
   "outputs": [],
   "source": [
    "clicked_ratio_col_test.to_csv(os.path.join(col_feature_store_path, 'clicked_ratio_test.csv'), sep='\\t', index=False)"
   ]
  },
  {
   "cell_type": "code",
   "execution_count": 94,
   "metadata": {},
   "outputs": [],
   "source": [
    "clicked_num_train = pd.merge(user_item_train[['user_id', 'photo_id']], photo_train[['photo_id', 'clicked_num']],\n",
    "                            how='left',\n",
    "                            on=['photo_id'])"
   ]
  },
  {
   "cell_type": "code",
   "execution_count": 95,
   "metadata": {},
   "outputs": [],
   "source": [
    "clicked_num_train.to_csv(os.path.join(col_feature_store_path, 'clicked_num_train.csv'), sep='\\t', index=False)"
   ]
  },
  {
   "cell_type": "code",
   "execution_count": 96,
   "metadata": {},
   "outputs": [
    {
     "data": {
      "text/plain": [
       "<matplotlib.axes.AxesSubplot at 0x117ede750>"
      ]
     },
     "execution_count": 96,
     "metadata": {},
     "output_type": "execute_result"
    },
    {
     "data": {
      "image/png": "[encoded data removed]",
      "text/plain": [
       "<matplotlib.figure.Figure at 0x14375f5d0>"
      ]
     },
     "metadata": {},
     "output_type": "display_data"
    }
   ],
   "source": [
    "photo_train[['exposure_num',  'clicked_num']].plot(figsize=(20,8), kind='line')"
   ]
  },
  {
   "cell_type": "code",
   "execution_count": 97,
   "metadata": {},
   "outputs": [
    {
     "data": {
      "text/plain": [
       "<matplotlib.axes.AxesSubplot at 0x13ceff290>"
      ]
     },
     "execution_count": 97,
     "metadata": {},
     "output_type": "execute_result"
    },
    {
     "data": {
      "image/png": "[encoded data removed]",
      "text/plain": [
       "<matplotlib.figure.Figure at 0x146fdb050>"
      ]
     },
     "metadata": {},
     "output_type": "display_data"
    }
   ],
   "source": [
    "photo_test.exposure_num.plot(figsize=(20, 5))"
   ]
  },
  {
   "cell_type": "code",
   "execution_count": 98,
   "metadata": {},
   "outputs": [
    {
     "data": {
      "text/plain": [
       "865543"
      ]
     },
     "execution_count": 98,
     "metadata": {},
     "output_type": "execute_result"
    }
   ],
   "source": [
    "np.sum(photo_train['clicked_num']==0)"
   ]
  },
  {
   "cell_type": "code",
   "execution_count": 99,
   "metadata": {},
   "outputs": [
    {
     "name": "stdout",
     "output_type": "stream",
     "text": [
      "clicked_num - exposure_num: SpearmanrResult(correlation=0.5279037762643057, pvalue=0.0)\n"
     ]
    }
   ],
   "source": [
    "from scipy.stats import spearmanr\n",
    "\n",
    "corrscore = spearmanr(photo_train['clicked_num'], photo_train['exposure_num'])\n",
    "print('clicked_num - exposure_num: %s' % (str(corrscore)))"
   ]
  },
  {
   "cell_type": "code",
   "execution_count": 100,
   "metadata": {},
   "outputs": [
    {
     "name": "stdout",
     "output_type": "stream",
     "text": [
      "clicked_ratio - exposure_num: SpearmanrResult(correlation=-0.027222535868907417, pvalue=2.031908949218776e-181)\n"
     ]
    }
   ],
   "source": [
    "corrscore = spearmanr(photo_train['clicked_ratio'], photo_train['exposure_num'])\n",
    "print('clicked_ratio - exposure_num: %s' % (str(corrscore)))"
   ]
  },
  {
   "cell_type": "code",
   "execution_count": 101,
   "metadata": {},
   "outputs": [
    {
     "data": {
      "text/plain": [
       "[<matplotlib.lines.Line2D at 0x1395cafd0>]"
      ]
     },
     "execution_count": 101,
     "metadata": {},
     "output_type": "execute_result"
    },
    {
     "data": {
      "image/png": "[encoded data removed]",
      "text/plain": [
       "<matplotlib.figure.Figure at 0x13cf29790>"
      ]
     },
     "metadata": {},
     "output_type": "display_data"
    }
   ],
   "source": [
    "plt.figure()\n",
    "plt.plot(photo_train['exposure_num'].values, photo_train['clicked_num'].values)"
   ]
  },
  {
   "cell_type": "code",
   "execution_count": 102,
   "metadata": {},
   "outputs": [
    {
     "name": "stderr",
     "output_type": "stream",
     "text": [
      "/Library/Python/2.7/site-packages/scipy/linalg/basic.py:1226: RuntimeWarning: internal gelsd driver lwork query error, required iwork dimension not returned. This is likely the result of LAPACK bug 0038, fixed in LAPACK 3.2.2 (released July 21, 2010). Falling back to 'gelss' driver.\n",
      "  warnings.warn(mesg, RuntimeWarning)\n"
     ]
    },
    {
     "data": {
      "text/plain": [
       "LinearRegression(copy_X=True, fit_intercept=True, n_jobs=1, normalize=False)"
      ]
     },
     "execution_count": 102,
     "metadata": {},
     "output_type": "execute_result"
    }
   ],
   "source": [
    "from sklearn.linear_model import LinearRegression\n",
    "\n",
    "clf = LinearRegression()\n",
    "X = photo_train['exposure_num'].values.reshape((-1,1))\n",
    "y = photo_train['clicked_num'].values.reshape((-1,1))\n",
    "clf.fit(X, y)"
   ]
  },
  {
   "cell_type": "code",
   "execution_count": 103,
   "metadata": {},
   "outputs": [
    {
     "name": "stderr",
     "output_type": "stream",
     "text": [
      "/Library/Python/2.7/site-packages/ipykernel_launcher.py:1: SettingWithCopyWarning: \n",
      "A value is trying to be set on a copy of a slice from a DataFrame.\n",
      "Try using .loc[row_indexer,col_indexer] = value instead\n",
      "\n",
      "See the caveats in the documentation: http://pandas.pydata.org/pandas-docs/stable/indexing.html#indexing-view-versus-copy\n",
      "  \"\"\"Entry point for launching an IPython kernel.\n"
     ]
    }
   ],
   "source": [
    "photo_test['clicked_num'] = clf.predict(photo_test['exposure_num'].values.reshape((-1,1)))"
   ]
  },
  {
   "cell_type": "code",
   "execution_count": 104,
   "metadata": {},
   "outputs": [],
   "source": [
    "photo_test[photo_test['clicked_num'] < 0]['clicked_num'] = 0"
   ]
  },
  {
   "cell_type": "code",
   "execution_count": 105,
   "metadata": {},
   "outputs": [
    {
     "data": {
      "text/plain": [
       "<matplotlib.axes.AxesSubplot at 0x13cdbdf10>"
      ]
     },
     "execution_count": 105,
     "metadata": {},
     "output_type": "execute_result"
    },
    {
     "data": {
      "image/png": "[encoded data removed]",
      "text/plain": [
       "<matplotlib.figure.Figure at 0x1407e1910>"
      ]
     },
     "metadata": {},
     "output_type": "display_data"
    }
   ],
   "source": [
    "photo_test[['exposure_num',  'clicked_num']].plot(figsize=(20,8), kind='line')"
   ]
  },
  {
   "cell_type": "code",
   "execution_count": 94,
   "metadata": {},
   "outputs": [
    {
     "data": {
      "text/plain": [
       "[<matplotlib.lines.Line2D at 0x19fca3790>]"
      ]
     },
     "execution_count": 94,
     "metadata": {},
     "output_type": "execute_result"
    },
    {
     "data": {
      "image/png": "[encoded data removed]",
      "text/plain": [
       "<matplotlib.figure.Figure at 0x1b6e11490>"
      ]
     },
     "metadata": {},
     "output_type": "display_data"
    }
   ],
   "source": [
    "import matplotlib as mpl\n",
    "mpl.rcParams['lines.linewidth'] = 1\n",
    "mpl.rcParams['lines.color'] = 'r'\n",
    "mpl.rcParams['agg.path.chunksize'] = 100000\n",
    "\n",
    "plt.figure()\n",
    "plt.plot(photo_train['exposure_num'].values, photo_train['clicked_ratio'].values, color='red')"
   ]
  },
  {
   "cell_type": "code",
   "execution_count": 97,
   "metadata": {},
   "outputs": [
    {
     "name": "stderr",
     "output_type": "stream",
     "text": [
      "/Library/Python/2.7/site-packages/ipykernel_launcher.py:10: SettingWithCopyWarning: \n",
      "A value is trying to be set on a copy of a slice from a DataFrame.\n",
      "Try using .loc[row_indexer,col_indexer] = value instead\n",
      "\n",
      "See the caveats in the documentation: http://pandas.pydata.org/pandas-docs/stable/indexing.html#indexing-view-versus-copy\n",
      "  # Remove the CWD from sys.path while we load stuff.\n"
     ]
    }
   ],
   "source": [
    "# 对用户点击率做贝叶斯平滑\n",
    "I, C = photo_test['exposure_num'].values, photo_test['clicked_num'].values\n",
    "#bs.update(I, C, 10000, 0.0000000001)\n",
    "#print(bs.alpha, bs.beta)\n",
    "#alpha_item, beta_item = bs.alpha, bs.beta\n",
    "alpha_item, beta_item = 2.8072236088257325, 13.280311727786964\n",
    "ctr = []\n",
    "for i in range(len(I)):\n",
    "    ctr.append((C[i]+alpha_item)/(I[i]+alpha_item+beta_item))\n",
    "photo_test['clicked_ratio'] = ctr\n"
   ]
  },
  {
   "cell_type": "code",
   "execution_count": 98,
   "metadata": {},
   "outputs": [
    {
     "data": {
      "text/plain": [
       "0.17449681073501258"
      ]
     },
     "execution_count": 98,
     "metadata": {},
     "output_type": "execute_result"
    }
   ],
   "source": [
    "alpha_item/(alpha_item+beta_item)"
   ]
  },
  {
   "cell_type": "code",
   "execution_count": 99,
   "metadata": {},
   "outputs": [],
   "source": [
    "# photo_data.clicked_ratio.fillna(alpha_item/(alpha_item+beta_item), inplace=True)"
   ]
  },
  {
   "cell_type": "code",
   "execution_count": 100,
   "metadata": {},
   "outputs": [
    {
     "data": {
      "text/plain": [
       "<matplotlib.axes.AxesSubplot at 0x1b693c6d0>"
      ]
     },
     "execution_count": 100,
     "metadata": {},
     "output_type": "execute_result"
    },
    {
     "data": {
      "image/png": "[encoded data removed]",
      "text/plain": [
       "<matplotlib.figure.Figure at 0x1b670f590>"
      ]
     },
     "metadata": {},
     "output_type": "display_data"
    }
   ],
   "source": [
    "photo_test.clicked_ratio.plot(figsize=(20, 5))"
   ]
  },
  {
   "cell_type": "code",
   "execution_count": 199,
   "metadata": {},
   "outputs": [
    {
     "data": {
      "text/plain": [
       "0"
      ]
     },
     "execution_count": 199,
     "metadata": {},
     "output_type": "execute_result"
    }
   ],
   "source": [
    "np.sum(photo_data.clicked_ratio.isnull())"
   ]
  },
  {
   "cell_type": "code",
   "execution_count": 200,
   "metadata": {},
   "outputs": [],
   "source": [
    "def exposure_time_diff(group):\n",
    "#     print(group.head())\n",
    "    m1, m2 = group.min(), group.max()\n",
    "    return (m2 - m1) / 1000"
   ]
  },
  {
   "cell_type": "code",
   "execution_count": 201,
   "metadata": {},
   "outputs": [],
   "source": [
    "# user_train, user_test = user_item_train[common], user_item_test[common]\n",
    "\n",
    "# user_item_data = pd.concat([user_train, user_test])\n",
    "# photo_data = pd.DataFrame()\n",
    "# photo_data['photo_id'] = user_item_data['photo_id']\n",
    "# photo_data['exposure_num'] = user_item_data['photo_id'].groupby(user_item_data['photo_id']).transform('count') \n",
    "# photo_data['exposure_time_diff'] = user_item_data['time'].groupby(user_item_data['photo_id']).transform(exposure_time_diff)\n",
    "# photo_data.drop_duplicates(inplace=True)\n",
    "\n",
    "\n",
    "# photo_data['exposure_freq'] = photo_data['exposure_num'] / photo_data['exposure_time_diff']\n",
    "\n",
    "# photo_data.drop(['exposure_num'], axis=1, inplace=True)"
   ]
  },
  {
   "cell_type": "code",
   "execution_count": 202,
   "metadata": {},
   "outputs": [
    {
     "data": {
      "text/html": [
       "<div>\n",
       "<style>\n",
       "    .dataframe thead tr:only-child th {\n",
       "        text-align: right;\n",
       "    }\n",
       "\n",
       "    .dataframe thead th {\n",
       "        text-align: left;\n",
       "    }\n",
       "\n",
       "    .dataframe tbody tr th {\n",
       "        vertical-align: top;\n",
       "    }\n",
       "</style>\n",
       "<table border=\"1\" class=\"dataframe\">\n",
       "  <thead>\n",
       "    <tr style=\"text-align: right;\">\n",
       "      <th></th>\n",
       "      <th>photo_id</th>\n",
       "      <th>exposure_num</th>\n",
       "      <th>duration_time</th>\n",
       "      <th>time</th>\n",
       "      <th>clicked_num</th>\n",
       "      <th>liked_num</th>\n",
       "      <th>followed_num</th>\n",
       "      <th>played_sum</th>\n",
       "      <th>duration_sum</th>\n",
       "      <th>clicked_ratio</th>\n",
       "      <th>liked_ratio</th>\n",
       "      <th>followed_ratio</th>\n",
       "      <th>played_ratio</th>\n",
       "    </tr>\n",
       "  </thead>\n",
       "  <tbody>\n",
       "    <tr>\n",
       "      <th>0</th>\n",
       "      <td>6484142</td>\n",
       "      <td>13</td>\n",
       "      <td>11.0</td>\n",
       "      <td>7.610366e+11</td>\n",
       "      <td>5.0</td>\n",
       "      <td>0.0</td>\n",
       "      <td>0.0</td>\n",
       "      <td>34.0</td>\n",
       "      <td>143.0</td>\n",
       "      <td>0.268404</td>\n",
       "      <td>0.000000</td>\n",
       "      <td>0.000000</td>\n",
       "      <td>0.237762</td>\n",
       "    </tr>\n",
       "    <tr>\n",
       "      <th>1</th>\n",
       "      <td>4647664</td>\n",
       "      <td>2</td>\n",
       "      <td>11.0</td>\n",
       "      <td>7.610355e+11</td>\n",
       "      <td>1.0</td>\n",
       "      <td>0.0</td>\n",
       "      <td>0.0</td>\n",
       "      <td>12.0</td>\n",
       "      <td>22.0</td>\n",
       "      <td>0.210489</td>\n",
       "      <td>0.000000</td>\n",
       "      <td>0.000000</td>\n",
       "      <td>0.545455</td>\n",
       "    </tr>\n",
       "    <tr>\n",
       "      <th>2</th>\n",
       "      <td>4994626</td>\n",
       "      <td>34</td>\n",
       "      <td>10.0</td>\n",
       "      <td>7.610369e+11</td>\n",
       "      <td>9.0</td>\n",
       "      <td>0.0</td>\n",
       "      <td>0.0</td>\n",
       "      <td>72.0</td>\n",
       "      <td>340.0</td>\n",
       "      <td>0.235732</td>\n",
       "      <td>0.000000</td>\n",
       "      <td>0.000000</td>\n",
       "      <td>0.211765</td>\n",
       "    </tr>\n",
       "    <tr>\n",
       "      <th>3</th>\n",
       "      <td>4416881</td>\n",
       "      <td>1</td>\n",
       "      <td>9.0</td>\n",
       "      <td>7.611192e+11</td>\n",
       "      <td>0.0</td>\n",
       "      <td>0.0</td>\n",
       "      <td>0.0</td>\n",
       "      <td>0.0</td>\n",
       "      <td>9.0</td>\n",
       "      <td>0.164285</td>\n",
       "      <td>0.000000</td>\n",
       "      <td>0.000000</td>\n",
       "      <td>0.000000</td>\n",
       "    </tr>\n",
       "    <tr>\n",
       "      <th>4</th>\n",
       "      <td>2597756</td>\n",
       "      <td>2</td>\n",
       "      <td>11.0</td>\n",
       "      <td>7.611194e+11</td>\n",
       "      <td>0.0</td>\n",
       "      <td>0.0</td>\n",
       "      <td>0.0</td>\n",
       "      <td>0.0</td>\n",
       "      <td>22.0</td>\n",
       "      <td>0.155202</td>\n",
       "      <td>0.000000</td>\n",
       "      <td>0.000000</td>\n",
       "      <td>0.000000</td>\n",
       "    </tr>\n",
       "    <tr>\n",
       "      <th>5</th>\n",
       "      <td>4977481</td>\n",
       "      <td>155</td>\n",
       "      <td>11.0</td>\n",
       "      <td>7.610347e+11</td>\n",
       "      <td>71.0</td>\n",
       "      <td>0.0</td>\n",
       "      <td>0.0</td>\n",
       "      <td>744.0</td>\n",
       "      <td>1705.0</td>\n",
       "      <td>0.431400</td>\n",
       "      <td>0.000000</td>\n",
       "      <td>0.000000</td>\n",
       "      <td>0.436364</td>\n",
       "    </tr>\n",
       "    <tr>\n",
       "      <th>6</th>\n",
       "      <td>5089000</td>\n",
       "      <td>852</td>\n",
       "      <td>10.0</td>\n",
       "      <td>7.610358e+11</td>\n",
       "      <td>366.0</td>\n",
       "      <td>14.0</td>\n",
       "      <td>3.0</td>\n",
       "      <td>2922.0</td>\n",
       "      <td>8520.0</td>\n",
       "      <td>0.424850</td>\n",
       "      <td>0.016432</td>\n",
       "      <td>0.003521</td>\n",
       "      <td>0.342958</td>\n",
       "    </tr>\n",
       "    <tr>\n",
       "      <th>7</th>\n",
       "      <td>693195</td>\n",
       "      <td>55</td>\n",
       "      <td>11.0</td>\n",
       "      <td>7.610350e+11</td>\n",
       "      <td>18.0</td>\n",
       "      <td>0.0</td>\n",
       "      <td>0.0</td>\n",
       "      <td>173.0</td>\n",
       "      <td>605.0</td>\n",
       "      <td>0.292699</td>\n",
       "      <td>0.000000</td>\n",
       "      <td>0.000000</td>\n",
       "      <td>0.285950</td>\n",
       "    </tr>\n",
       "    <tr>\n",
       "      <th>8</th>\n",
       "      <td>163901</td>\n",
       "      <td>265</td>\n",
       "      <td>17.0</td>\n",
       "      <td>7.610344e+11</td>\n",
       "      <td>101.0</td>\n",
       "      <td>1.0</td>\n",
       "      <td>0.0</td>\n",
       "      <td>1244.0</td>\n",
       "      <td>4505.0</td>\n",
       "      <td>0.369306</td>\n",
       "      <td>0.003774</td>\n",
       "      <td>0.000000</td>\n",
       "      <td>0.276138</td>\n",
       "    </tr>\n",
       "    <tr>\n",
       "      <th>9</th>\n",
       "      <td>6472236</td>\n",
       "      <td>1</td>\n",
       "      <td>7.0</td>\n",
       "      <td>7.610357e+11</td>\n",
       "      <td>0.0</td>\n",
       "      <td>0.0</td>\n",
       "      <td>0.0</td>\n",
       "      <td>0.0</td>\n",
       "      <td>7.0</td>\n",
       "      <td>0.164285</td>\n",
       "      <td>0.000000</td>\n",
       "      <td>0.000000</td>\n",
       "      <td>0.000000</td>\n",
       "    </tr>\n",
       "    <tr>\n",
       "      <th>10</th>\n",
       "      <td>4509888</td>\n",
       "      <td>3</td>\n",
       "      <td>8.0</td>\n",
       "      <td>7.610370e+11</td>\n",
       "      <td>0.0</td>\n",
       "      <td>0.0</td>\n",
       "      <td>0.0</td>\n",
       "      <td>0.0</td>\n",
       "      <td>24.0</td>\n",
       "      <td>0.147071</td>\n",
       "      <td>0.000000</td>\n",
       "      <td>0.000000</td>\n",
       "      <td>0.000000</td>\n",
       "    </tr>\n",
       "    <tr>\n",
       "      <th>11</th>\n",
       "      <td>3678099</td>\n",
       "      <td>289</td>\n",
       "      <td>15.0</td>\n",
       "      <td>7.611189e+11</td>\n",
       "      <td>80.0</td>\n",
       "      <td>1.0</td>\n",
       "      <td>1.0</td>\n",
       "      <td>1087.0</td>\n",
       "      <td>4335.0</td>\n",
       "      <td>0.271421</td>\n",
       "      <td>0.003460</td>\n",
       "      <td>0.003460</td>\n",
       "      <td>0.250750</td>\n",
       "    </tr>\n",
       "    <tr>\n",
       "      <th>12</th>\n",
       "      <td>3856567</td>\n",
       "      <td>353</td>\n",
       "      <td>17.0</td>\n",
       "      <td>7.611189e+11</td>\n",
       "      <td>89.0</td>\n",
       "      <td>0.0</td>\n",
       "      <td>2.0</td>\n",
       "      <td>1484.0</td>\n",
       "      <td>6001.0</td>\n",
       "      <td>0.248741</td>\n",
       "      <td>0.000000</td>\n",
       "      <td>0.005666</td>\n",
       "      <td>0.247292</td>\n",
       "    </tr>\n",
       "    <tr>\n",
       "      <th>13</th>\n",
       "      <td>4937691</td>\n",
       "      <td>126</td>\n",
       "      <td>4.0</td>\n",
       "      <td>7.610346e+11</td>\n",
       "      <td>38.0</td>\n",
       "      <td>0.0</td>\n",
       "      <td>0.0</td>\n",
       "      <td>560.0</td>\n",
       "      <td>504.0</td>\n",
       "      <td>0.287198</td>\n",
       "      <td>0.000000</td>\n",
       "      <td>0.000000</td>\n",
       "      <td>1.111111</td>\n",
       "    </tr>\n",
       "    <tr>\n",
       "      <th>14</th>\n",
       "      <td>1140809</td>\n",
       "      <td>25</td>\n",
       "      <td>11.0</td>\n",
       "      <td>7.611192e+11</td>\n",
       "      <td>1.0</td>\n",
       "      <td>0.0</td>\n",
       "      <td>0.0</td>\n",
       "      <td>15.0</td>\n",
       "      <td>275.0</td>\n",
       "      <td>0.092661</td>\n",
       "      <td>0.000000</td>\n",
       "      <td>0.000000</td>\n",
       "      <td>0.054545</td>\n",
       "    </tr>\n",
       "    <tr>\n",
       "      <th>15</th>\n",
       "      <td>730381</td>\n",
       "      <td>34</td>\n",
       "      <td>11.0</td>\n",
       "      <td>7.611191e+11</td>\n",
       "      <td>10.0</td>\n",
       "      <td>0.0</td>\n",
       "      <td>0.0</td>\n",
       "      <td>181.0</td>\n",
       "      <td>374.0</td>\n",
       "      <td>0.255697</td>\n",
       "      <td>0.000000</td>\n",
       "      <td>0.000000</td>\n",
       "      <td>0.483957</td>\n",
       "    </tr>\n",
       "    <tr>\n",
       "      <th>16</th>\n",
       "      <td>5810278</td>\n",
       "      <td>462</td>\n",
       "      <td>17.0</td>\n",
       "      <td>7.610358e+11</td>\n",
       "      <td>158.0</td>\n",
       "      <td>6.0</td>\n",
       "      <td>0.0</td>\n",
       "      <td>1962.0</td>\n",
       "      <td>7854.0</td>\n",
       "      <td>0.336355</td>\n",
       "      <td>0.012987</td>\n",
       "      <td>0.000000</td>\n",
       "      <td>0.249809</td>\n",
       "    </tr>\n",
       "    <tr>\n",
       "      <th>17</th>\n",
       "      <td>99180</td>\n",
       "      <td>184</td>\n",
       "      <td>11.0</td>\n",
       "      <td>7.610346e+11</td>\n",
       "      <td>53.0</td>\n",
       "      <td>0.0</td>\n",
       "      <td>0.0</td>\n",
       "      <td>528.0</td>\n",
       "      <td>2024.0</td>\n",
       "      <td>0.278914</td>\n",
       "      <td>0.000000</td>\n",
       "      <td>0.000000</td>\n",
       "      <td>0.260870</td>\n",
       "    </tr>\n",
       "    <tr>\n",
       "      <th>18</th>\n",
       "      <td>5103484</td>\n",
       "      <td>2</td>\n",
       "      <td>11.0</td>\n",
       "      <td>7.610351e+11</td>\n",
       "      <td>0.0</td>\n",
       "      <td>0.0</td>\n",
       "      <td>0.0</td>\n",
       "      <td>0.0</td>\n",
       "      <td>22.0</td>\n",
       "      <td>0.155202</td>\n",
       "      <td>0.000000</td>\n",
       "      <td>0.000000</td>\n",
       "      <td>0.000000</td>\n",
       "    </tr>\n",
       "    <tr>\n",
       "      <th>19</th>\n",
       "      <td>6394919</td>\n",
       "      <td>11</td>\n",
       "      <td>11.0</td>\n",
       "      <td>7.611194e+11</td>\n",
       "      <td>3.0</td>\n",
       "      <td>0.0</td>\n",
       "      <td>0.0</td>\n",
       "      <td>25.0</td>\n",
       "      <td>121.0</td>\n",
       "      <td>0.214387</td>\n",
       "      <td>0.000000</td>\n",
       "      <td>0.000000</td>\n",
       "      <td>0.206612</td>\n",
       "    </tr>\n",
       "  </tbody>\n",
       "</table>\n",
       "</div>"
      ],
      "text/plain": [
       "    photo_id  exposure_num  duration_time          time  clicked_num  \\\n",
       "0    6484142            13           11.0  7.610366e+11          5.0   \n",
       "1    4647664             2           11.0  7.610355e+11          1.0   \n",
       "2    4994626            34           10.0  7.610369e+11          9.0   \n",
       "3    4416881             1            9.0  7.611192e+11          0.0   \n",
       "4    2597756             2           11.0  7.611194e+11          0.0   \n",
       "5    4977481           155           11.0  7.610347e+11         71.0   \n",
       "6    5089000           852           10.0  7.610358e+11        366.0   \n",
       "7     693195            55           11.0  7.610350e+11         18.0   \n",
       "8     163901           265           17.0  7.610344e+11        101.0   \n",
       "9    6472236             1            7.0  7.610357e+11          0.0   \n",
       "10   4509888             3            8.0  7.610370e+11          0.0   \n",
       "11   3678099           289           15.0  7.611189e+11         80.0   \n",
       "12   3856567           353           17.0  7.611189e+11         89.0   \n",
       "13   4937691           126            4.0  7.610346e+11         38.0   \n",
       "14   1140809            25           11.0  7.611192e+11          1.0   \n",
       "15    730381            34           11.0  7.611191e+11         10.0   \n",
       "16   5810278           462           17.0  7.610358e+11        158.0   \n",
       "17     99180           184           11.0  7.610346e+11         53.0   \n",
       "18   5103484             2           11.0  7.610351e+11          0.0   \n",
       "19   6394919            11           11.0  7.611194e+11          3.0   \n",
       "\n",
       "    liked_num  followed_num  played_sum  duration_sum  clicked_ratio  \\\n",
       "0         0.0           0.0        34.0         143.0       0.268404   \n",
       "1         0.0           0.0        12.0          22.0       0.210489   \n",
       "2         0.0           0.0        72.0         340.0       0.235732   \n",
       "3         0.0           0.0         0.0           9.0       0.164285   \n",
       "4         0.0           0.0         0.0          22.0       0.155202   \n",
       "5         0.0           0.0       744.0        1705.0       0.431400   \n",
       "6        14.0           3.0      2922.0        8520.0       0.424850   \n",
       "7         0.0           0.0       173.0         605.0       0.292699   \n",
       "8         1.0           0.0      1244.0        4505.0       0.369306   \n",
       "9         0.0           0.0         0.0           7.0       0.164285   \n",
       "10        0.0           0.0         0.0          24.0       0.147071   \n",
       "11        1.0           1.0      1087.0        4335.0       0.271421   \n",
       "12        0.0           2.0      1484.0        6001.0       0.248741   \n",
       "13        0.0           0.0       560.0         504.0       0.287198   \n",
       "14        0.0           0.0        15.0         275.0       0.092661   \n",
       "15        0.0           0.0       181.0         374.0       0.255697   \n",
       "16        6.0           0.0      1962.0        7854.0       0.336355   \n",
       "17        0.0           0.0       528.0        2024.0       0.278914   \n",
       "18        0.0           0.0         0.0          22.0       0.155202   \n",
       "19        0.0           0.0        25.0         121.0       0.214387   \n",
       "\n",
       "    liked_ratio  followed_ratio  played_ratio  \n",
       "0      0.000000        0.000000      0.237762  \n",
       "1      0.000000        0.000000      0.545455  \n",
       "2      0.000000        0.000000      0.211765  \n",
       "3      0.000000        0.000000      0.000000  \n",
       "4      0.000000        0.000000      0.000000  \n",
       "5      0.000000        0.000000      0.436364  \n",
       "6      0.016432        0.003521      0.342958  \n",
       "7      0.000000        0.000000      0.285950  \n",
       "8      0.003774        0.000000      0.276138  \n",
       "9      0.000000        0.000000      0.000000  \n",
       "10     0.000000        0.000000      0.000000  \n",
       "11     0.003460        0.003460      0.250750  \n",
       "12     0.000000        0.005666      0.247292  \n",
       "13     0.000000        0.000000      1.111111  \n",
       "14     0.000000        0.000000      0.054545  \n",
       "15     0.000000        0.000000      0.483957  \n",
       "16     0.012987        0.000000      0.249809  \n",
       "17     0.000000        0.000000      0.260870  \n",
       "18     0.000000        0.000000      0.000000  \n",
       "19     0.000000        0.000000      0.206612  "
      ]
     },
     "execution_count": 202,
     "metadata": {},
     "output_type": "execute_result"
    }
   ],
   "source": [
    "photo_data.head(20)"
   ]
  },
  {
   "cell_type": "code",
   "execution_count": 203,
   "metadata": {},
   "outputs": [],
   "source": [
    "photo_data = pd.merge(photo_data, text_data,\n",
    "                     how='left',\n",
    "                     on='photo_id')"
   ]
  },
  {
   "cell_type": "code",
   "execution_count": 204,
   "metadata": {},
   "outputs": [
    {
     "data": {
      "text/html": [
       "<div>\n",
       "<style>\n",
       "    .dataframe thead tr:only-child th {\n",
       "        text-align: right;\n",
       "    }\n",
       "\n",
       "    .dataframe thead th {\n",
       "        text-align: left;\n",
       "    }\n",
       "\n",
       "    .dataframe tbody tr th {\n",
       "        vertical-align: top;\n",
       "    }\n",
       "</style>\n",
       "<table border=\"1\" class=\"dataframe\">\n",
       "  <thead>\n",
       "    <tr style=\"text-align: right;\">\n",
       "      <th></th>\n",
       "      <th>photo_id</th>\n",
       "      <th>exposure_num</th>\n",
       "      <th>duration_time</th>\n",
       "      <th>time</th>\n",
       "      <th>clicked_num</th>\n",
       "      <th>liked_num</th>\n",
       "      <th>followed_num</th>\n",
       "      <th>played_sum</th>\n",
       "      <th>duration_sum</th>\n",
       "      <th>clicked_ratio</th>\n",
       "      <th>liked_ratio</th>\n",
       "      <th>followed_ratio</th>\n",
       "      <th>played_ratio</th>\n",
       "      <th>cover_words</th>\n",
       "      <th>cover_length</th>\n",
       "    </tr>\n",
       "  </thead>\n",
       "  <tbody>\n",
       "    <tr>\n",
       "      <th>0</th>\n",
       "      <td>6484142</td>\n",
       "      <td>13</td>\n",
       "      <td>11.0</td>\n",
       "      <td>7.610366e+11</td>\n",
       "      <td>5.0</td>\n",
       "      <td>0.0</td>\n",
       "      <td>0.0</td>\n",
       "      <td>34.0</td>\n",
       "      <td>143.0</td>\n",
       "      <td>0.268404</td>\n",
       "      <td>0.0</td>\n",
       "      <td>0.0</td>\n",
       "      <td>0.237762</td>\n",
       "      <td>[229, 56]</td>\n",
       "      <td>2</td>\n",
       "    </tr>\n",
       "    <tr>\n",
       "      <th>1</th>\n",
       "      <td>4647664</td>\n",
       "      <td>2</td>\n",
       "      <td>11.0</td>\n",
       "      <td>7.610355e+11</td>\n",
       "      <td>1.0</td>\n",
       "      <td>0.0</td>\n",
       "      <td>0.0</td>\n",
       "      <td>12.0</td>\n",
       "      <td>22.0</td>\n",
       "      <td>0.210489</td>\n",
       "      <td>0.0</td>\n",
       "      <td>0.0</td>\n",
       "      <td>0.545455</td>\n",
       "      <td>[17874, 14, 73, 29, 143, 1117, 14, 93]</td>\n",
       "      <td>8</td>\n",
       "    </tr>\n",
       "    <tr>\n",
       "      <th>2</th>\n",
       "      <td>4994626</td>\n",
       "      <td>34</td>\n",
       "      <td>10.0</td>\n",
       "      <td>7.610369e+11</td>\n",
       "      <td>9.0</td>\n",
       "      <td>0.0</td>\n",
       "      <td>0.0</td>\n",
       "      <td>72.0</td>\n",
       "      <td>340.0</td>\n",
       "      <td>0.235732</td>\n",
       "      <td>0.0</td>\n",
       "      <td>0.0</td>\n",
       "      <td>0.211765</td>\n",
       "      <td>[87420, 30620, 15258]</td>\n",
       "      <td>3</td>\n",
       "    </tr>\n",
       "    <tr>\n",
       "      <th>3</th>\n",
       "      <td>4416881</td>\n",
       "      <td>1</td>\n",
       "      <td>9.0</td>\n",
       "      <td>7.611192e+11</td>\n",
       "      <td>0.0</td>\n",
       "      <td>0.0</td>\n",
       "      <td>0.0</td>\n",
       "      <td>0.0</td>\n",
       "      <td>9.0</td>\n",
       "      <td>0.164285</td>\n",
       "      <td>0.0</td>\n",
       "      <td>0.0</td>\n",
       "      <td>0.000000</td>\n",
       "      <td>[]</td>\n",
       "      <td>0</td>\n",
       "    </tr>\n",
       "    <tr>\n",
       "      <th>4</th>\n",
       "      <td>2597756</td>\n",
       "      <td>2</td>\n",
       "      <td>11.0</td>\n",
       "      <td>7.611194e+11</td>\n",
       "      <td>0.0</td>\n",
       "      <td>0.0</td>\n",
       "      <td>0.0</td>\n",
       "      <td>0.0</td>\n",
       "      <td>22.0</td>\n",
       "      <td>0.155202</td>\n",
       "      <td>0.0</td>\n",
       "      <td>0.0</td>\n",
       "      <td>0.000000</td>\n",
       "      <td>[]</td>\n",
       "      <td>0</td>\n",
       "    </tr>\n",
       "  </tbody>\n",
       "</table>\n",
       "</div>"
      ],
      "text/plain": [
       "   photo_id  exposure_num  duration_time          time  clicked_num  \\\n",
       "0   6484142            13           11.0  7.610366e+11          5.0   \n",
       "1   4647664             2           11.0  7.610355e+11          1.0   \n",
       "2   4994626            34           10.0  7.610369e+11          9.0   \n",
       "3   4416881             1            9.0  7.611192e+11          0.0   \n",
       "4   2597756             2           11.0  7.611194e+11          0.0   \n",
       "\n",
       "   liked_num  followed_num  played_sum  duration_sum  clicked_ratio  \\\n",
       "0        0.0           0.0        34.0         143.0       0.268404   \n",
       "1        0.0           0.0        12.0          22.0       0.210489   \n",
       "2        0.0           0.0        72.0         340.0       0.235732   \n",
       "3        0.0           0.0         0.0           9.0       0.164285   \n",
       "4        0.0           0.0         0.0          22.0       0.155202   \n",
       "\n",
       "   liked_ratio  followed_ratio  played_ratio  \\\n",
       "0          0.0             0.0      0.237762   \n",
       "1          0.0             0.0      0.545455   \n",
       "2          0.0             0.0      0.211765   \n",
       "3          0.0             0.0      0.000000   \n",
       "4          0.0             0.0      0.000000   \n",
       "\n",
       "                              cover_words  cover_length  \n",
       "0                               [229, 56]             2  \n",
       "1  [17874, 14, 73, 29, 143, 1117, 14, 93]             8  \n",
       "2                   [87420, 30620, 15258]             3  \n",
       "3                                      []             0  \n",
       "4                                      []             0  "
      ]
     },
     "execution_count": 204,
     "metadata": {},
     "output_type": "execute_result"
    }
   ],
   "source": [
    "photo_data.head()"
   ]
  },
  {
   "cell_type": "code",
   "execution_count": 205,
   "metadata": {},
   "outputs": [],
   "source": [
    "def exposure_num_discretization(exposure_num):\n",
    "    if 0 < exposure_num and exposure_num <= 10:\n",
    "        return 0\n",
    "    elif 10 < exposure_num and exposure_num <= 100:\n",
    "        return 1\n",
    "    elif 100 < exposure_num and exposure_num <= 1000:\n",
    "        return 2\n",
    "    else:\n",
    "        return 3"
   ]
  },
  {
   "cell_type": "code",
   "execution_count": 206,
   "metadata": {},
   "outputs": [],
   "source": [
    "def clicked_ratio_discretization(num):\n",
    "    if 0 <= num <= 0.06:\n",
    "        return 0\n",
    "    elif 0.06 < num <= 0.12:\n",
    "        return 1\n",
    "    elif 0.12 < num <= 0.2:\n",
    "        return 2\n",
    "    elif 0.2 < num <= 0.3:\n",
    "        return 3\n",
    "    else:\n",
    "        return 4"
   ]
  },
  {
   "cell_type": "code",
   "execution_count": 207,
   "metadata": {},
   "outputs": [
    {
     "data": {
      "image/png": "[encoded data removed]",
      "text/plain": [
       "<matplotlib.figure.Figure at 0x115ac0450>"
      ]
     },
     "metadata": {},
     "output_type": "display_data"
    }
   ],
   "source": [
    "plot_data_cut(photo_data, 'clicked_ratio', 10)"
   ]
  },
  {
   "cell_type": "code",
   "execution_count": 208,
   "metadata": {},
   "outputs": [],
   "source": [
    "def cover_length_discretization(num):\n",
    "    if num == 0:\n",
    "        return 0\n",
    "    elif 0 < num <= 3:\n",
    "        return 1\n",
    "    elif 3 < num <= 10:\n",
    "        return 2\n",
    "    elif 10 < num <= 20:\n",
    "        return 3\n",
    "    else:\n",
    "        return 4"
   ]
  },
  {
   "cell_type": "code",
   "execution_count": 209,
   "metadata": {},
   "outputs": [
    {
     "data": {
      "text/html": [
       "<div>\n",
       "<style>\n",
       "    .dataframe thead tr:only-child th {\n",
       "        text-align: right;\n",
       "    }\n",
       "\n",
       "    .dataframe thead th {\n",
       "        text-align: left;\n",
       "    }\n",
       "\n",
       "    .dataframe tbody tr th {\n",
       "        vertical-align: top;\n",
       "    }\n",
       "</style>\n",
       "<table border=\"1\" class=\"dataframe\">\n",
       "  <thead>\n",
       "    <tr style=\"text-align: right;\">\n",
       "      <th></th>\n",
       "      <th>photo_id</th>\n",
       "      <th>exposure_num</th>\n",
       "      <th>duration_time</th>\n",
       "      <th>time</th>\n",
       "      <th>clicked_num</th>\n",
       "      <th>liked_num</th>\n",
       "      <th>followed_num</th>\n",
       "      <th>played_sum</th>\n",
       "      <th>duration_sum</th>\n",
       "      <th>clicked_ratio</th>\n",
       "      <th>liked_ratio</th>\n",
       "      <th>followed_ratio</th>\n",
       "      <th>played_ratio</th>\n",
       "      <th>cover_words</th>\n",
       "      <th>cover_length</th>\n",
       "    </tr>\n",
       "  </thead>\n",
       "  <tbody>\n",
       "    <tr>\n",
       "      <th>0</th>\n",
       "      <td>6484142</td>\n",
       "      <td>13</td>\n",
       "      <td>11.0</td>\n",
       "      <td>7.610366e+11</td>\n",
       "      <td>5.0</td>\n",
       "      <td>0.0</td>\n",
       "      <td>0.0</td>\n",
       "      <td>34.0</td>\n",
       "      <td>143.0</td>\n",
       "      <td>0.268404</td>\n",
       "      <td>0.0</td>\n",
       "      <td>0.0</td>\n",
       "      <td>0.237762</td>\n",
       "      <td>[229, 56]</td>\n",
       "      <td>2</td>\n",
       "    </tr>\n",
       "    <tr>\n",
       "      <th>1</th>\n",
       "      <td>4647664</td>\n",
       "      <td>2</td>\n",
       "      <td>11.0</td>\n",
       "      <td>7.610355e+11</td>\n",
       "      <td>1.0</td>\n",
       "      <td>0.0</td>\n",
       "      <td>0.0</td>\n",
       "      <td>12.0</td>\n",
       "      <td>22.0</td>\n",
       "      <td>0.210489</td>\n",
       "      <td>0.0</td>\n",
       "      <td>0.0</td>\n",
       "      <td>0.545455</td>\n",
       "      <td>[17874, 14, 73, 29, 143, 1117, 14, 93]</td>\n",
       "      <td>8</td>\n",
       "    </tr>\n",
       "    <tr>\n",
       "      <th>2</th>\n",
       "      <td>4994626</td>\n",
       "      <td>34</td>\n",
       "      <td>10.0</td>\n",
       "      <td>7.610369e+11</td>\n",
       "      <td>9.0</td>\n",
       "      <td>0.0</td>\n",
       "      <td>0.0</td>\n",
       "      <td>72.0</td>\n",
       "      <td>340.0</td>\n",
       "      <td>0.235732</td>\n",
       "      <td>0.0</td>\n",
       "      <td>0.0</td>\n",
       "      <td>0.211765</td>\n",
       "      <td>[87420, 30620, 15258]</td>\n",
       "      <td>3</td>\n",
       "    </tr>\n",
       "    <tr>\n",
       "      <th>3</th>\n",
       "      <td>4416881</td>\n",
       "      <td>1</td>\n",
       "      <td>9.0</td>\n",
       "      <td>7.611192e+11</td>\n",
       "      <td>0.0</td>\n",
       "      <td>0.0</td>\n",
       "      <td>0.0</td>\n",
       "      <td>0.0</td>\n",
       "      <td>9.0</td>\n",
       "      <td>0.164285</td>\n",
       "      <td>0.0</td>\n",
       "      <td>0.0</td>\n",
       "      <td>0.000000</td>\n",
       "      <td>[]</td>\n",
       "      <td>0</td>\n",
       "    </tr>\n",
       "    <tr>\n",
       "      <th>4</th>\n",
       "      <td>2597756</td>\n",
       "      <td>2</td>\n",
       "      <td>11.0</td>\n",
       "      <td>7.611194e+11</td>\n",
       "      <td>0.0</td>\n",
       "      <td>0.0</td>\n",
       "      <td>0.0</td>\n",
       "      <td>0.0</td>\n",
       "      <td>22.0</td>\n",
       "      <td>0.155202</td>\n",
       "      <td>0.0</td>\n",
       "      <td>0.0</td>\n",
       "      <td>0.000000</td>\n",
       "      <td>[]</td>\n",
       "      <td>0</td>\n",
       "    </tr>\n",
       "  </tbody>\n",
       "</table>\n",
       "</div>"
      ],
      "text/plain": [
       "   photo_id  exposure_num  duration_time          time  clicked_num  \\\n",
       "0   6484142            13           11.0  7.610366e+11          5.0   \n",
       "1   4647664             2           11.0  7.610355e+11          1.0   \n",
       "2   4994626            34           10.0  7.610369e+11          9.0   \n",
       "3   4416881             1            9.0  7.611192e+11          0.0   \n",
       "4   2597756             2           11.0  7.611194e+11          0.0   \n",
       "\n",
       "   liked_num  followed_num  played_sum  duration_sum  clicked_ratio  \\\n",
       "0        0.0           0.0        34.0         143.0       0.268404   \n",
       "1        0.0           0.0        12.0          22.0       0.210489   \n",
       "2        0.0           0.0        72.0         340.0       0.235732   \n",
       "3        0.0           0.0         0.0           9.0       0.164285   \n",
       "4        0.0           0.0         0.0          22.0       0.155202   \n",
       "\n",
       "   liked_ratio  followed_ratio  played_ratio  \\\n",
       "0          0.0             0.0      0.237762   \n",
       "1          0.0             0.0      0.545455   \n",
       "2          0.0             0.0      0.211765   \n",
       "3          0.0             0.0      0.000000   \n",
       "4          0.0             0.0      0.000000   \n",
       "\n",
       "                              cover_words  cover_length  \n",
       "0                               [229, 56]             2  \n",
       "1  [17874, 14, 73, 29, 143, 1117, 14, 93]             8  \n",
       "2                   [87420, 30620, 15258]             3  \n",
       "3                                      []             0  \n",
       "4                                      []             0  "
      ]
     },
     "execution_count": 209,
     "metadata": {},
     "output_type": "execute_result"
    }
   ],
   "source": [
    "photo_data.head()"
   ]
  },
  {
   "cell_type": "code",
   "execution_count": 210,
   "metadata": {},
   "outputs": [
    {
     "data": {
      "text/plain": [
       "(5733, 15)"
      ]
     },
     "execution_count": 210,
     "metadata": {},
     "output_type": "execute_result"
    }
   ],
   "source": [
    "photo_data[photo_data['cover_length']>30].shape"
   ]
  },
  {
   "cell_type": "code",
   "execution_count": 75,
   "metadata": {},
   "outputs": [
    {
     "data": {
      "image/png": "[encoded data removed]",
      "text/plain": [
       "<matplotlib.figure.Figure at 0x1aa0f2610>"
      ]
     },
     "metadata": {},
     "output_type": "display_data"
    }
   ],
   "source": [
    "plot_data_cut(photo_data, 'cover_length', 100)"
   ]
  },
  {
   "cell_type": "code",
   "execution_count": 76,
   "metadata": {},
   "outputs": [],
   "source": [
    "user_item_train = pd.merge(user_item_train, photo_data,\n",
    "                              how='left',\n",
    "                              on=['photo_id'])"
   ]
  },
  {
   "cell_type": "code",
   "execution_count": 77,
   "metadata": {},
   "outputs": [],
   "source": [
    "# 用户点击视频中对人脸和颜值以及年龄的偏好，以后考虑离散化\n",
    "favor_cols = ['cover_length']\n",
    "favors = user_item_train.loc[user_item_train['click']==1, favor_cols+['user_id']]\n",
    "\n",
    "# 文本平均长度作为偏爱率\n",
    "favors['cover_length_favor'] = favors['cover_length'].groupby(favors['user_id']).transform('mean')\n",
    "\n",
    "favors.drop_duplicates(['user_id'], inplace=True)\n",
    "favors.drop(favor_cols, axis=1, inplace=True)\n",
    "favors.reset_index(drop=True, inplace=True)\n"
   ]
  },
  {
   "cell_type": "code",
   "execution_count": null,
   "metadata": {},
   "outputs": [],
   "source": [
    "def cover_length_favor_discretization(num):\n",
    "    if num == 0:\n",
    "        return 0\n",
    "    elif 0 < num <= 3:\n",
    "        return 1\n",
    "    elif 3 < num <= 10:\n",
    "        return 2\n",
    "    else:\n",
    "        return 3"
   ]
  },
  {
   "cell_type": "code",
   "execution_count": 82,
   "metadata": {},
   "outputs": [
    {
     "data": {
      "image/png": "[encoded data removed]",
      "text/plain": [
       "<matplotlib.figure.Figure at 0x1aa23fdd0>"
      ]
     },
     "metadata": {},
     "output_type": "display_data"
    }
   ],
   "source": [
    "plot_data_cut(favors, 'cover_length_favor', 10)"
   ]
  },
  {
   "cell_type": "code",
   "execution_count": 89,
   "metadata": {},
   "outputs": [
    {
     "name": "stdout",
     "output_type": "stream",
     "text": [
      "(2.8072236088257325, 13.280311727786964)\n"
     ]
    }
   ],
   "source": [
    "bs = BayesianSmoothing(1, 1)\n",
    "I, C = items['exposure_num'].values, items['clicked_num'].values\n",
    "bs.update(I, C, 1000, 0.0000000001)\n",
    "print(bs.alpha, bs.beta)\n",
    "alpha, beta = bs.alpha, bs.beta\n",
    "ctr = []\n",
    "for i in range(len(I)):\n",
    "    ctr.append((C[i]+alpha)/(I[i]+alpha+beta))\n",
    "items['smooth_clicked_ratio'] = ctr"
   ]
  },
  {
   "cell_type": "code",
   "execution_count": 92,
   "metadata": {},
   "outputs": [
    {
     "data": {
      "text/plain": [
       "0.175"
      ]
     },
     "execution_count": 92,
     "metadata": {},
     "output_type": "execute_result"
    }
   ],
   "source": [
    "2.8/(2.8+13.2)"
   ]
  },
  {
   "cell_type": "code",
   "execution_count": null,
   "metadata": {},
   "outputs": [],
   "source": []
  }
 ],
 "metadata": {
  "kernelspec": {
   "display_name": "Python 2",
   "language": "python",
   "name": "python2"
  },
  "language_info": {
   "codemirror_mode": {
    "name": "ipython",
    "version": 2
   },
   "file_extension": ".py",
   "mimetype": "text/x-python",
   "name": "python",
   "nbconvert_exporter": "python",
   "pygments_lexer": "ipython2",
   "version": "2.7.10"
  }
 },
 "nbformat": 4,
 "nbformat_minor": 2
}
